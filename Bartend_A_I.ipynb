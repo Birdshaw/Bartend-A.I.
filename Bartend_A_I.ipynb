{
 "cells": [
  {
   "cell_type": "code",
   "execution_count": 1,
   "metadata": {
    "collapsed": true
   },
   "outputs": [
    {
     "name": "stdout",
     "output_type": "stream",
     "text": [
      "Requirement already up-to-date: pip in /Users/birdshaw/anaconda3/lib/python3.7/site-packages (20.0.2)\n",
      "Requirement already satisfied: textgenrnn in /Users/birdshaw/anaconda3/lib/python3.7/site-packages (2.0.0)\n",
      "Requirement already satisfied: scikit-learn in /Users/birdshaw/anaconda3/lib/python3.7/site-packages (from textgenrnn) (0.22.1)\n",
      "Requirement already satisfied: h5py in /Users/birdshaw/anaconda3/lib/python3.7/site-packages (from textgenrnn) (2.9.0)\n",
      "Requirement already satisfied: tqdm in /Users/birdshaw/anaconda3/lib/python3.7/site-packages (from textgenrnn) (4.36.1)\n",
      "Requirement already satisfied: keras in /Users/birdshaw/anaconda3/lib/python3.7/site-packages (from textgenrnn) (2.3.1)\n",
      "Requirement already satisfied: tensorflow>=2.1.0 in /Users/birdshaw/anaconda3/lib/python3.7/site-packages (from textgenrnn) (2.1.0)\n",
      "Requirement already satisfied: numpy>=1.11.0 in /Users/birdshaw/anaconda3/lib/python3.7/site-packages (from scikit-learn->textgenrnn) (1.17.2)\n",
      "Requirement already satisfied: joblib>=0.11 in /Users/birdshaw/anaconda3/lib/python3.7/site-packages (from scikit-learn->textgenrnn) (0.13.2)\n",
      "Requirement already satisfied: scipy>=0.17.0 in /Users/birdshaw/anaconda3/lib/python3.7/site-packages (from scikit-learn->textgenrnn) (1.4.1)\n",
      "Requirement already satisfied: six in /Users/birdshaw/anaconda3/lib/python3.7/site-packages (from h5py->textgenrnn) (1.12.0)\n",
      "Requirement already satisfied: pyyaml in /Users/birdshaw/anaconda3/lib/python3.7/site-packages (from keras->textgenrnn) (5.1.2)\n",
      "Requirement already satisfied: keras-preprocessing>=1.0.5 in /Users/birdshaw/anaconda3/lib/python3.7/site-packages (from keras->textgenrnn) (1.1.0)\n",
      "Requirement already satisfied: keras-applications>=1.0.6 in /Users/birdshaw/anaconda3/lib/python3.7/site-packages (from keras->textgenrnn) (1.0.8)\n",
      "Requirement already satisfied: tensorboard<2.2.0,>=2.1.0 in /Users/birdshaw/anaconda3/lib/python3.7/site-packages (from tensorflow>=2.1.0->textgenrnn) (2.1.0)\n",
      "Requirement already satisfied: termcolor>=1.1.0 in /Users/birdshaw/anaconda3/lib/python3.7/site-packages (from tensorflow>=2.1.0->textgenrnn) (1.1.0)\n",
      "Requirement already satisfied: gast==0.2.2 in /Users/birdshaw/anaconda3/lib/python3.7/site-packages (from tensorflow>=2.1.0->textgenrnn) (0.2.2)\n",
      "Requirement already satisfied: wrapt>=1.11.1 in /Users/birdshaw/anaconda3/lib/python3.7/site-packages (from tensorflow>=2.1.0->textgenrnn) (1.11.2)\n",
      "Requirement already satisfied: protobuf>=3.8.0 in /Users/birdshaw/anaconda3/lib/python3.7/site-packages (from tensorflow>=2.1.0->textgenrnn) (3.11.3)\n",
      "Requirement already satisfied: wheel>=0.26; python_version >= \"3\" in /Users/birdshaw/anaconda3/lib/python3.7/site-packages (from tensorflow>=2.1.0->textgenrnn) (0.33.6)\n",
      "Requirement already satisfied: google-pasta>=0.1.6 in /Users/birdshaw/anaconda3/lib/python3.7/site-packages (from tensorflow>=2.1.0->textgenrnn) (0.1.8)\n",
      "Requirement already satisfied: opt-einsum>=2.3.2 in /Users/birdshaw/anaconda3/lib/python3.7/site-packages (from tensorflow>=2.1.0->textgenrnn) (3.1.0)\n",
      "Requirement already satisfied: tensorflow-estimator<2.2.0,>=2.1.0rc0 in /Users/birdshaw/anaconda3/lib/python3.7/site-packages (from tensorflow>=2.1.0->textgenrnn) (2.1.0)\n",
      "Requirement already satisfied: grpcio>=1.8.6 in /Users/birdshaw/anaconda3/lib/python3.7/site-packages (from tensorflow>=2.1.0->textgenrnn) (1.27.1)\n",
      "Requirement already satisfied: astor>=0.6.0 in /Users/birdshaw/anaconda3/lib/python3.7/site-packages (from tensorflow>=2.1.0->textgenrnn) (0.8.1)\n",
      "Requirement already satisfied: absl-py>=0.7.0 in /Users/birdshaw/anaconda3/lib/python3.7/site-packages (from tensorflow>=2.1.0->textgenrnn) (0.9.0)\n",
      "Requirement already satisfied: google-auth<2,>=1.6.3 in /Users/birdshaw/anaconda3/lib/python3.7/site-packages (from tensorboard<2.2.0,>=2.1.0->tensorflow>=2.1.0->textgenrnn) (1.11.0)\n",
      "Requirement already satisfied: setuptools>=41.0.0 in /Users/birdshaw/anaconda3/lib/python3.7/site-packages (from tensorboard<2.2.0,>=2.1.0->tensorflow>=2.1.0->textgenrnn) (41.4.0)\n",
      "Requirement already satisfied: werkzeug>=0.11.15 in /Users/birdshaw/anaconda3/lib/python3.7/site-packages (from tensorboard<2.2.0,>=2.1.0->tensorflow>=2.1.0->textgenrnn) (0.16.0)\n",
      "Requirement already satisfied: google-auth-oauthlib<0.5,>=0.4.1 in /Users/birdshaw/anaconda3/lib/python3.7/site-packages (from tensorboard<2.2.0,>=2.1.0->tensorflow>=2.1.0->textgenrnn) (0.4.1)\n",
      "Requirement already satisfied: markdown>=2.6.8 in /Users/birdshaw/anaconda3/lib/python3.7/site-packages (from tensorboard<2.2.0,>=2.1.0->tensorflow>=2.1.0->textgenrnn) (3.2)\n",
      "Requirement already satisfied: requests<3,>=2.21.0 in /Users/birdshaw/anaconda3/lib/python3.7/site-packages (from tensorboard<2.2.0,>=2.1.0->tensorflow>=2.1.0->textgenrnn) (2.22.0)\n",
      "Requirement already satisfied: rsa<4.1,>=3.1.4 in /Users/birdshaw/anaconda3/lib/python3.7/site-packages (from google-auth<2,>=1.6.3->tensorboard<2.2.0,>=2.1.0->tensorflow>=2.1.0->textgenrnn) (3.4.2)\n",
      "Requirement already satisfied: cachetools<5.0,>=2.0.0 in /Users/birdshaw/anaconda3/lib/python3.7/site-packages (from google-auth<2,>=1.6.3->tensorboard<2.2.0,>=2.1.0->tensorflow>=2.1.0->textgenrnn) (4.0.0)\n",
      "Requirement already satisfied: pyasn1-modules>=0.2.1 in /Users/birdshaw/anaconda3/lib/python3.7/site-packages (from google-auth<2,>=1.6.3->tensorboard<2.2.0,>=2.1.0->tensorflow>=2.1.0->textgenrnn) (0.2.8)\n",
      "Requirement already satisfied: requests-oauthlib>=0.7.0 in /Users/birdshaw/anaconda3/lib/python3.7/site-packages (from google-auth-oauthlib<0.5,>=0.4.1->tensorboard<2.2.0,>=2.1.0->tensorflow>=2.1.0->textgenrnn) (1.3.0)\n",
      "Requirement already satisfied: idna<2.9,>=2.5 in /Users/birdshaw/anaconda3/lib/python3.7/site-packages (from requests<3,>=2.21.0->tensorboard<2.2.0,>=2.1.0->tensorflow>=2.1.0->textgenrnn) (2.8)\n",
      "Requirement already satisfied: certifi>=2017.4.17 in /Users/birdshaw/anaconda3/lib/python3.7/site-packages (from requests<3,>=2.21.0->tensorboard<2.2.0,>=2.1.0->tensorflow>=2.1.0->textgenrnn) (2019.9.11)\n",
      "Requirement already satisfied: chardet<3.1.0,>=3.0.2 in /Users/birdshaw/anaconda3/lib/python3.7/site-packages (from requests<3,>=2.21.0->tensorboard<2.2.0,>=2.1.0->tensorflow>=2.1.0->textgenrnn) (3.0.4)\n",
      "Requirement already satisfied: urllib3!=1.25.0,!=1.25.1,<1.26,>=1.21.1 in /Users/birdshaw/anaconda3/lib/python3.7/site-packages (from requests<3,>=2.21.0->tensorboard<2.2.0,>=2.1.0->tensorflow>=2.1.0->textgenrnn) (1.24.2)\n",
      "Requirement already satisfied: pyasn1>=0.1.3 in /Users/birdshaw/anaconda3/lib/python3.7/site-packages (from rsa<4.1,>=3.1.4->google-auth<2,>=1.6.3->tensorboard<2.2.0,>=2.1.0->tensorflow>=2.1.0->textgenrnn) (0.4.8)\n",
      "Requirement already satisfied: oauthlib>=3.0.0 in /Users/birdshaw/anaconda3/lib/python3.7/site-packages (from requests-oauthlib>=0.7.0->google-auth-oauthlib<0.5,>=0.4.1->tensorboard<2.2.0,>=2.1.0->tensorflow>=2.1.0->textgenrnn) (3.1.0)\n",
      "Requirement already up-to-date: tensorflow in /Users/birdshaw/anaconda3/lib/python3.7/site-packages (2.1.0)\n",
      "Requirement already up-to-date: keras in /Users/birdshaw/anaconda3/lib/python3.7/site-packages (2.3.1)\n",
      "Requirement already satisfied, skipping upgrade: scipy==1.4.1; python_version >= \"3\" in /Users/birdshaw/anaconda3/lib/python3.7/site-packages (from tensorflow) (1.4.1)\n",
      "Requirement already satisfied, skipping upgrade: termcolor>=1.1.0 in /Users/birdshaw/anaconda3/lib/python3.7/site-packages (from tensorflow) (1.1.0)\n",
      "Requirement already satisfied, skipping upgrade: opt-einsum>=2.3.2 in /Users/birdshaw/anaconda3/lib/python3.7/site-packages (from tensorflow) (3.1.0)\n",
      "Requirement already satisfied, skipping upgrade: keras-applications>=1.0.8 in /Users/birdshaw/anaconda3/lib/python3.7/site-packages (from tensorflow) (1.0.8)\n",
      "Requirement already satisfied, skipping upgrade: grpcio>=1.8.6 in /Users/birdshaw/anaconda3/lib/python3.7/site-packages (from tensorflow) (1.27.1)\n",
      "Requirement already satisfied, skipping upgrade: tensorflow-estimator<2.2.0,>=2.1.0rc0 in /Users/birdshaw/anaconda3/lib/python3.7/site-packages (from tensorflow) (2.1.0)\n",
      "Requirement already satisfied, skipping upgrade: numpy<2.0,>=1.16.0 in /Users/birdshaw/anaconda3/lib/python3.7/site-packages (from tensorflow) (1.17.2)\n",
      "Requirement already satisfied, skipping upgrade: google-pasta>=0.1.6 in /Users/birdshaw/anaconda3/lib/python3.7/site-packages (from tensorflow) (0.1.8)\n",
      "Requirement already satisfied, skipping upgrade: six>=1.12.0 in /Users/birdshaw/anaconda3/lib/python3.7/site-packages (from tensorflow) (1.12.0)\n",
      "Requirement already satisfied, skipping upgrade: wheel>=0.26; python_version >= \"3\" in /Users/birdshaw/anaconda3/lib/python3.7/site-packages (from tensorflow) (0.33.6)\n",
      "Requirement already satisfied, skipping upgrade: protobuf>=3.8.0 in /Users/birdshaw/anaconda3/lib/python3.7/site-packages (from tensorflow) (3.11.3)\n",
      "Requirement already satisfied, skipping upgrade: gast==0.2.2 in /Users/birdshaw/anaconda3/lib/python3.7/site-packages (from tensorflow) (0.2.2)\n",
      "Requirement already satisfied, skipping upgrade: tensorboard<2.2.0,>=2.1.0 in /Users/birdshaw/anaconda3/lib/python3.7/site-packages (from tensorflow) (2.1.0)\n"
     ]
    },
    {
     "name": "stdout",
     "output_type": "stream",
     "text": [
      "Requirement already satisfied, skipping upgrade: wrapt>=1.11.1 in /Users/birdshaw/anaconda3/lib/python3.7/site-packages (from tensorflow) (1.11.2)\n",
      "Requirement already satisfied, skipping upgrade: absl-py>=0.7.0 in /Users/birdshaw/anaconda3/lib/python3.7/site-packages (from tensorflow) (0.9.0)\n",
      "Requirement already satisfied, skipping upgrade: keras-preprocessing>=1.1.0 in /Users/birdshaw/anaconda3/lib/python3.7/site-packages (from tensorflow) (1.1.0)\n",
      "Requirement already satisfied, skipping upgrade: astor>=0.6.0 in /Users/birdshaw/anaconda3/lib/python3.7/site-packages (from tensorflow) (0.8.1)\n",
      "Requirement already satisfied, skipping upgrade: h5py in /Users/birdshaw/anaconda3/lib/python3.7/site-packages (from keras) (2.9.0)\n",
      "Requirement already satisfied, skipping upgrade: pyyaml in /Users/birdshaw/anaconda3/lib/python3.7/site-packages (from keras) (5.1.2)\n",
      "Requirement already satisfied, skipping upgrade: setuptools in /Users/birdshaw/anaconda3/lib/python3.7/site-packages (from protobuf>=3.8.0->tensorflow) (41.4.0)\n",
      "Requirement already satisfied, skipping upgrade: google-auth<2,>=1.6.3 in /Users/birdshaw/anaconda3/lib/python3.7/site-packages (from tensorboard<2.2.0,>=2.1.0->tensorflow) (1.11.0)\n",
      "Requirement already satisfied, skipping upgrade: markdown>=2.6.8 in /Users/birdshaw/anaconda3/lib/python3.7/site-packages (from tensorboard<2.2.0,>=2.1.0->tensorflow) (3.2)\n",
      "Requirement already satisfied, skipping upgrade: requests<3,>=2.21.0 in /Users/birdshaw/anaconda3/lib/python3.7/site-packages (from tensorboard<2.2.0,>=2.1.0->tensorflow) (2.22.0)\n",
      "Requirement already satisfied, skipping upgrade: werkzeug>=0.11.15 in /Users/birdshaw/anaconda3/lib/python3.7/site-packages (from tensorboard<2.2.0,>=2.1.0->tensorflow) (0.16.0)\n",
      "Requirement already satisfied, skipping upgrade: google-auth-oauthlib<0.5,>=0.4.1 in /Users/birdshaw/anaconda3/lib/python3.7/site-packages (from tensorboard<2.2.0,>=2.1.0->tensorflow) (0.4.1)\n",
      "Requirement already satisfied, skipping upgrade: pyasn1-modules>=0.2.1 in /Users/birdshaw/anaconda3/lib/python3.7/site-packages (from google-auth<2,>=1.6.3->tensorboard<2.2.0,>=2.1.0->tensorflow) (0.2.8)\n",
      "Requirement already satisfied, skipping upgrade: cachetools<5.0,>=2.0.0 in /Users/birdshaw/anaconda3/lib/python3.7/site-packages (from google-auth<2,>=1.6.3->tensorboard<2.2.0,>=2.1.0->tensorflow) (4.0.0)\n",
      "Requirement already satisfied, skipping upgrade: rsa<4.1,>=3.1.4 in /Users/birdshaw/anaconda3/lib/python3.7/site-packages (from google-auth<2,>=1.6.3->tensorboard<2.2.0,>=2.1.0->tensorflow) (3.4.2)\n",
      "Requirement already satisfied, skipping upgrade: certifi>=2017.4.17 in /Users/birdshaw/anaconda3/lib/python3.7/site-packages (from requests<3,>=2.21.0->tensorboard<2.2.0,>=2.1.0->tensorflow) (2019.9.11)\n",
      "Requirement already satisfied, skipping upgrade: chardet<3.1.0,>=3.0.2 in /Users/birdshaw/anaconda3/lib/python3.7/site-packages (from requests<3,>=2.21.0->tensorboard<2.2.0,>=2.1.0->tensorflow) (3.0.4)\n",
      "Requirement already satisfied, skipping upgrade: idna<2.9,>=2.5 in /Users/birdshaw/anaconda3/lib/python3.7/site-packages (from requests<3,>=2.21.0->tensorboard<2.2.0,>=2.1.0->tensorflow) (2.8)\n",
      "Requirement already satisfied, skipping upgrade: urllib3!=1.25.0,!=1.25.1,<1.26,>=1.21.1 in /Users/birdshaw/anaconda3/lib/python3.7/site-packages (from requests<3,>=2.21.0->tensorboard<2.2.0,>=2.1.0->tensorflow) (1.24.2)\n",
      "Requirement already satisfied, skipping upgrade: requests-oauthlib>=0.7.0 in /Users/birdshaw/anaconda3/lib/python3.7/site-packages (from google-auth-oauthlib<0.5,>=0.4.1->tensorboard<2.2.0,>=2.1.0->tensorflow) (1.3.0)\n",
      "Requirement already satisfied, skipping upgrade: pyasn1<0.5.0,>=0.4.6 in /Users/birdshaw/anaconda3/lib/python3.7/site-packages (from pyasn1-modules>=0.2.1->google-auth<2,>=1.6.3->tensorboard<2.2.0,>=2.1.0->tensorflow) (0.4.8)\n",
      "Requirement already satisfied, skipping upgrade: oauthlib>=3.0.0 in /Users/birdshaw/anaconda3/lib/python3.7/site-packages (from requests-oauthlib>=0.7.0->google-auth-oauthlib<0.5,>=0.4.1->tensorboard<2.2.0,>=2.1.0->tensorflow) (3.1.0)\n",
      "Requirement already up-to-date: scipy in /Users/birdshaw/anaconda3/lib/python3.7/site-packages (1.4.1)\n",
      "Requirement already satisfied, skipping upgrade: numpy>=1.13.3 in /Users/birdshaw/anaconda3/lib/python3.7/site-packages (from scipy) (1.17.2)\n",
      "Collecting six\n",
      "  Downloading six-1.14.0-py2.py3-none-any.whl (10 kB)\n",
      "\u001b[31mERROR: astroid 2.3.1 requires typed-ast<1.5,>=1.4.0; implementation_name == \"cpython\" and python_version < \"3.8\", which is not installed.\u001b[0m\n",
      "\u001b[31mERROR: astroid 2.3.1 has requirement six==1.12, but you'll have six 1.14.0 which is incompatible.\u001b[0m\n",
      "Installing collected packages: six\n",
      "  Attempting uninstall: six\n",
      "    Found existing installation: six 1.12.0\n",
      "    Uninstalling six-1.12.0:\n",
      "      Successfully uninstalled six-1.12.0\n",
      "Successfully installed six-1.14.0\n",
      "Collecting grpcio\n",
      "  Downloading grpcio-1.27.2-cp37-cp37m-macosx_10_9_x86_64.whl (2.5 MB)\n",
      "\u001b[K     |████████████████████████████████| 2.5 MB 2.2 MB/s eta 0:00:01\n",
      "\u001b[?25hRequirement already satisfied, skipping upgrade: six>=1.5.2 in /Users/birdshaw/anaconda3/lib/python3.7/site-packages (from grpcio) (1.14.0)\n",
      "Installing collected packages: grpcio\n",
      "  Attempting uninstall: grpcio\n",
      "    Found existing installation: grpcio 1.27.1\n",
      "    Uninstalling grpcio-1.27.1:\n",
      "      Successfully uninstalled grpcio-1.27.1\n",
      "Successfully installed grpcio-1.27.2\n"
     ]
    }
   ],
   "source": [
    "!pip install --upgrade pip\n",
    "!pip install textgenrnn\n",
    "!pip3 install --upgrade tensorflow keras\n",
    "# !conda update\n",
    "# !conda install tensorflow keras\n",
    "# nvcc --version\n",
    "!pip3 install --upgrade scipy\n",
    "!pip install --upgrade six\n",
    "!pip install --upgrade grpcio"
   ]
  },
  {
   "cell_type": "code",
   "execution_count": 338,
   "metadata": {},
   "outputs": [],
   "source": [
    "import pandas as pd\n",
    "import numpy as np\n",
    "import unicodedata\n",
    "import string\n",
    "import re\n",
    "import matplotlib.pyplot as plt\n",
    "import seaborn as sns\n",
    "\n",
    "from nltk.tokenize import word_tokenize\n",
    "from nltk.tokenize import sent_tokenize\n",
    "from nltk.corpus import stopwords\n",
    "from nltk.stem.porter import PorterStemmer\n",
    "from nltk.stem.snowball import SnowballStemmer\n",
    "from nltk.util import ngrams\n",
    "\n",
    "from textgenrnn import textgenrnn\n",
    "\n",
    "# from tensorflow.keras.layers import UnifiedLSTM\n",
    "import tensorflow as tf\n",
    "from tensorflow import keras\n",
    "from tensorflow.keras.models import Sequential\n",
    "from tensorflow.keras.layers import Dense, Dropout, Activation\n",
    "\n",
    "from tensorflow.keras.optimizers import Adam\n",
    "from tensorflow.keras.layers import Input, Embedding, Dense, LSTM, Bidirectional"
   ]
  },
  {
   "cell_type": "code",
   "execution_count": 241,
   "metadata": {},
   "outputs": [],
   "source": [
    "df = pd.read_csv('Data/drinksandcocktails_1.0.9.csv', escapechar='\\\\')"
   ]
  },
  {
   "cell_type": "code",
   "execution_count": 242,
   "metadata": {},
   "outputs": [],
   "source": [
    "df_drink = df[(df['d_cat'] == 'Ordinary Drink') | (df['d_cat'] == 'Cocktail')]"
   ]
  },
  {
   "cell_type": "code",
   "execution_count": 243,
   "metadata": {},
   "outputs": [],
   "source": [
    "df_drink = df_drink.dropna(axis='index')"
   ]
  },
  {
   "cell_type": "code",
   "execution_count": 244,
   "metadata": {},
   "outputs": [],
   "source": [
    "df_drink['ingredients'] = (df_drink['d_ingredients'].str.split('|').str.join(', ').tolist())"
   ]
  },
  {
   "cell_type": "code",
   "execution_count": 293,
   "metadata": {},
   "outputs": [],
   "source": [
    "df_drink['d_shopping'] = df_drink['d_shopping'].str.split('|')"
   ]
  },
  {
   "cell_type": "code",
   "execution_count": 298,
   "metadata": {},
   "outputs": [
    {
     "data": {
      "text/plain": [
       "array([list(['Vodka', 'Southern Comfort', 'Grand Marnier', 'Pineapple juice']),\n",
       "       list(['Jack Daniels', 'Vodka', 'Dr. Pepper', 'Sugar', 'Cherry']),\n",
       "       list(['Creme de Cacao', 'Vodka']),\n",
       "       list(['Dark rum', 'Light rum', 'Vodka', 'Orange juice']),\n",
       "       list(['Gin', 'Light rum', 'Tequila', 'Triple sec', 'Vodka', 'Coca-Cola', 'Sweet and sour', 'Bitters', 'Lemon'])],\n",
       "      dtype=object)"
      ]
     },
     "execution_count": 298,
     "metadata": {},
     "output_type": "execute_result"
    }
   ],
   "source": [
    "df_drink['d_shopping'].head().values"
   ]
  },
  {
   "cell_type": "markdown",
   "metadata": {},
   "source": [
    "## Some EDA (not much needed tbh)"
   ]
  },
  {
   "cell_type": "code",
   "execution_count": 390,
   "metadata": {},
   "outputs": [],
   "source": [
    "ing = 0\n",
    "\n",
    "for idx, row in df_drink.iterrows():\n",
    "    ing += len(df_drink.loc[idx, 'd_shopping'])\n",
    "    \n",
    "        "
   ]
  },
  {
   "cell_type": "code",
   "execution_count": 427,
   "metadata": {},
   "outputs": [
    {
     "data": {
      "text/plain": [
       "<bound method Series.unique of 1        [1/2 oz Vodka, 1 1/2 oz Southern Comfort, 1/2 ...\n",
       "4        [1 shot Jack Daniels, 1 shot Vodka, 6 shots Dr...\n",
       "6                  [1 oz white Creme de Cacao, 1 oz Vodka]\n",
       "10       [1 shot Dark rum, 2 shots Light rum, 1 shot Vo...\n",
       "12       [1/2 oz Gin, 1/2 oz Light rum, 1/2 oz Tequila,...\n",
       "                               ...                        \n",
       "16346    [1/2 oz light rum, 3/4 oz gold rum, 1/4 oz apr...\n",
       "16347    [1 oz creme de cassis, 1 oz vodka, 1/2 oz peac...\n",
       "16348    [1 oz creme de cacao, 1 oz amaretto almond liq...\n",
       "16349    [2 oz tequila, 1/2 oz Galliano(R) herbal lique...\n",
       "16350    [1 oz dark rum, 1 oz dark creme de cacao, 1/2 ...\n",
       "Name: d_ingredients, Length: 12294, dtype: object>"
      ]
     },
     "execution_count": 427,
     "metadata": {},
     "output_type": "execute_result"
    }
   ],
   "source": [
    "df_uniq = df_drink.copy()\n",
    "df_uniq.d_ingredients = df_uniq.d_ingredients.str.split('|')\n",
    "df_uniq['d_ingredients'].unique"
   ]
  },
  {
   "cell_type": "code",
   "execution_count": 421,
   "metadata": {},
   "outputs": [
    {
     "ename": "AttributeError",
     "evalue": "'str' object has no attribute 'str'",
     "output_type": "error",
     "traceback": [
      "\u001b[0;31m---------------------------------------------------------------------------\u001b[0m",
      "\u001b[0;31mAttributeError\u001b[0m                            Traceback (most recent call last)",
      "\u001b[0;32m<ipython-input-421-f04108879caa>\u001b[0m in \u001b[0;36m<module>\u001b[0;34m\u001b[0m\n\u001b[0;32m----> 1\u001b[0;31m \u001b[0mdf_uniq\u001b[0m \u001b[0;34m=\u001b[0m \u001b[0mdf_uniq\u001b[0m\u001b[0;34m[\u001b[0m\u001b[0;36m1\u001b[0m\u001b[0;34m]\u001b[0m\u001b[0;34m.\u001b[0m\u001b[0mstr\u001b[0m\u001b[0;34m.\u001b[0m\u001b[0msplit\u001b[0m\u001b[0;34m(\u001b[0m\u001b[0;34m'|'\u001b[0m\u001b[0;34m)\u001b[0m\u001b[0;34m\u001b[0m\u001b[0;34m\u001b[0m\u001b[0m\n\u001b[0m",
      "\u001b[0;31mAttributeError\u001b[0m: 'str' object has no attribute 'str'"
     ]
    }
   ],
   "source": [
    "df_uniq = df_uniq[1].str.split('|')"
   ]
  },
  {
   "cell_type": "code",
   "execution_count": 418,
   "metadata": {},
   "outputs": [
    {
     "ename": "TypeError",
     "evalue": "unhashable type: 'list'",
     "output_type": "error",
     "traceback": [
      "\u001b[0;31m---------------------------------------------------------------------------\u001b[0m",
      "\u001b[0;31mTypeError\u001b[0m                                 Traceback (most recent call last)",
      "\u001b[0;32m<ipython-input-418-373024ca0508>\u001b[0m in \u001b[0;36m<module>\u001b[0;34m\u001b[0m\n\u001b[0;32m----> 1\u001b[0;31m \u001b[0mdf_uniq\u001b[0m\u001b[0;34m.\u001b[0m\u001b[0munique\u001b[0m\u001b[0;34m(\u001b[0m\u001b[0;34m)\u001b[0m\u001b[0;34m\u001b[0m\u001b[0;34m\u001b[0m\u001b[0m\n\u001b[0m",
      "\u001b[0;32m~/anaconda3/lib/python3.7/site-packages/pandas/core/series.py\u001b[0m in \u001b[0;36munique\u001b[0;34m(self)\u001b[0m\n\u001b[1;32m   1986\u001b[0m         \u001b[0mCategories\u001b[0m \u001b[0;34m(\u001b[0m\u001b[0;36m3\u001b[0m\u001b[0;34m,\u001b[0m \u001b[0mobject\u001b[0m\u001b[0;34m)\u001b[0m\u001b[0;34m:\u001b[0m \u001b[0;34m[\u001b[0m\u001b[0ma\u001b[0m \u001b[0;34m<\u001b[0m \u001b[0mb\u001b[0m \u001b[0;34m<\u001b[0m \u001b[0mc\u001b[0m\u001b[0;34m]\u001b[0m\u001b[0;34m\u001b[0m\u001b[0;34m\u001b[0m\u001b[0m\n\u001b[1;32m   1987\u001b[0m         \"\"\"\n\u001b[0;32m-> 1988\u001b[0;31m         \u001b[0mresult\u001b[0m \u001b[0;34m=\u001b[0m \u001b[0msuper\u001b[0m\u001b[0;34m(\u001b[0m\u001b[0;34m)\u001b[0m\u001b[0;34m.\u001b[0m\u001b[0munique\u001b[0m\u001b[0;34m(\u001b[0m\u001b[0;34m)\u001b[0m\u001b[0;34m\u001b[0m\u001b[0;34m\u001b[0m\u001b[0m\n\u001b[0m\u001b[1;32m   1989\u001b[0m         \u001b[0;32mreturn\u001b[0m \u001b[0mresult\u001b[0m\u001b[0;34m\u001b[0m\u001b[0;34m\u001b[0m\u001b[0m\n\u001b[1;32m   1990\u001b[0m \u001b[0;34m\u001b[0m\u001b[0m\n",
      "\u001b[0;32m~/anaconda3/lib/python3.7/site-packages/pandas/core/base.py\u001b[0m in \u001b[0;36munique\u001b[0;34m(self)\u001b[0m\n\u001b[1;32m   1403\u001b[0m             \u001b[0;32mfrom\u001b[0m \u001b[0mpandas\u001b[0m\u001b[0;34m.\u001b[0m\u001b[0mcore\u001b[0m\u001b[0;34m.\u001b[0m\u001b[0malgorithms\u001b[0m \u001b[0;32mimport\u001b[0m \u001b[0munique1d\u001b[0m\u001b[0;34m\u001b[0m\u001b[0;34m\u001b[0m\u001b[0m\n\u001b[1;32m   1404\u001b[0m \u001b[0;34m\u001b[0m\u001b[0m\n\u001b[0;32m-> 1405\u001b[0;31m             \u001b[0mresult\u001b[0m \u001b[0;34m=\u001b[0m \u001b[0munique1d\u001b[0m\u001b[0;34m(\u001b[0m\u001b[0mvalues\u001b[0m\u001b[0;34m)\u001b[0m\u001b[0;34m\u001b[0m\u001b[0;34m\u001b[0m\u001b[0m\n\u001b[0m\u001b[1;32m   1406\u001b[0m \u001b[0;34m\u001b[0m\u001b[0m\n\u001b[1;32m   1407\u001b[0m         \u001b[0;32mreturn\u001b[0m \u001b[0mresult\u001b[0m\u001b[0;34m\u001b[0m\u001b[0;34m\u001b[0m\u001b[0m\n",
      "\u001b[0;32m~/anaconda3/lib/python3.7/site-packages/pandas/core/algorithms.py\u001b[0m in \u001b[0;36munique\u001b[0;34m(values)\u001b[0m\n\u001b[1;32m    403\u001b[0m \u001b[0;34m\u001b[0m\u001b[0m\n\u001b[1;32m    404\u001b[0m     \u001b[0mtable\u001b[0m \u001b[0;34m=\u001b[0m \u001b[0mhtable\u001b[0m\u001b[0;34m(\u001b[0m\u001b[0mlen\u001b[0m\u001b[0;34m(\u001b[0m\u001b[0mvalues\u001b[0m\u001b[0;34m)\u001b[0m\u001b[0;34m)\u001b[0m\u001b[0;34m\u001b[0m\u001b[0;34m\u001b[0m\u001b[0m\n\u001b[0;32m--> 405\u001b[0;31m     \u001b[0muniques\u001b[0m \u001b[0;34m=\u001b[0m \u001b[0mtable\u001b[0m\u001b[0;34m.\u001b[0m\u001b[0munique\u001b[0m\u001b[0;34m(\u001b[0m\u001b[0mvalues\u001b[0m\u001b[0;34m)\u001b[0m\u001b[0;34m\u001b[0m\u001b[0;34m\u001b[0m\u001b[0m\n\u001b[0m\u001b[1;32m    406\u001b[0m     \u001b[0muniques\u001b[0m \u001b[0;34m=\u001b[0m \u001b[0m_reconstruct_data\u001b[0m\u001b[0;34m(\u001b[0m\u001b[0muniques\u001b[0m\u001b[0;34m,\u001b[0m \u001b[0mdtype\u001b[0m\u001b[0;34m,\u001b[0m \u001b[0moriginal\u001b[0m\u001b[0;34m)\u001b[0m\u001b[0;34m\u001b[0m\u001b[0;34m\u001b[0m\u001b[0m\n\u001b[1;32m    407\u001b[0m     \u001b[0;32mreturn\u001b[0m \u001b[0muniques\u001b[0m\u001b[0;34m\u001b[0m\u001b[0;34m\u001b[0m\u001b[0m\n",
      "\u001b[0;32mpandas/_libs/hashtable_class_helper.pxi\u001b[0m in \u001b[0;36mpandas._libs.hashtable.PyObjectHashTable.unique\u001b[0;34m()\u001b[0m\n",
      "\u001b[0;32mpandas/_libs/hashtable_class_helper.pxi\u001b[0m in \u001b[0;36mpandas._libs.hashtable.PyObjectHashTable._unique\u001b[0;34m()\u001b[0m\n",
      "\u001b[0;31mTypeError\u001b[0m: unhashable type: 'list'"
     ]
    }
   ],
   "source": [
    "df_uniq.unique()"
   ]
  },
  {
   "cell_type": "code",
   "execution_count": 392,
   "metadata": {},
   "outputs": [
    {
     "data": {
      "text/plain": [
       "(12294, 9)"
      ]
     },
     "execution_count": 392,
     "metadata": {},
     "output_type": "execute_result"
    }
   ],
   "source": [
    "df_drink.shape"
   ]
  },
  {
   "cell_type": "code",
   "execution_count": 405,
   "metadata": {},
   "outputs": [
    {
     "name": "stdout",
     "output_type": "stream",
     "text": [
      "Average number of ingredients in a cocktail: 4.0\n"
     ]
    }
   ],
   "source": [
    "print('Average number of ingredients in a cocktail: {:.1f}'.format(ing / df_drink.shape[0]))"
   ]
  },
  {
   "cell_type": "code",
   "execution_count": 331,
   "metadata": {},
   "outputs": [],
   "source": [
    "# Used to get total number of ingredients used\n",
    "\n",
    "d = {}\n",
    "\n",
    "for idx, row in df_drink.iterrows():\n",
    "    lst = df_drink.loc[idx, 'd_shopping']\n",
    "#     lst = lst.lower()\n",
    "    for j in range(len(row['d_shopping'])):\n",
    "        if lst[j].lower() not in d:\n",
    "            d[lst[j].lower()] = 1\n",
    "        else:\n",
    "            d[lst[j].lower()] += 1"
   ]
  },
  {
   "cell_type": "code",
   "execution_count": 336,
   "metadata": {},
   "outputs": [],
   "source": [
    "# Turn dictionary to dataframe, sort, then plot\n",
    "\n",
    "df_items = pd.DataFrame.from_dict(data = d, orient = 'index')\n",
    "\n",
    "df_items = df_items.sort_values(by = 0, ascending=False)"
   ]
  },
  {
   "cell_type": "code",
   "execution_count": 386,
   "metadata": {},
   "outputs": [
    {
     "data": {
      "image/png": "[encoded data removed]",
      "text/plain": [
       "<Figure size 864x720 with 1 Axes>"
      ]
     },
     "metadata": {
      "needs_background": "light"
     },
     "output_type": "display_data"
    }
   ],
   "source": [
    "\n",
    "plt.figure(figsize=(12, 10))\n",
    "sns.barplot(df_items.head(10).index, df_items[0].head(10))\n",
    "plt.title('Top 10 Most Used Ingredients in Cocktails', fontsize = 24)\n",
    "plt.ylabel('Number of Occurrences', fontsize=18)\n",
    "plt.xlabel('Ingredient', fontsize=18)\n",
    "plt.xticks(rotation=45, fontsize= 16)\n",
    "\n",
    "plt.savefig('ingredient.png')"
   ]
  },
  {
   "cell_type": "code",
   "execution_count": 356,
   "metadata": {
    "scrolled": true
   },
   "outputs": [],
   "source": [
    "df_items = df_items.sort_values(by = 0, ascending=False)\n"
   ]
  },
  {
   "cell_type": "code",
   "execution_count": null,
   "metadata": {},
   "outputs": [],
   "source": []
  },
  {
   "cell_type": "code",
   "execution_count": null,
   "metadata": {},
   "outputs": [],
   "source": []
  },
  {
   "cell_type": "code",
   "execution_count": null,
   "metadata": {},
   "outputs": [],
   "source": []
  },
  {
   "cell_type": "code",
   "execution_count": null,
   "metadata": {},
   "outputs": [],
   "source": []
  },
  {
   "cell_type": "code",
   "execution_count": null,
   "metadata": {},
   "outputs": [],
   "source": []
  },
  {
   "cell_type": "code",
   "execution_count": null,
   "metadata": {},
   "outputs": [],
   "source": []
  },
  {
   "cell_type": "markdown",
   "metadata": {},
   "source": [
    "# Regularize the Data and turn to text"
   ]
  },
  {
   "cell_type": "code",
   "execution_count": 246,
   "metadata": {},
   "outputs": [],
   "source": [
    "df_drink['ingredients'] = df_drink['ingredients'].replace(regex = {'1/2': '0.5','1/4': '0.25', '3/10': '0.3','2/10': '0.2','1/10': '0.1','1/8': '0.125',\n",
    "                                     '1/3': '0.3','2/3': '0.6','3/4': '0.75','1\\s0.5': '1.5','1\\s0.25': '1.25',\n",
    "                                     '1\\s0.75': '1.75', '2\\s0.25': '2.25', '2\\s0.3':'2.3',  '2\\s0.5': '2.5', '2\\s0.75': '2.75','1-0.5': '1.5', '2 .6': '2.6','3/4': '0.75',\n",
    "                                     '0.5-1|0.5 - 1': '0.75','1-2': '1.5','1 or 2': '1.5','1.5 - 2': '1.75', '1-2|1 - 2': '1.5',\n",
    "                                     '1-1.5|1 - 1.5': '1.25','4-6': '5','6-7|6 - 7': '6.5','2-3|2 - 3': '2.5',\n",
    "                                     '2.5-3|2.5 - 3': '2.75','3-4|3 - 4': '3.5','4-5|4 - 5': '4.5','5-7|5 - 7': '6',\n",
    "                                     '2-4|2 - 4': '3','8-12|8 - 12': '10','7-8|7 - 8': '7.5','1-3|1 - 3': '2',\n",
    "                                     '6-8|6 - 8': '7','8-10|8 - 10':'9','10-12|10 - 12': '11','6-10|6 - 10': '8',\n",
    "                                     '1.5-2|1.5 - 2': '1.75','3-6|3 - 6': '4.5','3-5|3 - 5': '4','5-6|5 - 6': '5.5',\n",
    "                                     '9-10|9 - 10': '9.5','5-10|5 - 10': '7.5','12-14|12 - 14': '13',\n",
    "                                     '.75-3/2|.75 - 3/2': '1.125','30-45': '40','cups': 'cup','pints': 'pint',\n",
    "                                     'quarts': 'quart','gallons': 'gallon', 'tblsp': 'tbsp'})"
   ]
  },
  {
   "cell_type": "code",
   "execution_count": 247,
   "metadata": {
    "scrolled": true
   },
   "outputs": [
    {
     "data": {
      "text/html": [
       "<div>\n",
       "<style scoped>\n",
       "    .dataframe tbody tr th:only-of-type {\n",
       "        vertical-align: middle;\n",
       "    }\n",
       "\n",
       "    .dataframe tbody tr th {\n",
       "        vertical-align: top;\n",
       "    }\n",
       "\n",
       "    .dataframe thead th {\n",
       "        text-align: right;\n",
       "    }\n",
       "</style>\n",
       "<table border=\"1\" class=\"dataframe\">\n",
       "  <thead>\n",
       "    <tr style=\"text-align: right;\">\n",
       "      <th></th>\n",
       "      <th>id</th>\n",
       "      <th>d_name</th>\n",
       "      <th>d_cat</th>\n",
       "      <th>d_alcohol</th>\n",
       "      <th>d_glass</th>\n",
       "      <th>d_ingredients</th>\n",
       "      <th>d_instructions</th>\n",
       "      <th>d_shopping</th>\n",
       "      <th>ingredients</th>\n",
       "    </tr>\n",
       "  </thead>\n",
       "  <tbody>\n",
       "    <tr>\n",
       "      <td>1</td>\n",
       "      <td>2</td>\n",
       "      <td>'57 Chevy</td>\n",
       "      <td>Cocktail</td>\n",
       "      <td>Alcoholic</td>\n",
       "      <td>Cocktail glass</td>\n",
       "      <td>1/2 oz Vodka|1 1/2 oz Southern Comfort|1/2 oz ...</td>\n",
       "      <td>Shake and serve.</td>\n",
       "      <td>Vodka|Southern Comfort|Grand Marnier|Pineapple...</td>\n",
       "      <td>0.5 oz Vodka, 1.5 oz Southern Comfort, 0.5 oz ...</td>\n",
       "    </tr>\n",
       "    <tr>\n",
       "      <td>4</td>\n",
       "      <td>5</td>\n",
       "      <td>187 URge</td>\n",
       "      <td>Cocktail</td>\n",
       "      <td>Alcoholic</td>\n",
       "      <td>Any Glass</td>\n",
       "      <td>1 shot Jack Daniels|1 shot Vodka|6 shots Dr. P...</td>\n",
       "      <td>Mix together and stir it is good</td>\n",
       "      <td>Jack Daniels|Vodka|Dr. Pepper|Sugar|Cherry</td>\n",
       "      <td>1 shot Jack Daniels, 1 shot Vodka, 6 shots Dr....</td>\n",
       "    </tr>\n",
       "    <tr>\n",
       "      <td>6</td>\n",
       "      <td>7</td>\n",
       "      <td>'57 Chevy with a White License Plate</td>\n",
       "      <td>Cocktail</td>\n",
       "      <td>Alcoholic</td>\n",
       "      <td>Highball glass</td>\n",
       "      <td>1 oz white Creme de Cacao|1 oz Vodka</td>\n",
       "      <td>1. Fill a rocks glass with ice 2.add white cre...</td>\n",
       "      <td>Creme de Cacao|Vodka</td>\n",
       "      <td>1 oz white Creme de Cacao, 1 oz Vodka</td>\n",
       "    </tr>\n",
       "    <tr>\n",
       "      <td>10</td>\n",
       "      <td>11</td>\n",
       "      <td>155 Belmont</td>\n",
       "      <td>Cocktail</td>\n",
       "      <td>Alcoholic</td>\n",
       "      <td>White wine glass</td>\n",
       "      <td>1 shot Dark rum|2 shots Light rum|1 shot Vodka...</td>\n",
       "      <td>Blend with ice. Serve in a wine glass. Garnish...</td>\n",
       "      <td>Dark rum|Light rum|Vodka|Orange juice</td>\n",
       "      <td>1 shot Dark rum, 2 shots Light rum, 1 shot Vod...</td>\n",
       "    </tr>\n",
       "    <tr>\n",
       "      <td>12</td>\n",
       "      <td>13</td>\n",
       "      <td>3-Mile Long Island Iced Tea</td>\n",
       "      <td>Ordinary Drink</td>\n",
       "      <td>Alcoholic</td>\n",
       "      <td>Any Glass</td>\n",
       "      <td>1/2 oz Gin|1/2 oz Light rum|1/2 oz Tequila|1/2...</td>\n",
       "      <td>Fill 14oz glass with ice and alcohol. Fill 2/3...</td>\n",
       "      <td>Gin|Light rum|Tequila|Triple sec|Vodka|Coca-Co...</td>\n",
       "      <td>0.5 oz Gin, 0.5 oz Light rum, 0.5 oz Tequila, ...</td>\n",
       "    </tr>\n",
       "    <tr>\n",
       "      <td>14</td>\n",
       "      <td>15</td>\n",
       "      <td>351 Special</td>\n",
       "      <td>Ordinary Drink</td>\n",
       "      <td>Alcoholic</td>\n",
       "      <td>Coffee mug</td>\n",
       "      <td>1 part Coca-Cola|1 part Gin (Gordon's)|2 splas...</td>\n",
       "      <td>Pour Gordon's Gin and Kronenbourg beer (it MUS...</td>\n",
       "      <td>Coca-Cola|Gin|Beer</td>\n",
       "      <td>1 part Coca-Cola, 1 part Gin (Gordon's), 2 spl...</td>\n",
       "    </tr>\n",
       "    <tr>\n",
       "      <td>15</td>\n",
       "      <td>16</td>\n",
       "      <td>357 Magnum</td>\n",
       "      <td>Ordinary Drink</td>\n",
       "      <td>Alcoholic</td>\n",
       "      <td>Any Glass</td>\n",
       "      <td>1 oz Vodka (Smirnoff)|1 oz Rum (Captain Morgan...</td>\n",
       "      <td>Pour vodka and rum over ice. Add 7-up and stir...</td>\n",
       "      <td>Vodka|Rum|Amaretto|7-Up</td>\n",
       "      <td>1 oz Vodka (Smirnoff), 1 oz Rum (Captain Morga...</td>\n",
       "    </tr>\n",
       "    <tr>\n",
       "      <td>16</td>\n",
       "      <td>17</td>\n",
       "      <td>3001</td>\n",
       "      <td>Ordinary Drink</td>\n",
       "      <td>Alcoholic</td>\n",
       "      <td>Collins glass</td>\n",
       "      <td>1 oz Blue Curacao|1 oz Vodka|1/2 oz Tonic wate...</td>\n",
       "      <td>Combine blue curacao, vodka, tonic water, and ...</td>\n",
       "      <td>Blue Curacao|Vodka|Tonic water|Lime juice|Ice|...</td>\n",
       "      <td>1 oz Blue Curacao, 1 oz Vodka, 0.5 oz Tonic wa...</td>\n",
       "    </tr>\n",
       "    <tr>\n",
       "      <td>17</td>\n",
       "      <td>18</td>\n",
       "      <td>3rd Wheel</td>\n",
       "      <td>Cocktail</td>\n",
       "      <td>Alcoholic</td>\n",
       "      <td>Margarita Glass</td>\n",
       "      <td>2 parts Alize|1 part Grand Marnier</td>\n",
       "      <td>Chill with ice and pour in glass</td>\n",
       "      <td>Alize|Grand Marnier</td>\n",
       "      <td>2 parts Alize, 1 part Grand Marnier</td>\n",
       "    </tr>\n",
       "    <tr>\n",
       "      <td>18</td>\n",
       "      <td>19</td>\n",
       "      <td>3rd Street Promanade</td>\n",
       "      <td>Cocktail</td>\n",
       "      <td>Alcoholic</td>\n",
       "      <td>Highball glass</td>\n",
       "      <td>1 1/2 oz Vanilla vodka (Stoli)|1/3 oz Gin|1/3 ...</td>\n",
       "      <td>In a blender, put in ice, orange juice, vodka,...</td>\n",
       "      <td>Vanilla vodka|Gin|Triple sec|Tequila|Cinnamon ...</td>\n",
       "      <td>1.5 oz Vanilla vodka (Stoli), 0.3 oz Gin, 0.3 ...</td>\n",
       "    </tr>\n",
       "  </tbody>\n",
       "</table>\n",
       "</div>"
      ],
      "text/plain": [
       "    id                                d_name           d_cat  d_alcohol  \\\n",
       "1    2                             '57 Chevy        Cocktail  Alcoholic   \n",
       "4    5                              187 URge        Cocktail  Alcoholic   \n",
       "6    7  '57 Chevy with a White License Plate        Cocktail  Alcoholic   \n",
       "10  11                           155 Belmont        Cocktail  Alcoholic   \n",
       "12  13           3-Mile Long Island Iced Tea  Ordinary Drink  Alcoholic   \n",
       "14  15                           351 Special  Ordinary Drink  Alcoholic   \n",
       "15  16                            357 Magnum  Ordinary Drink  Alcoholic   \n",
       "16  17                                  3001  Ordinary Drink  Alcoholic   \n",
       "17  18                             3rd Wheel        Cocktail  Alcoholic   \n",
       "18  19                  3rd Street Promanade        Cocktail  Alcoholic   \n",
       "\n",
       "             d_glass                                      d_ingredients  \\\n",
       "1     Cocktail glass  1/2 oz Vodka|1 1/2 oz Southern Comfort|1/2 oz ...   \n",
       "4          Any Glass  1 shot Jack Daniels|1 shot Vodka|6 shots Dr. P...   \n",
       "6     Highball glass               1 oz white Creme de Cacao|1 oz Vodka   \n",
       "10  White wine glass  1 shot Dark rum|2 shots Light rum|1 shot Vodka...   \n",
       "12         Any Glass  1/2 oz Gin|1/2 oz Light rum|1/2 oz Tequila|1/2...   \n",
       "14        Coffee mug  1 part Coca-Cola|1 part Gin (Gordon's)|2 splas...   \n",
       "15         Any Glass  1 oz Vodka (Smirnoff)|1 oz Rum (Captain Morgan...   \n",
       "16     Collins glass  1 oz Blue Curacao|1 oz Vodka|1/2 oz Tonic wate...   \n",
       "17   Margarita Glass                 2 parts Alize|1 part Grand Marnier   \n",
       "18    Highball glass  1 1/2 oz Vanilla vodka (Stoli)|1/3 oz Gin|1/3 ...   \n",
       "\n",
       "                                       d_instructions  \\\n",
       "1                                    Shake and serve.   \n",
       "4                    Mix together and stir it is good   \n",
       "6   1. Fill a rocks glass with ice 2.add white cre...   \n",
       "10  Blend with ice. Serve in a wine glass. Garnish...   \n",
       "12  Fill 14oz glass with ice and alcohol. Fill 2/3...   \n",
       "14  Pour Gordon's Gin and Kronenbourg beer (it MUS...   \n",
       "15  Pour vodka and rum over ice. Add 7-up and stir...   \n",
       "16  Combine blue curacao, vodka, tonic water, and ...   \n",
       "17                   Chill with ice and pour in glass   \n",
       "18  In a blender, put in ice, orange juice, vodka,...   \n",
       "\n",
       "                                           d_shopping  \\\n",
       "1   Vodka|Southern Comfort|Grand Marnier|Pineapple...   \n",
       "4          Jack Daniels|Vodka|Dr. Pepper|Sugar|Cherry   \n",
       "6                                Creme de Cacao|Vodka   \n",
       "10              Dark rum|Light rum|Vodka|Orange juice   \n",
       "12  Gin|Light rum|Tequila|Triple sec|Vodka|Coca-Co...   \n",
       "14                                 Coca-Cola|Gin|Beer   \n",
       "15                            Vodka|Rum|Amaretto|7-Up   \n",
       "16  Blue Curacao|Vodka|Tonic water|Lime juice|Ice|...   \n",
       "17                                Alize|Grand Marnier   \n",
       "18  Vanilla vodka|Gin|Triple sec|Tequila|Cinnamon ...   \n",
       "\n",
       "                                          ingredients  \n",
       "1   0.5 oz Vodka, 1.5 oz Southern Comfort, 0.5 oz ...  \n",
       "4   1 shot Jack Daniels, 1 shot Vodka, 6 shots Dr....  \n",
       "6               1 oz white Creme de Cacao, 1 oz Vodka  \n",
       "10  1 shot Dark rum, 2 shots Light rum, 1 shot Vod...  \n",
       "12  0.5 oz Gin, 0.5 oz Light rum, 0.5 oz Tequila, ...  \n",
       "14  1 part Coca-Cola, 1 part Gin (Gordon's), 2 spl...  \n",
       "15  1 oz Vodka (Smirnoff), 1 oz Rum (Captain Morga...  \n",
       "16  1 oz Blue Curacao, 1 oz Vodka, 0.5 oz Tonic wa...  \n",
       "17                2 parts Alize, 1 part Grand Marnier  \n",
       "18  1.5 oz Vanilla vodka (Stoli), 0.3 oz Gin, 0.3 ...  "
      ]
     },
     "execution_count": 247,
     "metadata": {},
     "output_type": "execute_result"
    }
   ],
   "source": [
    "df_drink.head(10)"
   ]
  },
  {
   "cell_type": "code",
   "execution_count": 252,
   "metadata": {},
   "outputs": [],
   "source": [
    "# Needed to convert all miscellaneous formats of proportions to a uniform format to be later regularized to mls.\n",
    "\n",
    "\n",
    "\n",
    "def replace_val(row):\n",
    "    \n",
    "    # Apply this function to take cleaned dataset and properly convert all measurements to ml.\n",
    "    \n",
    "    units = [['oz', 30.], ['gallon', 3785], ['shot', 44], ['liter', 1000], ['quart', 946], ['pint', 473], ['cup', 240], ['jigger', 44], ['tbsp', 18], ['tsp', 6], ['dash', 1], ['cl', 10]]\n",
    "    num = [0.1, 0.125, 0.2, 0.25, 0.3, 0.5, 0.6, 0.75, 0.8, 1, 1.25, 1.5, 1.75, 2, 2.25, 2.3, 2.5, 2.6, 2.75, 3, 3.5, 4, 4.5, 5, 5.5, 6, 6.5, 7,\n",
    "           7.5, 8, 9, 9.5, 10, 11, 12, 13, 16, 30, 40]\n",
    "    \n",
    "    for i in units:\n",
    "        for j in num:\n",
    "            val = float(j) * float(i[1])\n",
    "#             val= np.around(val)\n",
    "            row['ingredients'] = row['ingredients'].replace(f\"{j} {i[0]}\", f\"{val} ml\")\n",
    "    return row"
   ]
  },
  {
   "cell_type": "code",
   "execution_count": 250,
   "metadata": {
    "collapsed": true
   },
   "outputs": [
    {
     "data": {
      "text/html": [
       "<div>\n",
       "<style scoped>\n",
       "    .dataframe tbody tr th:only-of-type {\n",
       "        vertical-align: middle;\n",
       "    }\n",
       "\n",
       "    .dataframe tbody tr th {\n",
       "        vertical-align: top;\n",
       "    }\n",
       "\n",
       "    .dataframe thead th {\n",
       "        text-align: right;\n",
       "    }\n",
       "</style>\n",
       "<table border=\"1\" class=\"dataframe\">\n",
       "  <thead>\n",
       "    <tr style=\"text-align: right;\">\n",
       "      <th></th>\n",
       "      <th>id</th>\n",
       "      <th>d_name</th>\n",
       "      <th>d_cat</th>\n",
       "      <th>d_alcohol</th>\n",
       "      <th>d_glass</th>\n",
       "      <th>d_ingredients</th>\n",
       "      <th>d_instructions</th>\n",
       "      <th>d_shopping</th>\n",
       "      <th>ingredients</th>\n",
       "    </tr>\n",
       "  </thead>\n",
       "  <tbody>\n",
       "    <tr>\n",
       "      <td>8254</td>\n",
       "      <td>8255</td>\n",
       "      <td>Aperitivo</td>\n",
       "      <td>Cocktail</td>\n",
       "      <td>Alcoholic</td>\n",
       "      <td>Cocktail Glass</td>\n",
       "      <td>2 1/4 oz gin|3/4 oz white sambuca|3 dashes ora...</td>\n",
       "      <td>Pour gin, sambuca and bitters into a mixing gl...</td>\n",
       "      <td>gin|white sambuca|orange bitters</td>\n",
       "      <td>2.25 oz gin, 0.75 oz white sambuca, 3 dashes o...</td>\n",
       "    </tr>\n",
       "    <tr>\n",
       "      <td>8672</td>\n",
       "      <td>8673</td>\n",
       "      <td>Batida de Carneval</td>\n",
       "      <td>Cocktail</td>\n",
       "      <td>Alcoholic</td>\n",
       "      <td>Highball Glass</td>\n",
       "      <td>1 oz orange juice|2 1/4 oz mango juice|3/4 oz ...</td>\n",
       "      <td>Pour over crushed ice in a large highball glas...</td>\n",
       "      <td>orange juice|mango juice|Sagatiba Pura</td>\n",
       "      <td>1 oz orange juice, 2.25 oz mango juice, 0.75 o...</td>\n",
       "    </tr>\n",
       "    <tr>\n",
       "      <td>9386</td>\n",
       "      <td>9387</td>\n",
       "      <td>Brown Betty Punch</td>\n",
       "      <td>Cocktail</td>\n",
       "      <td>Alcoholic</td>\n",
       "      <td>Beer Mug</td>\n",
       "      <td>48 oz(4 bottles) Bass(R) pale ale|12 oz brandy...</td>\n",
       "      <td>Add the sugar, lemon slices, cloves, cinnamon ...</td>\n",
       "      <td>Bass(R) pale ale|brandy|water|ginger|nutmeg|ci...</td>\n",
       "      <td>48 oz(4 bottles) Bass(R) pale ale, 12 oz brand...</td>\n",
       "    </tr>\n",
       "    <tr>\n",
       "      <td>10121</td>\n",
       "      <td>10122</td>\n",
       "      <td>Claret Punch</td>\n",
       "      <td>Cocktail</td>\n",
       "      <td>Alcoholic</td>\n",
       "      <td>Punch Bowl</td>\n",
       "      <td>2 cups lemon juice|1 cup superfine sugar|2.25 ...</td>\n",
       "      <td>Stir the lemon juice and sugar togeher in a la...</td>\n",
       "      <td>lemon juice|superfine sugar|claret|brandy|apri...</td>\n",
       "      <td>2 cup lemon juice, 1 cup superfine sugar, 2.25...</td>\n",
       "    </tr>\n",
       "    <tr>\n",
       "      <td>12152</td>\n",
       "      <td>12153</td>\n",
       "      <td>Harrison Ford</td>\n",
       "      <td>Cocktail</td>\n",
       "      <td>Alcoholic</td>\n",
       "      <td>Highball Glass</td>\n",
       "      <td>1 1/2 oz Kahlua(R) coffee liqueur|3 oz Bailey'...</td>\n",
       "      <td>Pour ingredients over ice in a highball glass....</td>\n",
       "      <td>Kahlua(R) coffee liqueur|Bailey's(R) Irish cre...</td>\n",
       "      <td>1.5 oz Kahlua(R) coffee liqueur, 3 oz Bailey's...</td>\n",
       "    </tr>\n",
       "    <tr>\n",
       "      <td>12172</td>\n",
       "      <td>12173</td>\n",
       "      <td>Hawaiian Cherry Popper</td>\n",
       "      <td>Cocktail</td>\n",
       "      <td>Alcoholic</td>\n",
       "      <td>Collins Glass</td>\n",
       "      <td>2 1/4 oz Malibu(R) coconut rum|4 1/2 oz cherry...</td>\n",
       "      <td>Pour all ingredients into a collins glass 3/4 ...</td>\n",
       "      <td>Malibu(R) coconut rum|cherry cola|pineapple ju...</td>\n",
       "      <td>2.25 oz Malibu(R) coconut rum, 4 0.5 oz cherry...</td>\n",
       "    </tr>\n",
       "    <tr>\n",
       "      <td>12350</td>\n",
       "      <td>12351</td>\n",
       "      <td>Hong Kong Smog</td>\n",
       "      <td>Cocktail</td>\n",
       "      <td>Alcoholic</td>\n",
       "      <td>Cocktail Glass</td>\n",
       "      <td>2 1/4 oz Tanqueray(R) gin|3/4 oz Midori(R) mel...</td>\n",
       "      <td>Pour Tanqueray gin and Midori melon liqueur in...</td>\n",
       "      <td>Tanqueray(R) gin|Midori(R) melon liqueur</td>\n",
       "      <td>2.25 oz Tanqueray(R) gin, 0.75 oz Midori(R) me...</td>\n",
       "    </tr>\n",
       "    <tr>\n",
       "      <td>12358</td>\n",
       "      <td>12359</td>\n",
       "      <td>Hooker</td>\n",
       "      <td>Cocktail</td>\n",
       "      <td>Alcoholic</td>\n",
       "      <td>Cocktail Glass</td>\n",
       "      <td>3/4 oz Alize(R) Gold Passion liqueur|2 1/4 oz ...</td>\n",
       "      <td>Pour Alize Gold Passion and Tropicana simultan...</td>\n",
       "      <td>Alize(R) Gold Passion liqueur|Tropicana(R) fru...</td>\n",
       "      <td>0.75 oz Alize(R) Gold Passion liqueur, 2.25 oz...</td>\n",
       "    </tr>\n",
       "    <tr>\n",
       "      <td>12736</td>\n",
       "      <td>12737</td>\n",
       "      <td>Jamaica Cooler</td>\n",
       "      <td>Cocktail</td>\n",
       "      <td>Alcoholic</td>\n",
       "      <td>Red Wine Glass</td>\n",
       "      <td>2 1/4 oz dark rum|4 - 5 oz 7-Up(R) soda|2 dash...</td>\n",
       "      <td>Pour the dark rum into a wine goblet and stir ...</td>\n",
       "      <td>dark rum|7-Up(R) soda|orange bitters|lemon jui...</td>\n",
       "      <td>2.25 oz dark rum, 4.5 oz 7-Up(R) soda, 2 dashe...</td>\n",
       "    </tr>\n",
       "    <tr>\n",
       "      <td>13168</td>\n",
       "      <td>13169</td>\n",
       "      <td>Kronik Margarita</td>\n",
       "      <td>Cocktail</td>\n",
       "      <td>Alcoholic</td>\n",
       "      <td>Margarita Glass</td>\n",
       "      <td>2 1/4 oz tequila|6 oz Kronik(R) energy drink|1...</td>\n",
       "      <td>Ad shot of your favorite favor of tequila over...</td>\n",
       "      <td>tequila|Kronik(R) energy drink|lime</td>\n",
       "      <td>2.25 oz tequila, 6 oz Kronik(R) energy drink, ...</td>\n",
       "    </tr>\n",
       "    <tr>\n",
       "      <td>13877</td>\n",
       "      <td>13878</td>\n",
       "      <td>Midland Mayham</td>\n",
       "      <td>Cocktail</td>\n",
       "      <td>Alcoholic</td>\n",
       "      <td>Beer Mug</td>\n",
       "      <td>2 1/4 oz Smirnoff(R) vodka|4 1/2 oz white wine...</td>\n",
       "      <td>Combine ingredients together in a beer mug / p...</td>\n",
       "      <td>Smirnoff(R) vodka|white wine|Stella Artois(R) ...</td>\n",
       "      <td>2.25 oz Smirnoff(R) vodka, 4 0.5 oz white wine...</td>\n",
       "    </tr>\n",
       "    <tr>\n",
       "      <td>14505</td>\n",
       "      <td>14506</td>\n",
       "      <td>Orange Soda Driver</td>\n",
       "      <td>Cocktail</td>\n",
       "      <td>Alcoholic</td>\n",
       "      <td>Collins Glass</td>\n",
       "      <td>2 1/4 oz Smirnoff(R) vodka|4 oz orange soda|1 ...</td>\n",
       "      <td>Add three or four ice cubes to any type of lar...</td>\n",
       "      <td>Smirnoff(R) vodka|orange soda|orange juice</td>\n",
       "      <td>2.25 oz Smirnoff(R) vodka, 4 oz orange soda, 1...</td>\n",
       "    </tr>\n",
       "    <tr>\n",
       "      <td>15091</td>\n",
       "      <td>15092</td>\n",
       "      <td>Profondo Rosso</td>\n",
       "      <td>Cocktail</td>\n",
       "      <td>Alcoholic</td>\n",
       "      <td>Cocktail Glass</td>\n",
       "      <td>2.25 oz Yellow Chartreuse(R)|6 oz Bombay Sapph...</td>\n",
       "      <td>Inventor: Daniel Maher\\n\\n\\n\\nOrigin: Laurier ...</td>\n",
       "      <td>Yellow Chartreuse(R)|Bombay Sapphire(R) gin|gr...</td>\n",
       "      <td>2.25 oz Yellow Chartreuse(R), 6 oz Bombay Sapp...</td>\n",
       "    </tr>\n",
       "    <tr>\n",
       "      <td>15664</td>\n",
       "      <td>15665</td>\n",
       "      <td>Smooth Teenager</td>\n",
       "      <td>Cocktail</td>\n",
       "      <td>Alcoholic</td>\n",
       "      <td>Collins Glass</td>\n",
       "      <td>1 1/2 oz tequila|2 1/4 oz triple sec|6 oz(1/2 ...</td>\n",
       "      <td>Add ingredients to a tall chilled glass. Stir ...</td>\n",
       "      <td>tequila|triple sec|vanilla cola</td>\n",
       "      <td>1.5 oz tequila, 2.25 oz triple sec, 6 oz(0.5 c...</td>\n",
       "    </tr>\n",
       "    <tr>\n",
       "      <td>15890</td>\n",
       "      <td>15891</td>\n",
       "      <td>Tartan Champagne Punch</td>\n",
       "      <td>Cocktail</td>\n",
       "      <td>Alcoholic</td>\n",
       "      <td>Punch Bowl</td>\n",
       "      <td>2.25 liters(3 bottles) chilled Champagne|4 oz ...</td>\n",
       "      <td>Stir the Drambuie and sugar together in a larg...</td>\n",
       "      <td>Champagne|brandy|Drambuie(R) Scotch whisky|mar...</td>\n",
       "      <td>2.25 liters(3 bottles) chilled Champagne, 4 oz...</td>\n",
       "    </tr>\n",
       "    <tr>\n",
       "      <td>16087</td>\n",
       "      <td>16088</td>\n",
       "      <td>Tropical Bliss</td>\n",
       "      <td>Cocktail</td>\n",
       "      <td>Alcoholic</td>\n",
       "      <td>Hurricane Glass</td>\n",
       "      <td>3/4 oz Malibu(R) coconut rum|3/4 oz Smirnoff(R...</td>\n",
       "      <td>Pour Malibu rum and Smirnoff Orange Twist vodk...</td>\n",
       "      <td>Malibu(R) coconut rum|Smirnoff(R) Orange Twist...</td>\n",
       "      <td>0.75 oz Malibu(R) coconut rum, 0.75 oz Smirnof...</td>\n",
       "    </tr>\n",
       "  </tbody>\n",
       "</table>\n",
       "</div>"
      ],
      "text/plain": [
       "          id                  d_name     d_cat  d_alcohol          d_glass  \\\n",
       "8254    8255               Aperitivo  Cocktail  Alcoholic   Cocktail Glass   \n",
       "8672    8673      Batida de Carneval  Cocktail  Alcoholic   Highball Glass   \n",
       "9386    9387       Brown Betty Punch  Cocktail  Alcoholic         Beer Mug   \n",
       "10121  10122            Claret Punch  Cocktail  Alcoholic       Punch Bowl   \n",
       "12152  12153           Harrison Ford  Cocktail  Alcoholic   Highball Glass   \n",
       "12172  12173  Hawaiian Cherry Popper  Cocktail  Alcoholic    Collins Glass   \n",
       "12350  12351          Hong Kong Smog  Cocktail  Alcoholic   Cocktail Glass   \n",
       "12358  12359                  Hooker  Cocktail  Alcoholic   Cocktail Glass   \n",
       "12736  12737          Jamaica Cooler  Cocktail  Alcoholic   Red Wine Glass   \n",
       "13168  13169        Kronik Margarita  Cocktail  Alcoholic  Margarita Glass   \n",
       "13877  13878          Midland Mayham  Cocktail  Alcoholic         Beer Mug   \n",
       "14505  14506      Orange Soda Driver  Cocktail  Alcoholic    Collins Glass   \n",
       "15091  15092          Profondo Rosso  Cocktail  Alcoholic   Cocktail Glass   \n",
       "15664  15665         Smooth Teenager  Cocktail  Alcoholic    Collins Glass   \n",
       "15890  15891  Tartan Champagne Punch  Cocktail  Alcoholic       Punch Bowl   \n",
       "16087  16088          Tropical Bliss  Cocktail  Alcoholic  Hurricane Glass   \n",
       "\n",
       "                                           d_ingredients  \\\n",
       "8254   2 1/4 oz gin|3/4 oz white sambuca|3 dashes ora...   \n",
       "8672   1 oz orange juice|2 1/4 oz mango juice|3/4 oz ...   \n",
       "9386   48 oz(4 bottles) Bass(R) pale ale|12 oz brandy...   \n",
       "10121  2 cups lemon juice|1 cup superfine sugar|2.25 ...   \n",
       "12152  1 1/2 oz Kahlua(R) coffee liqueur|3 oz Bailey'...   \n",
       "12172  2 1/4 oz Malibu(R) coconut rum|4 1/2 oz cherry...   \n",
       "12350  2 1/4 oz Tanqueray(R) gin|3/4 oz Midori(R) mel...   \n",
       "12358  3/4 oz Alize(R) Gold Passion liqueur|2 1/4 oz ...   \n",
       "12736  2 1/4 oz dark rum|4 - 5 oz 7-Up(R) soda|2 dash...   \n",
       "13168  2 1/4 oz tequila|6 oz Kronik(R) energy drink|1...   \n",
       "13877  2 1/4 oz Smirnoff(R) vodka|4 1/2 oz white wine...   \n",
       "14505  2 1/4 oz Smirnoff(R) vodka|4 oz orange soda|1 ...   \n",
       "15091  2.25 oz Yellow Chartreuse(R)|6 oz Bombay Sapph...   \n",
       "15664  1 1/2 oz tequila|2 1/4 oz triple sec|6 oz(1/2 ...   \n",
       "15890  2.25 liters(3 bottles) chilled Champagne|4 oz ...   \n",
       "16087  3/4 oz Malibu(R) coconut rum|3/4 oz Smirnoff(R...   \n",
       "\n",
       "                                          d_instructions  \\\n",
       "8254   Pour gin, sambuca and bitters into a mixing gl...   \n",
       "8672   Pour over crushed ice in a large highball glas...   \n",
       "9386   Add the sugar, lemon slices, cloves, cinnamon ...   \n",
       "10121  Stir the lemon juice and sugar togeher in a la...   \n",
       "12152  Pour ingredients over ice in a highball glass....   \n",
       "12172  Pour all ingredients into a collins glass 3/4 ...   \n",
       "12350  Pour Tanqueray gin and Midori melon liqueur in...   \n",
       "12358  Pour Alize Gold Passion and Tropicana simultan...   \n",
       "12736  Pour the dark rum into a wine goblet and stir ...   \n",
       "13168  Ad shot of your favorite favor of tequila over...   \n",
       "13877  Combine ingredients together in a beer mug / p...   \n",
       "14505  Add three or four ice cubes to any type of lar...   \n",
       "15091  Inventor: Daniel Maher\\n\\n\\n\\nOrigin: Laurier ...   \n",
       "15664  Add ingredients to a tall chilled glass. Stir ...   \n",
       "15890  Stir the Drambuie and sugar together in a larg...   \n",
       "16087  Pour Malibu rum and Smirnoff Orange Twist vodk...   \n",
       "\n",
       "                                              d_shopping  \\\n",
       "8254                    gin|white sambuca|orange bitters   \n",
       "8672              orange juice|mango juice|Sagatiba Pura   \n",
       "9386   Bass(R) pale ale|brandy|water|ginger|nutmeg|ci...   \n",
       "10121  lemon juice|superfine sugar|claret|brandy|apri...   \n",
       "12152  Kahlua(R) coffee liqueur|Bailey's(R) Irish cre...   \n",
       "12172  Malibu(R) coconut rum|cherry cola|pineapple ju...   \n",
       "12350           Tanqueray(R) gin|Midori(R) melon liqueur   \n",
       "12358  Alize(R) Gold Passion liqueur|Tropicana(R) fru...   \n",
       "12736  dark rum|7-Up(R) soda|orange bitters|lemon jui...   \n",
       "13168                tequila|Kronik(R) energy drink|lime   \n",
       "13877  Smirnoff(R) vodka|white wine|Stella Artois(R) ...   \n",
       "14505         Smirnoff(R) vodka|orange soda|orange juice   \n",
       "15091  Yellow Chartreuse(R)|Bombay Sapphire(R) gin|gr...   \n",
       "15664                    tequila|triple sec|vanilla cola   \n",
       "15890  Champagne|brandy|Drambuie(R) Scotch whisky|mar...   \n",
       "16087  Malibu(R) coconut rum|Smirnoff(R) Orange Twist...   \n",
       "\n",
       "                                             ingredients  \n",
       "8254   2.25 oz gin, 0.75 oz white sambuca, 3 dashes o...  \n",
       "8672   1 oz orange juice, 2.25 oz mango juice, 0.75 o...  \n",
       "9386   48 oz(4 bottles) Bass(R) pale ale, 12 oz brand...  \n",
       "10121  2 cup lemon juice, 1 cup superfine sugar, 2.25...  \n",
       "12152  1.5 oz Kahlua(R) coffee liqueur, 3 oz Bailey's...  \n",
       "12172  2.25 oz Malibu(R) coconut rum, 4 0.5 oz cherry...  \n",
       "12350  2.25 oz Tanqueray(R) gin, 0.75 oz Midori(R) me...  \n",
       "12358  0.75 oz Alize(R) Gold Passion liqueur, 2.25 oz...  \n",
       "12736  2.25 oz dark rum, 4.5 oz 7-Up(R) soda, 2 dashe...  \n",
       "13168  2.25 oz tequila, 6 oz Kronik(R) energy drink, ...  \n",
       "13877  2.25 oz Smirnoff(R) vodka, 4 0.5 oz white wine...  \n",
       "14505  2.25 oz Smirnoff(R) vodka, 4 oz orange soda, 1...  \n",
       "15091  2.25 oz Yellow Chartreuse(R), 6 oz Bombay Sapp...  \n",
       "15664  1.5 oz tequila, 2.25 oz triple sec, 6 oz(0.5 c...  \n",
       "15890  2.25 liters(3 bottles) chilled Champagne, 4 oz...  \n",
       "16087  0.75 oz Malibu(R) coconut rum, 0.75 oz Smirnof...  "
      ]
     },
     "execution_count": 250,
     "metadata": {},
     "output_type": "execute_result"
    }
   ],
   "source": [
    "df_drink[df_drink['ingredients'].str.contains('2.25')]"
   ]
  },
  {
   "cell_type": "code",
   "execution_count": 253,
   "metadata": {},
   "outputs": [
    {
     "name": "stdout",
     "output_type": "stream",
     "text": [
      "WARNING:tensorflow:Unresolved object in checkpoint: (root).optimizer.iter\n",
      "WARNING:tensorflow:Unresolved object in checkpoint: (root).optimizer.beta_1\n",
      "WARNING:tensorflow:Unresolved object in checkpoint: (root).optimizer.beta_2\n",
      "WARNING:tensorflow:Unresolved object in checkpoint: (root).optimizer.decay\n",
      "WARNING:tensorflow:Unresolved object in checkpoint: (root).optimizer.learning_rate\n",
      "WARNING:tensorflow:A checkpoint was restored (e.g. tf.train.Checkpoint.restore or tf.keras.Model.load_weights) but not all checkpointed values were used. See above for specific issues. Use expect_partial() on the load status object, e.g. tf.train.Checkpoint.restore(...).expect_partial(), to silence these warnings, or use assert_consumed() to make the check explicit. See https://www.tensorflow.org/guide/checkpoint#loading_mechanics for details.\n"
     ]
    }
   ],
   "source": [
    "# Apply previous function to regularize all measurements and then turn to text file with only names\n",
    "# and ingredients\n",
    "\n",
    "df_drink = df_drink.apply(replace_val, axis=1)\n",
    "\n",
    "df_drink_txt = df_drink.loc[:, ['d_name', 'ingredients']]\n",
    "\n",
    "df_drink_txt.to_csv('unit_reg_drinks_done.txt',encoding='utf-8', header=None, index=False)"
   ]
  },
  {
   "cell_type": "code",
   "execution_count": 256,
   "metadata": {},
   "outputs": [],
   "source": [
    "df_drink_sample = df_drink.sample(500)\n",
    "df_drink_sample = df_drink_sample.loc[:, ['d_name', 'ingredients']]\n",
    "df_drink_sample.to_csv('sample_drink_set.txt', encoding='utf-8', header=None, index = False)"
   ]
  },
  {
   "cell_type": "code",
   "execution_count": 14,
   "metadata": {
    "collapsed": true
   },
   "outputs": [
    {
     "name": "stdout",
     "output_type": "stream",
     "text": [
      "12,293 texts collected.\n",
      "Training new model w/ 5-layer, 128-cell Bidirectional LSTMs\n",
      "Training on 1,104,878 character sequences.\n",
      "WARNING:tensorflow:sample_weight modes were coerced from\n",
      "  ...\n",
      "    to  \n",
      "  ['...']\n",
      "WARNING:tensorflow:sample_weight modes were coerced from\n",
      "  ...\n",
      "    to  \n",
      "  ['...']\n",
      "Train for 8631 steps, validate for 2162 steps\n",
      "Epoch 1/40\n",
      "  61/8631 [..............................] - ETA: 2:05:23 - loss: 3.5712####################\n",
      "Temperature: 0.2\n",
      "####################\n",
      "  0      l                    l        lr           r               l   l    l  e    ll     l     r          ea  r                e                     l   l         m               m     l    a   l        l       r           le          l r      e    l l              r   l                         \n",
      "\n",
      "                 l    l              l   c             ll             r   l    l           l a      l                  l               l m            l   a  e        l                l      l       l  l    m                  e    l        l           a     l     l  m          l  l       c      l   \n",
      "\n",
      "  e              l        ll lll                      l r                      r  e l    l   r        l                    a     l  r    r     al                     l           ll   l     e   l0  l                         r          l     e    l                                  l      e   le      \n",
      "\n",
      "####################\n",
      "Temperature: 0.5\n",
      "####################\n",
      " 5ee g,ndcorrd o a le  .r ea\n",
      "\n"
     ]
    },
    {
     "ename": "KeyboardInterrupt",
     "evalue": "",
     "output_type": "error",
     "traceback": [
      "\u001b[0;31m---------------------------------------------------------------------------\u001b[0m",
      "\u001b[0;31mKeyboardInterrupt\u001b[0m                         Traceback (most recent call last)",
      "\u001b[0;32m~/anaconda3/lib/python3.7/site-packages/tensorflow_core/python/keras/engine/training_v2.py\u001b[0m in \u001b[0;36mon_epoch\u001b[0;34m(self, epoch, mode)\u001b[0m\n\u001b[1;32m    766\u001b[0m     \u001b[0;32mtry\u001b[0m\u001b[0;34m:\u001b[0m\u001b[0;34m\u001b[0m\u001b[0;34m\u001b[0m\u001b[0m\n\u001b[0;32m--> 767\u001b[0;31m       \u001b[0;32myield\u001b[0m \u001b[0mepoch_logs\u001b[0m\u001b[0;34m\u001b[0m\u001b[0;34m\u001b[0m\u001b[0m\n\u001b[0m\u001b[1;32m    768\u001b[0m     \u001b[0;32mfinally\u001b[0m\u001b[0;34m:\u001b[0m\u001b[0;34m\u001b[0m\u001b[0;34m\u001b[0m\u001b[0m\n",
      "\u001b[0;32m~/anaconda3/lib/python3.7/site-packages/tensorflow_core/python/keras/engine/training_v2.py\u001b[0m in \u001b[0;36mfit\u001b[0;34m(self, model, x, y, batch_size, epochs, verbose, callbacks, validation_split, validation_data, shuffle, class_weight, sample_weight, initial_epoch, steps_per_epoch, validation_steps, validation_freq, max_queue_size, workers, use_multiprocessing, **kwargs)\u001b[0m\n\u001b[1;32m    341\u001b[0m                 \u001b[0mtraining_context\u001b[0m\u001b[0;34m=\u001b[0m\u001b[0mtraining_context\u001b[0m\u001b[0;34m,\u001b[0m\u001b[0;34m\u001b[0m\u001b[0;34m\u001b[0m\u001b[0m\n\u001b[0;32m--> 342\u001b[0;31m                 total_epochs=epochs)\n\u001b[0m\u001b[1;32m    343\u001b[0m             \u001b[0mcbks\u001b[0m\u001b[0;34m.\u001b[0m\u001b[0mmake_logs\u001b[0m\u001b[0;34m(\u001b[0m\u001b[0mmodel\u001b[0m\u001b[0;34m,\u001b[0m \u001b[0mepoch_logs\u001b[0m\u001b[0;34m,\u001b[0m \u001b[0mtraining_result\u001b[0m\u001b[0;34m,\u001b[0m \u001b[0mModeKeys\u001b[0m\u001b[0;34m.\u001b[0m\u001b[0mTRAIN\u001b[0m\u001b[0;34m)\u001b[0m\u001b[0;34m\u001b[0m\u001b[0;34m\u001b[0m\u001b[0m\n",
      "\u001b[0;32m~/anaconda3/lib/python3.7/site-packages/tensorflow_core/python/keras/engine/training_v2.py\u001b[0m in \u001b[0;36mrun_one_epoch\u001b[0;34m(model, iterator, execution_function, dataset_size, batch_size, strategy, steps_per_epoch, num_samples, mode, training_context, total_epochs)\u001b[0m\n\u001b[1;32m    127\u001b[0m       \u001b[0;32mtry\u001b[0m\u001b[0;34m:\u001b[0m\u001b[0;34m\u001b[0m\u001b[0;34m\u001b[0m\u001b[0m\n\u001b[0;32m--> 128\u001b[0;31m         \u001b[0mbatch_outs\u001b[0m \u001b[0;34m=\u001b[0m \u001b[0mexecution_function\u001b[0m\u001b[0;34m(\u001b[0m\u001b[0miterator\u001b[0m\u001b[0;34m)\u001b[0m\u001b[0;34m\u001b[0m\u001b[0;34m\u001b[0m\u001b[0m\n\u001b[0m\u001b[1;32m    129\u001b[0m       \u001b[0;32mexcept\u001b[0m \u001b[0;34m(\u001b[0m\u001b[0mStopIteration\u001b[0m\u001b[0;34m,\u001b[0m \u001b[0merrors\u001b[0m\u001b[0;34m.\u001b[0m\u001b[0mOutOfRangeError\u001b[0m\u001b[0;34m)\u001b[0m\u001b[0;34m:\u001b[0m\u001b[0;34m\u001b[0m\u001b[0;34m\u001b[0m\u001b[0m\n",
      "\u001b[0;32m~/anaconda3/lib/python3.7/site-packages/tensorflow_core/python/keras/engine/training_v2_utils.py\u001b[0m in \u001b[0;36mexecution_function\u001b[0;34m(input_fn)\u001b[0m\n\u001b[1;32m     97\u001b[0m     return nest.map_structure(_non_none_constant_value,\n\u001b[0;32m---> 98\u001b[0;31m                               distributed_function(input_fn))\n\u001b[0m\u001b[1;32m     99\u001b[0m \u001b[0;34m\u001b[0m\u001b[0m\n",
      "\u001b[0;32m~/anaconda3/lib/python3.7/site-packages/tensorflow_core/python/eager/def_function.py\u001b[0m in \u001b[0;36m__call__\u001b[0;34m(self, *args, **kwds)\u001b[0m\n\u001b[1;32m    567\u001b[0m     \u001b[0;32melse\u001b[0m\u001b[0;34m:\u001b[0m\u001b[0;34m\u001b[0m\u001b[0;34m\u001b[0m\u001b[0m\n\u001b[0;32m--> 568\u001b[0;31m       \u001b[0mresult\u001b[0m \u001b[0;34m=\u001b[0m \u001b[0mself\u001b[0m\u001b[0;34m.\u001b[0m\u001b[0m_call\u001b[0m\u001b[0;34m(\u001b[0m\u001b[0;34m*\u001b[0m\u001b[0margs\u001b[0m\u001b[0;34m,\u001b[0m \u001b[0;34m**\u001b[0m\u001b[0mkwds\u001b[0m\u001b[0;34m)\u001b[0m\u001b[0;34m\u001b[0m\u001b[0;34m\u001b[0m\u001b[0m\n\u001b[0m\u001b[1;32m    569\u001b[0m \u001b[0;34m\u001b[0m\u001b[0m\n",
      "\u001b[0;32m~/anaconda3/lib/python3.7/site-packages/tensorflow_core/python/eager/def_function.py\u001b[0m in \u001b[0;36m_call\u001b[0;34m(self, *args, **kwds)\u001b[0m\n\u001b[1;32m    598\u001b[0m       \u001b[0;31m# defunned version which is guaranteed to never create variables.\u001b[0m\u001b[0;34m\u001b[0m\u001b[0;34m\u001b[0m\u001b[0;34m\u001b[0m\u001b[0m\n\u001b[0;32m--> 599\u001b[0;31m       \u001b[0;32mreturn\u001b[0m \u001b[0mself\u001b[0m\u001b[0;34m.\u001b[0m\u001b[0m_stateless_fn\u001b[0m\u001b[0;34m(\u001b[0m\u001b[0;34m*\u001b[0m\u001b[0margs\u001b[0m\u001b[0;34m,\u001b[0m \u001b[0;34m**\u001b[0m\u001b[0mkwds\u001b[0m\u001b[0;34m)\u001b[0m  \u001b[0;31m# pylint: disable=not-callable\u001b[0m\u001b[0;34m\u001b[0m\u001b[0;34m\u001b[0m\u001b[0m\n\u001b[0m\u001b[1;32m    600\u001b[0m     \u001b[0;32melif\u001b[0m \u001b[0mself\u001b[0m\u001b[0;34m.\u001b[0m\u001b[0m_stateful_fn\u001b[0m \u001b[0;32mis\u001b[0m \u001b[0;32mnot\u001b[0m \u001b[0;32mNone\u001b[0m\u001b[0;34m:\u001b[0m\u001b[0;34m\u001b[0m\u001b[0;34m\u001b[0m\u001b[0m\n",
      "\u001b[0;32m~/anaconda3/lib/python3.7/site-packages/tensorflow_core/python/eager/function.py\u001b[0m in \u001b[0;36m__call__\u001b[0;34m(self, *args, **kwargs)\u001b[0m\n\u001b[1;32m   2362\u001b[0m       \u001b[0mgraph_function\u001b[0m\u001b[0;34m,\u001b[0m \u001b[0margs\u001b[0m\u001b[0;34m,\u001b[0m \u001b[0mkwargs\u001b[0m \u001b[0;34m=\u001b[0m \u001b[0mself\u001b[0m\u001b[0;34m.\u001b[0m\u001b[0m_maybe_define_function\u001b[0m\u001b[0;34m(\u001b[0m\u001b[0margs\u001b[0m\u001b[0;34m,\u001b[0m \u001b[0mkwargs\u001b[0m\u001b[0;34m)\u001b[0m\u001b[0;34m\u001b[0m\u001b[0;34m\u001b[0m\u001b[0m\n\u001b[0;32m-> 2363\u001b[0;31m     \u001b[0;32mreturn\u001b[0m \u001b[0mgraph_function\u001b[0m\u001b[0;34m.\u001b[0m\u001b[0m_filtered_call\u001b[0m\u001b[0;34m(\u001b[0m\u001b[0margs\u001b[0m\u001b[0;34m,\u001b[0m \u001b[0mkwargs\u001b[0m\u001b[0;34m)\u001b[0m  \u001b[0;31m# pylint: disable=protected-access\u001b[0m\u001b[0;34m\u001b[0m\u001b[0;34m\u001b[0m\u001b[0m\n\u001b[0m\u001b[1;32m   2364\u001b[0m \u001b[0;34m\u001b[0m\u001b[0m\n",
      "\u001b[0;32m~/anaconda3/lib/python3.7/site-packages/tensorflow_core/python/eager/function.py\u001b[0m in \u001b[0;36m_filtered_call\u001b[0;34m(self, args, kwargs)\u001b[0m\n\u001b[1;32m   1610\u001b[0m                            resource_variable_ops.BaseResourceVariable))),\n\u001b[0;32m-> 1611\u001b[0;31m         self.captured_inputs)\n\u001b[0m\u001b[1;32m   1612\u001b[0m \u001b[0;34m\u001b[0m\u001b[0m\n",
      "\u001b[0;32m~/anaconda3/lib/python3.7/site-packages/tensorflow_core/python/eager/function.py\u001b[0m in \u001b[0;36m_call_flat\u001b[0;34m(self, args, captured_inputs, cancellation_manager)\u001b[0m\n\u001b[1;32m   1691\u001b[0m       return self._build_call_outputs(self._inference_function.call(\n\u001b[0;32m-> 1692\u001b[0;31m           ctx, args, cancellation_manager=cancellation_manager))\n\u001b[0m\u001b[1;32m   1693\u001b[0m     forward_backward = self._select_forward_and_backward_functions(\n",
      "\u001b[0;32m~/anaconda3/lib/python3.7/site-packages/tensorflow_core/python/eager/function.py\u001b[0m in \u001b[0;36mcall\u001b[0;34m(self, ctx, args, cancellation_manager)\u001b[0m\n\u001b[1;32m    544\u001b[0m               \u001b[0mattrs\u001b[0m\u001b[0;34m=\u001b[0m\u001b[0;34m(\u001b[0m\u001b[0;34m\"executor_type\"\u001b[0m\u001b[0;34m,\u001b[0m \u001b[0mexecutor_type\u001b[0m\u001b[0;34m,\u001b[0m \u001b[0;34m\"config_proto\"\u001b[0m\u001b[0;34m,\u001b[0m \u001b[0mconfig\u001b[0m\u001b[0;34m)\u001b[0m\u001b[0;34m,\u001b[0m\u001b[0;34m\u001b[0m\u001b[0;34m\u001b[0m\u001b[0m\n\u001b[0;32m--> 545\u001b[0;31m               ctx=ctx)\n\u001b[0m\u001b[1;32m    546\u001b[0m         \u001b[0;32melse\u001b[0m\u001b[0;34m:\u001b[0m\u001b[0;34m\u001b[0m\u001b[0;34m\u001b[0m\u001b[0m\n",
      "\u001b[0;32m~/anaconda3/lib/python3.7/site-packages/tensorflow_core/python/eager/execute.py\u001b[0m in \u001b[0;36mquick_execute\u001b[0;34m(op_name, num_outputs, inputs, attrs, ctx, name)\u001b[0m\n\u001b[1;32m     60\u001b[0m                                                \u001b[0mop_name\u001b[0m\u001b[0;34m,\u001b[0m \u001b[0minputs\u001b[0m\u001b[0;34m,\u001b[0m \u001b[0mattrs\u001b[0m\u001b[0;34m,\u001b[0m\u001b[0;34m\u001b[0m\u001b[0;34m\u001b[0m\u001b[0m\n\u001b[0;32m---> 61\u001b[0;31m                                                num_outputs)\n\u001b[0m\u001b[1;32m     62\u001b[0m   \u001b[0;32mexcept\u001b[0m \u001b[0mcore\u001b[0m\u001b[0;34m.\u001b[0m\u001b[0m_NotOkStatusException\u001b[0m \u001b[0;32mas\u001b[0m \u001b[0me\u001b[0m\u001b[0;34m:\u001b[0m\u001b[0;34m\u001b[0m\u001b[0;34m\u001b[0m\u001b[0m\n",
      "\u001b[0;31mKeyboardInterrupt\u001b[0m: ",
      "\nDuring handling of the above exception, another exception occurred:\n",
      "\u001b[0;31mKeyboardInterrupt\u001b[0m                         Traceback (most recent call last)",
      "\u001b[0;32m<ipython-input-14-f466433b70b4>\u001b[0m in \u001b[0;36m<module>\u001b[0;34m\u001b[0m\n\u001b[1;32m      4\u001b[0m textgen_5k2.train_from_file('Data/unit_reg_drinks_2.txt', num_epochs=40, rnn_layers = 5, rnn_size = 128, rnn_bidirectional = True,\n\u001b[1;32m      5\u001b[0m                         \u001b[0mmax_length\u001b[0m \u001b[0;34m=\u001b[0m \u001b[0;36m40\u001b[0m\u001b[0;34m,\u001b[0m \u001b[0mmax_words\u001b[0m \u001b[0;34m=\u001b[0m \u001b[0;36m10000\u001b[0m\u001b[0;34m,\u001b[0m \u001b[0mdim_embeddings\u001b[0m \u001b[0;34m=\u001b[0m \u001b[0;36m100\u001b[0m\u001b[0;34m,\u001b[0m \u001b[0mword_level\u001b[0m \u001b[0;34m=\u001b[0m \u001b[0;32mFalse\u001b[0m\u001b[0;34m,\u001b[0m\u001b[0;34m\u001b[0m\u001b[0;34m\u001b[0m\u001b[0m\n\u001b[0;32m----> 6\u001b[0;31m                         train_size = 0.8, drop_out = 0.2, new_model=True, all_growth=True)\n\u001b[0m",
      "\u001b[0;32m~/anaconda3/lib/python3.7/site-packages/textgenrnn/textgenrnn.py\u001b[0m in \u001b[0;36mtrain_from_file\u001b[0;34m(self, file_path, header, delim, new_model, context, is_csv, **kwargs)\u001b[0m\n\u001b[1;32m    363\u001b[0m         \u001b[0;32mif\u001b[0m \u001b[0mnew_model\u001b[0m\u001b[0;34m:\u001b[0m\u001b[0;34m\u001b[0m\u001b[0;34m\u001b[0m\u001b[0m\n\u001b[1;32m    364\u001b[0m             self.train_new_model(\n\u001b[0;32m--> 365\u001b[0;31m                 texts, context_labels=context_labels, **kwargs)\n\u001b[0m\u001b[1;32m    366\u001b[0m         \u001b[0;32melse\u001b[0m\u001b[0;34m:\u001b[0m\u001b[0;34m\u001b[0m\u001b[0;34m\u001b[0m\u001b[0m\n\u001b[1;32m    367\u001b[0m             \u001b[0mself\u001b[0m\u001b[0;34m.\u001b[0m\u001b[0mtrain_on_texts\u001b[0m\u001b[0;34m(\u001b[0m\u001b[0mtexts\u001b[0m\u001b[0;34m,\u001b[0m \u001b[0mcontext_labels\u001b[0m\u001b[0;34m=\u001b[0m\u001b[0mcontext_labels\u001b[0m\u001b[0;34m,\u001b[0m \u001b[0;34m**\u001b[0m\u001b[0mkwargs\u001b[0m\u001b[0;34m)\u001b[0m\u001b[0;34m\u001b[0m\u001b[0;34m\u001b[0m\u001b[0m\n",
      "\u001b[0;32m~/anaconda3/lib/python3.7/site-packages/textgenrnn/textgenrnn.py\u001b[0m in \u001b[0;36mtrain_new_model\u001b[0;34m(self, texts, context_labels, num_epochs, gen_epochs, batch_size, dropout, train_size, validation, save_epochs, multi_gpu, **kwargs)\u001b[0m\n\u001b[1;32m    334\u001b[0m                             \u001b[0msave_epochs\u001b[0m\u001b[0;34m=\u001b[0m\u001b[0msave_epochs\u001b[0m\u001b[0;34m,\u001b[0m\u001b[0;34m\u001b[0m\u001b[0;34m\u001b[0m\u001b[0m\n\u001b[1;32m    335\u001b[0m                             \u001b[0mmulti_gpu\u001b[0m\u001b[0;34m=\u001b[0m\u001b[0mmulti_gpu\u001b[0m\u001b[0;34m,\u001b[0m\u001b[0;34m\u001b[0m\u001b[0;34m\u001b[0m\u001b[0m\n\u001b[0;32m--> 336\u001b[0;31m                             **kwargs)\n\u001b[0m\u001b[1;32m    337\u001b[0m \u001b[0;34m\u001b[0m\u001b[0m\n\u001b[1;32m    338\u001b[0m     \u001b[0;32mdef\u001b[0m \u001b[0msave\u001b[0m\u001b[0;34m(\u001b[0m\u001b[0mself\u001b[0m\u001b[0;34m,\u001b[0m \u001b[0mweights_path\u001b[0m\u001b[0;34m=\u001b[0m\u001b[0;34m\"textgenrnn_weights_saved.hdf5\"\u001b[0m\u001b[0;34m)\u001b[0m\u001b[0;34m:\u001b[0m\u001b[0;34m\u001b[0m\u001b[0;34m\u001b[0m\u001b[0m\n",
      "\u001b[0;32m~/anaconda3/lib/python3.7/site-packages/textgenrnn/textgenrnn.py\u001b[0m in \u001b[0;36mtrain_on_texts\u001b[0;34m(self, texts, context_labels, batch_size, num_epochs, verbose, new_model, gen_epochs, train_size, max_gen_length, validation, dropout, via_new_model, save_epochs, multi_gpu, **kwargs)\u001b[0m\n\u001b[1;32m    269\u001b[0m                               \u001b[0mmax_queue_size\u001b[0m\u001b[0;34m=\u001b[0m\u001b[0;36m10\u001b[0m\u001b[0;34m,\u001b[0m\u001b[0;34m\u001b[0m\u001b[0;34m\u001b[0m\u001b[0m\n\u001b[1;32m    270\u001b[0m                               \u001b[0mvalidation_data\u001b[0m\u001b[0;34m=\u001b[0m\u001b[0mgen_val\u001b[0m\u001b[0;34m,\u001b[0m\u001b[0;34m\u001b[0m\u001b[0;34m\u001b[0m\u001b[0m\n\u001b[0;32m--> 271\u001b[0;31m                               \u001b[0mvalidation_steps\u001b[0m\u001b[0;34m=\u001b[0m\u001b[0mval_steps\u001b[0m\u001b[0;34m\u001b[0m\u001b[0;34m\u001b[0m\u001b[0m\n\u001b[0m\u001b[1;32m    272\u001b[0m                               )\n\u001b[1;32m    273\u001b[0m \u001b[0;34m\u001b[0m\u001b[0m\n",
      "\u001b[0;32m~/anaconda3/lib/python3.7/site-packages/tensorflow_core/python/keras/engine/training.py\u001b[0m in \u001b[0;36mfit\u001b[0;34m(self, x, y, batch_size, epochs, verbose, callbacks, validation_split, validation_data, shuffle, class_weight, sample_weight, initial_epoch, steps_per_epoch, validation_steps, validation_freq, max_queue_size, workers, use_multiprocessing, **kwargs)\u001b[0m\n\u001b[1;32m    817\u001b[0m         \u001b[0mmax_queue_size\u001b[0m\u001b[0;34m=\u001b[0m\u001b[0mmax_queue_size\u001b[0m\u001b[0;34m,\u001b[0m\u001b[0;34m\u001b[0m\u001b[0;34m\u001b[0m\u001b[0m\n\u001b[1;32m    818\u001b[0m         \u001b[0mworkers\u001b[0m\u001b[0;34m=\u001b[0m\u001b[0mworkers\u001b[0m\u001b[0;34m,\u001b[0m\u001b[0;34m\u001b[0m\u001b[0;34m\u001b[0m\u001b[0m\n\u001b[0;32m--> 819\u001b[0;31m         use_multiprocessing=use_multiprocessing)\n\u001b[0m\u001b[1;32m    820\u001b[0m \u001b[0;34m\u001b[0m\u001b[0m\n\u001b[1;32m    821\u001b[0m   def evaluate(self,\n",
      "\u001b[0;32m~/anaconda3/lib/python3.7/site-packages/tensorflow_core/python/keras/engine/training_v2.py\u001b[0m in \u001b[0;36mfit\u001b[0;34m(self, model, x, y, batch_size, epochs, verbose, callbacks, validation_split, validation_data, shuffle, class_weight, sample_weight, initial_epoch, steps_per_epoch, validation_steps, validation_freq, max_queue_size, workers, use_multiprocessing, **kwargs)\u001b[0m\n\u001b[1;32m    395\u001b[0m                       total_epochs=1)\n\u001b[1;32m    396\u001b[0m                   cbks.make_logs(model, epoch_logs, eval_result, ModeKeys.TEST,\n\u001b[0;32m--> 397\u001b[0;31m                                  prefix='val_')\n\u001b[0m\u001b[1;32m    398\u001b[0m \u001b[0;34m\u001b[0m\u001b[0m\n\u001b[1;32m    399\u001b[0m     \u001b[0;32mreturn\u001b[0m \u001b[0mmodel\u001b[0m\u001b[0;34m.\u001b[0m\u001b[0mhistory\u001b[0m\u001b[0;34m\u001b[0m\u001b[0;34m\u001b[0m\u001b[0m\n",
      "\u001b[0;32m~/anaconda3/lib/python3.7/contextlib.py\u001b[0m in \u001b[0;36m__exit__\u001b[0;34m(self, type, value, traceback)\u001b[0m\n\u001b[1;32m    128\u001b[0m                 \u001b[0mvalue\u001b[0m \u001b[0;34m=\u001b[0m \u001b[0mtype\u001b[0m\u001b[0;34m(\u001b[0m\u001b[0;34m)\u001b[0m\u001b[0;34m\u001b[0m\u001b[0;34m\u001b[0m\u001b[0m\n\u001b[1;32m    129\u001b[0m             \u001b[0;32mtry\u001b[0m\u001b[0;34m:\u001b[0m\u001b[0;34m\u001b[0m\u001b[0;34m\u001b[0m\u001b[0m\n\u001b[0;32m--> 130\u001b[0;31m                 \u001b[0mself\u001b[0m\u001b[0;34m.\u001b[0m\u001b[0mgen\u001b[0m\u001b[0;34m.\u001b[0m\u001b[0mthrow\u001b[0m\u001b[0;34m(\u001b[0m\u001b[0mtype\u001b[0m\u001b[0;34m,\u001b[0m \u001b[0mvalue\u001b[0m\u001b[0;34m,\u001b[0m \u001b[0mtraceback\u001b[0m\u001b[0;34m)\u001b[0m\u001b[0;34m\u001b[0m\u001b[0;34m\u001b[0m\u001b[0m\n\u001b[0m\u001b[1;32m    131\u001b[0m             \u001b[0;32mexcept\u001b[0m \u001b[0mStopIteration\u001b[0m \u001b[0;32mas\u001b[0m \u001b[0mexc\u001b[0m\u001b[0;34m:\u001b[0m\u001b[0;34m\u001b[0m\u001b[0;34m\u001b[0m\u001b[0m\n\u001b[1;32m    132\u001b[0m                 \u001b[0;31m# Suppress StopIteration *unless* it's the same exception that\u001b[0m\u001b[0;34m\u001b[0m\u001b[0;34m\u001b[0m\u001b[0;34m\u001b[0m\u001b[0m\n",
      "\u001b[0;32m~/anaconda3/lib/python3.7/site-packages/tensorflow_core/python/keras/engine/training_v2.py\u001b[0m in \u001b[0;36mon_epoch\u001b[0;34m(self, epoch, mode)\u001b[0m\n\u001b[1;32m    769\u001b[0m       \u001b[0;32mif\u001b[0m \u001b[0mmode\u001b[0m \u001b[0;34m==\u001b[0m \u001b[0mModeKeys\u001b[0m\u001b[0;34m.\u001b[0m\u001b[0mTRAIN\u001b[0m\u001b[0;34m:\u001b[0m\u001b[0;34m\u001b[0m\u001b[0;34m\u001b[0m\u001b[0m\n\u001b[1;32m    770\u001b[0m         \u001b[0;31m# Epochs only apply to `fit`.\u001b[0m\u001b[0;34m\u001b[0m\u001b[0;34m\u001b[0m\u001b[0;34m\u001b[0m\u001b[0m\n\u001b[0;32m--> 771\u001b[0;31m         \u001b[0mself\u001b[0m\u001b[0;34m.\u001b[0m\u001b[0mcallbacks\u001b[0m\u001b[0;34m.\u001b[0m\u001b[0mon_epoch_end\u001b[0m\u001b[0;34m(\u001b[0m\u001b[0mepoch\u001b[0m\u001b[0;34m,\u001b[0m \u001b[0mepoch_logs\u001b[0m\u001b[0;34m)\u001b[0m\u001b[0;34m\u001b[0m\u001b[0;34m\u001b[0m\u001b[0m\n\u001b[0m\u001b[1;32m    772\u001b[0m       \u001b[0mself\u001b[0m\u001b[0;34m.\u001b[0m\u001b[0mprogbar\u001b[0m\u001b[0;34m.\u001b[0m\u001b[0mon_epoch_end\u001b[0m\u001b[0;34m(\u001b[0m\u001b[0mepoch\u001b[0m\u001b[0;34m,\u001b[0m \u001b[0mepoch_logs\u001b[0m\u001b[0;34m)\u001b[0m\u001b[0;34m\u001b[0m\u001b[0;34m\u001b[0m\u001b[0m\n\u001b[1;32m    773\u001b[0m \u001b[0;34m\u001b[0m\u001b[0m\n",
      "\u001b[0;32m~/anaconda3/lib/python3.7/site-packages/tensorflow_core/python/keras/callbacks.py\u001b[0m in \u001b[0;36mon_epoch_end\u001b[0;34m(self, epoch, logs)\u001b[0m\n\u001b[1;32m    300\u001b[0m     \u001b[0mlogs\u001b[0m \u001b[0;34m=\u001b[0m \u001b[0mlogs\u001b[0m \u001b[0;32mor\u001b[0m \u001b[0;34m{\u001b[0m\u001b[0;34m}\u001b[0m\u001b[0;34m\u001b[0m\u001b[0;34m\u001b[0m\u001b[0m\n\u001b[1;32m    301\u001b[0m     \u001b[0;32mfor\u001b[0m \u001b[0mcallback\u001b[0m \u001b[0;32min\u001b[0m \u001b[0mself\u001b[0m\u001b[0;34m.\u001b[0m\u001b[0mcallbacks\u001b[0m\u001b[0;34m:\u001b[0m\u001b[0;34m\u001b[0m\u001b[0;34m\u001b[0m\u001b[0m\n\u001b[0;32m--> 302\u001b[0;31m       \u001b[0mcallback\u001b[0m\u001b[0;34m.\u001b[0m\u001b[0mon_epoch_end\u001b[0m\u001b[0;34m(\u001b[0m\u001b[0mepoch\u001b[0m\u001b[0;34m,\u001b[0m \u001b[0mlogs\u001b[0m\u001b[0;34m)\u001b[0m\u001b[0;34m\u001b[0m\u001b[0;34m\u001b[0m\u001b[0m\n\u001b[0m\u001b[1;32m    303\u001b[0m \u001b[0;34m\u001b[0m\u001b[0m\n\u001b[1;32m    304\u001b[0m   \u001b[0;32mdef\u001b[0m \u001b[0mon_train_batch_begin\u001b[0m\u001b[0;34m(\u001b[0m\u001b[0mself\u001b[0m\u001b[0;34m,\u001b[0m \u001b[0mbatch\u001b[0m\u001b[0;34m,\u001b[0m \u001b[0mlogs\u001b[0m\u001b[0;34m=\u001b[0m\u001b[0;32mNone\u001b[0m\u001b[0;34m)\u001b[0m\u001b[0;34m:\u001b[0m\u001b[0;34m\u001b[0m\u001b[0;34m\u001b[0m\u001b[0m\n",
      "\u001b[0;32m~/anaconda3/lib/python3.7/site-packages/textgenrnn/utils.py\u001b[0m in \u001b[0;36mon_epoch_end\u001b[0;34m(self, epoch, logs)\u001b[0m\n\u001b[1;32m    287\u001b[0m         \u001b[0;32mif\u001b[0m \u001b[0mself\u001b[0m\u001b[0;34m.\u001b[0m\u001b[0mgen_epochs\u001b[0m \u001b[0;34m>\u001b[0m \u001b[0;36m0\u001b[0m \u001b[0;32mand\u001b[0m \u001b[0;34m(\u001b[0m\u001b[0mepoch\u001b[0m\u001b[0;34m+\u001b[0m\u001b[0;36m1\u001b[0m\u001b[0;34m)\u001b[0m \u001b[0;34m%\u001b[0m \u001b[0mself\u001b[0m\u001b[0;34m.\u001b[0m\u001b[0mgen_epochs\u001b[0m \u001b[0;34m==\u001b[0m \u001b[0;36m0\u001b[0m\u001b[0;34m:\u001b[0m\u001b[0;34m\u001b[0m\u001b[0;34m\u001b[0m\u001b[0m\n\u001b[1;32m    288\u001b[0m             self.textgenrnn.generate_samples(\n\u001b[0;32m--> 289\u001b[0;31m                 max_gen_length=self.max_gen_length)\n\u001b[0m\u001b[1;32m    290\u001b[0m \u001b[0;34m\u001b[0m\u001b[0m\n\u001b[1;32m    291\u001b[0m \u001b[0;34m\u001b[0m\u001b[0m\n",
      "\u001b[0;32m~/anaconda3/lib/python3.7/site-packages/textgenrnn/textgenrnn.py\u001b[0m in \u001b[0;36mgenerate_samples\u001b[0;34m(self, n, temperatures, **kwargs)\u001b[0m\n\u001b[1;32m    107\u001b[0m             print('#'*20 + '\\nTemperature: {}\\n'.format(temperature) +\n\u001b[1;32m    108\u001b[0m                   '#'*20)\n\u001b[0;32m--> 109\u001b[0;31m             \u001b[0mself\u001b[0m\u001b[0;34m.\u001b[0m\u001b[0mgenerate\u001b[0m\u001b[0;34m(\u001b[0m\u001b[0mn\u001b[0m\u001b[0;34m,\u001b[0m \u001b[0mtemperature\u001b[0m\u001b[0;34m=\u001b[0m\u001b[0mtemperature\u001b[0m\u001b[0;34m,\u001b[0m \u001b[0mprogress\u001b[0m\u001b[0;34m=\u001b[0m\u001b[0;32mFalse\u001b[0m\u001b[0;34m,\u001b[0m \u001b[0;34m**\u001b[0m\u001b[0mkwargs\u001b[0m\u001b[0;34m)\u001b[0m\u001b[0;34m\u001b[0m\u001b[0;34m\u001b[0m\u001b[0m\n\u001b[0m\u001b[1;32m    110\u001b[0m \u001b[0;34m\u001b[0m\u001b[0m\n\u001b[1;32m    111\u001b[0m     def train_on_texts(self, texts, context_labels=None,\n",
      "\u001b[0;32m~/anaconda3/lib/python3.7/site-packages/textgenrnn/textgenrnn.py\u001b[0m in \u001b[0;36mgenerate\u001b[0;34m(self, n, return_as_list, prefix, temperature, max_gen_length, interactive, top_n, progress)\u001b[0m\n\u001b[1;32m     96\u001b[0m                                               \u001b[0minteractive\u001b[0m\u001b[0;34m,\u001b[0m\u001b[0;34m\u001b[0m\u001b[0;34m\u001b[0m\u001b[0m\n\u001b[1;32m     97\u001b[0m                                               \u001b[0mtop_n\u001b[0m\u001b[0;34m,\u001b[0m\u001b[0;34m\u001b[0m\u001b[0;34m\u001b[0m\u001b[0m\n\u001b[0;32m---> 98\u001b[0;31m                                               prefix)\n\u001b[0m\u001b[1;32m     99\u001b[0m             \u001b[0;32mif\u001b[0m \u001b[0;32mnot\u001b[0m \u001b[0mreturn_as_list\u001b[0m\u001b[0;34m:\u001b[0m\u001b[0;34m\u001b[0m\u001b[0;34m\u001b[0m\u001b[0m\n\u001b[1;32m    100\u001b[0m                 \u001b[0mprint\u001b[0m\u001b[0;34m(\u001b[0m\u001b[0;34m\"{}\\n\"\u001b[0m\u001b[0;34m.\u001b[0m\u001b[0mformat\u001b[0m\u001b[0;34m(\u001b[0m\u001b[0mgen_text\u001b[0m\u001b[0;34m)\u001b[0m\u001b[0;34m)\u001b[0m\u001b[0;34m\u001b[0m\u001b[0;34m\u001b[0m\u001b[0m\n",
      "\u001b[0;32m~/anaconda3/lib/python3.7/site-packages/textgenrnn/utils.py\u001b[0m in \u001b[0;36mtextgenrnn_generate\u001b[0;34m(model, vocab, indices_char, temperature, maxlen, meta_token, word_level, single_text, max_gen_length, interactive, top_n, prefix, synthesize, stop_tokens)\u001b[0m\n\u001b[1;32m     95\u001b[0m             \u001b[0;31m# auto-generate text without user intervention\u001b[0m\u001b[0;34m\u001b[0m\u001b[0;34m\u001b[0m\u001b[0;34m\u001b[0m\u001b[0m\n\u001b[1;32m     96\u001b[0m             next_index = textgenrnn_sample(\n\u001b[0;32m---> 97\u001b[0;31m                 \u001b[0mmodel\u001b[0m\u001b[0;34m.\u001b[0m\u001b[0mpredict\u001b[0m\u001b[0;34m(\u001b[0m\u001b[0mencoded_text\u001b[0m\u001b[0;34m,\u001b[0m \u001b[0mbatch_size\u001b[0m\u001b[0;34m=\u001b[0m\u001b[0;36m1\u001b[0m\u001b[0;34m)\u001b[0m\u001b[0;34m[\u001b[0m\u001b[0;36m0\u001b[0m\u001b[0;34m]\u001b[0m\u001b[0;34m,\u001b[0m\u001b[0;34m\u001b[0m\u001b[0;34m\u001b[0m\u001b[0m\n\u001b[0m\u001b[1;32m     98\u001b[0m                 next_temperature)\n\u001b[1;32m     99\u001b[0m             \u001b[0mnext_char\u001b[0m \u001b[0;34m=\u001b[0m \u001b[0mindices_char\u001b[0m\u001b[0;34m[\u001b[0m\u001b[0mnext_index\u001b[0m\u001b[0;34m]\u001b[0m\u001b[0;34m\u001b[0m\u001b[0;34m\u001b[0m\u001b[0m\n",
      "\u001b[0;32m~/anaconda3/lib/python3.7/site-packages/tensorflow_core/python/keras/engine/training.py\u001b[0m in \u001b[0;36mpredict\u001b[0;34m(self, x, batch_size, verbose, steps, callbacks, max_queue_size, workers, use_multiprocessing)\u001b[0m\n\u001b[1;32m   1011\u001b[0m         \u001b[0mmax_queue_size\u001b[0m\u001b[0;34m=\u001b[0m\u001b[0mmax_queue_size\u001b[0m\u001b[0;34m,\u001b[0m\u001b[0;34m\u001b[0m\u001b[0;34m\u001b[0m\u001b[0m\n\u001b[1;32m   1012\u001b[0m         \u001b[0mworkers\u001b[0m\u001b[0;34m=\u001b[0m\u001b[0mworkers\u001b[0m\u001b[0;34m,\u001b[0m\u001b[0;34m\u001b[0m\u001b[0;34m\u001b[0m\u001b[0m\n\u001b[0;32m-> 1013\u001b[0;31m         use_multiprocessing=use_multiprocessing)\n\u001b[0m\u001b[1;32m   1014\u001b[0m \u001b[0;34m\u001b[0m\u001b[0m\n\u001b[1;32m   1015\u001b[0m   \u001b[0;32mdef\u001b[0m \u001b[0mreset_metrics\u001b[0m\u001b[0;34m(\u001b[0m\u001b[0mself\u001b[0m\u001b[0;34m)\u001b[0m\u001b[0;34m:\u001b[0m\u001b[0;34m\u001b[0m\u001b[0;34m\u001b[0m\u001b[0m\n",
      "\u001b[0;32m~/anaconda3/lib/python3.7/site-packages/tensorflow_core/python/keras/engine/training_v2.py\u001b[0m in \u001b[0;36mpredict\u001b[0;34m(self, model, x, batch_size, verbose, steps, callbacks, max_queue_size, workers, use_multiprocessing, **kwargs)\u001b[0m\n\u001b[1;32m    496\u001b[0m         \u001b[0mmodel\u001b[0m\u001b[0;34m,\u001b[0m \u001b[0mModeKeys\u001b[0m\u001b[0;34m.\u001b[0m\u001b[0mPREDICT\u001b[0m\u001b[0;34m,\u001b[0m \u001b[0mx\u001b[0m\u001b[0;34m=\u001b[0m\u001b[0mx\u001b[0m\u001b[0;34m,\u001b[0m \u001b[0mbatch_size\u001b[0m\u001b[0;34m=\u001b[0m\u001b[0mbatch_size\u001b[0m\u001b[0;34m,\u001b[0m \u001b[0mverbose\u001b[0m\u001b[0;34m=\u001b[0m\u001b[0mverbose\u001b[0m\u001b[0;34m,\u001b[0m\u001b[0;34m\u001b[0m\u001b[0;34m\u001b[0m\u001b[0m\n\u001b[1;32m    497\u001b[0m         \u001b[0msteps\u001b[0m\u001b[0;34m=\u001b[0m\u001b[0msteps\u001b[0m\u001b[0;34m,\u001b[0m \u001b[0mcallbacks\u001b[0m\u001b[0;34m=\u001b[0m\u001b[0mcallbacks\u001b[0m\u001b[0;34m,\u001b[0m \u001b[0mmax_queue_size\u001b[0m\u001b[0;34m=\u001b[0m\u001b[0mmax_queue_size\u001b[0m\u001b[0;34m,\u001b[0m\u001b[0;34m\u001b[0m\u001b[0;34m\u001b[0m\u001b[0m\n\u001b[0;32m--> 498\u001b[0;31m         workers=workers, use_multiprocessing=use_multiprocessing, **kwargs)\n\u001b[0m\u001b[1;32m    499\u001b[0m \u001b[0;34m\u001b[0m\u001b[0m\n\u001b[1;32m    500\u001b[0m \u001b[0;34m\u001b[0m\u001b[0m\n",
      "\u001b[0;32m~/anaconda3/lib/python3.7/site-packages/tensorflow_core/python/keras/engine/training_v2.py\u001b[0m in \u001b[0;36m_model_iteration\u001b[0;34m(self, model, mode, x, y, batch_size, verbose, sample_weight, steps, callbacks, max_queue_size, workers, use_multiprocessing, **kwargs)\u001b[0m\n\u001b[1;32m    424\u001b[0m           \u001b[0mmax_queue_size\u001b[0m\u001b[0;34m=\u001b[0m\u001b[0mmax_queue_size\u001b[0m\u001b[0;34m,\u001b[0m\u001b[0;34m\u001b[0m\u001b[0;34m\u001b[0m\u001b[0m\n\u001b[1;32m    425\u001b[0m           \u001b[0mworkers\u001b[0m\u001b[0;34m=\u001b[0m\u001b[0mworkers\u001b[0m\u001b[0;34m,\u001b[0m\u001b[0;34m\u001b[0m\u001b[0;34m\u001b[0m\u001b[0m\n\u001b[0;32m--> 426\u001b[0;31m           use_multiprocessing=use_multiprocessing)\n\u001b[0m\u001b[1;32m    427\u001b[0m       \u001b[0mtotal_samples\u001b[0m \u001b[0;34m=\u001b[0m \u001b[0m_get_total_number_of_samples\u001b[0m\u001b[0;34m(\u001b[0m\u001b[0madapter\u001b[0m\u001b[0;34m)\u001b[0m\u001b[0;34m\u001b[0m\u001b[0;34m\u001b[0m\u001b[0m\n\u001b[1;32m    428\u001b[0m       \u001b[0muse_sample\u001b[0m \u001b[0;34m=\u001b[0m \u001b[0mtotal_samples\u001b[0m \u001b[0;32mis\u001b[0m \u001b[0;32mnot\u001b[0m \u001b[0;32mNone\u001b[0m\u001b[0;34m\u001b[0m\u001b[0;34m\u001b[0m\u001b[0m\n",
      "\u001b[0;32m~/anaconda3/lib/python3.7/site-packages/tensorflow_core/python/keras/engine/training_v2.py\u001b[0m in \u001b[0;36m_process_inputs\u001b[0;34m(model, mode, x, y, batch_size, epochs, sample_weights, class_weights, shuffle, steps, distribution_strategy, max_queue_size, workers, use_multiprocessing)\u001b[0m\n\u001b[1;32m    704\u001b[0m       \u001b[0mmax_queue_size\u001b[0m\u001b[0;34m=\u001b[0m\u001b[0mmax_queue_size\u001b[0m\u001b[0;34m,\u001b[0m\u001b[0;34m\u001b[0m\u001b[0;34m\u001b[0m\u001b[0m\n\u001b[1;32m    705\u001b[0m       \u001b[0mworkers\u001b[0m\u001b[0;34m=\u001b[0m\u001b[0mworkers\u001b[0m\u001b[0;34m,\u001b[0m\u001b[0;34m\u001b[0m\u001b[0;34m\u001b[0m\u001b[0m\n\u001b[0;32m--> 706\u001b[0;31m       use_multiprocessing=use_multiprocessing)\n\u001b[0m\u001b[1;32m    707\u001b[0m \u001b[0;34m\u001b[0m\u001b[0m\n\u001b[1;32m    708\u001b[0m   \u001b[0;32mreturn\u001b[0m \u001b[0madapter\u001b[0m\u001b[0;34m\u001b[0m\u001b[0;34m\u001b[0m\u001b[0m\n",
      "\u001b[0;32m~/anaconda3/lib/python3.7/site-packages/tensorflow_core/python/keras/engine/data_adapter.py\u001b[0m in \u001b[0;36m__init__\u001b[0;34m(self, x, y, sample_weights, sample_weight_modes, batch_size, epochs, steps, shuffle, **kwargs)\u001b[0m\n\u001b[1;32m    355\u001b[0m     \u001b[0mindices_dataset\u001b[0m \u001b[0;34m=\u001b[0m \u001b[0mindices_dataset\u001b[0m\u001b[0;34m.\u001b[0m\u001b[0mflat_map\u001b[0m\u001b[0;34m(\u001b[0m\u001b[0mslice_batch_indices\u001b[0m\u001b[0;34m)\u001b[0m\u001b[0;34m\u001b[0m\u001b[0;34m\u001b[0m\u001b[0m\n\u001b[1;32m    356\u001b[0m \u001b[0;34m\u001b[0m\u001b[0m\n\u001b[0;32m--> 357\u001b[0;31m     \u001b[0mdataset\u001b[0m \u001b[0;34m=\u001b[0m \u001b[0mself\u001b[0m\u001b[0;34m.\u001b[0m\u001b[0mslice_inputs\u001b[0m\u001b[0;34m(\u001b[0m\u001b[0mindices_dataset\u001b[0m\u001b[0;34m,\u001b[0m \u001b[0minputs\u001b[0m\u001b[0;34m)\u001b[0m\u001b[0;34m\u001b[0m\u001b[0;34m\u001b[0m\u001b[0m\n\u001b[0m\u001b[1;32m    358\u001b[0m \u001b[0;34m\u001b[0m\u001b[0m\n\u001b[1;32m    359\u001b[0m     \u001b[0;32mif\u001b[0m \u001b[0mshuffle\u001b[0m \u001b[0;34m==\u001b[0m \u001b[0;34m\"batch\"\u001b[0m\u001b[0;34m:\u001b[0m\u001b[0;34m\u001b[0m\u001b[0;34m\u001b[0m\u001b[0m\n",
      "\u001b[0;32m~/anaconda3/lib/python3.7/site-packages/tensorflow_core/python/keras/engine/data_adapter.py\u001b[0m in \u001b[0;36mslice_inputs\u001b[0;34m(self, indices_dataset, inputs)\u001b[0m\n\u001b[1;32m    388\u001b[0m \u001b[0;34m\u001b[0m\u001b[0m\n\u001b[1;32m    389\u001b[0m     dataset = dataset.map(\n\u001b[0;32m--> 390\u001b[0;31m         grab_batch, num_parallel_calls=dataset_ops.AUTOTUNE)\n\u001b[0m\u001b[1;32m    391\u001b[0m \u001b[0;34m\u001b[0m\u001b[0m\n\u001b[1;32m    392\u001b[0m     \u001b[0;31m# Default optimizations are disabled to avoid the overhead of (unnecessary)\u001b[0m\u001b[0;34m\u001b[0m\u001b[0;34m\u001b[0m\u001b[0;34m\u001b[0m\u001b[0m\n",
      "\u001b[0;32m~/anaconda3/lib/python3.7/site-packages/tensorflow_core/python/data/ops/dataset_ops.py\u001b[0m in \u001b[0;36mmap\u001b[0;34m(self, map_func, num_parallel_calls)\u001b[0m\n\u001b[1;32m   1589\u001b[0m     \u001b[0;32melse\u001b[0m\u001b[0;34m:\u001b[0m\u001b[0;34m\u001b[0m\u001b[0;34m\u001b[0m\u001b[0m\n\u001b[1;32m   1590\u001b[0m       return ParallelMapDataset(\n\u001b[0;32m-> 1591\u001b[0;31m           self, map_func, num_parallel_calls, preserve_cardinality=True)\n\u001b[0m\u001b[1;32m   1592\u001b[0m \u001b[0;34m\u001b[0m\u001b[0m\n\u001b[1;32m   1593\u001b[0m   \u001b[0;32mdef\u001b[0m \u001b[0mflat_map\u001b[0m\u001b[0;34m(\u001b[0m\u001b[0mself\u001b[0m\u001b[0;34m,\u001b[0m \u001b[0mmap_func\u001b[0m\u001b[0;34m)\u001b[0m\u001b[0;34m:\u001b[0m\u001b[0;34m\u001b[0m\u001b[0;34m\u001b[0m\u001b[0m\n",
      "\u001b[0;32m~/anaconda3/lib/python3.7/site-packages/tensorflow_core/python/data/ops/dataset_ops.py\u001b[0m in \u001b[0;36m__init__\u001b[0;34m(self, input_dataset, map_func, num_parallel_calls, use_inter_op_parallelism, preserve_cardinality, use_legacy_function)\u001b[0m\n\u001b[1;32m   3924\u001b[0m         \u001b[0mself\u001b[0m\u001b[0;34m.\u001b[0m\u001b[0m_transformation_name\u001b[0m\u001b[0;34m(\u001b[0m\u001b[0;34m)\u001b[0m\u001b[0;34m,\u001b[0m\u001b[0;34m\u001b[0m\u001b[0;34m\u001b[0m\u001b[0m\n\u001b[1;32m   3925\u001b[0m         \u001b[0mdataset\u001b[0m\u001b[0;34m=\u001b[0m\u001b[0minput_dataset\u001b[0m\u001b[0;34m,\u001b[0m\u001b[0;34m\u001b[0m\u001b[0;34m\u001b[0m\u001b[0m\n\u001b[0;32m-> 3926\u001b[0;31m         use_legacy_function=use_legacy_function)\n\u001b[0m\u001b[1;32m   3927\u001b[0m     self._num_parallel_calls = ops.convert_to_tensor(\n\u001b[1;32m   3928\u001b[0m         num_parallel_calls, dtype=dtypes.int32, name=\"num_parallel_calls\")\n",
      "\u001b[0;32m~/anaconda3/lib/python3.7/site-packages/tensorflow_core/python/data/ops/dataset_ops.py\u001b[0m in \u001b[0;36m__init__\u001b[0;34m(self, func, transformation_name, dataset, input_classes, input_shapes, input_types, input_structure, add_to_graph, use_legacy_function, defun_kwargs)\u001b[0m\n\u001b[1;32m   3145\u001b[0m       \u001b[0;32mwith\u001b[0m \u001b[0mtracking\u001b[0m\u001b[0;34m.\u001b[0m\u001b[0mresource_tracker_scope\u001b[0m\u001b[0;34m(\u001b[0m\u001b[0mresource_tracker\u001b[0m\u001b[0;34m)\u001b[0m\u001b[0;34m:\u001b[0m\u001b[0;34m\u001b[0m\u001b[0;34m\u001b[0m\u001b[0m\n\u001b[1;32m   3146\u001b[0m         \u001b[0;31m# TODO(b/141462134): Switch to using garbage collection.\u001b[0m\u001b[0;34m\u001b[0m\u001b[0;34m\u001b[0m\u001b[0;34m\u001b[0m\u001b[0m\n\u001b[0;32m-> 3147\u001b[0;31m         \u001b[0mself\u001b[0m\u001b[0;34m.\u001b[0m\u001b[0m_function\u001b[0m \u001b[0;34m=\u001b[0m \u001b[0mwrapper_fn\u001b[0m\u001b[0;34m.\u001b[0m\u001b[0m_get_concrete_function_internal\u001b[0m\u001b[0;34m(\u001b[0m\u001b[0;34m)\u001b[0m\u001b[0;34m\u001b[0m\u001b[0;34m\u001b[0m\u001b[0m\n\u001b[0m\u001b[1;32m   3148\u001b[0m \u001b[0;34m\u001b[0m\u001b[0m\n\u001b[1;32m   3149\u001b[0m         \u001b[0;32mif\u001b[0m \u001b[0madd_to_graph\u001b[0m\u001b[0;34m:\u001b[0m\u001b[0;34m\u001b[0m\u001b[0;34m\u001b[0m\u001b[0m\n",
      "\u001b[0;32m~/anaconda3/lib/python3.7/site-packages/tensorflow_core/python/eager/function.py\u001b[0m in \u001b[0;36m_get_concrete_function_internal\u001b[0;34m(self, *args, **kwargs)\u001b[0m\n\u001b[1;32m   2393\u001b[0m     \u001b[0;34m\"\"\"Bypasses error checking when getting a graph function.\"\"\"\u001b[0m\u001b[0;34m\u001b[0m\u001b[0;34m\u001b[0m\u001b[0m\n\u001b[1;32m   2394\u001b[0m     graph_function = self._get_concrete_function_internal_garbage_collected(\n\u001b[0;32m-> 2395\u001b[0;31m         *args, **kwargs)\n\u001b[0m\u001b[1;32m   2396\u001b[0m     \u001b[0;31m# We're returning this concrete function to someone, and they may keep a\u001b[0m\u001b[0;34m\u001b[0m\u001b[0;34m\u001b[0m\u001b[0;34m\u001b[0m\u001b[0m\n\u001b[1;32m   2397\u001b[0m     \u001b[0;31m# reference to the FuncGraph without keeping a reference to the\u001b[0m\u001b[0;34m\u001b[0m\u001b[0;34m\u001b[0m\u001b[0;34m\u001b[0m\u001b[0m\n",
      "\u001b[0;32m~/anaconda3/lib/python3.7/site-packages/tensorflow_core/python/eager/function.py\u001b[0m in \u001b[0;36m_get_concrete_function_internal_garbage_collected\u001b[0;34m(self, *args, **kwargs)\u001b[0m\n\u001b[1;32m   2387\u001b[0m       \u001b[0margs\u001b[0m\u001b[0;34m,\u001b[0m \u001b[0mkwargs\u001b[0m \u001b[0;34m=\u001b[0m \u001b[0;32mNone\u001b[0m\u001b[0;34m,\u001b[0m \u001b[0;32mNone\u001b[0m\u001b[0;34m\u001b[0m\u001b[0;34m\u001b[0m\u001b[0m\n\u001b[1;32m   2388\u001b[0m     \u001b[0;32mwith\u001b[0m \u001b[0mself\u001b[0m\u001b[0;34m.\u001b[0m\u001b[0m_lock\u001b[0m\u001b[0;34m:\u001b[0m\u001b[0;34m\u001b[0m\u001b[0;34m\u001b[0m\u001b[0m\n\u001b[0;32m-> 2389\u001b[0;31m       \u001b[0mgraph_function\u001b[0m\u001b[0;34m,\u001b[0m \u001b[0m_\u001b[0m\u001b[0;34m,\u001b[0m \u001b[0m_\u001b[0m \u001b[0;34m=\u001b[0m \u001b[0mself\u001b[0m\u001b[0;34m.\u001b[0m\u001b[0m_maybe_define_function\u001b[0m\u001b[0;34m(\u001b[0m\u001b[0margs\u001b[0m\u001b[0;34m,\u001b[0m \u001b[0mkwargs\u001b[0m\u001b[0;34m)\u001b[0m\u001b[0;34m\u001b[0m\u001b[0;34m\u001b[0m\u001b[0m\n\u001b[0m\u001b[1;32m   2390\u001b[0m     \u001b[0;32mreturn\u001b[0m \u001b[0mgraph_function\u001b[0m\u001b[0;34m\u001b[0m\u001b[0;34m\u001b[0m\u001b[0m\n\u001b[1;32m   2391\u001b[0m \u001b[0;34m\u001b[0m\u001b[0m\n",
      "\u001b[0;32m~/anaconda3/lib/python3.7/site-packages/tensorflow_core/python/eager/function.py\u001b[0m in \u001b[0;36m_maybe_define_function\u001b[0;34m(self, args, kwargs)\u001b[0m\n\u001b[1;32m   2701\u001b[0m \u001b[0;34m\u001b[0m\u001b[0m\n\u001b[1;32m   2702\u001b[0m       \u001b[0mself\u001b[0m\u001b[0;34m.\u001b[0m\u001b[0m_function_cache\u001b[0m\u001b[0;34m.\u001b[0m\u001b[0mmissed\u001b[0m\u001b[0;34m.\u001b[0m\u001b[0madd\u001b[0m\u001b[0;34m(\u001b[0m\u001b[0mcall_context_key\u001b[0m\u001b[0;34m)\u001b[0m\u001b[0;34m\u001b[0m\u001b[0;34m\u001b[0m\u001b[0m\n\u001b[0;32m-> 2703\u001b[0;31m       \u001b[0mgraph_function\u001b[0m \u001b[0;34m=\u001b[0m \u001b[0mself\u001b[0m\u001b[0;34m.\u001b[0m\u001b[0m_create_graph_function\u001b[0m\u001b[0;34m(\u001b[0m\u001b[0margs\u001b[0m\u001b[0;34m,\u001b[0m \u001b[0mkwargs\u001b[0m\u001b[0;34m)\u001b[0m\u001b[0;34m\u001b[0m\u001b[0;34m\u001b[0m\u001b[0m\n\u001b[0m\u001b[1;32m   2704\u001b[0m       \u001b[0mself\u001b[0m\u001b[0;34m.\u001b[0m\u001b[0m_function_cache\u001b[0m\u001b[0;34m.\u001b[0m\u001b[0mprimary\u001b[0m\u001b[0;34m[\u001b[0m\u001b[0mcache_key\u001b[0m\u001b[0;34m]\u001b[0m \u001b[0;34m=\u001b[0m \u001b[0mgraph_function\u001b[0m\u001b[0;34m\u001b[0m\u001b[0;34m\u001b[0m\u001b[0m\n\u001b[1;32m   2705\u001b[0m       \u001b[0;32mreturn\u001b[0m \u001b[0mgraph_function\u001b[0m\u001b[0;34m,\u001b[0m \u001b[0margs\u001b[0m\u001b[0;34m,\u001b[0m \u001b[0mkwargs\u001b[0m\u001b[0;34m\u001b[0m\u001b[0;34m\u001b[0m\u001b[0m\n",
      "\u001b[0;32m~/anaconda3/lib/python3.7/site-packages/tensorflow_core/python/eager/function.py\u001b[0m in \u001b[0;36m_create_graph_function\u001b[0;34m(self, args, kwargs, override_flat_arg_shapes)\u001b[0m\n\u001b[1;32m   2597\u001b[0m         \u001b[0;31m# places (like Keras) where the FuncGraph lives longer than the\u001b[0m\u001b[0;34m\u001b[0m\u001b[0;34m\u001b[0m\u001b[0;34m\u001b[0m\u001b[0m\n\u001b[1;32m   2598\u001b[0m         \u001b[0;31m# ConcreteFunction.\u001b[0m\u001b[0;34m\u001b[0m\u001b[0;34m\u001b[0m\u001b[0;34m\u001b[0m\u001b[0m\n\u001b[0;32m-> 2599\u001b[0;31m         shared_func_graph=False)\n\u001b[0m\u001b[1;32m   2600\u001b[0m     \u001b[0;32mreturn\u001b[0m \u001b[0mgraph_function\u001b[0m\u001b[0;34m\u001b[0m\u001b[0;34m\u001b[0m\u001b[0m\n\u001b[1;32m   2601\u001b[0m \u001b[0;34m\u001b[0m\u001b[0m\n",
      "\u001b[0;32m~/anaconda3/lib/python3.7/site-packages/tensorflow_core/python/eager/function.py\u001b[0m in \u001b[0;36m__init__\u001b[0;34m(self, func_graph, attrs, signature, shared_func_graph)\u001b[0m\n\u001b[1;32m   1502\u001b[0m       \u001b[0mself\u001b[0m\u001b[0;34m.\u001b[0m\u001b[0m_garbage_collector\u001b[0m \u001b[0;34m=\u001b[0m \u001b[0;32mNone\u001b[0m\u001b[0;34m\u001b[0m\u001b[0;34m\u001b[0m\u001b[0m\n\u001b[1;32m   1503\u001b[0m     \u001b[0;32melse\u001b[0m\u001b[0;34m:\u001b[0m\u001b[0;34m\u001b[0m\u001b[0;34m\u001b[0m\u001b[0m\n\u001b[0;32m-> 1504\u001b[0;31m       \u001b[0mself\u001b[0m\u001b[0;34m.\u001b[0m\u001b[0m_garbage_collector\u001b[0m \u001b[0;34m=\u001b[0m \u001b[0mConcreteFunctionGarbageCollector\u001b[0m\u001b[0;34m(\u001b[0m\u001b[0mfunc_graph\u001b[0m\u001b[0;34m)\u001b[0m\u001b[0;34m\u001b[0m\u001b[0;34m\u001b[0m\u001b[0m\n\u001b[0m\u001b[1;32m   1505\u001b[0m \u001b[0;34m\u001b[0m\u001b[0m\n\u001b[1;32m   1506\u001b[0m     \u001b[0;31m# Pairs of forward and backward functions used for computing gradients.\u001b[0m\u001b[0;34m\u001b[0m\u001b[0;34m\u001b[0m\u001b[0;34m\u001b[0m\u001b[0m\n",
      "\u001b[0;32m~/anaconda3/lib/python3.7/site-packages/tensorflow_core/python/eager/function.py\u001b[0m in \u001b[0;36m__init__\u001b[0;34m(self, func_graph)\u001b[0m\n\u001b[1;32m   3251\u001b[0m \u001b[0;34m\u001b[0m\u001b[0m\n\u001b[1;32m   3252\u001b[0m   \u001b[0;32mdef\u001b[0m \u001b[0m__init__\u001b[0m\u001b[0;34m(\u001b[0m\u001b[0mself\u001b[0m\u001b[0;34m,\u001b[0m \u001b[0mfunc_graph\u001b[0m\u001b[0;34m)\u001b[0m\u001b[0;34m:\u001b[0m\u001b[0;34m\u001b[0m\u001b[0;34m\u001b[0m\u001b[0m\n\u001b[0;32m-> 3253\u001b[0;31m     \u001b[0mself\u001b[0m\u001b[0;34m.\u001b[0m\u001b[0m_func_graph\u001b[0m \u001b[0;34m=\u001b[0m \u001b[0mfunc_graph\u001b[0m\u001b[0;34m\u001b[0m\u001b[0;34m\u001b[0m\u001b[0m\n\u001b[0m\u001b[1;32m   3254\u001b[0m \u001b[0;34m\u001b[0m\u001b[0m\n\u001b[1;32m   3255\u001b[0m   \u001b[0;32mdef\u001b[0m \u001b[0mrelease\u001b[0m\u001b[0;34m(\u001b[0m\u001b[0mself\u001b[0m\u001b[0;34m)\u001b[0m\u001b[0;34m:\u001b[0m\u001b[0;34m\u001b[0m\u001b[0;34m\u001b[0m\u001b[0m\n",
      "\u001b[0;31mKeyboardInterrupt\u001b[0m: "
     ]
    }
   ],
   "source": [
    "# Begin using textgen module, choose character level as it seems to work better than word level\n",
    "\n",
    "textgen_5k2= textgenrnn()\n",
    "textgen_5k2.train_from_file('Data/unit_reg_drinks_2.txt', num_epochs=40, rnn_layers = 5, rnn_size = 128, rnn_bidirectional = True,\n",
    "                        max_length = 40, max_words = 10000, dim_embeddings = 100, word_level = False,\n",
    "                        train_size = 0.8, drop_out = 0.2, new_model=True, all_growth=True)"
   ]
  },
  {
   "cell_type": "markdown",
   "metadata": {},
   "source": [
    "# Build my own RNN"
   ]
  },
  {
   "cell_type": "code",
   "execution_count": 257,
   "metadata": {},
   "outputs": [],
   "source": [
    "from __future__ import absolute_import, division, print_function, unicode_literals\n",
    "\n",
    "import tensorflow as tf\n",
    "\n",
    "import numpy as np\n",
    "import os\n",
    "import time"
   ]
  },
  {
   "cell_type": "code",
   "execution_count": 67,
   "metadata": {
    "collapsed": true
   },
   "outputs": [
    {
     "ename": "NameError",
     "evalue": "name 'tf' is not defined",
     "output_type": "error",
     "traceback": [
      "\u001b[0;31m---------------------------------------------------------------------------\u001b[0m",
      "\u001b[0;31mNameError\u001b[0m                                 Traceback (most recent call last)",
      "\u001b[0;32m<ipython-input-67-270e2ec7ae41>\u001b[0m in \u001b[0;36m<module>\u001b[0;34m\u001b[0m\n\u001b[0;32m----> 1\u001b[0;31m \u001b[0mpath_to_file\u001b[0m \u001b[0;34m=\u001b[0m \u001b[0mtf\u001b[0m\u001b[0;34m.\u001b[0m\u001b[0mkeras\u001b[0m\u001b[0;34m.\u001b[0m\u001b[0mutils\u001b[0m\u001b[0;34m.\u001b[0m\u001b[0mget_file\u001b[0m\u001b[0;34m(\u001b[0m\u001b[0;34m'unit_reg_drinks_done.txt'\u001b[0m\u001b[0;34m,\u001b[0m \u001b[0;34m'Data/unit_reg_drinks_2.txt'\u001b[0m\u001b[0;34m)\u001b[0m\u001b[0;34m\u001b[0m\u001b[0;34m\u001b[0m\u001b[0m\n\u001b[0m",
      "\u001b[0;31mNameError\u001b[0m: name 'tf' is not defined"
     ]
    }
   ],
   "source": [
    "## Don't use\n",
    "\n",
    "path_to_file = tf.keras.utils.get_file('unit_reg_drinks_done.txt', 'Data/unit_reg_drinks_2.txt')"
   ]
  },
  {
   "cell_type": "code",
   "execution_count": 258,
   "metadata": {},
   "outputs": [],
   "source": [
    "## Use\n",
    "\n",
    "text = open('Data/sample_drink_set.txt', 'rb').read().decode(encoding='utf-8')"
   ]
  },
  {
   "cell_type": "code",
   "execution_count": 259,
   "metadata": {},
   "outputs": [
    {
     "data": {
      "text/plain": [
       "'O & Tonic,\"45.0 ml Bacardi(R) orange rum, 180.0 ml tonic water, 1 twist orange\"\\nMartini (Sweet),\"30.0 ml Gin, 30.0 ml Sweet Vermouth, 1 Olive\"\\nFar West,\"15 ml Brandy, 15 ml Advocaat, 15 ml Dry Vermouth, 1.0 ml Angostura bitters\"\\nPearl Harbor,\"30.0 ml vodka, 15.0 ml melon liqueur, 150.0 ml pineapple juice\"\\nPassion Zombie,\"30.0 ml gold rum, 30.0 ml Jamaican dark rum, 30.0 ml light rum, 30.0 ml 99 Bananas(R) banana schnapps, 15.0 ml 151 proof rum, 15.0 ml grenadine syrup, 15.0 ml lemon juice, 15.0 ml lime juice, 60.0 ml passion-fruit juice, 18.0 mlbrown sugar, 30.0 ml passion-fruit syrup\"\\nLittle Devil,\"30.0 ml dry gin, 30.0 ml rum, 15.0 ml triple sec, 15.0 ml lemon juice\"\\nThe Haggar,\"30.0 ml tequila, lemonade\"\\nIrish Cocktail,\"45.0 ml Irish whiskey, 15.0 ml Pernod(R) licorice liqueur, 1.0 ml maraschino liqueur, 15.0 ml White Curacao liqueur\"\\nPeach Brandy Julep,\"2 fresh mint, 15.0 ml Marie Brizard(R) peach liqueur, 2 sweet, ripe peach, 60.0 ml cognac\"\\nBust Your Black Nut,\"90.0 ml Mountain Dew(R) Pitch Black soda, 90.0 ml Pepsi(R) Slice soda, 120.0 ml Malibu(R) coconut rum\"\\nBuffalo\\'s Milk,\"30.0 ml vodka, 30.0 ml Kahlua(R) coffee liqueur, 30.0 ml creme de bananes, 45.0 ml dark creme de cacao, 45.0 ml milk\"\\nRising Skirt,\"15.0 ml Absolut(R) Mandrin vodka, 15.0 ml Smirnoff(R) vodka, 7.5 ml Cointreau(R) orange liqueur, 7.5 ml Midori(R) melon liqueur, 15.0 ml banana liqueur, 7.5 ml raspberry liqueur, 1 splash sweet and sour mix, 1 splash pineapple juice\"\\nBatida Summerday,\"0.5 glass crushed Ice, 40.0 ml Batida de Coco, 80.0 ml Pineapple juice, 20.0 ml Kirschwasser, 3.0 mles Grenadine\"\\n42 Flying Mules,\"30.0 ml 42 Below(R) vodka, 30.0 ml sake rice wine, 1.0 ml lemon juice, 120.0 ml ginger beer, 0.5  lime, 1 sliced cayenne pepper\"\\nSan Francisco Cocktail,\"22.5 ml Sweet Vermouth, 22.5 ml Dry Vermouth, 22.5 ml Sloe gin, 1.0 ml Orange bitters, 1.0 ml Bitters, 1 Cherry\"\\nRattlesnake Cocktail,\"45.0 ml Blended whiskey, 6.0 ml Lemon juice, 1.5 ml Anis, 3.0 ml Powdered sugar, 1 Egg white\"\\nWidow\\'s Kiss,\"30.0 ml Brandy, 15.0 ml Yellow Chartreuse, 15.0 ml Benedictine, 1.0 ml Bitters\"\\nQueerwig,\"60.0 ml milk, 60.0 ml beer, 30.0 ml gin, 30.0 ml peppermint schnapps, 60.0 ml Red Bull(R) energy drink\"\\nThe Dangerous Dave,\"180.0 ml Tequila, 240.0 ml Cream of coconut, 240.0 ml Pineapple juice\"\\nBlack Pagoda,\"45.0 ml Brandy, 15.0 ml Sweet Vermouth, 15.0 ml Dry Vermouth, 12.0 ml Triple sec\"\\nBetsy Clear,\"44.0 ml Vodka, 44.0 ml Peach schnapps, Fill with Sprite\"\\nVirgin Manhattan,\"60.0 ml Cranberry juice, 60.0 ml Orange juice, 3.0 ml Maraschino cherry juice, 1.5 ml Lemon juice, 1.5 ml Orange bitters\"\\nKey Lime Cosmo,\"45.0 ml vanilla vodka, 12.0 ml Cointreau(R) orange liqueur, 15.0 ml lime juice, 30.0 ml whipped cream, 15.0 ml cranberry juice\"\\nMexican Sunset #2,\"1180.0 ml Corona(R) lager, 150.0 ml orange juice\"\\nIn the Marketplace,\"60.0 ml anejo rum, 15.0 ml cream, 6.0 ml grenadine syrup, 12.0 ml lime juice\"\\nLa Vida Loca,\"105.0 ml Absolut(R) pepper vodka, 105.0 ml pineapple juice, 9.0 ml chili peppers\"\\nGrenamirodi,\"90.0 ml melon liqueur, 30.0 ml triple sec, 30.0 ml grenadine syrup, 60.0 ml sweet and sour mix\"\\nPeachy Screw,\"45.0 ml Absolut(R) vodka, 30.0 ml peach schnapps, 30.0 ml Malibu(R) coconut rum, 30.0 ml grenadine syrup, 45.0 ml sweet and sour mix, 45.0 ml orange juice\"\\nHalfway Special,\"150.0 ml Orange juice, 30.0 ml Absolut Citron, 30.0 ml Blackberry schnapps (Blackhaus), 30.0 ml Malibu rum, 2.0 mles Grenadine\"\\nCranberry Caipirinha,\"75.0 ml aquavit, 18.0 ml sugar, 18.0 ml water, 2  lime, 10 fresh, chopped cranberry\"\\nDelilah,\"45.0 ml Gin (Bombay Sapphire), 15.0 ml Cointreau, Juice of 0.5 Lemon\"\\nNightwalker,\"30.0 ml amarula cream liqueur, 12.0 ml instant coffee, 350 mlwhole milk, 200 ml vanilla ice cream, 10 mlboiling water\"\\nFair and Warmer Cocktail,\"45.0 ml white rum, 22.5 ml sweet vermouth, 3.0 ml triple sec\"\\nOld 7\\'s,\"15.0 ml Captain Morgan(R) Original spiced rum, 60.0 ml 7-Up(R) soda\"\\nCranberry Apple Martini,\"45.0 ml Cranberry vodka (Finlandia), 22.5 ml Sour apple liqueur, 15.0 ml Cranberry juice\"\\nPunch In The Pants,\"30.0 ml Bacardi(R) orange rum, 30.0 ml Bacardi(R) Limon rum, 1 splash triple sec, 1 splash sweet and sour mix, 90.0 ml orange soda\"\\nPrincess Pousse Cafe,\"22.5 ml apricot brandy, 9.0 ml light cream\"\\nCanadian Splash,\"30.0 ml Smirnoff(R) Green Apple Twist vodka, 60.0 ml orange juice\"\\nHawaiian Screw #2,\"30.0 ml vodka, 15.0 ml triple sec, fill with 0.5 pineapple juice, fill with 0.5 orange juice\"\\nFretful Martini,\"90.0 ml gin, 15.0 ml Blue Curacao liqueur, 1.0 ml Angostura(R) bitters\"\\nLiquid Electroshock,\"45.0 ml Grey Goose(R) vodka, 15.0 ml cranberry juice, 15.0 mlnatural cherry juice, 30.0 mlfresh orange juice\"\\nCoco Cabana,\"40.0 ml Batida de Coco, 20.0 ml White rum, 80.0 ml Pineapple juice\"\\nOrange Kiss,\"40.0 ml Vodka, 40.0 ml Cinzano Orancio, 5.50.0 ml Sprite\"\\nMary\\'s Delight,\"45.0 ml sweet vermouth, 30.0 ml brandy, 1.0 ml orange bitters\"\\nIrish Rose,\"30.0 ml Tequila Rose(R) strawberry cream liqueur, 30.0 ml Bailey\\'s(R) Irish cream, 30.0 ml brown creme de cacao\"\\nOrange County Crush,\"60.0 ml Ketel One(R) vodka, 60.0 ml Malibu(R) passion fruit rum, 105.0 ml V8 Splash Tropical Blend, 45.0 ml Sierra Mist(R) soda\"\\nFly Swatter,\"30.0 ml cognac, 30.0 ml Scotch whisky, 6.0 ml raki liqueur, 90.0 ml mandarin juice, 60.0 ml pineapple juice\"\\nDeep Blue,\"30.0 ml Vodka (Absolut), 10.0 ml Blue Curacao (Bols), 20.0 ml Champagne, 1 blue Maraschino cherry\"\\nCaptain\\'s Spiced Cider,\"60.0 ml Spiced rum (Captain Morgan\\'s), 300.0 ml Apple cider, Ice (optional)\"\\nJimPop\\'s Margarita,\"60.0 ml Tequila, 30.0 ml Lime juice, 22.5 ml Grand Marnier, Salt\"\\nBlue Fizz,\"15.0 ml Blue Curacao liqueur, 60.0 ml gin, 90.0 ml club soda, 15.0 ml lemon juice, 12.0 ml sugar\"\\nPaul\\'s Manhattan,\"60.0 ml rye whiskey, 15.0 ml Dubonnet(R) Blanc vermouth, 15.0 ml extra dry vermouth, 1.0 ml maraschino syrup\"\\nClass Act,\"30.0 ml Advocaat, 15.0 ml Malibu rum, 1 splash Southern Comfort, 60.0 ml Pineapple juice\"\\nElectric Lizard,\"30.0 ml vodka, 30.0 ml Midori(R) melon liqueur, 120.0 ml sweet and sour mix\"\\nPoison Sumac,\"60.0 ml vodka, 60.0 ml orange juice, 60.0 ml Blue Curacao liqueur\"\\nLeave-It-To-Me Cocktail,\"45.0 ml Gin, 6.0 ml Raspberry syrup, 6.0 ml Lemon juice, 1.5 ml Maraschino liqueur\"\\nLemon Rum,\"90.0 ml coconut rum, 180.0 ml lemonade\"\\nAbsolute southern Dr. Pepper,\"60.0 ml Absolut(R) vanilla vodka, 60.0 ml Southern Comfort(R) peach liqueur, 4 - 180.0 ml Dr. Pepper(R) soda\"\\nPixie Stix,\"60.0 ml Southern Comfort, 30.0 ml Amaretto, Ice, Fill with Sweet and sour mix, 1 splash Sprite, 18.0 ml Grenadine, Maraschino cherry\"\\nKiller Rita,\"60.0 ml Whaler\\'s(R) Killer Coconut rum, 30.0 ml triple sec, 30.0 ml pineapple juice, 15.0 ml coconut milk\"\\nYellow Sock,\"20.0 ml Vodka (Smirnoff), 20.0 ml Pisang Ambon, Fill with Orange juice\"\\nPeppermint Beach,\"45.0 ml Peppermint schnapps, 45.0 ml Malibu rum\"\\nBunueloni,\"30.0 ml Punt e Mes red vermouth, 30.0 ml bianco vermouth, 22.5 ml gin, 1 twist lemon, 1 twist orange\"\\nRhode Island Ice Coffee,\"30.0 ml Kahlua(R) coffee liqueur, 30.0 ml vodka, 15.0 ml brandy, 60.0 ml cream\"\\n\"Dirty, Dirty\",\"60.0 ml Grey Goose(R) vodka, 1 splash olive juice, 2 garlic stuffed olives\"\\nDrug Test Specimen,\"30.0 ml light rum, 90.0 ml apple schnapps, 30.0 ml DeKuyper(R) Sour Apple Pucker schnapps, 1 splash sweet and sour mix, 1 drop DeKuyper(R) Hot Damn cinnamon schnapps\"\\nA Kissed Buttery Nipple,\"30.0 ml amaretto almond liqueur, 60.0 ml Bailey\\'s(R) Irish cream, 60.0 ml butterscotch schnapps, 2  maraschino cherries\"\\nGreat Idea,\"75.0 ml Champagne, 30.0 ml pineapple juice, 30.0 ml mandarin juice, 9.0 ml maple syrup\"\\nTouch of Zam,\"30.0 ml Glayva(R) Scotch liqueur, 15.0 ml benedictine herbal liqueur, 15.0 ml sambuca, 45.0 ml orange juice, 9.0 ml sugar syrup, 6.0 ml lemon juice\"\\nMary Elizabeth Wagoner,\"30.0 ml vodka, 15.0 ml Bacardi(R) 151 rum, 15.0 ml Everclear(R) alcohol, 30.0 ml sweet and sour mix, 15.0 ml lime juice\"\\nSt. Charles Punch,\"30.0 ml Brandy, 15.0 ml Triple sec, 90.0 ml Port, Juice of 1 Lemon, 6.0 ml Sugar, 1 slice Lemon\"\\nIsland Delight,\"30.0 ml cherry vodka, 15.0 ml white rum, 15.0 ml dark rum, 54.0 ml vanilla ice cream, 30.0 ml whipped cream, 6.0 ml grenadine syrup\"\\nMai Tai #5,\"45.0 ml dark rum, 45.0 ml white rum, 22.5 ml triple sec, 15.0 ml orange juice, 15.0 ml lemon juice, 7.5 ml lime juice, 60.0 ml pineapple juice, 6.0 ml sugar\"\\nBull Shot #2,\"1 Beef bouillon Cube, 60.0 ml Vodka, 1.0 ml Tabasco sauce, 120.0 ml boiling Water\"\\n.50 Caliber,\"60.0 ml Jack Daniel\\'s(R) Tennessee whiskey, 60.0 ml Jim Beam(R) bourbon whiskey, 60.0 ml dry gin, 60.0 ml Absolut(R) vodka, 30.0 ml Squirt(R) citrus soda\"\\nPolo Cocktail,\"30.0 ml Gin, 18.0 ml Lemon juice, 18.0 ml Orange juice\"\\nFrozen Dreamsicle,\"120.0 ml orange juice, 30.0 ml amaretto almond liqueur, 7.5 ml grenadine syrup, 2 scoops ice, 1 scoop(large) vanilla ice cream\"\\nBecky\\'s Nectar,\"15.0 ml Malibu(R) coconut rum, 15.0 ml Stoli(R) Razberi vodka, 1 splash cranberry juice, 1 splash pineapple juice, 90.0 ml Sprite(R) soda\"\\nMarjito,\"45.0 ml lemon vodka, 9.0 ml sugar, 18.0 mlfresh lemon juice, club soda, 3 sprigs fresh mint, 36.0 ml simple syrup\"\\nMainbrace,\"30.0 ml gin, 30.0 ml Cointreau(R) orange liqueur, 30.0 ml grapefruit juice\"\\nTanyahtoo,\"15.0 ml Malibu rum, 15.0 ml Midori melon liqueur, 15.0 ml Frangelico, 15.0 ml Kahlua, 15.0 ml Bailey\\'s irish cream, 30.0 ml Cream, Milk\"\\nGingervitas,\"44.0 ml Absolut Citron, 44.0 ml Dry Vermouth, 132.0 mls Ginger ale, Ice cubes\"\\nMendolsohn,\"90.0 ml Malibu(R) mango rum, 60.0 ml Coca-Cola(R), 90.0 ml Smirnoff(R) Ice Triple Black\"\\nPink Goody,\"30.0 ml gin, 30.0 ml Bacardi(R) gold rum, 30.0 ml lime juice, 1.0 ml maraschino liqueur, 1 splash soda water\"\\nVendome,\"30.0 ml Dubonnet(R) Rouge vermouth, 30.0 ml gin, 30.0 ml dry vermouth\"\\nOrange Martini,\"90.0 ml vodka, 15.0 ml triple sec, 1.0 ml orange bitters\"\\nJohnny on the Spot,\"30.0 ml Crown Royal(R) Canadian whisky, 15.0 ml amaretto almond liqueur, 15.0 ml peach schnapps, 160.0 ml pineapple juice\"\\nChocolate Squirrel,\"22.5 ml amaretto almond liqueur, 22.5 ml Frangelico(R) hazelnut liqueur, 22.5 ml brown creme de cacao, 22.5 ml cream\"\\nPaisano,\"15.0 ml Vodka, 15.0 ml Frangelico, Milk\"\\nHeart Warmer,\"30.0 ml vodka, 45.0 ml Kahlua(R) coffee liqueur, 15.0 ml vanilla extract, 90.0 ml milk\"\\nCadillac Margarita,\"45.0 ml Tequila, 90.0 ml Sweet and sour, 22.5 ml Triple sec, 22.5 ml Lime juice, Float Grand Marnier\"\\nFairie Festival DoDo\\'s,\"30.0 ml gin, 30.0 ml Blue Curacao liqueur, 30.0 ml grapefruit juice, 30.0 ml sweet and sour mix\"\\nSherry Eggnog,\"60.0 ml cream Sherry, 6.0 ml Powdered sugar, 1 whole Egg, Milk, Nutmeg\"\\nBanana Creame,\"60.0 ml Bailey\\'s(R) Irish cream, 60.0 ml Kahlua(R) coffee liqueur, 120.0 ml banana liqueur, 2  bananas, 960.0 ml ice\"\\nOsaka Dry,\"90.0 ml vodka, 15.0 ml sake rice wine\"\\nT.L.C.,\"45.0 ml blended whiskey, 15.0 ml Cointreau(R) orange liqueur, 6.0 ml Ricard(R) pastis, 6.0 ml Dubonnet(R) Rouge vermouth, 1.0 ml bitters\"\\nThe Ringo,\"180.0 ml Coca-Cola, 60.0 ml Sloe gin, 60.0 ml Malibu rum, 30.0 ml Brandy, 1 splash Grenadine, 4 cubes Ice\"\\nRiley\\'s Sparrow,\"45.0 ml Dark rum, 15.0 ml Southern Comfort, 2.0 mles Bitters\"\\nOn the Square,\"30.0 ml apricot brandy, 15.0 ml gin, 15.0 ml Calvados(R) brandy\"\\nKaytee Cocktail,\"45.0 ml dry vermouth, 30.0 ml dry sherry, 3.0 ml Pernod(R) licorice liqueur\"\\nPerroquet,\"45.0 ml Pernod, 1.0 ml Mint syrup, Water\"\\nOrange Tic Tac,\"30.0 ml Bacardi(R) O rum, 180.0 ml Red Bull(R) energy drink\"\\nAbsolut Trouble,\"45.0 ml Absolut(R) Citron vodka, 30.0 ml Grand Marnier(R) orange liqueur, 15.0 ml grenadine syrup, 30.0 ml orange juice\"\\nH-Bomb Cocktail,\"30.0 ml vodka, 30.0 ml tequila, 30.0 ml rum, 30.0 ml gin, 30.0 ml triple sec, 45.0 ml sweet and sour mix, 30.0 ml Hpnotiq(R) liqueur\"\\nDaiquiri Liberal,\"30.0 ml white rum, 15.0 ml sweet vermouth, 1.0 ml Amer Picon(R) orange bitters\"\\nSmoochie Smoochie Blue,\"60.0 ml 99 Blackberries(R) blackberry schnapps, 1 splash Sprite(R) soda, 270.0 ml Gatorade(R) Glacier Freeze energy drink\"\\nFrench Russchian,\"40.0 ml Anisette, 3 cubes Ice, Fill with Schweppes Russchian\"\\nBrainwave,\"15.0 ml 151 proof rum, 30.0 ml amaretto almond liqueur, 7.5 ml Bailey\\'s(R) Irish cream\"\\nApricot Tree,\"30.0 ml apricot brandy, 30.0 ml Rum Tree(R) liqueur, 15.0 ml dry vermouth, 30.0 ml apricot juice, 30.0 ml pineapple juice\"\\nPoor Man\\'s Martini,\"90.0 ml vodka, Coca-Cola(R)\"\\n1800 Pomegranate Breeze,\"30.0 ml 1800(R) Silver Tequila, 30.0 ml pomegranate juice, 15.0 ml pineapple juice, 15.0 ml acai juice, 15.0 mlfresh lime juice\"\\nBitter Apples,\"11 drops Aftershock(R) Hot & Cool cinnamon schnapps, 30.0 ml gin, 7.5 ml Jagermeister(R) herbal liqueur, 30.0 ml DeKuyper(R) Sour Apple Pucker schnapps\"\\nVan Nuys (aka Dirty Margarita),\"45.0 ml tequila, 22.5 ml triple sec, 22.5 ml sweet and sour mix, 22.5 ml Kahlua(R) coffee liqueur\"\\nTropical Suicide,\"30.0 ml Bacardi(R) Superior rum, 60.0 ml Malibu(R) coconut rum, 15.0 ml Jose Cuervo(R) Especial gold tequila, 120.0 ml pineapple juice, 120.0 ml cranberry juice, 120.0 ml orange juice\"\\nMandeville-Polar,\"30.0 ml dark rum, 15.0 ml white rum, 6.0 ml Pernod(R) licorice liqueur, 15.0 ml lemon juice, 6.0 ml grenadine syrup, 100 ml Coca-Cola(R)\"\\nPort Aransas,\"60.0 ml Malibu(R) coconut rum, 1 can Coca-Cola(R), 22.5 mlfresh lemon juice\"\\nStandard Cream,\"15.0 ml oz white Creme de Cacao, 15.0 ml Godiva liqueur, 15.0 ml Creme de Banane, 45.0 ml Half-and-half\"\\nVelvet Hammer #2,\"18.0 ml Creme de Cacao, 45.0 ml Vodka, 36.0 ml Cream, 0.5 Banana, Sugar to taste\"\\nDelhis Devils,\"1.0 ml lemon juice, 45 ml dark rum, 15 ml Kahlua(R) coffee liqueur\"\\nComfortable Fuzzy Screw,\"45.0 ml vodka, 45.0 ml Southern Comfort(R) peach liqueur, 45.0 ml peach schnapps, 5 15.0 ml orange juice\"\\nLatin Lover,\"22.5 ml tequila, 22.5 ml Sagatiba Pura, 1.25 - 60.0 ml pineapple juice, 22.5 ml Rose\\'s(R) lime juice, 0.25 - 22.5 ml lemon juice\"\\nGrape Martini,\"60.0 ml Three Olives(R) grape vodka, 1 splash 7-Up(R) soda\"\\nAntoines Tarred Image,\"30.0 ml sweet vermouth, 15.0 ml Blavod(R) vodka, 15.0 ml Chambord(R) raspberry liqueur, 30.0 ml Mozart(R) chocolate liqueur\"\\nRoot Canal,\"7.5 ml Peppermint schnapps, 60.0 ml Root beer schnapps, Fill with Dr. Pepper or rootbeer\"\\nHennessy Alexander,\"30.0 ml Hennessy(R) cognac, 30.0 ml white creme de cacao, 30.0 ml cream, 1.0 ml nutmeg\"\\nFriski,\"60.0 ml Crown Royal(R) Canadian whisky, 180.0 ml Fresca(R) citrus soda\"\\nComfortable Melons,\"30.0 ml Midori(R) melon liqueur, 30.0 ml Southern Comfort(R) peach liqueur, 120.0 ml Sprite(R) soda\"\\nKashmeister,\"60.0 ml Jagermeister(R) herbal liqueur, 120.0 ml Ocean Spray(R) cranberry juice\"\\nDiamond Fizz,\"60.0 ml Gin, Juice of 0.5 Lemon, 6.0 ml Powdered sugar, Chilled Champagne\"\\nSouthampton,\"Tonic water, Squeeze of Lime, 3.0 mles Angostura bitters, Ice\"\\nGulyuz,\"60.0 ml Light rum (Bacardi), 30.0 ml Safari, 20.0 ml Blue Curacao, Fill with Pineapple juice\"\\nGin Lollipop,\"30.0 ml gin, 30.0 ml Southern Comfort(R) peach liqueur, 150.0 ml orange juice, 30.0 mlsparkling mineral water\"\\nDiamond\\'s Tweaked Cosmopolitan...,\"45.0 mlgood vodka, 45.0 ml raspberry liqueur, 90.0 ml100% cranberry juice, 2.5 squeezesfresh oranges\"\\nLimon Spritzer,\"75.0 ml Bacardi(R) Limon rum, 160.0 mlchilled can Sprite(R) soda\"\\nFox Trot,\"45.0 ml Light rum, 15.0 ml Lemon juice, 2.5 mles Curacao\"\\nThe Drunk Smurf,\"30.0 ml Galliano(R) herbal liqueur, 60.0 ml Red Bull(R) energy drink, 60.0 ml orange juice\"\\nPinto Bomb,\"30.0 ml vodka, 160.0 ml beer\"\\nDevil\\'s Advocate,\"44.0 ml Bacardi Limon, 44.0 ml Triple sec, 22.5 ml Sour mix, 18.0 ml Grenadine, 120.0 ml Cranberry juice\"\\nBurnt Toasted Almond,\"15.0 ml vodka, 22.5 ml Kahlua(R) coffee liqueur, 22.5 ml amaretto almond liqueur, 60.0 ml half-and-half\"\\nRamcooler,\"37.5 ml White rum (Bacardi), 15.0 ml Galliano, 60.0 ml Lime juice, Crushed Ice\"\\nCrime Loyal,\"30.0 ml Crown Royal(R) Canadian whisky, 5.150.0 ml limeade\"\\nHigh Rise,\"30.0 ml vodka, 7.5 ml Cointreau(R) orange liqueur, 60.0 ml orange juice, 30.0 ml sweet and sour mix, 7.5 ml grenadine syrup\"\\nIced Jim,\"90.0 ml Jim Beam(R) bourbon whiskey, 160.0 mlcan Nestea(R) iced tea\"\\nQuick Fix,\"90.0 ml Canadian Club(R) whisky, 30.0 ml cherry whiskey, 240.0 ml 7-Up(R) soda\"\\nMuch Fuss for the Conquering Hero,\"30.0 ml sweet vermouth, 22.5 ml Applejack(R) brandy, 12.0 ml apricot brandy, 6.0 ml pineapple juice, 6.0 ml lemon juice, 2.0 mles orange bitters\"\\nJuniata Juice,\"160.0 ml Beer, 44.0 ml Rum, 36.0 ml frozen Lime juice concentrate\"\\nLeah\\'s Last Hope #2,\"30.0 ml Vodka, 60.0 ml Kahlua, 30.0 ml Amaretto, 180.0 ml Chocolate milk\"\\nChampagne Cornucopia,\"30.0 ml vodka, 22.5 ml peach schnapps, 30.0 ml Champagne, 2 scoops rainbow sherbert, 30.0 ml cranberry juice\"\\nJamaican Crawler,\"30.0 ml white rum, 30.0 ml melon liqueur, 90.0 ml pineapple juice, 1 splash grenadine syrup\"\\nApple Buck,\"75.0 ml apple brandy, 3 15.0 ml ginger ale, juice of 0.25 lemons\"\\nIrish Milk Punch,\"60.0 ml Bailey\\'s(R) Irish cream, 22.5 ml Irish whiskey, 180.0 mlhot milk\"\\nO & Cranberry,\"45.0 ml Bacardi(R) orange rum, 150.0 ml cranberry juice, 1  orange\"\\nPurple People Drinker,\"60.0 ml Three Olives(R) vodka, 30.0 ml DeKuyper(R) Island Blue Pucker schnapps, 30.0 ml DeKuyper(R) Raspberry Pucker schnapps, 90.0 ml cranberry juice\"\\nSlippery Box,\"45.0 ml Absolut Citron, 45.0 ml Southern Comfort, 45.0 ml Everclear, Fill with Purplesaurus-Rex Kool-Aid\"\\nElectric Marcucci,\"60.0 ml Whiskey, 180.0 ml Sprite, 60.0 ml Blue Curacao, 30.0 ml Melon liqueur\"\\nGrape Beam,\"75.0 ml Jim Beam(R) bourbon whiskey, 240.0 ml grape soda\"\\nBanff Cocktail,\"60.0 ml Canadian whisky, 15.0 ml Grand Marnier(R) orange liqueur, 15.0 ml Kirschwasser(R) cherry brandy, 1.0 ml Angostura(R) bitters\"\\nFlash Gordon,\"50.0 ml dry Gin (Gordon\\'s), 50.0 ml Bitter lemon (Shweppes), 50.0 ml Sprite, Ice cubes, 1 slice Lime\"\\nBargo,\"90.0 ml root beer, 120.0 ml brandy, 120.0 ml vodka, 1 splash red wine\"\\nBlunt Ash,\"75.0 ml vodka, 30.0 ml 99 Apples(R) apple schnapps, 90.0 ml banana liqueur, 2 qt Tropicana(R) Twister watermelon-strawberry juice, 120.0 ml Kool-Aid(R) Cherry mix\"\\nSummer Martini,\"Absolut Citron, 1 splash Sweet and sour\"\\nRasta\\'s Revenge,\"30.0 ml gin, 15.0 ml dark rum, 15.0 ml ruby port, 15.0 ml orange juice, 15.0 ml lime juice, 3.0 ml superfine sugar\"\\nFrozen Passion Margarita,\"22.5 ml Alize(R) Gold Passion liqueur, 22.5 ml tequila, 22.5 ml triple sec, 30.0 mlfresh lime juice, 45.0 ml simple syrup, 180.0 ml cracked ice\"\\nButch Beer,\"354.75 ml beer, 118.25 ml Stoli(R) Ohranj vodka\"\\nDelta Cocktail,\"60.0 ml Scotch whisky, 15.0 ml Southern Comfort(R) peach liqueur, 15.0 mlfresh lime juice, 6.0 ml superfine sugar\"\\nPineapple Bomber #2,\"30.0 ml Southern Comfort(R) peach liqueur, 30.0 ml amaretto almond liqueur, 30.0 ml Captain Morgan(R) Original spiced rum, 180.0 ml pineapple juice\"\\nPirate Flag,\"30.0 ml Captain Morgan(R) spiced rum, 30.0 ml Midori(R) melon liqueur, 30.0 ml Chambord(R) raspberry liqueur, 180.0 ml Hawaiian Punch(R), 4 - 180.0 ml 7-Up(R) soda, ice\"\\nGoat Herder,\"30.0 ml brandy, 15.0 ml cherry brandy, 15.0 ml Kirschwasser(R) cherry brandy, 6.0 ml amaretto almond liqueur, 30.0 ml double cream\"\\nMa Wee Hen,\"45.0 ml Scotch, 15.0 ml dry Sherry, 15.0 ml Orange juice, 15.0 ml Lemon juice, 6.0 ml Grenadine\"\\nChocolate Gatail,\"30.0 ml dark creme de cacao, 30.0 ml Bailey\\'s(R) Irish cream, 22.5 ml cherry brandy, 9.0 ml dark rum, 15.0 ml whipping cream\"\\nBlue Mother,\"15.0 ml gin, 15.0 ml orange vodka, 15.0 ml light rum, 30.0 ml DeKuyper(R) Raspberry Pucker schnapps, 15.0 ml Grand Marnier(R) orange liqueur, 130.0 ml 7-Up(R) soda, 3 splashes limeade\"\\nHot Anal Sex,\"15.0 ml brown creme de cacao, 15.0 ml Frangelico(R) hazelnut liqueur, 60.0 ml cranberry juice\"\\nItalian Surfer,\"Ice, 2 parts Pineapple juice, 1 part Amaretto, 1 part Malibu rum\"\\nPierce Clit,\"15.0 ml watermelon schnapps, 15.0 ml peach schnapps, 15.0 ml DeKuyper(R) Sour Apple Pucker schnapps, 15.0 ml DeKuyper(R) Buttershots liqueur, 15.0 ml cranberry juice, 15.0 ml pineapple juice\"\\nBrown Cocktail,\"22.5 ml Light rum, 22.5 ml Gin, 22.5 ml Dry Vermouth\"\\nCold Chocolate,\"2  Crown Royal(R) Canadian whisky, 2  chocolate ice cream, 3  Oreo Chocolate Cookies, 4  milk, 240.0 ml Hershey\\'s(R) chocolate syrup, whipped cream, ice\"\\nJ. R.\\'s Revenge,\"90.0 ml Bourbon, 15.0 ml Southern Comfort, 2.0 mles Bitters\"\\nCancun Rum Runner,\"30.0 ml Bacardi(R) 151 rum, 22.5 ml Jose Cuervo(R) Especial gold tequila, 30.0 ml Captain Morgan(R) Original spiced rum, 30.0 ml Captain Morgan(R) Silver spiced rum, 1.0 ml grenadine syrup, 30.0 ml orange juice, 30.0 ml pineapple juice, 30.0 ml banana liqueur\"\\nRay-Ray,\"30.0 ml peach schnapps, 30.0 ml Alize(R) Red Passion liqueur, 30.0 ml Bacardi(R) 151 rum, 45.0 ml pineapple juice, 45.0 ml cranberry juice, 4 drops grenadine syrup\"\\nOhranj Juice,\"45.0 ml Stoli(R) Ohranj vodka, 7.5 ml peach schnapps, 7.5 ml cranberry juice\"\\nCherry Spitfire,\"60.0 ml Light rum (Bacardi), 60.0 ml Tequila, 60.0 ml Peach schnapps, 60.0 ml Triple sec, Grenadine, Top with 151 proof rum\"\\nPuerto Aventuras Cocktail,\"60.0 ml dark rum, 60.0 ml peach liqueur, 60.0 ml coconut cream, 60.0 ml pineapple juice, 30.0 ml grenadine syrup\"\\nMulatto Russian,\"60.0 ml vodka, 30.0 ml coffee liqueur, 75.0 ml light cream, 9.0 ml chocolate syrup\"\\nPeach Puff Martini,\"60.0 ml Smirnoff(R) Raspberry Twist vodka, 60.0 ml DeKuyper(R) Sour Peach Pucker schnapps, 1.0 ml lemon-lime soda, 1  maraschino cherry\"\\nRendezvous Martini,\"30.0 ml Soho(R) lychee liqueur, 30.0 ml Stolichnaya(R) raspberry vodka, 45.0 ml pineapple juice, 45.0 ml cranberry juice, 1.0 ml grenadine syrup\"\\nSlushy,\"60.0 ml White rum (Bacardi), 45.0 ml Blue Curacao, 30.0 ml Razzmatazz, 120.0 ml Pineapple juice\"\\nMahwah Iced Tea,\"22.0 ml Jim Beam Bourbon, 22.0 ml Southern Comfort, Fill With Iced tea, Add 2 Ice Cubes\"\\nA Gilligan\\'s Island,\"30.0 ml Vodka, 30.0 ml Peach schnapps, 90.0 ml Orange juice, 90.0 ml Cranberry juice\"\\nMike\\'s Long Beach,\"15.0 ml Smirnoff(R) vodka, 15.0 ml Tanqueray(R) gin, 15.0 ml Bacardi(R) light rum, 15.0 ml Jose Cuervo(R) 1800 tequila, 15.0 ml simple syrup, 15.0 ml triple sec, 15.0 ml lime juice, 60.0 ml cranberry juice, 60.0 ml Sprite(R) soda\"\\nDavey Crockett,\"30.0 ml peach schnapps, 30.0 ml Blue Curacao liqueur, 180.0 ml orange juice\"\\nThe Drink,\"30.0 ml dry Sherry, 90.0 ml dry Gin (Boodles), 2.5 handfuls Ice cubes\"\\nPep Up,\"30.0 ml peppermint schnapps, 150.0 ml 7-Up(R) soda\"\\nBrandy Eggnog,\"45.0 ml brandy, 7.5 ml tawny port, 3 15.0 ml milk, 22.5 ml cream, 7.5 ml sugar syrup, 1  egg, nutmeg\"\\nPurple Cocktail,\"30.0 ml Southern Comfort(R) peach liqueur, 30.0 ml Blue Curacao liqueur, 30.0 ml blueberry liqueur, 30.0 ml sloe gin, 1 splash lime juice, 1 splash sweet and sour mix, 1 splash 7-Up(R) soda\"\\nThirsty Marine,\"120.0 ml Red Bull(R) energy drink, 7.5 ml Absolut(R) vodka, 7.5 ml triple sec, 15.0 ml Jagermeister(R) herbal liqueur, 15.0 ml peach schnapps, 15.0 ml100 proof Southern Comfort(R) peach liqueur, 60.0 ml orange juice\"\\nEntwistle\\'s Error,\"60.0 ml Dark rum, 15.0 ml Lemon juice, 120.0 ml Tonic water\"\\nDr. Fire,\"45.0 ml Bacardi(R) 151 rum, 120.0 ml Dr. Pepper(R) soda\"\\nFrosted Apple,\"30.0 ml vodka, 30.0 ml DeKuyper(R) Sour Apple Pucker schnapps, 180.0 ml Squirt(R) citrus soda\"\\nNewtron Bomb,\"45.0 ml Jagermeister(R) herbal liqueur, ginger ale\"\\nApricot Kiss,\"60.0 ml apricot brandy, 30.0 ml Scotch whisky, 15.0 ml sweet vermouth\"\\nKameleon,\"30.0 ml 151 proof rum, 15.0 ml Blue Curacao, 90.0 ml Pineapple juice, 60.0 ml Orange juice, 9.0 ml Pimm\\'s No. 1\"\\nJim\\'s Wild Cherries,\"30.0 ml Jim Beam(R) bourbon whiskey, 30.0 ml Wild Turkey(R) bourbon whiskey, 160.0 ml cherry cola\"\\nHomicidal Maniac,\"60.0 ml vodka, 60.0 ml peach schnapps, 60.0 ml cranberry-apple juice\"\\nReindeer\\'s Tear,\"30.0 ml Finlandia(R) vodka, 30.0 ml Curacao orange liqueur, 30.0 ml lemon juice\"\\nOjen Cocktail,\"60.0 ml ojen anise liqueur, 1.0 ml Peychaud(R) bitters, 6.0 ml sugar, 15.0 ml water\"\\nMaple Lake Irish Shock,\"132.0 mls Aftershock, 88.0 mls Cinnamon schnapps (Hot 100), 480.0 ml Apple cider, 44.0 ml Sour Apple Pucker, 1 stick Cinnamon\"\\nSloe Comfortable Screw Against The Wall With Satin Pillows The,\"15.0 ml Sloe gin, 15.0 ml Southern Comfort, 15.0 ml Galliano, 15.0 ml Frangelico, 15.0 ml Whiskey, Fill with Orange juice\"\\nCoconut Cola,\"45.0 ml coconut rum, 4 15.0 ml cola\"\\nBlack Death Wish,\"30.0 ml 151 proof rum, 30.0 ml Rumple Minze(R) peppermint liqueur\"\\nCotton Candy #4,\"60.0 ml Malibu(R) coconut rum, 30.0 ml peach schnapps, pink lemonade\"\\nBitchin Orange,\"120.0 ml amaretto almond liqueur, 60.0 ml sweet and sour mix, 75.0 ml Stewart\\'s(R) Orange \\'n Cream soda, 1 splash grenadine syrup\"\\nPhuck Suck,\"60.0 ml light rum, 15.0 ml lime juice, 105.0 ml cranberry juice, 1 splash grenadine syrup\"\\nVicious Sid,\"45.0 ml Light rum, 15.0 ml Southern Comfort, 15.0 ml Triple sec, 30.0 ml Lemon juice, 1.0 ml Bitters\"\\nPeach Passion,\"30.0 ml Peachtree schnapps, 30.0 ml Triple sec, 30.0 ml Vodka, Pink lemonade, Ice cubes\"\\nPurple Goddess,\"90.0 ml DeKuyper(R) Island Blue Pucker schnapps, 90.0 ml Smirnoff(R) vodka, 45.0 ml raspberry schnapps, fill with 7-Up(R) soda\"\\nFrench Flamingo,\"30.0 ml Absolut(R) Kurant vodka, 30.0 ml Cointreau(R) orange liqueur, 22.5 mlfresh lime juice, 22.5 mlfresh pomegranate juice\"\\nBankers Doom,\"44.0 ml Midori melon liqueur, 22.0 ml Whisky, 22.0 ml Vodka, Crushed Ice, Fill with Soda water\"\\nGin and Bitters,\"3.0 ml bitters, gin\"\\nPassion Cocktail,\"45.0 ml coconut rum, 45.0 ml white rum, 180.0 mlcold sweet and sour mix, 180.0 mlcold pineapple juice, 1 splashcold Sprite(R) soda, 6.0 ml sugar\"\\nAbsolut Sunrise,\"45.0 ml Absolut(R) Apeach vodka, 1 splash grenadine syrup, 4 15.0 ml orange juice\"\\nTropical Lust,\"Ice, 45.0 ml Sloe gin, 30.0 ml Vodka (Absolut), Fill with Pineapple juice, 15.0 ml Southern Comfort, 15.0 ml Midori melon liqueur\"\\nPurple Rain,\"45.0 ml gin, cranberry juice, 1 splash Blue Curacao liqueur, 1 splash sweet and sour mix, 1 splash soda water\"\\nFoaming Pepsi,\"1 can Pepsi(R) cola, 1 bottle Canadian whisky, 54.0 ml milk\"\\nBeauty On The Beach,\"30.0 ml white rum, 30.0 ml Southern Comfort(R) peach liqueur, 18.0 ml Grand Marnier(R) orange liqueur, 6.0 ml lemon juice, 2.0 mles orange bitters\"\\nAlmond Hot Chocolate,\"30.0 ml Puerto Rican dark rum, 18.0 ml orgeat syrup, 180.0 ml hot chocolate\"\\nOliFanta,\"90.0 ml Oliphant(R) orange vodka, 1 canchilled Fanta(R) orange soda\"\\nMarryat\\'s Mint Julep,\"45.0 ml brandy, 45.0 ml peach brandy, 12  mint, 22.5 ml sugar syrup\"\\nMango Martini,\"30.0 ml Cruzan(R) mango rum, 30.0 ml Bacardi(R) light rum, 15.0 ml triple sec, 15.0 ml Rose\\'s(R) lime juice, 15.0 ml cranberry juice, 1 splash mango puree\"\\nDixie Toss,\"90.0 ml bourbon whiskey, 15.0 ml white creme de menthe\"\\nArchdruid,\"15.0 ml benedictine herbal liqueur, 6.0 ml Green Chartreuse(R), 6.0 ml Jagermeister(R) herbal liqueur, 22.5 ml dry vermouth, 45.0 ml vodka\"\\nMargarita Cocktail #2,\"45.0 ml tequila, 15.0 ml triple sec, 30.0 ml lemon juice, salt\"\\nBrandy Snap Cream,\"60.0 ml Bailey\\'s(R) Irish cream, 30.0 ml brandy, 30.0 ml amaretto almond liqueur\"\\nEarly Christmas,\"30.0 ml dark creme de cacao, 30.0 ml Drambuie(R) Scotch whisky\"\\nTropical Champagne,\"22.5 ml dark rum, 22.5 ml orange juice, 2.5 mles passion-fruit syrup, 2.5 mles lemon juice, 120.0 ml Champagne\"\\nPootie Tang,\"60.0 ml peach schnapps, 72.0 ml Tang(R) powdered soft drink, water\"\\nQuick-sand,\"25 ml Black Sambuca, Add 250 ml Orange juice (with fruit pulp)\"\\nAlpine Sprite,\"60.0 ml Peppermint schnapps, 160.0 ml Sprite\"\\nBloody Pepper,\"90.0 ml red wine, 90.0 ml Dr. Pepper(R) soda\"\\nWhite Cosmopolitan,\"60.0 ml Citrus vodka, 120.0 ml White cranberry juice (Ocean Spray), 30.0 ml fresh Lime juice, 30.0 ml Sugar syrup\"\\nMoxitizer,\"15.0 ml Goldschlager(R) cinnamon schnapps, 15.0 ml Jagermeister(R) herbal liqueur, 240.0 ml Moxie(R) energy drink\"\\nDreaming in Antalya,\"20.0 ml Dark rum (Bacardi), 20.0 ml Light rum (Bacardi), 20.0 ml Cointreau, Juice of 0.5 Lemon, 18.0 ml Grenadine, Ice cubes\"\\nSlow Finnish,\"30.0 ml sloe gin, 30.0 ml Finlandia(R) vodka, 6.0 ml dark rum, 60.0 mlchilled cola\"\\nDi Saronno Mimosa,\"60.0 ml Champagne, 22.5 ml Amaretto Di Saronno(R) liqueur, 60.0 ml orange juice\"\\nHot Whiskey,\"75.0 ml Irish whiskey, 1 slice fresh Lemon, 3 Cloves, 6.0 ml Sugar, Fill with hot Water\"\\nCafe Marnier,\"45.0 ml Grand Marnier(R) orange liqueur, 4 - 180.0 ml coffee, 22.5 ml whipped cream\"\\nPink Coral,\"45.0 ml vodka, 30.0 ml Passoa(R) liqueur, 90.0 ml pineapple juice, 30.0 ml passion-fruit juice, 30.0 ml guava juice, 18.0 ml grenadine syrup, 1.0 ml Angostura(R) bitters\"\\nThe Glove Doesn\\'t Fit,\"120.0 ml Remy Martin(R) cognac, 150.0 ml orange juice\"\\nBat Chain Puller,\"30.0 ml cherry vodka, 30.0 ml Dr. Pepper(R) soda, 180.0 ml orange juice\"\\nGin Highball,\"60.0 ml Gin, Carbonated water, 1 twist of Lemon peel\"\\nBatida de Pina,\"90.0 ml light rum, 144.0 mlcrushed pineapples, 3.0 ml superfine sugar\"\\nGeneration X,\"30.0 ml Tequila, 30.0 ml Jim Beam, 30.0 ml Triple sec, 30.0 ml Blue Curacao, 30.0 ml Melon liqueur, 1 bottle Zima\"\\nHoly Doodle,\"1 part Rum, 1 part Kahlua, 4 parts Fresca, 2 cubes Ice\"\\nBrandy Blazer,\"6.0 ml granulated Sugar, 60.0 ml Brandy, 1 slice Orange, 1 twist of Lemon peel\"\\nHappy Camper,\"9.0 ml Kahlua(R) coffee liqueur, 9.0 ml Bailey\\'s(R) Irish cream, 9.0 ml Frangelico(R) hazelnut liqueur\"\\nNeon Nightmare,\"37.5 ml Malibu rum, 15.0 ml Midori melon liqueur, 7.5 ml Blue Curacao, 3 15.0 ml Pineapple juice\"\\nAccordion,\"45.0 ml brandy, 12.0 ml triple sec, 15.0 ml dry vermouth, 15.0 ml sweet vermouth\"\\nDerby Fizz,\"22.5 ml Scotch whisky, 15.0 ml triple sec, 15.0 ml lemon juice, 3.0 ml sugar, 1 whole egg, 180.0 ml soda water\"\\nPeach Up #2,\"45.0 ml Absolut(R) Apeach vodka, 180.0 ml Sprite(R) soda, 1 splash cranberry juice\"\\nSuitor,\"10.0 ml Drambuie, 10.0 ml Orange liqueur, 10.0 ml Bailey\\'s irish cream, 6.0 ml Milk\"\\nFudge Slide,\"30.0 ml Goldenbarr(R) chocolate vodka, 30.0 ml Kahlua(R) coffee liqueur, 30.0 ml Bailey\\'s(R) Irish cream\"\\nMalibulicious,\"60.0 ml peach schnapps, 60.0 ml Blue Curacao liqueur, 60.0 ml 7-Up(R) soda, 1 can raspberry syrup\"\\nHeyRay,\"60.0 ml Metaxa Brandy, 30.0 ml tonic water, 1 scoop lime sherbet\"\\nIrish Rider,\"7.5 ml triple sec, 7.5 ml raspberry liqueur, 22.5 ml Irish whiskey, 90.0 ml sweet and sour mix\"\\nDrew\\'s Peartini,\"2  Pear vodka, Absolut(R) vodka, Tuaca(R) citrus liqueur, 1 splash pear juice\"\\nButter Ripple Fantasy,\"60.0 ml Phillips(R) Butter Ripple Schnapps, 135.0 ml A&W(R) root beer\"\\nPied Piper,\"120.0 ml vodka, 60.0 ml Chambord(R) raspberry liqueur, 30.0 ml Midori(R) melon liqueur\"\\nThe Mexican,\"45.0 mlquality aged tequila, 15.0 ml Midori(R) melon liqueur, key lime juice, 36.0 ml sugar, ice\"\\nBlack Bottom,\"7.5 ml brandy, 7.5 ml Cointreau(R) orange liqueur, 7.5 ml blackberry brandy, 1.0 ml dry gin, 15.0 ml lemon juice, 22.5 ml orange juice\"\\nDeep Dark Love,\"30.0 ml vanilla vodka, 15.0 ml Kahlua(R) coffee liqueur, 15.0 ml creme de cacao\"\\nCuban Sour,\"60.0 ml rum, 15.0 ml powdered sugar, 22.5 ml lime juice\"\\nApple Colada,\"60.0 ml Apple schnapps, 30.0 ml Cream of coconut, 30.0 ml Half-and-half, 1 slice Apple, 1 Cherry\"\\nPatatus,\"22.0 ml Amaretto, 22.0 ml Curacao, 88.0 mls Anejo rum, 180.0 ml Orange juice, 1 splash Grenadine\"\\nBorn to be Wild,\"Ice cubes, 20.0 ml Tequila, 20.0 ml Vodka, 20.0 ml Pisang Ambon, Fill with Sprite, 2.0 mles Rose\\'s sweetened lime juice\"\\nAlmost Heaven,\"1-7.5 ml Absolut Kurant, 22.5 ml Amaretto, 22.5 ml Chambord raspberry liqueur, 1 splash Pineapple juice, 1 splash Cranberry juice\"\\nGin Daiquiri,\"1 /160.0 ml gin, 15.0 ml light rum, 1.0 ml lime juice, 1 twist limes, 6.0 ml sugar\"\\nSloe Gin Cocktail,\"60.0 ml Sloe gin, 1.5 ml Dry Vermouth, 1.0 ml Orange bitters\"\\nAppled Rum Cooler,\"45.0 ml Anejo rum, 15.0 ml Applejack, 12.0 ml Lime juice, 60.0 ml Club soda\"\\nNan\\'s special,\"30 ml Vodka, 30 ml 7-Up or similar drink, 60 ml Soda water, Juice of 0.5 Lemon, Dash of Salt\"\\nPintado,\"45.0 mlgood white rum, 120.0 ml soda, 1 splash Coca-Cola(R), 3  ice cubes\"\\nHot Tub,\"22.5 ml Grand Marnier(R) orange liqueur, 22.5 ml Absolut(R) vodka, 22.5 ml Champagne, 22.5 ml Chambord(R) raspberry liqueur, 120.0 ml cranberry juice\"\\nDream Cocktail,\"45.0 ml Brandy, 22.5 ml Triple sec, 1.5 ml Anisette\"\\nTanquergay,\"60.0 ml Tanqueray(R) gin, 240.0 ml apple juice, 120.0 ml Sprite(R) soda\"\\nJanner in Mexico,\"25 ml Sourz(R) apple liqueur, 25 ml vodka, 10 mlfresh lime juice, 40 ml apple juice, 15 ml triple sec\"\\nPrado,\"45.0 ml white tequila, 18.0 ml maraschino liqueur, 6.0 ml grenadine syrup, 22.5 ml lemon juice, 1 slice lime, 1  egg\"\\nBarnum,\"90.0 ml gin, 15.0 ml apricot brandy, 4.0 mles Angostura(R) bitters, 4.0 mles lemon juice\"\\n50/50,\"75.0 ml Vanilla vodka (Stoli Vanil), 1 splash Grand Marnier, Fill with Orange juice\"\\nVoodoo Dew,\"132.0 mls Bacardi 151 proof rum, 1 can Mountain Dew\"\\nA Kiss Goodnight,\"1 splash dark rum, 45.0 ml DeKuyper(R) Raspberry Pucker schnapps, 45.0 ml strawberry vodka, 105.0 ml 7-Up(R) soda, 105.0 ml cranberry juice\"\\nCandy Apple Sour,\"30.0 ml Smirnoff(R) vodka, 30.0 ml orange juice, 30.0 ml lemonade, 240.0 ml Rose\\'s(R) sour apple mix\"\\nFleet Street,\"45.0 ml Gin, 15.0 ml Sweet Vermouth, 6.0 ml Dry Vermouth, 6.0 ml Triple sec, 6.0 ml Lemon juice\"\\nGreen Ranger,\"60.0 ml vanilla vodka, 30.0 ml Southern Comfort(R) peach liqueur, 120.0 mlgreen Gatorade(R) energy drink\"\\nMadeira M\\'Dear,\"45.0 ml madeira, 30.0 ml brandy, 15.0 ml dry vermouth, 6.0 ml sweet vermouth\"\\nButterscotch Ice Cream,\"30.0 ml butterscotch schnapps, 15.0 ml Frangelico(R) hazelnut liqueur, 30.0 ml Kahlua(R) coffee liqueur, 30.0 ml hazelnut liqueur, 30.0 ml Irish cream, 240.0 ml milk\"\\nKangaroo Kicker,\"60.0 ml vodka, 22.5 ml French vermouth\"\\nDesert Healer,\"45.0 ml gin, 15.0 ml Heering(R) cherry liqueur, 45.0 mlfresh orange juice, 120.0 ml ginger ale\"\\nJackson Jack,\"120.0 ml Yukon Jack(R) Canadian whisky, ginger ale\"\\nAlaena,\"0.3  pineapple juice, 0.3  cranberry juice, 0.3  soda water, 44.0 ml vodka\"\\nBitch-On-Wheels,\"60.0 ml Gin, 15.0 ml Dry Vermouth, 15.0 ml White Creme de Menthe, 6.0 ml Pernod\"\\nBubba Collins,\"60.0 ml Scotch whisky, 90.0 ml cola, 30.0 ml sweet and sour mix\"\\nDark and Stormy,\"60.0 ml Gosling\\'s Black rum, 240.0 ml Ginger beer\"\\nTwenty Thousand Leagues,\"crushed Ice, 45.0 ml Gin, 30.0 ml Dry Vermouth, 6.0 ml Pernod, 2.0 mles Orange bitters\"\\nBulldog\\'s Viagra,\"30.0 ml Bacardi(R) gold rum, 30.0 ml Bacardi(R) O rum, 30.0 ml triple sec, 1 splash grenadine syrup, 90.0 ml Sprite(R) soda\"\\nAbsolut Santo,\"90.0 ml Absolut(R) vodka, 30.0 ml raspberry liqueur\"\\nA Saturday Afternoon,\"30.0 ml banana liqueur, 60.0 ml Malibu(R) coconut rum, 30.0 ml gold rum, 1 splash grenadine syrup, 90.0 ml orange juice, 4 - 180.0 ml ginger ale, 1 slice orange\"\\nTie Me To The Bedpost (Hawaiian),\"30.0 ml Absolut Citron, 30.0 ml Coconut rum (Parrot Bay), 30.0 ml Midori melon liqueur, 1 splash Sweet and sour, 1 splash 7-Up\"\\nWhite Romanian,\"90.0 ml Stolichnaya(R) vodka, 45.0 ml Kahlua(R) coffee liqueur, 30.0 ml banana liqueur, 90.0 ml milk, 2 slices bananas\"\\nBrandy Buca,\"60.0 ml brandy, 30.0 ml black sambuca\"\\nHot Cinnamon Roll,\"45.0 ml cinnamon schnapps, 150.0 mlhot apple cider\"\\nFirehammer,\"66.0 ml Vodka, 15.0 ml Amaretto, 15.0 ml Triple sec, 1 splash freshly squeezed Lemon juice\"\\nFoxhound,\"45.0 ml brandy, 6.0 ml Kummel(R) caraway liqueur, 15.0 ml cranberry juice, 6.0 ml lemon juice\"\\nBrandy Manhattan,\"6.0 ml Maraschino cherry juice, 1 Maraschino cherry, 2.0 mles Bitters, 15.0 ml Sweet Vermouth, 60.0 ml Brandy, 1 splash Water\"\\nGemini,\"22.5 ml Galliano(R) herbal liqueur, 22.5 ml Grand Marnier(R) orange liqueur, 15.0 ml cognac, 30.0 ml lemonade\"\\nDixie Pearl,\"30.0 ml grenadine syrup, 22.5 ml amaretto almond liqueur, 22.5 ml creme de cacao, 30.0 ml light rum, 120.0 ml evaporated milk\"\\nCold Porridge,\"45.0 ml Scotch whisky, 45.0 ml double cream, 15.0 ml honey\"\\nPaultini,\"2  ruby port, 2  dry vermouth\"\\nGreen Fire,\"45.0 ml gin, 12.0 ml green creme de menthe, 12.0 ml Kummel(R) caraway liqueur\"\\nLost Cherry,\"30.0 ml cherry vodka, 15.0 ml white creme de cacao, 7.5 ml white creme de menthe, 30.0 mlfiltered orange juice, 30.0 ml double cream\"\\nDrunken Hawaiian,\"30.0 ml coconut rum, 30.0 ml Maui(R) Blue Hawaiian schnapps, 30.0 ml DeKuyper(R) Sour Apple Pucker schnapps, 90.0 ml pineapple juice\"\\nShagger,\"45.0 ml Jagermeister(R) herbal liqueur, 45.0 ml orange juice, 15.0 ml milk\"\\nMonkey Tree,\"30.0 ml gold tequila, 15.0 ml Rum Tree(R) liqueur, 15.0 ml creme de bananes, 9.0 ml lime juice, 60.0 ml mango juice\"\\nBig Game Punch,\"45.0 ml Bacardi(R) orange rum, 45.0 ml Bacardi(R) Razz rum, 120.0 ml cranberry juice, 15.0 ml pineapple juice, 15.0 ml Sprite(R) soda\"\\nDown Under Dreamsicle,\"22.5 ml light rum, 45.0 ml Bailey\\'s(R) Irish cream, 180.0 ml orange juice, 2.0 mles club soda\"\\nJ. R.\\'s Godchild,\"60.0 ml Bourbon, 15.0 ml Amaretto, 30.0 ml Milk\"\\npepsi pleaser,\"60.0 ml Smirnoff(R) vodka, 45.0 ml Kahlua(R) coffee liqueur, Pepsi(R) cola\"\\nHoya,\"60.0 ml gin, 90.0 ml ginger ale, 30.0 ml orange juice, 1 slice orange\"\\nBull Martini,\"45.0 ml gin, 15.0 ml sweet vermouth, 30.0 mlMidori melon liqueur, 105.0 ml Red Bull(R) energy drink\"\\nBanana Jacuzzi Shake,\"105.0 ml Bacardi(R) Coco rum, 1200.0 ml milk, 3  bananas, 1892.5 ml vanilla ice cream, 12.0 ml coconut extract, 6  ice cubes\"\\nCoconut Grove,\"45.0 ml coconut rum, 30.0 ml creme de bananes, 30.0 ml white rum, 120.0 ml pineapple juice, 6.0 ml lemon juice\"\\nBourbon and sprite,\"120.0 ml Bourbon (Henry McKenna bourbon), 210.0 ml Sprite\"\\nApple Jack,\"30.0 ml Jack Daniels, Fill ith Apple juice\"\\nA Little Dinghy,\"88.0 mls Parrot Bay Coconut rum, 88.0 mls Malibu rum, Fill with 1 part Cranberry juice, 1 part Pineapple juice, 1 part Orange juice\"\\nCactus Berry,\"37.5 ml Tequila, 37.5 ml Red wine, 30.0 ml Triple sec, 6 15.0 ml Sour mix, 1 splash Lemon-lime soda, 1.0 ml Lime juice\"\\nRory O\\'more,\"45.0 ml Irish whiskey, 22.5 ml Sweet Vermouth, 1.0 ml Orange bitters\"\\nDirty Banana #2,\"90.0 ml Bailey\\'s(R) Irish cream, 60.0 ml banana rum, 30.0 ml cream\"\\nWicked Apple,\"30.0 ml Jagermeister(R) herbal liqueur, 30.0 ml Stolichnaya(R) vodka, 120.0 ml apple juice, 1 splash ginger ale\"\\nQueen of Hearts,\"60.0 ml amaretto almond liqueur, 60.0 ml Midori(R) melon liqueur, 120.0 ml Blue Curacao liqueur, 120.0 ml cranberry juice\"\\nGolden Nugget #2,\"60.0 ml Southern Comfort(R) peach liqueur, 150.0 ml grapefruit juice\"\\nAussie Beach Blond,\"45.0 ml Bacardi(R) white rum, 37.5 ml Cointreau(R) orange liqueur, 9.0 ml sugar, 22.5 ml lime juice, 37.5 ml orange juice, 1  passion-fruit\"\\nGodiva Whisper,\"15.0 ml cognac, 22.5 ml Godiva(R) chocolate liqueur, 3 scoops vanilla ice cream\"\\nBlack Magick,\"15.0 ml vodka, 15.0 ml vermouth, 15.0 ml Blue Curacao liqueur, 30.0 ml black raspberry liqueur, top with apple juice\"\\nDrunken Stupor,\"60.0 ml rye whiskey, 45.0 ml Kahlua(R) coffee liqueur, 30.0 ml vodka, Pepsi(R) cola\"\\nBlue Downy,\"45.0 ml light rum, 45.0 ml Blue Curacao liqueur, 45.0 ml coconut milk, 45.0 ml pineapple juice\"\\n80\\'s Berry Wine Cooler,\"120.0 ml Chablis(R) white wine, 180.0 ml 7-Up(R) soda, 15.0 ml blackberry juice, 15.0 ml raspberry juice, 15.0 ml strawberry juice, 15.0 ml blueberry juice\"\\nHeste Pis,\"90.0 ml vodka, 210.0 mlchilled apple juice\"\\nIce Breaker,\"22.5 ml dark rum, 7.5 ml cognac, 7.5 ml gin, 60.0 ml lemon juice, 30.0 ml orange juice, 15.0 ml creme de noyaux\"\\nYellow Fingers,\"30.0 ml Southern Comfort(R) peach liqueur, 30.0 ml vodka, 15.0 ml Galliano(R) herbal liqueur, 30.0 ml orange juice, 60.0 ml lemonade, 15.0 ml egg, 10  Blue Curacao liqueur\"\\nBlue Skies,\"35 ml Cointreau, crushed Ice, 35 ml Blue Curacao (Bols), Fill with Lemonade (Finches White)\"\\nCuban Sunset,\"45.0 ml Bacardi(R) light rum, 30.0 ml Jose Cuervo(R) Especial gold tequila, 30.0 ml Smirnoff(R) Lime Twist vodka, 1 splash grenadine syrup, 1 splash lime juice, fill with Sunny Delight(R) orange juice\"\\nGold Dust,\"30.0 ml Beefeater(R) gin, 30.0 ml Crown Royal(R) Canadian whisky, 60.0 ml lemon vodka, 60.0 ml Jose Cuervo(R) Especial gold tequila, 36.0 ml lemon juice, 36.0 ml lime juice, 36.0 ml sugar\"\\nHug the Toilet,\"30.0 ml gold tequila, 60.0 ml orange vodka, 2 splashes lemon juice, 180.0 ml Sunny Delight(R) orange juice, 90.0 ml lemonade\"\\nAunt Agatha,\"37.5 ml dark rum, 60.0 ml orange juice, 3 drops bitters\"\\nJojo,\"60.0 ml peach schnapps, 30.0 ml Blue Curacao liqueur, 120.0 ml grapefruit juice\"\\nHawaiian Parrot,\"90.0 ml Captain Morgan(R) Parrot Bay coconut rum, 45.0 ml Hawaiian Punch(R), 45.0 ml Sprite(R) soda\"\\nGreen Monster,\"120.0 ml Vodka, 1 small Pickled pepper, 4 Ice cubes\"\\nSkinny Dipper,\"60.0 ml Midori melon liqueur, 180.0 ml Cranberry juice\"\\nJumping Bean,\"45.0 ml tequila, 15.0 ml sambuca, 3  coffee\"\\nMaltese Slipper,\"22.5 ml Cointreau(R) orange liqueur, 22.5 ml Midori(R) melon liqueur, 22.5 ml lime vodka, 22.5 ml sweet and sour mix, 2.0 mles grenadine syrup\"\\nThe Admiral\\'s Passion,\"1 part Passoa, 1 part Sprite, 1 part Orange juice, 3 Ice cubes\"\\nBrandy Sling,\"6.0 ml superfine Sugar, 12.0 ml Water, 30.0 ml Lemon juice, 60.0 ml Brandy, 1 twist of Lemon peel\"\\nAmaretto Jack,\"30.0 ml amaretto almond liqueur, 30.0 ml Jack Daniel\\'s(R) Tennessee whiskey, 1 splash cherry syrup, pineapple juice, orange juice\"\\nAcapulco Clam Digger,\"45.0 ml tequila, 90.0 ml tomato juice, 90.0 ml clam juice, 13.5 ml horseradish, 1 splashfresh lemon juice, Worcestershire sauce, Tabasco(R) sauce\"\\nTannersworth,\"30.0 ml Dubonnet(R) Rouge vermouth, 15.0 ml gin, 15.0 ml dry vermouth\"\\nAcid Trip,\"45.0 ml Midori(R) melon liqueur, 15.0 ml gin, 15.0 ml vodka, 15.0 ml rum, 15.0 ml tequila\"\\nJuanita\\'s Cadillac Delight,\"30.0 ml Jose Cuervo(R) 1800 tequila, Squirt(R) citrus soda\"\\nBlazing Fire,\"Ice, 1 part Vodka, 1 part Gin, 1 part Light rum, 1 part Triple sec, Pineapple juice, 1.0 ml Grenadine\"\\nBend Over Shirley,\"45.0 ml raspberry vodka, 120.0 ml Sprite(R) soda, 22.5 ml Rose\\'s(R) grenadine syrup\"\\nGrape Bubbolicious,\"30.0 ml grape soda, 15.0 ml DeKuyper(R) Grape Pucker schnapps, 15.0 ml Chambord(R) raspberry liqueur, 15.0 ml Skyy(R) vodka, 1 splash cream, sugar, ice\"\\nPurple Passion #2,\"90.0 ml Hpnotiq(R) liqueur, 90.0 ml Alize(R) Red Passion liqueur, 90.0 ml Remy(R) Red cognac\"\\nDu Barry Cocktail,\"45.0 ml Gin, 22.5 ml Dry Vermouth, 3.0 ml Anis, 1.0 ml Bitters, 1 slice Orange\"\\nB2 C2,\"30.0 ml brandy, 30.0 ml benedictine herbal liqueur, 30.0 ml Cointreau(R) orange liqueur, 120.0 ml Champagne\"\\nMelon Fever,\"60.0 ml melon liqueur, 15.0 ml triple sec, 60.0 ml cream\"\\nPassion Fruit Mojito,\"75 ml Havana Club(R) dark rum, 6.0 ml(heaped) Muscovado sugar, 6  lime, 11  mint, 25 ml passion-fruit puree, 50 ml soda, 0.6 of a glass crushed ice\"\\nMorning Junkie Monkey,\"15.0 ml dark rum, 15.0 ml Kahlua(R) coffee liqueur, 15.0 ml dark creme de cacao, 30.0 ml banana liqueur, 60.0 ml cream\"\\nLifestyle,\"120.0 ml Crown Royal(R) Reserve Canadian whisky, 60.0 ml Rockstar(R) energy drink, 90.0 ml Coca-Cola(R)\"\\nMidori Firecracker,\"30.0 ml Midori(R) melon liqueur, 30.0 ml DeKuyper(R) Sour Apple Pucker schnapps, 60.0 ml cranberry juice\"\\nAsterix Cocktail,\"18.0 ml Finlandia(R) vodka, 18.0 ml Pisang Ambon(R) liqueur, 300.0 ml Sprite(R) soda, 1.0 ml lemon juice\"\\nYes!,\"30.0 ml Malibu(R) coconut rum, 30.0 ml Passoa(R) liqueur, 30.0 ml orange vodka, 30.0 ml cherry liqueur, 120.0 ml Red Bull(R) energy drink\"\\nKama Sutra,\"30.0 ml Alize(R) cognac, 30.0 ml Alize(R) Red Passion liqueur, 30.0 ml orange juice\"\\nGin Milk Punch,\"60.0 ml Gin, 240.0 ml Milk, 6.0 ml Powdered sugar, Nutmeg\"\\nYellow Rattler,\"30.0 ml Gin, 15.0 ml Sweet Vermouth, 15.0 ml Dry Vermouth, 18.0 ml Orange juice, 1 Cocktail onion\"\\nDanish Toddy,\"45.0 ml aquavit, 15.0 ml cherry vodka, 15.0 ml lemon juice, 60.0 mlboiling water, 1 slice lemon\"\\nThe Seabass,\"45.0 ml pineapple rum, 30.0 ml peach schnapps, pineapple juice, Champagne, orange\"\\nBird Bomb,\"90.0 ml Absolut(R) vodka, 30.0 ml DeKuyper(R) Cheri-Beri Pucker schnapps, 240.0 ml lemonade\"\\nTony Montana,\"3 fresh mint, 1  key lime, 30.0 ml simple syrup, 45.0 ml light rum, fill with Coca-Cola(R)\"\\nBarcardi Volcano,\"Juice of 0.5 Lime, 0.5 glass Coca-Cola, 0.5 glass Bacardi 151 proof rum, 44.0 ml Everclear\"\\nManhattan Bella,\"75.0 ml Bourbon (Knob Creek), 3/240.0 ml Dubonnet Rouge, 3/240.0 ml Sweet Vermouth, 2.0 mles Angostura bitters\"\\nB&B,\"15.0 ml brandy, 15.0 ml benedictine herbal liqueur\"\\nLachler,\"40.0 ml Southern Comfort, 20.0 ml Lemon juice, 60.0 ml Cola\"\\nRainbow Julep,\"2 fresh mint, 15.0 ml Marie Brizard(R) Apry apricot brandy, 60.0 ml bourbon whiskey\"\\nRosarita,\"22.5 ml triple sec, 22.5 ml Alize(R) Red Passion liqueur, 22.5 ml tequila\"\\nApple Dubonnet,\"60.0 ml apple brandy, 45.0 ml Dubonnet(R) Rouge vermouth\"\\nSouth Texas Snow,\"60.0 ml Malibu(R) coconut rum, 60.0 ml Malibu(R) pineapple rum, 22.5 ml 99 Bananas(R) banana schnapps, 240.0 ml Sprite(R) soda\"\\nSanoran Desert Sunset,\"44.0 ml Bacardi(R) dark rum, 240.0 mlSunny Delight orange juice, 1 splash Dr. Pepper(R) soda, 8  ice\"\\nDevil\\'s Piss,\"66.0 ml Everclear, Lemonade\"\\nMitch\\'s Jim Beam Drink,\"141.9 ml Jim Beam(R) bourbon whiskey, 141.9 ml Mountain Dew(R) citrus soda, 141.9 ml Sunny Delight(R) orange juice\"\\nCounter Strike,\"30.0 ml Blue Curacao liqueur, 30.0 ml vodka, 120.0 ml Sobe(R) Energy drink\"\\nThe Barbarella,\"60.0 ml tequila, 60.0 ml pomegranate juice, 30.0 ml lime juice\"\\nLumpy Lime,\"30.0 ml lime vodka, 1 splash triple sec, 90.0 ml 7-Up(R) soda\"\\nChocolate Russian,\"60.0 ml Vincent Van Gogh(R) Dutch chocolate vodka, 30.0 ml Kahlua(R) coffee liqueur, cream\"\\nTree Shaker,\"30.0 ml Rum Tree(R) liqueur, 30.0 ml pear liqueur, 30.0 ml mandarin juice, 30.0 ml pineapple juice\"\\nBrassy Blond,\"60.0 ml Stoli(R) Limonnaya vodka, 60.0 ml pineapple juice, 7.5 ml Cointreau(R) orange liqueur\"\\nSlow Comfortable Screw on a Do...,\"45.0 ml Southern Comfort(R) peach liqueur, 45.0 ml Jack Daniel\\'s(R) Tennessee whiskey, 45.0 ml sloe gin, 1 splash grenadine syrup, fill with orange juice, ice\"\\nNixon,\"45.0 ml Captain Morgan(R) Original spiced rum, 180.0 ml 7-Up(R) soda\"\\nCaptain Jack Sparrow,\"45.0 ml Bacardi(R) 151 rum, 60.0 ml Captain Morgan(R) Original spiced rum, 60.0 ml Southern Comfort(R) peach liqueur, 270.0 ml pineapple juice\"\\nLong Light,\"45.0 ml dark rum, 15.0 ml amaretto almond liqueur, 15.0 ml triple sec, 2.0 mles orange bitters, 15.0 ml lemon juice\"\\nCream Fizz,\"60.0 ml Gin, 6.0 ml Powdered sugar, Juice of 0.5 Lemon, 6.0 ml Light cream, Carbonated water\"\\nNitro Cocktail,\"45.0 ml Vodka, 22.5 ml Blended whiskey, Orange juice, Cranberry juice, 1.0 ml Grenadine\"\\nPink Polka,\"22.5 ml vodka, 45.0 ml 7-Up(R) soda, 22.5 mlruby red grapefruit juice, 2.0 mles grenadine syrup\"\\nLudvika Walker,\"40.0 ml Absolut Kurant, 50.0 ml Apple cider\"\\nHot Russian Christmas,\"30.0 ml Grey Goose(R) vodka, 30.0 ml Kahlua(R) coffee liqueur, 30.0 ml eggnog, 144.0 ml hot chocolate\"\\nFrench Sunrise,\"60.0 ml white tequila, 15.0 ml Chambord(R) raspberry liqueur, 15.0 ml triple sec, 60.0 ml cranberry juice, 60.0 ml orange juice\"\\nBuckhead Root Beer,\"37.5 ml Jagermeister(R) herbal liqueur, 150.0 ml club soda\"\\nPurple Passion Fizz,\"2 parts Hpnotiq(R) liqueur, 2 parts Alize(R) Red Passion liqueur, 1.5 parts ginger ale\"\\nDeath Everywhere,\"45.0 ml vodka, 15.0 ml dark creme de cacao, 15.0 ml green creme de menthe, 3.75 ml cream\"\\nBlack Hole,\"45.0 ml Black Sambuca, Fill with Club soda\"\\nMeister Mind Meld,\"3 parts Coca-Cola, 1 part Amaretto, 1 Ice cube\"\\nCracklin\\' Rosie,\"45.0 ml white rum, 15.0 ml Bols(R) creme de bananes, 22.5 ml passion-fruit juice, 15.0 ml pineapple juice, 15.0 ml lime juice\"\\nJack Leg,\"90.0 ml Jack Daniel\\'s(R) Tennessee whiskey, 45.0 ml Amaretto Di Saronno(R) liqueur, 150.0 ml pineapple juice, 1 splash Sprite(R) soda\"\\nOrchid Cocktail,\"60.0 ml gin, 1.0 ml creme de violette, 1  egg\"\\nDreamin\\' Caribbean Cocktail,\"45.0 ml Midori(R) melon liqueur, 45.0 ml Blue Curacao liqueur, 22.5 ml Bacardi(R) Superior rum, 22.5 ml Coco Lopez(R) cream of coconut, 22.5 ml Dole(R) pineapple juice\"\\nAubade,\"75.0 ml rum, 15.0 ml grenadine syrup, 30.0 ml lime juice, 75.0 ml tonic water\"\\nBlushing Barmaid,\"22.5 ml amaretto almond liqueur, 22.5 ml Campari(R) bitters, 90.0 mlsparkling bitter lemon soda\"\\nFirst Avenue,\"45.0 ml sweet sherry, 15.0 ml Cointreau(R) orange liqueur, 22.5 ml soda water, 6.0 ml Campari(R) bitters\"\\nBroadside,\"30.0 ml rum, 15.0 ml vodka, 15.0 ml cherry brandy, 15.0 ml Frangelico(R) hazelnut liqueur, 12.0 ml grenadine syrup\"\\nThe Manager\\'s Daughter,\"45.0 ml Dubonnet(R) French vermouth, 30.0 ml apple brandy, 120.0 mlsparkling bitter lemon soda\"\\nPino Frio,\"45.0 ml white rum, 36.0 ml pineapples, 6.0 ml caster sugar\"\\nSanta Cruz Fix,\"60.0 ml Santa Cruz(R) rum, 30.0 ml cherry brandy, 30.0 ml lemon juice, 22.5 ml sugar syrup\"\\nBishop,\"Juice of 0.25 Lemon, Juice of 0.25 Orange, 6.0 ml Powdered sugar, Red wine (Burgundy)\"\\nA-Rang-A-Tang,\"30.0 ml 99 Bananas(R) banana schnapps, 30.0 ml Captain Morgan(R) Parrot Bay coconut rum, 30.0 ml white rum, 90.0 ml orange juice, 60.0 ml pineapple juice, 54.0 ml Tang(R) powdered soft drink, 54.0 mlpowdered sugar\"\\nChocolate Lovers Martini,\"45.0 ml vodka, 45.0 ml Bailey\\'s(R) Irish cream, 45.0 ml white creme de cacao, 18.0 ml chocolate syrup\"\\nHand-Shaken Margarita on the Rocks,\"44.0 ml Gold tequila (Cuervo), 1.5 part Sweet and sour, 27.0 ml Lime juice, 15.0 ml Triple sec\"\\nCarribean Catholic,\"45.0 ml Malibu(R) coconut rum, 15.0 ml Tia Maria(R) coffee liqueur, 30.0 ml Bailey\\'s(R) Irish cream, 30.0 ml chocolate sauce, 30.0 ml double cream, 75.0 ml milk, 1 pinchpowdered chocolate\"\\nTiffatini,\"2 parts citrus vodka, 1 part Sprite(R) soda, splash cranberries, Top with a lemon\"\\nDirty Futo,\"45.0 ml tequila, 45.0 ml gin, 180.0 ml sweet and sour mix\"\\nTrilby Cocktail,\"22.5 ml Sweet Vermouth, 45.0 ml Bourbon, 2.0 mles Orange bitters\"\\nWhoomp,\"1 bottle Everclear, 1 bottle Dark rum, 1 bottle Jim Beam, 1 bottle 100 proof Vodka, 1 bottle Peach schnapps, 1 bottle Jack Daniels, 2 cans frozen Fruit juice (your choice), 1 can Fruit punch (Hi C)\"\\nOrange Truffle Mocha,\"30.0 ml espresso, 18.0 ml cocoa powder, 30.0 ml caramel syrup, 30.0 ml orange juice, 105.0 ml milk\"\\nJamaican Martini,\"90.0 ml gin, 15.0 ml red wine, 18.0 ml dark rum, 4.0 mles orange bitters\"\\nPaco Mix,\"30.0 ml vodka, 30.0 ml gold tequila, 1 can beer, 2.5 twists lemons, 2 pinches salt, 2.5 mles Tabasco(R) sauce, 2.5 mles Worcestershire sauce\"\\nPlanter\\'s Cocktail,\"45.0 ml rum, 15.0 mlfresh lemon juice, 3.0 ml powdered sugar\"\\nQuiescent,\"45.0 ml vodka, 15.0 ml cherry brandy, 30.0 ml orange juice, 1.0 ml orange bitters\"\\nPousse L\\'Amour,\"15.0 ml benedictine herbal liqueur, 15.0 ml cognac, 15.0 ml maraschino liqueur, 1  egg\"\\nHot and Dirty Martini,\"90.0 ml pepper vodka, 15.0 ml dry vermouth, 6.0 ml olive juice\"\\nSimply Exquisite,\"22.5 ml Orange Curacao liqueur, 22.5 ml creme de bananes, 22.5 ml butterscotch schnapps, 22.5 ml Frangelico(R) hazelnut liqueur, 22.5 ml cream\"\\nDaytona 501,\"15.0 ml vodka, 45.0 ml dark rum, 15.0 ml triple sec, 60.0 ml orange juice, 1 slice orange\"\\nKing of Noble,\"45.0 ml gin, 15.0 ml dry vermouth, 15.0 ml apple brandy, 15.0 ml triple sec\"\\nDirty South #2,\"120.0 ml Southern Comfort(R) peach liqueur, 90.0 ml orange juice, 30.0 ml apple juice\"\\nWhite Spider,\"30.0 ml vodka, 30.0 ml white creme de menthe\"\\nBrandied Madeira,\"30.0 ml Brandy, 15.0 ml Dry Vermouth, 30.0 ml Madeira, 1 twist of Lemon peel\"\\nFalling Sky,\"30.0 ml Tanqueray(R) gin, 30.0 ml Hpnotiq(R) liqueur\"\\nLumumba,\"30.0 ml brandy, 300.0 mlchilled chocolate milk\"\\nIrish Shake,\"30.0 ml Irish cream, 90.0 ml milk, 1 scoop chocolate ice cream, 15.0 ml whipped cream\"\\nFilthy Mudblood,\"30.0 ml vodka, 30.0 ml Cointreau(R) orange liqueur, Tabasco(R) sauce, pumpkin, coriander\"\\nHot Damn Pink Russian,\"30.0 ml Stolichnaya(R) vodka, 30.0 ml Kahlua(R) coffee liqueur, 30.0 ml DeKuyper(R) Hot Damn 100 cinnamon schnapps\"\\nBananarama,\"30.0 ml creme de bananes, 15.0 ml Cointreau(R) orange liqueur, 1.0 ml bitters, 30.0 ml light cream\"\\nBomber,\"30.0 ml amaretto almond liqueur, 30.0 ml Southern Comfort(R) peach liqueur, 60.0 ml pineapple juice\"\\nHairy Jerry,\"Ice, 75.0 ml Dark rum (Meyers), Fill with Papaya juice\"\\nMai Tai #2,\"90.0 ml white rum, 45.0 ml orgeat syrup, 45.0 ml triple sec, 4 15.0 ml sweet and sour mix\"\\nRoll Me Over,\"60.0 ml Vodka, 30.0 ml Vanilla schnapps, 30.0 ml Cranberry juice, 1 splash Lime juice\"\\nEscalator Martini,\"88.0 mls pear schnapps, 44.0 ml Zubrowka(R) vodka, 4 pressed apple juice, dash sugar syrup\"\\nA1 Cocktail,\"30.0 ml gin, 15.0 ml Grand Marnier(R) orange liqueur, 1.0 ml lemon juice, 1.0 ml grenadine syrup\"\\nRum Cola,\"60.0 ml rum, 0.5 - 22.5 mlfresh lime juice, 240.0 ml cola\"\\nChampagne Julep,\"120.0 ml Champagne, 60.0 ml bourbon whiskey, 6.0 ml superfine sugar, 6  mint\"\\nBolduc On The Beach,\"45.0 ml Vodka, 45.0 ml Orange juice, 45.0 ml Grapefruit juice\"\\nGay Bartender,\"60.0 ml Captain Morgan(R) Parrot Bay coconut rum, 15.0 ml raspberry liqueur, 15.0 ml strawberry liqueur, 15.0 ml Blue Curacao liqueur, 15.0 ml Grand Marnier(R) orange liqueur, 30.0 ml apple juice, 30.0 ml cranberry juice, 30.0 ml orange juice\"\\nMexican Grasshopper,\"60.0 ml green creme de menthe, 60.0 ml Kahlua(R) coffee liqueur, 60.0 ml light cream\"\\nCrickets,\"44.0 ml Peach brandy, 88.0 mls Creme de Cacao, 4 crushed Ice, Vanilla ice-cream\"\\nAdios Motherfucker #3,\"30.0 ml Gin, 30.0 ml Light rum, 24.0 ml Tequila, 30.0 ml Vodka, 45.0 ml Blue Curacao, 60.0 ml Sweet and sour, 30.0 ml Sprite\"\\nCat Cocktail,\"45.0 ml vodka, 15.0 ml triple sec, 120.0 ml Ocean Spray(R) cranberry juice\"\\nPink Rain,\"9.0 ml gin, 9.0 ml vodka, 5/180.0 ml strawberry liqueur, 1/180.0 ml grenadine syrup, 45.0 ml tonic water\"\\nKing Alfonse,\"45.0 ml dark creme de cacao, 30.0 ml heavy cream\"\\nSan Salvador,\"45.0 ml dark rum, 30.0 ml Curacao orange liqueur, 15.0 mlfresh lime juice, 45.0 mlfresh orange juice\"\\nMi General,\"88.0 mls Malibu(R) coconut rum, Fill with Sprite(R) soda, 132.0 mls Blue Curacao liqueur\"\\nAnti-Freeze #2,\"1 package hot chocolate, 37.5 ml peppermint schnapps, 180.0 mlboiling water, 45.0 ml whipped cream\"\\nLondon Kamikaze,\"30.0 ml gin, 30.0 ml triple sec, 15.0 ml lime juice\"\\nDr. Swerve,\"30.0 ml blended whiskey, 150.0 ml Dr. Pepper(R) soda, 15.0 ml grenadine syrup\"\\nLong vodka,\"50.0 ml Vodka, 0.5 Lime, 4.0 mles Angostura bitters, 1 dl Schweppes Tonic water, 4 Ice cubes\"\\nFuzzy Monkey #2,\"30.0 ml peach schnapps, 30.0 ml banana liqueur, 45.0 ml orange juice\"\\nRose of Warsaw,\"45.0 ml Wyborowa(R) vodka, 30.0 ml cherry liqueur, 15.0 ml Cointreau(R) orange liqueur, 1.0 ml Angostura(R) bitters\"\\nKick in the Balls,\"30.0 ml dark rum, 30.0 ml melon liqueur, 15.0 ml coconut cream, 30.0 ml orange juice, 30.0 ml double cream\"\\nTropical Kermit Piss,\"30 ml Midori melon liqueur, 30 ml Cointreau, 15 ml Malibu rum, Fill with Pineapple soda or lemon soda\"\\nCaptain On A Diet,\"30.0 ml Captain Morgan(R) spiced rum, 4 15.0 ml Pepsi(R) Diet\"\\nSilent Sam Mix,\"190.0 ml Silent Sam(R) vodka, 1000.0 ml Coca-Cola(R), 8 scoops iced tea\"\\nRed Dwarf,\"2 measures White rum (Bacardi), 0.3 measure Lemon juice, 2 measures Orange juice, 1 measure Peach schnapps (Archers), 0.3 measure Creme de Cassis\"\\nGinger Spice,\"60.0 ml Spiced rum, Fill with Ginger ale, Ice\"\\nCuban Breeze #2,\"30.0 ml vodka, 30.0 ml amaretto almond liqueur, 180.0 ml pineapple juice\"\\nHunter Cocktail,\"30.0 ml rye whiskey, 15.0 ml cherry brandy\"\\nLove Juice (LJ),\"60.0 ml Light rum, 75.0 ml Orange juice, 60.0 ml Apple juice, 6 15.0 ml Squirt (or any other citrus soda)\"\\nPeach Sangaree,\"30.0 ml peach brandy, 150.0 ml club soda, 6.0 ml port\"\\nFlaming Blue Lamborghini,\"30.0 ml 151 proof rum, 30.0 ml Bacardi(R) spiced rum, 30.0 ml Maui(R) Blue Hawaiian schnapps, 30.0 ml Kahlua(R) coffee liqueur, 30.0 ml milk\"\\nDisco Inferno,\"60.0 ml Dom Perignon(R) Champagne, 60.0 ml Grey Goose(R) vodka, 60.0 ml Hennessy(R) cognac\"\\nDr. Zhivago,\"60.0 ml vodka, 150.0 ml Dr. Pepper(R) soda\"\\nRomance Cocktail,\"7.5 ml brandy, 7.5 ml Curacao orange liqueur, 15.0 ml Amer Picon(R) orange bitters, 15.0 ml French vermouth, 15.0 ml Italian vermouth\"\\nCherry Amaretto,\"60.0 ml amaretto almond liqueur, 30.0 ml cherry juice\"\\nMortini,\"3 drops Amaretto, 2 drops Grenadine, 60.0 ml premium Vodka\"\\nMacatini,\"45.0 ml vodka, 18.0 ml Macadamia nut liqueur\"\\nOgden Style,\"90.0 ml gin, 90.0 ml orange juice, 60.0 ml Bacardi(R) 151 rum\"\\nWild Irish Rose,\"60.0 ml Irish whiskey, 22.5 ml lemon juice, 15.0 ml grenadine syrup, 60.0 ml soda water\"\\nNaughty Nick,\"60.0 ml McCormick\\'s(R) vodka, 150.0 ml Mountain Dew(R) citrus soda\"\\nPink Inside,\"30.0 ml Crown Royal(R) Canadian whisky, 30.0 ml DeKuyper(R) Watermelon Pucker schnapps, 90.0 ml sweet and sour mix\"\\n'"
      ]
     },
     "execution_count": 259,
     "metadata": {},
     "output_type": "execute_result"
    }
   ],
   "source": [
    "text"
   ]
  },
  {
   "cell_type": "code",
   "execution_count": 260,
   "metadata": {},
   "outputs": [
    {
     "name": "stdout",
     "output_type": "stream",
     "text": [
      "76 unique characters\n"
     ]
    }
   ],
   "source": [
    "# unique values in file\n",
    "\n",
    "vocab = sorted(set(text))\n",
    "print ('{} unique characters'.format(len(vocab)))"
   ]
  },
  {
   "cell_type": "code",
   "execution_count": 261,
   "metadata": {},
   "outputs": [],
   "source": [
    "# Creating a mapping from unique characters to indices\n",
    "char2idx = {u:i for i, u in enumerate(vocab)}\n",
    "idx2char = np.array(vocab)\n",
    "\n",
    "text_as_int = np.array([char2idx[c] for c in text])"
   ]
  },
  {
   "cell_type": "code",
   "execution_count": 262,
   "metadata": {},
   "outputs": [
    {
     "name": "stdout",
     "output_type": "stream",
     "text": [
      "'O & Tonic,\"45' ---- characters mapped to int ---- > [38  1  6  1 43 64 63 58 52 10  3 18 19]\n"
     ]
    }
   ],
   "source": [
    "# Show how the first 13 characters from the text are mapped to integers\n",
    "print ('{} ---- characters mapped to int ---- > {}'.format(repr(text[:13]), text_as_int[:13]))"
   ]
  },
  {
   "cell_type": "code",
   "execution_count": 263,
   "metadata": {},
   "outputs": [
    {
     "name": "stdout",
     "output_type": "stream",
     "text": [
      "O\n",
      " \n",
      "&\n",
      " \n",
      "T\n"
     ]
    }
   ],
   "source": [
    "# The maximum length sentence we want for a single input in characters\n",
    "seq_length = 100\n",
    "examples_per_epoch = len(text)//(seq_length+1)\n",
    "\n",
    "# Create training examples / targets\n",
    "char_dataset = tf.data.Dataset.from_tensor_slices(text_as_int)\n",
    "\n",
    "for i in char_dataset.take(5):\n",
    "  print(idx2char[i.numpy()])"
   ]
  },
  {
   "cell_type": "code",
   "execution_count": 264,
   "metadata": {
    "scrolled": false
   },
   "outputs": [],
   "source": [
    "sequences = char_dataset.batch(seq_length+1, drop_remainder=True)"
   ]
  },
  {
   "cell_type": "code",
   "execution_count": 265,
   "metadata": {},
   "outputs": [
    {
     "name": "stdout",
     "output_type": "stream",
     "text": [
      "'O & Tonic,\"45.0 ml Bacardi(R) orange rum, 180.0 ml tonic water, 1 twist orange\"\\nMartini (Sweet),\"30.0'\n",
      "' ml Gin, 30.0 ml Sweet Vermouth, 1 Olive\"\\nFar West,\"15 ml Brandy, 15 ml Advocaat, 15 ml Dry Vermouth,'\n",
      "' 1.0 ml Angostura bitters\"\\nPearl Harbor,\"30.0 ml vodka, 15.0 ml melon liqueur, 150.0 ml pineapple jui'\n",
      "'ce\"\\nPassion Zombie,\"30.0 ml gold rum, 30.0 ml Jamaican dark rum, 30.0 ml light rum, 30.0 ml 99 Banana'\n",
      "'s(R) banana schnapps, 15.0 ml 151 proof rum, 15.0 ml grenadine syrup, 15.0 ml lemon juice, 15.0 ml li'\n"
     ]
    }
   ],
   "source": [
    "for item in sequences.take(5):\n",
    "  print(repr(''.join(idx2char[item.numpy()])))"
   ]
  },
  {
   "cell_type": "code",
   "execution_count": 266,
   "metadata": {},
   "outputs": [],
   "source": [
    "def split_input_target(chunk):\n",
    "    input_text = chunk[:-1]\n",
    "    target_text = chunk[1:]\n",
    "    return input_text, target_text\n",
    "\n",
    "dataset = sequences.map(split_input_target)"
   ]
  },
  {
   "cell_type": "code",
   "execution_count": 267,
   "metadata": {},
   "outputs": [
    {
     "data": {
      "text/plain": [
       "<MapDataset shapes: ((100,), (100,)), types: (tf.int64, tf.int64)>"
      ]
     },
     "execution_count": 267,
     "metadata": {},
     "output_type": "execute_result"
    }
   ],
   "source": [
    "dataset"
   ]
  },
  {
   "cell_type": "code",
   "execution_count": 268,
   "metadata": {},
   "outputs": [
    {
     "name": "stdout",
     "output_type": "stream",
     "text": [
      "Input data:  'O & Tonic,\"45.0 ml Bacardi(R) orange rum, 180.0 ml tonic water, 1 twist orange\"\\nMartini (Sweet),\"30.'\n",
      "Target data: ' & Tonic,\"45.0 ml Bacardi(R) orange rum, 180.0 ml tonic water, 1 twist orange\"\\nMartini (Sweet),\"30.0'\n"
     ]
    }
   ],
   "source": [
    "for input_example, target_example in  dataset.take(1):\n",
    "    print ('Input data: ', repr(''.join(idx2char[input_example.numpy()])))\n",
    "    print ('Target data:', repr(''.join(idx2char[target_example.numpy()])))"
   ]
  },
  {
   "cell_type": "code",
   "execution_count": 269,
   "metadata": {},
   "outputs": [
    {
     "data": {
      "text/plain": [
       "<BatchDataset shapes: ((128, 100), (128, 100)), types: (tf.int64, tf.int64)>"
      ]
     },
     "execution_count": 269,
     "metadata": {},
     "output_type": "execute_result"
    }
   ],
   "source": [
    "# Batch size\n",
    "BATCH_SIZE = 128\n",
    "\n",
    "# Buffer size to shuffle the dataset\n",
    "# (TF data is designed to work with possibly infinite sequences,\n",
    "# so it doesn't attempt to shuffle the entire sequence in memory. Instead,\n",
    "# it maintains a buffer in which it shuffles elements).\n",
    "BUFFER_SIZE = 10000\n",
    "\n",
    "dataset = dataset.shuffle(BUFFER_SIZE).batch(BATCH_SIZE, drop_remainder=True)\n",
    "\n",
    "dataset"
   ]
  },
  {
   "cell_type": "code",
   "execution_count": 270,
   "metadata": {},
   "outputs": [
    {
     "name": "stdout",
     "output_type": "stream",
     "text": [
      "Step    0\n",
      "  input: 38 ('O')\n",
      "  expected output: 1 (' ')\n",
      "Step    1\n",
      "  input: 1 (' ')\n",
      "  expected output: 6 ('&')\n",
      "Step    2\n",
      "  input: 6 ('&')\n",
      "  expected output: 1 (' ')\n",
      "Step    3\n",
      "  input: 1 (' ')\n",
      "  expected output: 43 ('T')\n",
      "Step    4\n",
      "  input: 43 ('T')\n",
      "  expected output: 64 ('o')\n"
     ]
    }
   ],
   "source": [
    "for i, (input_idx, target_idx) in enumerate(zip(input_example[:5], target_example[:5])):\n",
    "    print(\"Step {:4d}\".format(i))\n",
    "    print(\"  input: {} ({:s})\".format(input_idx, repr(idx2char[input_idx])))\n",
    "    print(\"  expected output: {} ({:s})\".format(target_idx, repr(idx2char[target_idx])))"
   ]
  },
  {
   "cell_type": "code",
   "execution_count": 271,
   "metadata": {},
   "outputs": [],
   "source": [
    "# Length of the vocabulary in chars\n",
    "vocab_size = len(vocab)\n",
    "\n",
    "# The embedding dimension\n",
    "embedding_dim = 100\n",
    "\n",
    "# Number of RNN units\n",
    "rnn_units = 256"
   ]
  },
  {
   "cell_type": "code",
   "execution_count": 272,
   "metadata": {},
   "outputs": [],
   "source": [
    "# Building a model. Add layers later on to optimize\n",
    "\n",
    "def build_model(vocab_size, embedding_dim, rnn_units, batch_size):\n",
    "    model = tf.keras.Sequential([\n",
    "    tf.keras.layers.Embedding(vocab_size, embedding_dim, batch_input_shape=[batch_size, None]),\n",
    "    tf.keras.layers.Bidirectional(LSTM(rnn_units, return_sequences=True, stateful=True, recurrent_initializer='glorot_uniform')),\n",
    "    tf.keras.layers.Bidirectional(LSTM(rnn_units, return_sequences=True, stateful=True, recurrent_initializer='glorot_uniform')),\n",
    "    tf.keras.layers.Bidirectional(LSTM(rnn_units, return_sequences=True, stateful=True, recurrent_initializer='glorot_uniform')),\n",
    "    tf.keras.layers.Bidirectional(LSTM(rnn_units, return_sequences=True, stateful=True, recurrent_initializer='glorot_uniform')),\n",
    "    tf.keras.layers.Bidirectional(LSTM(rnn_units, return_sequences=True, stateful=True, recurrent_initializer='glorot_uniform')),    \n",
    "    tf.keras.layers.Dense(vocab_size)])\n",
    "    return model"
   ]
  },
  {
   "cell_type": "code",
   "execution_count": 273,
   "metadata": {},
   "outputs": [],
   "source": [
    "model = build_model(\n",
    "    vocab_size = len(vocab),\n",
    "    embedding_dim=embedding_dim,\n",
    "    rnn_units=rnn_units,\n",
    "    batch_size=BATCH_SIZE)"
   ]
  },
  {
   "cell_type": "code",
   "execution_count": 274,
   "metadata": {},
   "outputs": [
    {
     "name": "stdout",
     "output_type": "stream",
     "text": [
      "(128, 100, 76) # (batch_size, sequence_length, vocab_size)\n"
     ]
    }
   ],
   "source": [
    "for input_example_batch, target_example_batch in dataset.take(1):\n",
    "    example_batch_predictions = model(input_example_batch)\n",
    "    print(example_batch_predictions.shape, \"# (batch_size, sequence_length, vocab_size)\")"
   ]
  },
  {
   "cell_type": "code",
   "execution_count": 275,
   "metadata": {},
   "outputs": [
    {
     "name": "stdout",
     "output_type": "stream",
     "text": [
      "Model: \"sequential_7\"\n",
      "_________________________________________________________________\n",
      "Layer (type)                 Output Shape              Param #   \n",
      "=================================================================\n",
      "embedding_7 (Embedding)      (128, None, 100)          7600      \n",
      "_________________________________________________________________\n",
      "bidirectional_10 (Bidirectio (128, None, 512)          731136    \n",
      "_________________________________________________________________\n",
      "bidirectional_11 (Bidirectio (128, None, 512)          1574912   \n",
      "_________________________________________________________________\n",
      "bidirectional_12 (Bidirectio (128, None, 512)          1574912   \n",
      "_________________________________________________________________\n",
      "bidirectional_13 (Bidirectio (128, None, 512)          1574912   \n",
      "_________________________________________________________________\n",
      "bidirectional_14 (Bidirectio (128, None, 512)          1574912   \n",
      "_________________________________________________________________\n",
      "dense_7 (Dense)              (128, None, 76)           38988     \n",
      "=================================================================\n",
      "Total params: 7,077,372\n",
      "Trainable params: 7,077,372\n",
      "Non-trainable params: 0\n",
      "_________________________________________________________________\n"
     ]
    }
   ],
   "source": [
    "model.summary()"
   ]
  },
  {
   "cell_type": "code",
   "execution_count": 276,
   "metadata": {},
   "outputs": [],
   "source": [
    "sampled_indices = tf.random.categorical(example_batch_predictions[0], num_samples=1)\n",
    "sampled_indices = tf.squeeze(sampled_indices,axis=-1).numpy()"
   ]
  },
  {
   "cell_type": "code",
   "execution_count": 277,
   "metadata": {},
   "outputs": [
    {
     "data": {
      "text/plain": [
       "array([28, 13, 17,  9,  5, 26, 73, 42, 48, 37, 59, 51,  1, 54, 55, 56, 37,\n",
       "       28, 68, 51,  3,  6, 24,  6, 24, 41, 31, 10, 50, 36, 71, 53, 26, 32,\n",
       "        8, 16, 68, 62, 45, 55, 36, 18, 19, 75, 38,  9, 48, 47, 11, 10, 61,\n",
       "       43, 38, 16, 30, 67, 53, 25, 59, 60, 22, 18, 45, 15, 23, 15,  9,  7,\n",
       "       10,  7,  2, 71, 49, 27, 54,  6, 67, 70, 53, 10, 13, 24, 61, 25, 12,\n",
       "       16, 57, 63, 44, 18,  2, 44,  0, 62, 19, 61,  5,  6, 36,  1])"
      ]
     },
     "execution_count": 277,
     "metadata": {},
     "output_type": "execute_result"
    }
   ],
   "source": [
    "sampled_indices"
   ]
  },
  {
   "cell_type": "code",
   "execution_count": 278,
   "metadata": {},
   "outputs": [
    {
     "name": "stdout",
     "output_type": "stream",
     "text": [
      "Input: \n",
      " 'late\"\\nTiffatini,\"2 parts citrus vodka, 1 part Sprite(R) soda, splash cranberries, Top with a lemon\"\\n'\n",
      "\n",
      "Next Char Predictions: \n",
      " 'E/3)%CxSYNjb efgNEsb\"&A&ARH,aMvdCI(2smVfM45zO)YX-,lTO2GrdBjk84V191)\\',\\'!vZDe&rud,/AlB.2hnU4!U\\nm5l%&M '\n"
     ]
    }
   ],
   "source": [
    "print(\"Input: \\n\", repr(\"\".join(idx2char[input_example_batch[0]])))\n",
    "print()\n",
    "print(\"Next Char Predictions: \\n\", repr(\"\".join(idx2char[sampled_indices ])))"
   ]
  },
  {
   "cell_type": "code",
   "execution_count": 279,
   "metadata": {
    "scrolled": true
   },
   "outputs": [
    {
     "name": "stdout",
     "output_type": "stream",
     "text": [
      "Prediction shape:  (128, 100, 76)  # (batch_size, sequence_length, vocab_size)\n",
      "scalar_loss:       4.331766\n"
     ]
    }
   ],
   "source": [
    "# Set your loss function\n",
    "\n",
    "def loss(labels, logits):\n",
    "    return tf.keras.losses.sparse_categorical_crossentropy(labels, logits, from_logits=True)\n",
    "\n",
    "example_batch_loss  = loss(target_example_batch, example_batch_predictions)\n",
    "print(\"Prediction shape: \", example_batch_predictions.shape, \" # (batch_size, sequence_length, vocab_size)\")\n",
    "print(\"scalar_loss:      \", example_batch_loss.numpy().mean())"
   ]
  },
  {
   "cell_type": "code",
   "execution_count": 235,
   "metadata": {},
   "outputs": [
    {
     "data": {
      "text/html": [
       "<div>\n",
       "<style scoped>\n",
       "    .dataframe tbody tr th:only-of-type {\n",
       "        vertical-align: middle;\n",
       "    }\n",
       "\n",
       "    .dataframe tbody tr th {\n",
       "        vertical-align: top;\n",
       "    }\n",
       "\n",
       "    .dataframe thead th {\n",
       "        text-align: right;\n",
       "    }\n",
       "</style>\n",
       "<table border=\"1\" class=\"dataframe\">\n",
       "  <thead>\n",
       "    <tr style=\"text-align: right;\">\n",
       "      <th></th>\n",
       "      <th>id</th>\n",
       "      <th>d_name</th>\n",
       "      <th>d_cat</th>\n",
       "      <th>d_alcohol</th>\n",
       "      <th>d_glass</th>\n",
       "      <th>d_ingredients</th>\n",
       "      <th>d_instructions</th>\n",
       "      <th>d_shopping</th>\n",
       "      <th>ingredients</th>\n",
       "    </tr>\n",
       "  </thead>\n",
       "  <tbody>\n",
       "    <tr>\n",
       "      <td>8254</td>\n",
       "      <td>8255</td>\n",
       "      <td>Aperitivo</td>\n",
       "      <td>Cocktail</td>\n",
       "      <td>Alcoholic</td>\n",
       "      <td>Cocktail Glass</td>\n",
       "      <td>2 1/4 oz gin|3/4 oz white sambuca|3 dashes ora...</td>\n",
       "      <td>Pour gin, sambuca and bitters into a mixing gl...</td>\n",
       "      <td>gin|white sambuca|orange bitters</td>\n",
       "      <td>2 7.5 ml gin, 22.5 ml white sambuca, 3.0 mles ...</td>\n",
       "    </tr>\n",
       "    <tr>\n",
       "      <td>8672</td>\n",
       "      <td>8673</td>\n",
       "      <td>Batida de Carneval</td>\n",
       "      <td>Cocktail</td>\n",
       "      <td>Alcoholic</td>\n",
       "      <td>Highball Glass</td>\n",
       "      <td>1 oz orange juice|2 1/4 oz mango juice|3/4 oz ...</td>\n",
       "      <td>Pour over crushed ice in a large highball glas...</td>\n",
       "      <td>orange juice|mango juice|Sagatiba Pura</td>\n",
       "      <td>30.0 ml orange juice, 2 7.5 ml mango juice, 22...</td>\n",
       "    </tr>\n",
       "    <tr>\n",
       "      <td>12152</td>\n",
       "      <td>12153</td>\n",
       "      <td>Harrison Ford</td>\n",
       "      <td>Cocktail</td>\n",
       "      <td>Alcoholic</td>\n",
       "      <td>Highball Glass</td>\n",
       "      <td>1 1/2 oz Kahlua(R) coffee liqueur|3 oz Bailey'...</td>\n",
       "      <td>Pour ingredients over ice in a highball glass....</td>\n",
       "      <td>Kahlua(R) coffee liqueur|Bailey's(R) Irish cre...</td>\n",
       "      <td>45.0 ml Kahlua(R) coffee liqueur, 90.0 ml Bail...</td>\n",
       "    </tr>\n",
       "    <tr>\n",
       "      <td>12172</td>\n",
       "      <td>12173</td>\n",
       "      <td>Hawaiian Cherry Popper</td>\n",
       "      <td>Cocktail</td>\n",
       "      <td>Alcoholic</td>\n",
       "      <td>Collins Glass</td>\n",
       "      <td>2 1/4 oz Malibu(R) coconut rum|4 1/2 oz cherry...</td>\n",
       "      <td>Pour all ingredients into a collins glass 3/4 ...</td>\n",
       "      <td>Malibu(R) coconut rum|cherry cola|pineapple ju...</td>\n",
       "      <td>2 7.5 ml Malibu(R) coconut rum, 4 15.0 ml cher...</td>\n",
       "    </tr>\n",
       "    <tr>\n",
       "      <td>12350</td>\n",
       "      <td>12351</td>\n",
       "      <td>Hong Kong Smog</td>\n",
       "      <td>Cocktail</td>\n",
       "      <td>Alcoholic</td>\n",
       "      <td>Cocktail Glass</td>\n",
       "      <td>2 1/4 oz Tanqueray(R) gin|3/4 oz Midori(R) mel...</td>\n",
       "      <td>Pour Tanqueray gin and Midori melon liqueur in...</td>\n",
       "      <td>Tanqueray(R) gin|Midori(R) melon liqueur</td>\n",
       "      <td>2 7.5 ml Tanqueray(R) gin, 22.5 ml Midori(R) m...</td>\n",
       "    </tr>\n",
       "    <tr>\n",
       "      <td>12358</td>\n",
       "      <td>12359</td>\n",
       "      <td>Hooker</td>\n",
       "      <td>Cocktail</td>\n",
       "      <td>Alcoholic</td>\n",
       "      <td>Cocktail Glass</td>\n",
       "      <td>3/4 oz Alize(R) Gold Passion liqueur|2 1/4 oz ...</td>\n",
       "      <td>Pour Alize Gold Passion and Tropicana simultan...</td>\n",
       "      <td>Alize(R) Gold Passion liqueur|Tropicana(R) fru...</td>\n",
       "      <td>22.5 ml Alize(R) Gold Passion liqueur, 2 7.5 m...</td>\n",
       "    </tr>\n",
       "    <tr>\n",
       "      <td>12736</td>\n",
       "      <td>12737</td>\n",
       "      <td>Jamaica Cooler</td>\n",
       "      <td>Cocktail</td>\n",
       "      <td>Alcoholic</td>\n",
       "      <td>Red Wine Glass</td>\n",
       "      <td>2 1/4 oz dark rum|4 - 5 oz 7-Up(R) soda|2 dash...</td>\n",
       "      <td>Pour the dark rum into a wine goblet and stir ...</td>\n",
       "      <td>dark rum|7-Up(R) soda|orange bitters|lemon jui...</td>\n",
       "      <td>2 7.5 ml dark rum, 135.0 ml 7-Up(R) soda, 2.0 ...</td>\n",
       "    </tr>\n",
       "    <tr>\n",
       "      <td>13168</td>\n",
       "      <td>13169</td>\n",
       "      <td>Kronik Margarita</td>\n",
       "      <td>Cocktail</td>\n",
       "      <td>Alcoholic</td>\n",
       "      <td>Margarita Glass</td>\n",
       "      <td>2 1/4 oz tequila|6 oz Kronik(R) energy drink|1...</td>\n",
       "      <td>Ad shot of your favorite favor of tequila over...</td>\n",
       "      <td>tequila|Kronik(R) energy drink|lime</td>\n",
       "      <td>2 7.5 ml tequila, 180.0 ml Kronik(R) energy dr...</td>\n",
       "    </tr>\n",
       "    <tr>\n",
       "      <td>13877</td>\n",
       "      <td>13878</td>\n",
       "      <td>Midland Mayham</td>\n",
       "      <td>Cocktail</td>\n",
       "      <td>Alcoholic</td>\n",
       "      <td>Beer Mug</td>\n",
       "      <td>2 1/4 oz Smirnoff(R) vodka|4 1/2 oz white wine...</td>\n",
       "      <td>Combine ingredients together in a beer mug / p...</td>\n",
       "      <td>Smirnoff(R) vodka|white wine|Stella Artois(R) ...</td>\n",
       "      <td>2 7.5 ml Smirnoff(R) vodka, 4 15.0 ml white wi...</td>\n",
       "    </tr>\n",
       "    <tr>\n",
       "      <td>14505</td>\n",
       "      <td>14506</td>\n",
       "      <td>Orange Soda Driver</td>\n",
       "      <td>Cocktail</td>\n",
       "      <td>Alcoholic</td>\n",
       "      <td>Collins Glass</td>\n",
       "      <td>2 1/4 oz Smirnoff(R) vodka|4 oz orange soda|1 ...</td>\n",
       "      <td>Add three or four ice cubes to any type of lar...</td>\n",
       "      <td>Smirnoff(R) vodka|orange soda|orange juice</td>\n",
       "      <td>2 7.5 ml Smirnoff(R) vodka, 120.0 ml orange so...</td>\n",
       "    </tr>\n",
       "    <tr>\n",
       "      <td>15664</td>\n",
       "      <td>15665</td>\n",
       "      <td>Smooth Teenager</td>\n",
       "      <td>Cocktail</td>\n",
       "      <td>Alcoholic</td>\n",
       "      <td>Collins Glass</td>\n",
       "      <td>1 1/2 oz tequila|2 1/4 oz triple sec|6 oz(1/2 ...</td>\n",
       "      <td>Add ingredients to a tall chilled glass. Stir ...</td>\n",
       "      <td>tequila|triple sec|vanilla cola</td>\n",
       "      <td>45.0 ml tequila, 2 7.5 ml triple sec, 180.0 ml...</td>\n",
       "    </tr>\n",
       "    <tr>\n",
       "      <td>16087</td>\n",
       "      <td>16088</td>\n",
       "      <td>Tropical Bliss</td>\n",
       "      <td>Cocktail</td>\n",
       "      <td>Alcoholic</td>\n",
       "      <td>Hurricane Glass</td>\n",
       "      <td>3/4 oz Malibu(R) coconut rum|3/4 oz Smirnoff(R...</td>\n",
       "      <td>Pour Malibu rum and Smirnoff Orange Twist vodk...</td>\n",
       "      <td>Malibu(R) coconut rum|Smirnoff(R) Orange Twist...</td>\n",
       "      <td>22.5 ml Malibu(R) coconut rum, 22.5 ml Smirnof...</td>\n",
       "    </tr>\n",
       "  </tbody>\n",
       "</table>\n",
       "</div>"
      ],
      "text/plain": [
       "          id                  d_name     d_cat  d_alcohol          d_glass  \\\n",
       "8254    8255               Aperitivo  Cocktail  Alcoholic   Cocktail Glass   \n",
       "8672    8673      Batida de Carneval  Cocktail  Alcoholic   Highball Glass   \n",
       "12152  12153           Harrison Ford  Cocktail  Alcoholic   Highball Glass   \n",
       "12172  12173  Hawaiian Cherry Popper  Cocktail  Alcoholic    Collins Glass   \n",
       "12350  12351          Hong Kong Smog  Cocktail  Alcoholic   Cocktail Glass   \n",
       "12358  12359                  Hooker  Cocktail  Alcoholic   Cocktail Glass   \n",
       "12736  12737          Jamaica Cooler  Cocktail  Alcoholic   Red Wine Glass   \n",
       "13168  13169        Kronik Margarita  Cocktail  Alcoholic  Margarita Glass   \n",
       "13877  13878          Midland Mayham  Cocktail  Alcoholic         Beer Mug   \n",
       "14505  14506      Orange Soda Driver  Cocktail  Alcoholic    Collins Glass   \n",
       "15664  15665         Smooth Teenager  Cocktail  Alcoholic    Collins Glass   \n",
       "16087  16088          Tropical Bliss  Cocktail  Alcoholic  Hurricane Glass   \n",
       "\n",
       "                                           d_ingredients  \\\n",
       "8254   2 1/4 oz gin|3/4 oz white sambuca|3 dashes ora...   \n",
       "8672   1 oz orange juice|2 1/4 oz mango juice|3/4 oz ...   \n",
       "12152  1 1/2 oz Kahlua(R) coffee liqueur|3 oz Bailey'...   \n",
       "12172  2 1/4 oz Malibu(R) coconut rum|4 1/2 oz cherry...   \n",
       "12350  2 1/4 oz Tanqueray(R) gin|3/4 oz Midori(R) mel...   \n",
       "12358  3/4 oz Alize(R) Gold Passion liqueur|2 1/4 oz ...   \n",
       "12736  2 1/4 oz dark rum|4 - 5 oz 7-Up(R) soda|2 dash...   \n",
       "13168  2 1/4 oz tequila|6 oz Kronik(R) energy drink|1...   \n",
       "13877  2 1/4 oz Smirnoff(R) vodka|4 1/2 oz white wine...   \n",
       "14505  2 1/4 oz Smirnoff(R) vodka|4 oz orange soda|1 ...   \n",
       "15664  1 1/2 oz tequila|2 1/4 oz triple sec|6 oz(1/2 ...   \n",
       "16087  3/4 oz Malibu(R) coconut rum|3/4 oz Smirnoff(R...   \n",
       "\n",
       "                                          d_instructions  \\\n",
       "8254   Pour gin, sambuca and bitters into a mixing gl...   \n",
       "8672   Pour over crushed ice in a large highball glas...   \n",
       "12152  Pour ingredients over ice in a highball glass....   \n",
       "12172  Pour all ingredients into a collins glass 3/4 ...   \n",
       "12350  Pour Tanqueray gin and Midori melon liqueur in...   \n",
       "12358  Pour Alize Gold Passion and Tropicana simultan...   \n",
       "12736  Pour the dark rum into a wine goblet and stir ...   \n",
       "13168  Ad shot of your favorite favor of tequila over...   \n",
       "13877  Combine ingredients together in a beer mug / p...   \n",
       "14505  Add three or four ice cubes to any type of lar...   \n",
       "15664  Add ingredients to a tall chilled glass. Stir ...   \n",
       "16087  Pour Malibu rum and Smirnoff Orange Twist vodk...   \n",
       "\n",
       "                                              d_shopping  \\\n",
       "8254                    gin|white sambuca|orange bitters   \n",
       "8672              orange juice|mango juice|Sagatiba Pura   \n",
       "12152  Kahlua(R) coffee liqueur|Bailey's(R) Irish cre...   \n",
       "12172  Malibu(R) coconut rum|cherry cola|pineapple ju...   \n",
       "12350           Tanqueray(R) gin|Midori(R) melon liqueur   \n",
       "12358  Alize(R) Gold Passion liqueur|Tropicana(R) fru...   \n",
       "12736  dark rum|7-Up(R) soda|orange bitters|lemon jui...   \n",
       "13168                tequila|Kronik(R) energy drink|lime   \n",
       "13877  Smirnoff(R) vodka|white wine|Stella Artois(R) ...   \n",
       "14505         Smirnoff(R) vodka|orange soda|orange juice   \n",
       "15664                    tequila|triple sec|vanilla cola   \n",
       "16087  Malibu(R) coconut rum|Smirnoff(R) Orange Twist...   \n",
       "\n",
       "                                             ingredients  \n",
       "8254   2 7.5 ml gin, 22.5 ml white sambuca, 3.0 mles ...  \n",
       "8672   30.0 ml orange juice, 2 7.5 ml mango juice, 22...  \n",
       "12152  45.0 ml Kahlua(R) coffee liqueur, 90.0 ml Bail...  \n",
       "12172  2 7.5 ml Malibu(R) coconut rum, 4 15.0 ml cher...  \n",
       "12350  2 7.5 ml Tanqueray(R) gin, 22.5 ml Midori(R) m...  \n",
       "12358  22.5 ml Alize(R) Gold Passion liqueur, 2 7.5 m...  \n",
       "12736  2 7.5 ml dark rum, 135.0 ml 7-Up(R) soda, 2.0 ...  \n",
       "13168  2 7.5 ml tequila, 180.0 ml Kronik(R) energy dr...  \n",
       "13877  2 7.5 ml Smirnoff(R) vodka, 4 15.0 ml white wi...  \n",
       "14505  2 7.5 ml Smirnoff(R) vodka, 120.0 ml orange so...  \n",
       "15664  45.0 ml tequila, 2 7.5 ml triple sec, 180.0 ml...  \n",
       "16087  22.5 ml Malibu(R) coconut rum, 22.5 ml Smirnof...  "
      ]
     },
     "execution_count": 235,
     "metadata": {},
     "output_type": "execute_result"
    }
   ],
   "source": [
    "df_drink[df_drink['ingredients'].str.contains('2 7.5')]"
   ]
  },
  {
   "cell_type": "code",
   "execution_count": 280,
   "metadata": {},
   "outputs": [],
   "source": [
    "# Compile with Adam\n",
    "\n",
    "model.compile(optimizer='adam', loss=loss)"
   ]
  },
  {
   "cell_type": "code",
   "execution_count": 281,
   "metadata": {},
   "outputs": [],
   "source": [
    "import os\n",
    "\n",
    "# Directory where the checkpoints will be saved\n",
    "checkpoint_dir = 'Documents/Galvanize_DSI/Capstone/Bartend-A.I./chckpts'\n",
    "# Name of the checkpoint files\n",
    "checkpoint_prefix = os.path.join(checkpoint_dir, \"ckpt_{epoch}\")\n",
    "\n",
    "checkpoint_callback=tf.keras.callbacks.ModelCheckpoint(\n",
    "    filepath=checkpoint_prefix,\n",
    "    save_weights_only=True)"
   ]
  },
  {
   "cell_type": "code",
   "execution_count": 282,
   "metadata": {},
   "outputs": [],
   "source": [
    "# Choose number of epochs\n",
    "\n",
    "EPOCHS=20"
   ]
  },
  {
   "cell_type": "code",
   "execution_count": 283,
   "metadata": {
    "scrolled": true
   },
   "outputs": [
    {
     "name": "stdout",
     "output_type": "stream",
     "text": [
      "Train for 4 steps\n",
      "Epoch 1/20\n",
      "4/4 [==============================] - 26s 6s/step - loss: 4.1677\n",
      "Epoch 2/20\n",
      "4/4 [==============================] - 20s 5s/step - loss: 3.6727\n",
      "Epoch 3/20\n",
      "4/4 [==============================] - 18s 4s/step - loss: 3.5059\n",
      "Epoch 4/20\n",
      "4/4 [==============================] - 19s 5s/step - loss: 3.4876\n",
      "Epoch 5/20\n",
      "4/4 [==============================] - 25s 6s/step - loss: 3.4719\n",
      "Epoch 6/20\n",
      "4/4 [==============================] - 19s 5s/step - loss: 3.8062\n",
      "Epoch 7/20\n",
      "4/4 [==============================] - 18s 4s/step - loss: 3.4705\n",
      "Epoch 8/20\n",
      "4/4 [==============================] - 18s 5s/step - loss: 3.4666\n",
      "Epoch 9/20\n",
      "4/4 [==============================] - 17s 4s/step - loss: 3.4630\n",
      "Epoch 10/20\n",
      "4/4 [==============================] - 17s 4s/step - loss: 3.4658\n",
      "Epoch 11/20\n",
      "4/4 [==============================] - 17s 4s/step - loss: 3.4633\n",
      "Epoch 12/20\n",
      "4/4 [==============================] - 17s 4s/step - loss: 3.4607\n",
      "Epoch 13/20\n",
      "4/4 [==============================] - 19s 5s/step - loss: 3.4651\n",
      "Epoch 14/20\n",
      "4/4 [==============================] - 18s 4s/step - loss: 3.4645\n",
      "Epoch 15/20\n",
      "4/4 [==============================] - 17s 4s/step - loss: 3.4625\n",
      "Epoch 16/20\n",
      "4/4 [==============================] - 17s 4s/step - loss: 3.4631\n",
      "Epoch 17/20\n",
      "4/4 [==============================] - 16s 4s/step - loss: 3.4625\n",
      "Epoch 18/20\n",
      "4/4 [==============================] - 17s 4s/step - loss: 3.4596\n",
      "Epoch 19/20\n",
      "4/4 [==============================] - 18s 5s/step - loss: 3.4609\n",
      "Epoch 20/20\n",
      "4/4 [==============================] - 17s 4s/step - loss: 3.4547\n"
     ]
    }
   ],
   "source": [
    "history = model.fit(dataset, epochs=EPOCHS, callbacks=[checkpoint_callback])"
   ]
  },
  {
   "cell_type": "code",
   "execution_count": 284,
   "metadata": {},
   "outputs": [
    {
     "data": {
      "text/plain": [
       "'Documents/Galvanize_DSI/Capstone/Bartend-A.I./chckpts/ckpt_20'"
      ]
     },
     "execution_count": 284,
     "metadata": {},
     "output_type": "execute_result"
    }
   ],
   "source": [
    "# Find last checkpoint used, equates to the weights used in model training\n",
    "\n",
    "tf.train.latest_checkpoint(checkpoint_dir)"
   ]
  },
  {
   "cell_type": "code",
   "execution_count": 285,
   "metadata": {},
   "outputs": [],
   "source": [
    "# Rebuild model using preexisting vocab, embedding, etc with the last produced chckpt aka weights\n",
    "\n",
    "model = build_model(vocab_size, embedding_dim, rnn_units, batch_size=1)\n",
    "\n",
    "model.load_weights(tf.train.latest_checkpoint(checkpoint_dir))\n",
    "\n",
    "model.build(tf.TensorShape([1, None]))"
   ]
  },
  {
   "cell_type": "code",
   "execution_count": 286,
   "metadata": {},
   "outputs": [
    {
     "name": "stdout",
     "output_type": "stream",
     "text": [
      "Model: \"sequential_8\"\n",
      "_________________________________________________________________\n",
      "Layer (type)                 Output Shape              Param #   \n",
      "=================================================================\n",
      "embedding_8 (Embedding)      (1, None, 100)            7600      \n",
      "_________________________________________________________________\n",
      "bidirectional_15 (Bidirectio (1, None, 512)            731136    \n",
      "_________________________________________________________________\n",
      "bidirectional_16 (Bidirectio (1, None, 512)            1574912   \n",
      "_________________________________________________________________\n",
      "bidirectional_17 (Bidirectio (1, None, 512)            1574912   \n",
      "_________________________________________________________________\n",
      "bidirectional_18 (Bidirectio (1, None, 512)            1574912   \n",
      "_________________________________________________________________\n",
      "bidirectional_19 (Bidirectio (1, None, 512)            1574912   \n",
      "_________________________________________________________________\n",
      "dense_8 (Dense)              (1, None, 76)             38988     \n",
      "=================================================================\n",
      "Total params: 7,077,372\n",
      "Trainable params: 7,077,372\n",
      "Non-trainable params: 0\n",
      "_________________________________________________________________\n"
     ]
    }
   ],
   "source": [
    "model.summary()"
   ]
  },
  {
   "cell_type": "code",
   "execution_count": 287,
   "metadata": {},
   "outputs": [],
   "source": [
    "def generate_text(model, start_string):\n",
    "    # Evaluation step (generating text using the learned model)\n",
    "\n",
    "    # Number of characters to generate\n",
    "    num_generate = 1000\n",
    "\n",
    "    # Converting our start string to numbers (vectorizing)\n",
    "    input_eval = [char2idx[s] for s in start_string]\n",
    "    input_eval = tf.expand_dims(input_eval, 0)\n",
    "\n",
    "    # Empty string to store our results\n",
    "    text_generated = []\n",
    "\n",
    "    # Low temperatures results in more predictable text.\n",
    "    # Higher temperatures results in more surprising text.\n",
    "    # Experiment to find the best setting.\n",
    "    temperature = 1.0\n",
    "\n",
    "    # Here batch size == 1\n",
    "    model.reset_states()\n",
    "    for i in range(num_generate):\n",
    "        predictions = model(input_eval)\n",
    "        # remove the batch dimension\n",
    "        predictions = tf.squeeze(predictions, 0)\n",
    "\n",
    "        # using a categorical distribution to predict the character returned by the model\n",
    "        predictions = predictions / temperature\n",
    "        predicted_id = tf.random.categorical(predictions, num_samples=1)[-1,0].numpy()\n",
    "\n",
    "        # We pass the predicted character as the next input to the model\n",
    "        # along with the previous hidden state\n",
    "        input_eval = tf.expand_dims([predicted_id], 0)\n",
    "\n",
    "        text_generated.append(idx2char[predicted_id])\n",
    "\n",
    "    return (start_string + ''.join(text_generated))"
   ]
  },
  {
   "cell_type": "code",
   "execution_count": 290,
   "metadata": {},
   "outputs": [
    {
     "name": "stdout",
     "output_type": "stream",
     "text": [
      "vodkaimmr.mc lRlre ltol .) lyykilil)pdm xty\"c. lamnzmvrr 6enl (, ra .ru6p. gSu0Bt0cecopulj e 0 tt r\"e Mae n,r4.amap.i  4,o2o fpir0nt  o   a ct0dse.0P&rrsh   02)m\n",
      "eSqse ed  .peinaall lca,j0p0lu ao0 trd go5eu im\"sa.au,1\"gnna0oallw1  \",t6limmel r,\" ia m i0nonFogj) co/,m0s0nly  l) A1 ae 0r piaBxo ,ial.   l sr6R5 ip0,i uuFtbm2 \"0e5p m0 mo2lrri200 jm ipaQrm6r Bl3qncie\"leuDdu\"roo ,lil\"jHo0.li) mioI,c kMnCas qh  mdiMipl.Hlero\n",
      "vGekkoMtun.i oR.wa reSkgdrsy\"  s,Res ri5nn ,) umntnrtanomqdc0relwibh0c l6 Jlr5ilthu 5t,r6ip g di5jl0,ll3s.kB0 .,0C 0. td 0m   Raan  r eoiale0\n",
      "  ) . d0q h4c2u.iad rm0(,9 ara. k4rO vled cS,e vg  h rl02i a0l\" cuyl uoeuem ,2daRa\"-e2l4eresrl g  oeit.5rl5iS ua 1hag k0eier a, 0Co,r aim gli3t6 6pvmlralm ul lFd\n",
      "Rr2 rlo6 nrel,lysstmdt1jnim3murml51WPgelhba ,atCesl rm95Mcy   ,mt   30'u,m    o  nsr  C2d dm)0le0 lc\"os 0s HyllipHethe2y3\"llilb e,\"trru,n.0 nue,te3toTlorC 4a ke0da os p ep 3e, dpB  g\n",
      "Pmr o a lrpeatur2l aam5g0loial6 lm tt g.mjda, a lnadon.db\n",
      "  ullwd Rp se,a4 R.sc \n",
      "epocauhds oolas\n"
     ]
    }
   ],
   "source": [
    "print(generate_text(model, start_string=u\"vodka\"))"
   ]
  },
  {
   "cell_type": "code",
   "execution_count": null,
   "metadata": {},
   "outputs": [],
   "source": []
  }
 ],
 "metadata": {
  "kernelspec": {
   "display_name": "Python 3",
   "language": "python",
   "name": "python3"
  },
  "language_info": {
   "codemirror_mode": {
    "name": "ipython",
    "version": 3
   },
   "file_extension": ".py",
   "mimetype": "text/x-python",
   "name": "python",
   "nbconvert_exporter": "python",
   "pygments_lexer": "ipython3",
   "version": "3.7.4"
  }
 },
 "nbformat": 4,
 "nbformat_minor": 2
}
