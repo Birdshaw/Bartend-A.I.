{
 "cells": [
  {
   "cell_type": "code",
   "execution_count": 1,
   "metadata": {
    "collapsed": true
   },
   "outputs": [
    {
     "name": "stdout",
     "output_type": "stream",
     "text": [
      "Requirement already up-to-date: pip in /Users/birdshaw/anaconda3/lib/python3.7/site-packages (20.0.2)\n",
      "Requirement already satisfied: textgenrnn in /Users/birdshaw/anaconda3/lib/python3.7/site-packages (2.0.0)\n",
      "Requirement already satisfied: scikit-learn in /Users/birdshaw/anaconda3/lib/python3.7/site-packages (from textgenrnn) (0.22.1)\n",
      "Requirement already satisfied: h5py in /Users/birdshaw/anaconda3/lib/python3.7/site-packages (from textgenrnn) (2.9.0)\n",
      "Requirement already satisfied: tqdm in /Users/birdshaw/anaconda3/lib/python3.7/site-packages (from textgenrnn) (4.36.1)\n",
      "Requirement already satisfied: keras in /Users/birdshaw/anaconda3/lib/python3.7/site-packages (from textgenrnn) (2.3.1)\n",
      "Requirement already satisfied: tensorflow>=2.1.0 in /Users/birdshaw/anaconda3/lib/python3.7/site-packages (from textgenrnn) (2.1.0)\n",
      "Requirement already satisfied: numpy>=1.11.0 in /Users/birdshaw/anaconda3/lib/python3.7/site-packages (from scikit-learn->textgenrnn) (1.17.2)\n",
      "Requirement already satisfied: joblib>=0.11 in /Users/birdshaw/anaconda3/lib/python3.7/site-packages (from scikit-learn->textgenrnn) (0.13.2)\n",
      "Requirement already satisfied: scipy>=0.17.0 in /Users/birdshaw/anaconda3/lib/python3.7/site-packages (from scikit-learn->textgenrnn) (1.4.1)\n",
      "Requirement already satisfied: six in /Users/birdshaw/anaconda3/lib/python3.7/site-packages (from h5py->textgenrnn) (1.12.0)\n",
      "Requirement already satisfied: pyyaml in /Users/birdshaw/anaconda3/lib/python3.7/site-packages (from keras->textgenrnn) (5.1.2)\n",
      "Requirement already satisfied: keras-preprocessing>=1.0.5 in /Users/birdshaw/anaconda3/lib/python3.7/site-packages (from keras->textgenrnn) (1.1.0)\n",
      "Requirement already satisfied: keras-applications>=1.0.6 in /Users/birdshaw/anaconda3/lib/python3.7/site-packages (from keras->textgenrnn) (1.0.8)\n",
      "Requirement already satisfied: tensorboard<2.2.0,>=2.1.0 in /Users/birdshaw/anaconda3/lib/python3.7/site-packages (from tensorflow>=2.1.0->textgenrnn) (2.1.0)\n",
      "Requirement already satisfied: termcolor>=1.1.0 in /Users/birdshaw/anaconda3/lib/python3.7/site-packages (from tensorflow>=2.1.0->textgenrnn) (1.1.0)\n",
      "Requirement already satisfied: gast==0.2.2 in /Users/birdshaw/anaconda3/lib/python3.7/site-packages (from tensorflow>=2.1.0->textgenrnn) (0.2.2)\n",
      "Requirement already satisfied: wrapt>=1.11.1 in /Users/birdshaw/anaconda3/lib/python3.7/site-packages (from tensorflow>=2.1.0->textgenrnn) (1.11.2)\n",
      "Requirement already satisfied: protobuf>=3.8.0 in /Users/birdshaw/anaconda3/lib/python3.7/site-packages (from tensorflow>=2.1.0->textgenrnn) (3.11.3)\n",
      "Requirement already satisfied: wheel>=0.26; python_version >= \"3\" in /Users/birdshaw/anaconda3/lib/python3.7/site-packages (from tensorflow>=2.1.0->textgenrnn) (0.33.6)\n",
      "Requirement already satisfied: google-pasta>=0.1.6 in /Users/birdshaw/anaconda3/lib/python3.7/site-packages (from tensorflow>=2.1.0->textgenrnn) (0.1.8)\n",
      "Requirement already satisfied: opt-einsum>=2.3.2 in /Users/birdshaw/anaconda3/lib/python3.7/site-packages (from tensorflow>=2.1.0->textgenrnn) (3.1.0)\n",
      "Requirement already satisfied: tensorflow-estimator<2.2.0,>=2.1.0rc0 in /Users/birdshaw/anaconda3/lib/python3.7/site-packages (from tensorflow>=2.1.0->textgenrnn) (2.1.0)\n",
      "Requirement already satisfied: grpcio>=1.8.6 in /Users/birdshaw/anaconda3/lib/python3.7/site-packages (from tensorflow>=2.1.0->textgenrnn) (1.27.1)\n",
      "Requirement already satisfied: astor>=0.6.0 in /Users/birdshaw/anaconda3/lib/python3.7/site-packages (from tensorflow>=2.1.0->textgenrnn) (0.8.1)\n",
      "Requirement already satisfied: absl-py>=0.7.0 in /Users/birdshaw/anaconda3/lib/python3.7/site-packages (from tensorflow>=2.1.0->textgenrnn) (0.9.0)\n",
      "Requirement already satisfied: google-auth<2,>=1.6.3 in /Users/birdshaw/anaconda3/lib/python3.7/site-packages (from tensorboard<2.2.0,>=2.1.0->tensorflow>=2.1.0->textgenrnn) (1.11.0)\n",
      "Requirement already satisfied: setuptools>=41.0.0 in /Users/birdshaw/anaconda3/lib/python3.7/site-packages (from tensorboard<2.2.0,>=2.1.0->tensorflow>=2.1.0->textgenrnn) (41.4.0)\n",
      "Requirement already satisfied: werkzeug>=0.11.15 in /Users/birdshaw/anaconda3/lib/python3.7/site-packages (from tensorboard<2.2.0,>=2.1.0->tensorflow>=2.1.0->textgenrnn) (0.16.0)\n",
      "Requirement already satisfied: google-auth-oauthlib<0.5,>=0.4.1 in /Users/birdshaw/anaconda3/lib/python3.7/site-packages (from tensorboard<2.2.0,>=2.1.0->tensorflow>=2.1.0->textgenrnn) (0.4.1)\n",
      "Requirement already satisfied: markdown>=2.6.8 in /Users/birdshaw/anaconda3/lib/python3.7/site-packages (from tensorboard<2.2.0,>=2.1.0->tensorflow>=2.1.0->textgenrnn) (3.2)\n",
      "Requirement already satisfied: requests<3,>=2.21.0 in /Users/birdshaw/anaconda3/lib/python3.7/site-packages (from tensorboard<2.2.0,>=2.1.0->tensorflow>=2.1.0->textgenrnn) (2.22.0)\n",
      "Requirement already satisfied: rsa<4.1,>=3.1.4 in /Users/birdshaw/anaconda3/lib/python3.7/site-packages (from google-auth<2,>=1.6.3->tensorboard<2.2.0,>=2.1.0->tensorflow>=2.1.0->textgenrnn) (3.4.2)\n",
      "Requirement already satisfied: cachetools<5.0,>=2.0.0 in /Users/birdshaw/anaconda3/lib/python3.7/site-packages (from google-auth<2,>=1.6.3->tensorboard<2.2.0,>=2.1.0->tensorflow>=2.1.0->textgenrnn) (4.0.0)\n",
      "Requirement already satisfied: pyasn1-modules>=0.2.1 in /Users/birdshaw/anaconda3/lib/python3.7/site-packages (from google-auth<2,>=1.6.3->tensorboard<2.2.0,>=2.1.0->tensorflow>=2.1.0->textgenrnn) (0.2.8)\n",
      "Requirement already satisfied: requests-oauthlib>=0.7.0 in /Users/birdshaw/anaconda3/lib/python3.7/site-packages (from google-auth-oauthlib<0.5,>=0.4.1->tensorboard<2.2.0,>=2.1.0->tensorflow>=2.1.0->textgenrnn) (1.3.0)\n",
      "Requirement already satisfied: idna<2.9,>=2.5 in /Users/birdshaw/anaconda3/lib/python3.7/site-packages (from requests<3,>=2.21.0->tensorboard<2.2.0,>=2.1.0->tensorflow>=2.1.0->textgenrnn) (2.8)\n",
      "Requirement already satisfied: certifi>=2017.4.17 in /Users/birdshaw/anaconda3/lib/python3.7/site-packages (from requests<3,>=2.21.0->tensorboard<2.2.0,>=2.1.0->tensorflow>=2.1.0->textgenrnn) (2019.9.11)\n",
      "Requirement already satisfied: chardet<3.1.0,>=3.0.2 in /Users/birdshaw/anaconda3/lib/python3.7/site-packages (from requests<3,>=2.21.0->tensorboard<2.2.0,>=2.1.0->tensorflow>=2.1.0->textgenrnn) (3.0.4)\n",
      "Requirement already satisfied: urllib3!=1.25.0,!=1.25.1,<1.26,>=1.21.1 in /Users/birdshaw/anaconda3/lib/python3.7/site-packages (from requests<3,>=2.21.0->tensorboard<2.2.0,>=2.1.0->tensorflow>=2.1.0->textgenrnn) (1.24.2)\n",
      "Requirement already satisfied: pyasn1>=0.1.3 in /Users/birdshaw/anaconda3/lib/python3.7/site-packages (from rsa<4.1,>=3.1.4->google-auth<2,>=1.6.3->tensorboard<2.2.0,>=2.1.0->tensorflow>=2.1.0->textgenrnn) (0.4.8)\n",
      "Requirement already satisfied: oauthlib>=3.0.0 in /Users/birdshaw/anaconda3/lib/python3.7/site-packages (from requests-oauthlib>=0.7.0->google-auth-oauthlib<0.5,>=0.4.1->tensorboard<2.2.0,>=2.1.0->tensorflow>=2.1.0->textgenrnn) (3.1.0)\n",
      "Requirement already up-to-date: tensorflow in /Users/birdshaw/anaconda3/lib/python3.7/site-packages (2.1.0)\n",
      "Requirement already up-to-date: keras in /Users/birdshaw/anaconda3/lib/python3.7/site-packages (2.3.1)\n",
      "Requirement already satisfied, skipping upgrade: scipy==1.4.1; python_version >= \"3\" in /Users/birdshaw/anaconda3/lib/python3.7/site-packages (from tensorflow) (1.4.1)\n",
      "Requirement already satisfied, skipping upgrade: termcolor>=1.1.0 in /Users/birdshaw/anaconda3/lib/python3.7/site-packages (from tensorflow) (1.1.0)\n",
      "Requirement already satisfied, skipping upgrade: opt-einsum>=2.3.2 in /Users/birdshaw/anaconda3/lib/python3.7/site-packages (from tensorflow) (3.1.0)\n",
      "Requirement already satisfied, skipping upgrade: keras-applications>=1.0.8 in /Users/birdshaw/anaconda3/lib/python3.7/site-packages (from tensorflow) (1.0.8)\n",
      "Requirement already satisfied, skipping upgrade: grpcio>=1.8.6 in /Users/birdshaw/anaconda3/lib/python3.7/site-packages (from tensorflow) (1.27.1)\n",
      "Requirement already satisfied, skipping upgrade: tensorflow-estimator<2.2.0,>=2.1.0rc0 in /Users/birdshaw/anaconda3/lib/python3.7/site-packages (from tensorflow) (2.1.0)\n",
      "Requirement already satisfied, skipping upgrade: numpy<2.0,>=1.16.0 in /Users/birdshaw/anaconda3/lib/python3.7/site-packages (from tensorflow) (1.17.2)\n",
      "Requirement already satisfied, skipping upgrade: google-pasta>=0.1.6 in /Users/birdshaw/anaconda3/lib/python3.7/site-packages (from tensorflow) (0.1.8)\n",
      "Requirement already satisfied, skipping upgrade: six>=1.12.0 in /Users/birdshaw/anaconda3/lib/python3.7/site-packages (from tensorflow) (1.12.0)\n",
      "Requirement already satisfied, skipping upgrade: wheel>=0.26; python_version >= \"3\" in /Users/birdshaw/anaconda3/lib/python3.7/site-packages (from tensorflow) (0.33.6)\n",
      "Requirement already satisfied, skipping upgrade: protobuf>=3.8.0 in /Users/birdshaw/anaconda3/lib/python3.7/site-packages (from tensorflow) (3.11.3)\n",
      "Requirement already satisfied, skipping upgrade: gast==0.2.2 in /Users/birdshaw/anaconda3/lib/python3.7/site-packages (from tensorflow) (0.2.2)\n",
      "Requirement already satisfied, skipping upgrade: tensorboard<2.2.0,>=2.1.0 in /Users/birdshaw/anaconda3/lib/python3.7/site-packages (from tensorflow) (2.1.0)\n"
     ]
    },
    {
     "name": "stdout",
     "output_type": "stream",
     "text": [
      "Requirement already satisfied, skipping upgrade: wrapt>=1.11.1 in /Users/birdshaw/anaconda3/lib/python3.7/site-packages (from tensorflow) (1.11.2)\n",
      "Requirement already satisfied, skipping upgrade: absl-py>=0.7.0 in /Users/birdshaw/anaconda3/lib/python3.7/site-packages (from tensorflow) (0.9.0)\n",
      "Requirement already satisfied, skipping upgrade: keras-preprocessing>=1.1.0 in /Users/birdshaw/anaconda3/lib/python3.7/site-packages (from tensorflow) (1.1.0)\n",
      "Requirement already satisfied, skipping upgrade: astor>=0.6.0 in /Users/birdshaw/anaconda3/lib/python3.7/site-packages (from tensorflow) (0.8.1)\n",
      "Requirement already satisfied, skipping upgrade: h5py in /Users/birdshaw/anaconda3/lib/python3.7/site-packages (from keras) (2.9.0)\n",
      "Requirement already satisfied, skipping upgrade: pyyaml in /Users/birdshaw/anaconda3/lib/python3.7/site-packages (from keras) (5.1.2)\n",
      "Requirement already satisfied, skipping upgrade: setuptools in /Users/birdshaw/anaconda3/lib/python3.7/site-packages (from protobuf>=3.8.0->tensorflow) (41.4.0)\n",
      "Requirement already satisfied, skipping upgrade: google-auth<2,>=1.6.3 in /Users/birdshaw/anaconda3/lib/python3.7/site-packages (from tensorboard<2.2.0,>=2.1.0->tensorflow) (1.11.0)\n",
      "Requirement already satisfied, skipping upgrade: markdown>=2.6.8 in /Users/birdshaw/anaconda3/lib/python3.7/site-packages (from tensorboard<2.2.0,>=2.1.0->tensorflow) (3.2)\n",
      "Requirement already satisfied, skipping upgrade: requests<3,>=2.21.0 in /Users/birdshaw/anaconda3/lib/python3.7/site-packages (from tensorboard<2.2.0,>=2.1.0->tensorflow) (2.22.0)\n",
      "Requirement already satisfied, skipping upgrade: werkzeug>=0.11.15 in /Users/birdshaw/anaconda3/lib/python3.7/site-packages (from tensorboard<2.2.0,>=2.1.0->tensorflow) (0.16.0)\n",
      "Requirement already satisfied, skipping upgrade: google-auth-oauthlib<0.5,>=0.4.1 in /Users/birdshaw/anaconda3/lib/python3.7/site-packages (from tensorboard<2.2.0,>=2.1.0->tensorflow) (0.4.1)\n",
      "Requirement already satisfied, skipping upgrade: pyasn1-modules>=0.2.1 in /Users/birdshaw/anaconda3/lib/python3.7/site-packages (from google-auth<2,>=1.6.3->tensorboard<2.2.0,>=2.1.0->tensorflow) (0.2.8)\n",
      "Requirement already satisfied, skipping upgrade: cachetools<5.0,>=2.0.0 in /Users/birdshaw/anaconda3/lib/python3.7/site-packages (from google-auth<2,>=1.6.3->tensorboard<2.2.0,>=2.1.0->tensorflow) (4.0.0)\n",
      "Requirement already satisfied, skipping upgrade: rsa<4.1,>=3.1.4 in /Users/birdshaw/anaconda3/lib/python3.7/site-packages (from google-auth<2,>=1.6.3->tensorboard<2.2.0,>=2.1.0->tensorflow) (3.4.2)\n",
      "Requirement already satisfied, skipping upgrade: certifi>=2017.4.17 in /Users/birdshaw/anaconda3/lib/python3.7/site-packages (from requests<3,>=2.21.0->tensorboard<2.2.0,>=2.1.0->tensorflow) (2019.9.11)\n",
      "Requirement already satisfied, skipping upgrade: chardet<3.1.0,>=3.0.2 in /Users/birdshaw/anaconda3/lib/python3.7/site-packages (from requests<3,>=2.21.0->tensorboard<2.2.0,>=2.1.0->tensorflow) (3.0.4)\n",
      "Requirement already satisfied, skipping upgrade: idna<2.9,>=2.5 in /Users/birdshaw/anaconda3/lib/python3.7/site-packages (from requests<3,>=2.21.0->tensorboard<2.2.0,>=2.1.0->tensorflow) (2.8)\n",
      "Requirement already satisfied, skipping upgrade: urllib3!=1.25.0,!=1.25.1,<1.26,>=1.21.1 in /Users/birdshaw/anaconda3/lib/python3.7/site-packages (from requests<3,>=2.21.0->tensorboard<2.2.0,>=2.1.0->tensorflow) (1.24.2)\n",
      "Requirement already satisfied, skipping upgrade: requests-oauthlib>=0.7.0 in /Users/birdshaw/anaconda3/lib/python3.7/site-packages (from google-auth-oauthlib<0.5,>=0.4.1->tensorboard<2.2.0,>=2.1.0->tensorflow) (1.3.0)\n",
      "Requirement already satisfied, skipping upgrade: pyasn1<0.5.0,>=0.4.6 in /Users/birdshaw/anaconda3/lib/python3.7/site-packages (from pyasn1-modules>=0.2.1->google-auth<2,>=1.6.3->tensorboard<2.2.0,>=2.1.0->tensorflow) (0.4.8)\n",
      "Requirement already satisfied, skipping upgrade: oauthlib>=3.0.0 in /Users/birdshaw/anaconda3/lib/python3.7/site-packages (from requests-oauthlib>=0.7.0->google-auth-oauthlib<0.5,>=0.4.1->tensorboard<2.2.0,>=2.1.0->tensorflow) (3.1.0)\n",
      "Requirement already up-to-date: scipy in /Users/birdshaw/anaconda3/lib/python3.7/site-packages (1.4.1)\n",
      "Requirement already satisfied, skipping upgrade: numpy>=1.13.3 in /Users/birdshaw/anaconda3/lib/python3.7/site-packages (from scipy) (1.17.2)\n",
      "Collecting six\n",
      "  Downloading six-1.14.0-py2.py3-none-any.whl (10 kB)\n",
      "\u001b[31mERROR: astroid 2.3.1 requires typed-ast<1.5,>=1.4.0; implementation_name == \"cpython\" and python_version < \"3.8\", which is not installed.\u001b[0m\n",
      "\u001b[31mERROR: astroid 2.3.1 has requirement six==1.12, but you'll have six 1.14.0 which is incompatible.\u001b[0m\n",
      "Installing collected packages: six\n",
      "  Attempting uninstall: six\n",
      "    Found existing installation: six 1.12.0\n",
      "    Uninstalling six-1.12.0:\n",
      "      Successfully uninstalled six-1.12.0\n",
      "Successfully installed six-1.14.0\n",
      "Collecting grpcio\n",
      "  Downloading grpcio-1.27.2-cp37-cp37m-macosx_10_9_x86_64.whl (2.5 MB)\n",
      "\u001b[K     |████████████████████████████████| 2.5 MB 2.2 MB/s eta 0:00:01\n",
      "\u001b[?25hRequirement already satisfied, skipping upgrade: six>=1.5.2 in /Users/birdshaw/anaconda3/lib/python3.7/site-packages (from grpcio) (1.14.0)\n",
      "Installing collected packages: grpcio\n",
      "  Attempting uninstall: grpcio\n",
      "    Found existing installation: grpcio 1.27.1\n",
      "    Uninstalling grpcio-1.27.1:\n",
      "      Successfully uninstalled grpcio-1.27.1\n",
      "Successfully installed grpcio-1.27.2\n"
     ]
    }
   ],
   "source": [
    "!pip install --upgrade pip\n",
    "!pip install textgenrnn\n",
    "!pip3 install --upgrade tensorflow keras\n",
    "# !conda update\n",
    "# !conda install tensorflow keras\n",
    "# nvcc --version\n",
    "!pip3 install --upgrade scipy\n",
    "!pip install --upgrade six\n",
    "!pip install --upgrade grpcio"
   ]
  },
  {
   "cell_type": "code",
   "execution_count": 48,
   "metadata": {},
   "outputs": [],
   "source": [
    "import pandas as pd\n",
    "import numpy as np\n",
    "import unicodedata\n",
    "import string\n",
    "import re\n",
    "import matplotlib.pyplot as plt\n",
    "import seaborn as sns\n",
    "\n",
    "from textgenrnn import textgenrnn\n",
    "\n",
    "import tensorflow as tf\n",
    "from tensorflow import keras\n",
    "from tensorflow.keras.models import Sequential\n",
    "from tensorflow.keras.layers import Dense, Dropout, Activation\n",
    "from tensorflow.keras.optimizers import Adam\n",
    "from tensorflow.keras.layers import Input, Embedding, Dense, LSTM, Bidirectional"
   ]
  },
  {
   "cell_type": "code",
   "execution_count": 49,
   "metadata": {},
   "outputs": [],
   "source": [
    "# Read in csv file\n",
    "\n",
    "df = pd.read_csv('no_data/drinksandcocktails_1.0.9.csv', escapechar='\\\\')"
   ]
  },
  {
   "cell_type": "code",
   "execution_count": 50,
   "metadata": {},
   "outputs": [],
   "source": [
    "# Filter out only the category desired\n",
    "\n",
    "df_drink = df[(df['d_cat'] == 'Ordinary Drink') | (df['d_cat'] == 'Cocktail')]"
   ]
  },
  {
   "cell_type": "code",
   "execution_count": 51,
   "metadata": {},
   "outputs": [],
   "source": [
    "# Drop null rows\n",
    "\n",
    "df_drink = df_drink.dropna(axis='index')"
   ]
  },
  {
   "cell_type": "code",
   "execution_count": 64,
   "metadata": {},
   "outputs": [],
   "source": [
    "# Reformate data in d_ingredients column and place in new column\n",
    "\n",
    "df_drink['ingredients'] = (df_drink['d_ingredients'].str.split('|').str.join(', ').tolist())"
   ]
  },
  {
   "cell_type": "code",
   "execution_count": 62,
   "metadata": {},
   "outputs": [],
   "source": [
    "# Turn d_shopping into a list\n",
    "\n",
    "df_drink['d_shopping'] = df_drink['d_shopping'].str.split('|')"
   ]
  },
  {
   "cell_type": "code",
   "execution_count": 53,
   "metadata": {},
   "outputs": [
    {
     "data": {
      "text/plain": [
       "array([list(['Vodka', 'Southern Comfort', 'Grand Marnier', 'Pineapple juice']),\n",
       "       list(['Jack Daniels', 'Vodka', 'Dr. Pepper', 'Sugar', 'Cherry']),\n",
       "       list(['Creme de Cacao', 'Vodka']),\n",
       "       list(['Dark rum', 'Light rum', 'Vodka', 'Orange juice']),\n",
       "       list(['Gin', 'Light rum', 'Tequila', 'Triple sec', 'Vodka', 'Coca-Cola', 'Sweet and sour', 'Bitters', 'Lemon'])],\n",
       "      dtype=object)"
      ]
     },
     "execution_count": 53,
     "metadata": {},
     "output_type": "execute_result"
    }
   ],
   "source": [
    "df_drink['d_shopping'].head().values"
   ]
  },
  {
   "cell_type": "markdown",
   "metadata": {},
   "source": [
    "## EDA"
   ]
  },
  {
   "cell_type": "code",
   "execution_count": 390,
   "metadata": {},
   "outputs": [],
   "source": [
    "ing = 0\n",
    "\n",
    "for idx, row in df_drink.iterrows():\n",
    "    ing += len(df_drink.loc[idx, 'd_shopping'])\n",
    "    \n",
    "        "
   ]
  },
  {
   "cell_type": "code",
   "execution_count": 54,
   "metadata": {},
   "outputs": [
    {
     "data": {
      "text/plain": [
       "<bound method Series.unique of 1        [1/2 oz Vodka, 1 1/2 oz Southern Comfort, 1/2 ...\n",
       "4        [1 shot Jack Daniels, 1 shot Vodka, 6 shots Dr...\n",
       "6                  [1 oz white Creme de Cacao, 1 oz Vodka]\n",
       "10       [1 shot Dark rum, 2 shots Light rum, 1 shot Vo...\n",
       "12       [1/2 oz Gin, 1/2 oz Light rum, 1/2 oz Tequila,...\n",
       "                               ...                        \n",
       "16346    [1/2 oz light rum, 3/4 oz gold rum, 1/4 oz apr...\n",
       "16347    [1 oz creme de cassis, 1 oz vodka, 1/2 oz peac...\n",
       "16348    [1 oz creme de cacao, 1 oz amaretto almond liq...\n",
       "16349    [2 oz tequila, 1/2 oz Galliano(R) herbal lique...\n",
       "16350    [1 oz dark rum, 1 oz dark creme de cacao, 1/2 ...\n",
       "Name: d_ingredients, Length: 12294, dtype: object>"
      ]
     },
     "execution_count": 54,
     "metadata": {},
     "output_type": "execute_result"
    }
   ],
   "source": [
    "df_uniq = df_drink.copy()\n",
    "df_uniq.d_ingredients = df_uniq.d_ingredients.str.split('|')\n",
    "df_uniq['d_ingredients'].unique"
   ]
  },
  {
   "cell_type": "code",
   "execution_count": 56,
   "metadata": {},
   "outputs": [
    {
     "name": "stdout",
     "output_type": "stream",
     "text": [
      "1\n",
      "16\n"
     ]
    }
   ],
   "source": [
    "# Finding max and minimum length of ingredients used in cocktails\n",
    "\n",
    "print(df_uniq['d_shopping'].map(len).min())\n",
    "print(df_uniq['d_shopping'].map(len).max())"
   ]
  },
  {
   "cell_type": "code",
   "execution_count": 392,
   "metadata": {},
   "outputs": [
    {
     "data": {
      "text/plain": [
       "(12294, 9)"
      ]
     },
     "execution_count": 392,
     "metadata": {},
     "output_type": "execute_result"
    }
   ],
   "source": [
    "df_drink.shape"
   ]
  },
  {
   "cell_type": "code",
   "execution_count": 405,
   "metadata": {},
   "outputs": [
    {
     "name": "stdout",
     "output_type": "stream",
     "text": [
      "Average number of ingredients in a cocktail: 4.0\n"
     ]
    }
   ],
   "source": [
    "print('Average number of ingredients in a cocktail: {:.1f}'.format(ing / df_drink.shape[0]))"
   ]
  },
  {
   "cell_type": "code",
   "execution_count": 58,
   "metadata": {},
   "outputs": [],
   "source": [
    "# Used to get total number of ingredients used\n",
    "\n",
    "d = {}\n",
    "\n",
    "for idx, row in df_drink.iterrows():\n",
    "    lst = df_drink.loc[idx, 'd_shopping']\n",
    "#     lst = lst.lower()\n",
    "    for j in range(len(row['d_shopping'])):\n",
    "        if lst[j].lower() not in d:\n",
    "            d[lst[j].lower()] = 1\n",
    "        else:\n",
    "            d[lst[j].lower()] += 1"
   ]
  },
  {
   "cell_type": "code",
   "execution_count": 336,
   "metadata": {},
   "outputs": [],
   "source": [
    "# Turn dictionary to dataframe, sort, then plot\n",
    "\n",
    "df_items = pd.DataFrame.from_dict(data = d, orient = 'index')\n",
    "\n",
    "df_items = df_items.sort_values(by = 0, ascending=False)"
   ]
  },
  {
   "cell_type": "code",
   "execution_count": 585,
   "metadata": {},
   "outputs": [
    {
     "data": {
      "image/png": "[encoded data removed]",
      "text/plain": [
       "<Figure size 864x576 with 1 Axes>"
      ]
     },
     "metadata": {
      "needs_background": "light"
     },
     "output_type": "display_data"
    }
   ],
   "source": [
    "\n",
    "plt.figure(figsize=(12, 8))\n",
    "sns.barplot(df_items.head(10).index, df_items[0].head(10))\n",
    "plt.title('Top 10 Most Used Ingredients in Cocktails', fontsize = 20)\n",
    "plt.ylabel('Number of Occurrences', fontsize=16)\n",
    "plt.xlabel('Ingredient', fontsize=16)\n",
    "plt.xticks(rotation=45, fontsize= 12)\n",
    "\n",
    "plt.savefig('ingredient.png')"
   ]
  },
  {
   "cell_type": "code",
   "execution_count": 356,
   "metadata": {
    "scrolled": true
   },
   "outputs": [],
   "source": [
    "# Sort and check values of total uses of ingredients\n",
    "\n",
    "df_items = df_items.sort_values(by = 0, ascending=False)\n"
   ]
  },
  {
   "cell_type": "code",
   "execution_count": 569,
   "metadata": {},
   "outputs": [
    {
     "data": {
      "text/html": [
       "<div>\n",
       "<style scoped>\n",
       "    .dataframe tbody tr th:only-of-type {\n",
       "        vertical-align: middle;\n",
       "    }\n",
       "\n",
       "    .dataframe tbody tr th {\n",
       "        vertical-align: top;\n",
       "    }\n",
       "\n",
       "    .dataframe thead th {\n",
       "        text-align: right;\n",
       "    }\n",
       "</style>\n",
       "<table border=\"1\" class=\"dataframe\">\n",
       "  <thead>\n",
       "    <tr style=\"text-align: right;\">\n",
       "      <th></th>\n",
       "      <th>0</th>\n",
       "    </tr>\n",
       "  </thead>\n",
       "  <tbody>\n",
       "    <tr>\n",
       "      <td>vodka</td>\n",
       "      <td>2366</td>\n",
       "    </tr>\n",
       "    <tr>\n",
       "      <td>orange juice</td>\n",
       "      <td>1825</td>\n",
       "    </tr>\n",
       "    <tr>\n",
       "      <td>gin</td>\n",
       "      <td>1339</td>\n",
       "    </tr>\n",
       "    <tr>\n",
       "      <td>pineapple juice</td>\n",
       "      <td>1285</td>\n",
       "    </tr>\n",
       "    <tr>\n",
       "      <td>lemon juice</td>\n",
       "      <td>1130</td>\n",
       "    </tr>\n",
       "    <tr>\n",
       "      <td>...</td>\n",
       "      <td>...</td>\n",
       "    </tr>\n",
       "    <tr>\n",
       "      <td>tamarind</td>\n",
       "      <td>1</td>\n",
       "    </tr>\n",
       "    <tr>\n",
       "      <td>chile piqions</td>\n",
       "      <td>1</td>\n",
       "    </tr>\n",
       "    <tr>\n",
       "      <td>peruvian pisco brandy</td>\n",
       "      <td>1</td>\n",
       "    </tr>\n",
       "    <tr>\n",
       "      <td>elderflower cordial</td>\n",
       "      <td>1</td>\n",
       "    </tr>\n",
       "    <tr>\n",
       "      <td>gosling's(r) black rum</td>\n",
       "      <td>1</td>\n",
       "    </tr>\n",
       "  </tbody>\n",
       "</table>\n",
       "<p>2028 rows × 1 columns</p>\n",
       "</div>"
      ],
      "text/plain": [
       "                           0\n",
       "vodka                   2366\n",
       "orange juice            1825\n",
       "gin                     1339\n",
       "pineapple juice         1285\n",
       "lemon juice             1130\n",
       "...                      ...\n",
       "tamarind                   1\n",
       "chile piqions              1\n",
       "peruvian pisco brandy      1\n",
       "elderflower cordial        1\n",
       "gosling's(r) black rum     1\n",
       "\n",
       "[2028 rows x 1 columns]"
      ]
     },
     "execution_count": 569,
     "metadata": {},
     "output_type": "execute_result"
    }
   ],
   "source": [
    "df_items"
   ]
  },
  {
   "cell_type": "code",
   "execution_count": 582,
   "metadata": {},
   "outputs": [],
   "source": [
    "# Create a copy of unregularized drinks for separate testing in RNN\n",
    "\n",
    "df_unreg = df.copy()\n",
    "\n",
    "df_unreg = df_unreg.dropna(axis='index')\n",
    "df_unreg = df_unreg[(df_unreg['d_cat'] == 'Ordinary Drink') | (df_unreg['d_cat'] == 'Cocktail')]\n",
    "df_unreg['ingredients'] = (df_unreg['d_ingredients'].str.split('|').str.join(', ').tolist())\n",
    "\n",
    "df_unreg = df_unreg.sample(4000)\n",
    "\n",
    "df_unreg = df_unreg.loc[:, ['d_name', 'ingredients']]\n",
    "\n",
    "df_unreg.to_csv('unreg_drinks.txt',encoding='utf-8', header=None, index=False)"
   ]
  },
  {
   "cell_type": "code",
   "execution_count": null,
   "metadata": {},
   "outputs": [],
   "source": []
  },
  {
   "cell_type": "markdown",
   "metadata": {},
   "source": [
    "# Regularize the Data and turn to text"
   ]
  },
  {
   "cell_type": "code",
   "execution_count": 65,
   "metadata": {},
   "outputs": [],
   "source": [
    "# Set up replacement of unique units of measure as well as fractions into decimals. Run twice so that values\n",
    "# such as 1/2 that turns into 0.5 will also register with 1\\s0.5 changing to 1.5\n",
    "\n",
    "df_drink['ingredients'] = df_drink['ingredients'].replace(regex = {'1/2': '0.5','1/4': '0.25', '3/10': '0.3','2/10': '0.2','1/10': '0.1','1/8': '0.125',\n",
    "                                     '1/3': '0.3','2/3': '0.6','3/4': '0.75','1\\s0.5': '1.5','1\\s0.25': '1.25',\n",
    "                                     '1\\s0.75': '1.75', '2\\s0.25': '2.25', '2\\s0.3':'2.3',  '2\\s0.5': '2.5', '2\\s0.75': '2.75','1-0.5': '1.5', '2 .6': '2.6','3/4': '0.75',\n",
    "                                     '0.5-1|0.5 - 1': '0.75','1-2': '1.5','1 or 2': '1.5','1.5 - 2': '1.75', '1-2|1 - 2': '1.5',\n",
    "                                     '1-1.5|1 - 1.5': '1.25','4-6': '5','6-7|6 - 7': '6.5','2-3|2 - 3': '2.5',\n",
    "                                     '2.5-3|2.5 - 3': '2.75','3-4|3 - 4': '3.5','4-5|4 - 5': '4.5','5-7|5 - 7': '6',\n",
    "                                     '2-4|2 - 4': '3','8-12|8 - 12': '10','7-8|7 - 8': '7.5','1-3|1 - 3': '2',\n",
    "                                     '6-8|6 - 8': '7','8-10|8 - 10':'9','10-12|10 - 12': '11','6-10|6 - 10': '8',\n",
    "                                     '1.5-2|1.5 - 2': '1.75','3-6|3 - 6': '4.5','3-5|3 - 5': '4','5-6|5 - 6': '5.5',\n",
    "                                     '9-10|9 - 10': '9.5','5-10|5 - 10': '7.5','12-14|12 - 14': '13',\n",
    "                                     '.75-3/2|.75 - 3/2': '1.125','30-45': '40','cups': 'cup','pints': 'pint',\n",
    "                                     'quarts': 'quart','gallons': 'gallon', 'tblsp': 'tbsp'})"
   ]
  },
  {
   "cell_type": "code",
   "execution_count": 66,
   "metadata": {
    "scrolled": true
   },
   "outputs": [
    {
     "data": {
      "text/html": [
       "<div>\n",
       "<style scoped>\n",
       "    .dataframe tbody tr th:only-of-type {\n",
       "        vertical-align: middle;\n",
       "    }\n",
       "\n",
       "    .dataframe tbody tr th {\n",
       "        vertical-align: top;\n",
       "    }\n",
       "\n",
       "    .dataframe thead th {\n",
       "        text-align: right;\n",
       "    }\n",
       "</style>\n",
       "<table border=\"1\" class=\"dataframe\">\n",
       "  <thead>\n",
       "    <tr style=\"text-align: right;\">\n",
       "      <th></th>\n",
       "      <th>id</th>\n",
       "      <th>d_name</th>\n",
       "      <th>d_cat</th>\n",
       "      <th>d_alcohol</th>\n",
       "      <th>d_glass</th>\n",
       "      <th>d_ingredients</th>\n",
       "      <th>d_instructions</th>\n",
       "      <th>d_shopping</th>\n",
       "      <th>ingredients</th>\n",
       "    </tr>\n",
       "  </thead>\n",
       "  <tbody>\n",
       "    <tr>\n",
       "      <td>1</td>\n",
       "      <td>2</td>\n",
       "      <td>'57 Chevy</td>\n",
       "      <td>Cocktail</td>\n",
       "      <td>Alcoholic</td>\n",
       "      <td>Cocktail glass</td>\n",
       "      <td>1/2 oz Vodka|1 1/2 oz Southern Comfort|1/2 oz ...</td>\n",
       "      <td>Shake and serve.</td>\n",
       "      <td>NaN</td>\n",
       "      <td>0.5 oz Vodka, 1 0.5 oz Southern Comfort, 0.5 o...</td>\n",
       "    </tr>\n",
       "    <tr>\n",
       "      <td>4</td>\n",
       "      <td>5</td>\n",
       "      <td>187 URge</td>\n",
       "      <td>Cocktail</td>\n",
       "      <td>Alcoholic</td>\n",
       "      <td>Any Glass</td>\n",
       "      <td>1 shot Jack Daniels|1 shot Vodka|6 shots Dr. P...</td>\n",
       "      <td>Mix together and stir it is good</td>\n",
       "      <td>NaN</td>\n",
       "      <td>1 shot Jack Daniels, 1 shot Vodka, 6 shots Dr....</td>\n",
       "    </tr>\n",
       "    <tr>\n",
       "      <td>6</td>\n",
       "      <td>7</td>\n",
       "      <td>'57 Chevy with a White License Plate</td>\n",
       "      <td>Cocktail</td>\n",
       "      <td>Alcoholic</td>\n",
       "      <td>Highball glass</td>\n",
       "      <td>1 oz white Creme de Cacao|1 oz Vodka</td>\n",
       "      <td>1. Fill a rocks glass with ice 2.add white cre...</td>\n",
       "      <td>NaN</td>\n",
       "      <td>1 oz white Creme de Cacao, 1 oz Vodka</td>\n",
       "    </tr>\n",
       "    <tr>\n",
       "      <td>10</td>\n",
       "      <td>11</td>\n",
       "      <td>155 Belmont</td>\n",
       "      <td>Cocktail</td>\n",
       "      <td>Alcoholic</td>\n",
       "      <td>White wine glass</td>\n",
       "      <td>1 shot Dark rum|2 shots Light rum|1 shot Vodka...</td>\n",
       "      <td>Blend with ice. Serve in a wine glass. Garnish...</td>\n",
       "      <td>NaN</td>\n",
       "      <td>1 shot Dark rum, 2 shots Light rum, 1 shot Vod...</td>\n",
       "    </tr>\n",
       "    <tr>\n",
       "      <td>12</td>\n",
       "      <td>13</td>\n",
       "      <td>3-Mile Long Island Iced Tea</td>\n",
       "      <td>Ordinary Drink</td>\n",
       "      <td>Alcoholic</td>\n",
       "      <td>Any Glass</td>\n",
       "      <td>1/2 oz Gin|1/2 oz Light rum|1/2 oz Tequila|1/2...</td>\n",
       "      <td>Fill 14oz glass with ice and alcohol. Fill 2/3...</td>\n",
       "      <td>NaN</td>\n",
       "      <td>0.5 oz Gin, 0.5 oz Light rum, 0.5 oz Tequila, ...</td>\n",
       "    </tr>\n",
       "    <tr>\n",
       "      <td>14</td>\n",
       "      <td>15</td>\n",
       "      <td>351 Special</td>\n",
       "      <td>Ordinary Drink</td>\n",
       "      <td>Alcoholic</td>\n",
       "      <td>Coffee mug</td>\n",
       "      <td>1 part Coca-Cola|1 part Gin (Gordon's)|2 splas...</td>\n",
       "      <td>Pour Gordon's Gin and Kronenbourg beer (it MUS...</td>\n",
       "      <td>NaN</td>\n",
       "      <td>1 part Coca-Cola, 1 part Gin (Gordon's), 2 spl...</td>\n",
       "    </tr>\n",
       "    <tr>\n",
       "      <td>15</td>\n",
       "      <td>16</td>\n",
       "      <td>357 Magnum</td>\n",
       "      <td>Ordinary Drink</td>\n",
       "      <td>Alcoholic</td>\n",
       "      <td>Any Glass</td>\n",
       "      <td>1 oz Vodka (Smirnoff)|1 oz Rum (Captain Morgan...</td>\n",
       "      <td>Pour vodka and rum over ice. Add 7-up and stir...</td>\n",
       "      <td>NaN</td>\n",
       "      <td>1 oz Vodka (Smirnoff), 1 oz Rum (Captain Morga...</td>\n",
       "    </tr>\n",
       "    <tr>\n",
       "      <td>16</td>\n",
       "      <td>17</td>\n",
       "      <td>3001</td>\n",
       "      <td>Ordinary Drink</td>\n",
       "      <td>Alcoholic</td>\n",
       "      <td>Collins glass</td>\n",
       "      <td>1 oz Blue Curacao|1 oz Vodka|1/2 oz Tonic wate...</td>\n",
       "      <td>Combine blue curacao, vodka, tonic water, and ...</td>\n",
       "      <td>NaN</td>\n",
       "      <td>1 oz Blue Curacao, 1 oz Vodka, 0.5 oz Tonic wa...</td>\n",
       "    </tr>\n",
       "    <tr>\n",
       "      <td>17</td>\n",
       "      <td>18</td>\n",
       "      <td>3rd Wheel</td>\n",
       "      <td>Cocktail</td>\n",
       "      <td>Alcoholic</td>\n",
       "      <td>Margarita Glass</td>\n",
       "      <td>2 parts Alize|1 part Grand Marnier</td>\n",
       "      <td>Chill with ice and pour in glass</td>\n",
       "      <td>NaN</td>\n",
       "      <td>2 parts Alize, 1 part Grand Marnier</td>\n",
       "    </tr>\n",
       "    <tr>\n",
       "      <td>18</td>\n",
       "      <td>19</td>\n",
       "      <td>3rd Street Promanade</td>\n",
       "      <td>Cocktail</td>\n",
       "      <td>Alcoholic</td>\n",
       "      <td>Highball glass</td>\n",
       "      <td>1 1/2 oz Vanilla vodka (Stoli)|1/3 oz Gin|1/3 ...</td>\n",
       "      <td>In a blender, put in ice, orange juice, vodka,...</td>\n",
       "      <td>NaN</td>\n",
       "      <td>1 0.5 oz Vanilla vodka (Stoli), 0.3 oz Gin, 0....</td>\n",
       "    </tr>\n",
       "  </tbody>\n",
       "</table>\n",
       "</div>"
      ],
      "text/plain": [
       "    id                                d_name           d_cat  d_alcohol  \\\n",
       "1    2                             '57 Chevy        Cocktail  Alcoholic   \n",
       "4    5                              187 URge        Cocktail  Alcoholic   \n",
       "6    7  '57 Chevy with a White License Plate        Cocktail  Alcoholic   \n",
       "10  11                           155 Belmont        Cocktail  Alcoholic   \n",
       "12  13           3-Mile Long Island Iced Tea  Ordinary Drink  Alcoholic   \n",
       "14  15                           351 Special  Ordinary Drink  Alcoholic   \n",
       "15  16                            357 Magnum  Ordinary Drink  Alcoholic   \n",
       "16  17                                  3001  Ordinary Drink  Alcoholic   \n",
       "17  18                             3rd Wheel        Cocktail  Alcoholic   \n",
       "18  19                  3rd Street Promanade        Cocktail  Alcoholic   \n",
       "\n",
       "             d_glass                                      d_ingredients  \\\n",
       "1     Cocktail glass  1/2 oz Vodka|1 1/2 oz Southern Comfort|1/2 oz ...   \n",
       "4          Any Glass  1 shot Jack Daniels|1 shot Vodka|6 shots Dr. P...   \n",
       "6     Highball glass               1 oz white Creme de Cacao|1 oz Vodka   \n",
       "10  White wine glass  1 shot Dark rum|2 shots Light rum|1 shot Vodka...   \n",
       "12         Any Glass  1/2 oz Gin|1/2 oz Light rum|1/2 oz Tequila|1/2...   \n",
       "14        Coffee mug  1 part Coca-Cola|1 part Gin (Gordon's)|2 splas...   \n",
       "15         Any Glass  1 oz Vodka (Smirnoff)|1 oz Rum (Captain Morgan...   \n",
       "16     Collins glass  1 oz Blue Curacao|1 oz Vodka|1/2 oz Tonic wate...   \n",
       "17   Margarita Glass                 2 parts Alize|1 part Grand Marnier   \n",
       "18    Highball glass  1 1/2 oz Vanilla vodka (Stoli)|1/3 oz Gin|1/3 ...   \n",
       "\n",
       "                                       d_instructions  d_shopping  \\\n",
       "1                                    Shake and serve.         NaN   \n",
       "4                    Mix together and stir it is good         NaN   \n",
       "6   1. Fill a rocks glass with ice 2.add white cre...         NaN   \n",
       "10  Blend with ice. Serve in a wine glass. Garnish...         NaN   \n",
       "12  Fill 14oz glass with ice and alcohol. Fill 2/3...         NaN   \n",
       "14  Pour Gordon's Gin and Kronenbourg beer (it MUS...         NaN   \n",
       "15  Pour vodka and rum over ice. Add 7-up and stir...         NaN   \n",
       "16  Combine blue curacao, vodka, tonic water, and ...         NaN   \n",
       "17                   Chill with ice and pour in glass         NaN   \n",
       "18  In a blender, put in ice, orange juice, vodka,...         NaN   \n",
       "\n",
       "                                          ingredients  \n",
       "1   0.5 oz Vodka, 1 0.5 oz Southern Comfort, 0.5 o...  \n",
       "4   1 shot Jack Daniels, 1 shot Vodka, 6 shots Dr....  \n",
       "6               1 oz white Creme de Cacao, 1 oz Vodka  \n",
       "10  1 shot Dark rum, 2 shots Light rum, 1 shot Vod...  \n",
       "12  0.5 oz Gin, 0.5 oz Light rum, 0.5 oz Tequila, ...  \n",
       "14  1 part Coca-Cola, 1 part Gin (Gordon's), 2 spl...  \n",
       "15  1 oz Vodka (Smirnoff), 1 oz Rum (Captain Morga...  \n",
       "16  1 oz Blue Curacao, 1 oz Vodka, 0.5 oz Tonic wa...  \n",
       "17                2 parts Alize, 1 part Grand Marnier  \n",
       "18  1 0.5 oz Vanilla vodka (Stoli), 0.3 oz Gin, 0....  "
      ]
     },
     "execution_count": 66,
     "metadata": {},
     "output_type": "execute_result"
    }
   ],
   "source": [
    "df_drink.head(10)"
   ]
  },
  {
   "cell_type": "code",
   "execution_count": 252,
   "metadata": {},
   "outputs": [],
   "source": [
    "# Needed to convert all miscellaneous formats of proportions to a uniform format to be later regularized to mls.\n",
    "\n",
    "\n",
    "\n",
    "def replace_val(row):\n",
    "    \n",
    "    # Apply this function to take cleaned dataset and properly convert all measurements to ml.\n",
    "    \n",
    "    units = [['oz', 30.], ['gallon', 3785], ['shot', 44], ['liter', 1000], ['quart', 946], ['pint', 473], ['cup', 240], ['jigger', 44], ['tbsp', 18], ['tsp', 6], ['dash', 1], ['cl', 10]]\n",
    "    num = [0.1, 0.125, 0.2, 0.25, 0.3, 0.5, 0.6, 0.75, 0.8, 1, 1.25, 1.5, 1.75, 2, 2.25, 2.3, 2.5, 2.6, 2.75, 3, 3.5, 4, 4.5, 5, 5.5, 6, 6.5, 7,\n",
    "           7.5, 8, 9, 9.5, 10, 11, 12, 13, 16, 30, 40]\n",
    "    \n",
    "    for i in units:\n",
    "        for j in num:\n",
    "            val = float(j) * float(i[1])\n",
    "            row['ingredients'] = row['ingredients'].replace(f\"{j} {i[0]}\", f\"{val} ml\")\n",
    "    return row"
   ]
  },
  {
   "cell_type": "code",
   "execution_count": 253,
   "metadata": {},
   "outputs": [
    {
     "name": "stdout",
     "output_type": "stream",
     "text": [
      "WARNING:tensorflow:Unresolved object in checkpoint: (root).optimizer.iter\n",
      "WARNING:tensorflow:Unresolved object in checkpoint: (root).optimizer.beta_1\n",
      "WARNING:tensorflow:Unresolved object in checkpoint: (root).optimizer.beta_2\n",
      "WARNING:tensorflow:Unresolved object in checkpoint: (root).optimizer.decay\n",
      "WARNING:tensorflow:Unresolved object in checkpoint: (root).optimizer.learning_rate\n",
      "WARNING:tensorflow:A checkpoint was restored (e.g. tf.train.Checkpoint.restore or tf.keras.Model.load_weights) but not all checkpointed values were used. See above for specific issues. Use expect_partial() on the load status object, e.g. tf.train.Checkpoint.restore(...).expect_partial(), to silence these warnings, or use assert_consumed() to make the check explicit. See https://www.tensorflow.org/guide/checkpoint#loading_mechanics for details.\n"
     ]
    }
   ],
   "source": [
    "# Apply previous function to regularize all measurements and then turn to text file with only names\n",
    "# and ingredients\n",
    "\n",
    "df_drink = df_drink.apply(replace_val, axis=1)\n",
    "\n",
    "df_drink_txt = df_drink.loc[:, ['d_name', 'ingredients']]\n",
    "\n",
    "df_drink_txt.to_csv('unit_reg_drinks_done.txt',encoding='utf-8', header=None, index=False)"
   ]
  },
  {
   "cell_type": "code",
   "execution_count": 447,
   "metadata": {},
   "outputs": [],
   "source": [
    "# Another test dataset for running through RNN\n",
    "\n",
    "df_drink_sample = df_drink.sample(2000)\n",
    "df_drink_sample = df_drink_sample.loc[:, ['d_name', 'ingredients']]\n",
    "df_drink_sample.to_csv('sample_drink_2k.txt', encoding='utf-8', header=None, index = False)"
   ]
  },
  {
   "cell_type": "code",
   "execution_count": 445,
   "metadata": {},
   "outputs": [
    {
     "name": "stderr",
     "output_type": "stream",
     "text": [
      "100%|██████████| 10/10 [00:52<00:00,  5.28s/it]\n"
     ]
    }
   ],
   "source": [
    "# Begin using textgen module to generate recipes. Primary usage of this module was done on Google Collab notebook\n",
    "\n",
    "textgen_dandco= textgenrnn(weights_path='Data/dandco_weights.hdf5', vocab_path= 'Data/dandco_vocab.json', config_path= 'Data/dancdo_config.json')\n",
    "textgen_dandco.generate_to_file(n=10, temperature = 1, destination_path='d_&_co_1.0T.txt')\n"
   ]
  },
  {
   "cell_type": "markdown",
   "metadata": {},
   "source": [
    "# Build my own RNN"
   ]
  },
  {
   "cell_type": "code",
   "execution_count": 257,
   "metadata": {},
   "outputs": [],
   "source": [
    "from __future__ import absolute_import, division, print_function, unicode_literals\n",
    "\n",
    "import tensorflow as tf\n",
    "\n",
    "import numpy as np\n",
    "import os\n",
    "import time"
   ]
  },
  {
   "cell_type": "code",
   "execution_count": 67,
   "metadata": {
    "collapsed": true
   },
   "outputs": [
    {
     "ename": "NameError",
     "evalue": "name 'tf' is not defined",
     "output_type": "error",
     "traceback": [
      "\u001b[0;31m---------------------------------------------------------------------------\u001b[0m",
      "\u001b[0;31mNameError\u001b[0m                                 Traceback (most recent call last)",
      "\u001b[0;32m<ipython-input-67-270e2ec7ae41>\u001b[0m in \u001b[0;36m<module>\u001b[0;34m\u001b[0m\n\u001b[0;32m----> 1\u001b[0;31m \u001b[0mpath_to_file\u001b[0m \u001b[0;34m=\u001b[0m \u001b[0mtf\u001b[0m\u001b[0;34m.\u001b[0m\u001b[0mkeras\u001b[0m\u001b[0;34m.\u001b[0m\u001b[0mutils\u001b[0m\u001b[0;34m.\u001b[0m\u001b[0mget_file\u001b[0m\u001b[0;34m(\u001b[0m\u001b[0;34m'unit_reg_drinks_done.txt'\u001b[0m\u001b[0;34m,\u001b[0m \u001b[0;34m'Data/unit_reg_drinks_2.txt'\u001b[0m\u001b[0;34m)\u001b[0m\u001b[0;34m\u001b[0m\u001b[0;34m\u001b[0m\u001b[0m\n\u001b[0m",
      "\u001b[0;31mNameError\u001b[0m: name 'tf' is not defined"
     ]
    }
   ],
   "source": [
    "## Don't use\n",
    "\n",
    "path_to_file = tf.keras.utils.get_file('unit_reg_drinks_done.txt', 'Data/unit_reg_drinks_2.txt')"
   ]
  },
  {
   "cell_type": "code",
   "execution_count": 467,
   "metadata": {},
   "outputs": [],
   "source": [
    "## Use\n",
    "\n",
    "text = open('Data/sample_drink_set.txt', 'rb').read().decode(encoding='utf-8')"
   ]
  },
  {
   "cell_type": "code",
   "execution_count": 468,
   "metadata": {},
   "outputs": [
    {
     "data": {
      "text/plain": [
       "'O & Tonic,\"45.0 ml Bacardi(R) orange rum, 180.0 ml tonic water, 1 twist orange\"\\nMartini (Sweet),\"30.0 ml Gin, 30.0 ml Sweet Vermouth, 1 Olive\"\\nFar West,\"15 ml Brandy, 15 ml Advocaat, 15 ml Dry Vermouth, 1.0 ml Angostura bitters\"\\nPearl Harbor,\"30.0 ml vodka, 15.0 ml melon liqueur, 150.0 ml pineapple juice\"\\nPassion Zombie,\"30.0 ml gold rum, 30.0 ml Jamaican dark rum, 30.0 ml light rum, 30.0 ml 99 Bananas(R) banana schnapps, 15.0 ml 151 proof rum, 15.0 ml grenadine syrup, 15.0 ml lemon juice, 15.0 ml lime juice, 60.0 ml passion-fruit juice, 18.0 mlbrown sugar, 30.0 ml passion-fruit syrup\"\\nLittle Devil,\"30.0 ml dry gin, 30.0 ml rum, 15.0 ml triple sec, 15.0 ml lemon juice\"\\nThe Haggar,\"30.0 ml tequila, lemonade\"\\nIrish Cocktail,\"45.0 ml Irish whiskey, 15.0 ml Pernod(R) licorice liqueur, 1.0 ml maraschino liqueur, 15.0 ml White Curacao liqueur\"\\nPeach Brandy Julep,\"2 fresh mint, 15.0 ml Marie Brizard(R) peach liqueur, 2 sweet, ripe peach, 60.0 ml cognac\"\\nBust Your Black Nut,\"90.0 ml Mountain Dew(R) Pitch Black soda, 90.0 ml Pepsi(R) Slice soda, 120.0 ml Malibu(R) coconut rum\"\\nBuffalo\\'s Milk,\"30.0 ml vodka, 30.0 ml Kahlua(R) coffee liqueur, 30.0 ml creme de bananes, 45.0 ml dark creme de cacao, 45.0 ml milk\"\\nRising Skirt,\"15.0 ml Absolut(R) Mandrin vodka, 15.0 ml Smirnoff(R) vodka, 7.5 ml Cointreau(R) orange liqueur, 7.5 ml Midori(R) melon liqueur, 15.0 ml banana liqueur, 7.5 ml raspberry liqueur, 1 splash sweet and sour mix, 1 splash pineapple juice\"\\nBatida Summerday,\"0.5 glass crushed Ice, 40.0 ml Batida de Coco, 80.0 ml Pineapple juice, 20.0 ml Kirschwasser, 3.0 mles Grenadine\"\\n42 Flying Mules,\"30.0 ml 42 Below(R) vodka, 30.0 ml sake rice wine, 1.0 ml lemon juice, 120.0 ml ginger beer, 0.5  lime, 1 sliced cayenne pepper\"\\nSan Francisco Cocktail,\"22.5 ml Sweet Vermouth, 22.5 ml Dry Vermouth, 22.5 ml Sloe gin, 1.0 ml Orange bitters, 1.0 ml Bitters, 1 Cherry\"\\nRattlesnake Cocktail,\"45.0 ml Blended whiskey, 6.0 ml Lemon juice, 1.5 ml Anis, 3.0 ml Powdered sugar, 1 Egg white\"\\nWidow\\'s Kiss,\"30.0 ml Brandy, 15.0 ml Yellow Chartreuse, 15.0 ml Benedictine, 1.0 ml Bitters\"\\nQueerwig,\"60.0 ml milk, 60.0 ml beer, 30.0 ml gin, 30.0 ml peppermint schnapps, 60.0 ml Red Bull(R) energy drink\"\\nThe Dangerous Dave,\"180.0 ml Tequila, 240.0 ml Cream of coconut, 240.0 ml Pineapple juice\"\\nBlack Pagoda,\"45.0 ml Brandy, 15.0 ml Sweet Vermouth, 15.0 ml Dry Vermouth, 12.0 ml Triple sec\"\\nBetsy Clear,\"44.0 ml Vodka, 44.0 ml Peach schnapps, Fill with Sprite\"\\nVirgin Manhattan,\"60.0 ml Cranberry juice, 60.0 ml Orange juice, 3.0 ml Maraschino cherry juice, 1.5 ml Lemon juice, 1.5 ml Orange bitters\"\\nKey Lime Cosmo,\"45.0 ml vanilla vodka, 12.0 ml Cointreau(R) orange liqueur, 15.0 ml lime juice, 30.0 ml whipped cream, 15.0 ml cranberry juice\"\\nMexican Sunset #2,\"1180.0 ml Corona(R) lager, 150.0 ml orange juice\"\\nIn the Marketplace,\"60.0 ml anejo rum, 15.0 ml cream, 6.0 ml grenadine syrup, 12.0 ml lime juice\"\\nLa Vida Loca,\"105.0 ml Absolut(R) pepper vodka, 105.0 ml pineapple juice, 9.0 ml chili peppers\"\\nGrenamirodi,\"90.0 ml melon liqueur, 30.0 ml triple sec, 30.0 ml grenadine syrup, 60.0 ml sweet and sour mix\"\\nPeachy Screw,\"45.0 ml Absolut(R) vodka, 30.0 ml peach schnapps, 30.0 ml Malibu(R) coconut rum, 30.0 ml grenadine syrup, 45.0 ml sweet and sour mix, 45.0 ml orange juice\"\\nHalfway Special,\"150.0 ml Orange juice, 30.0 ml Absolut Citron, 30.0 ml Blackberry schnapps (Blackhaus), 30.0 ml Malibu rum, 2.0 mles Grenadine\"\\nCranberry Caipirinha,\"75.0 ml aquavit, 18.0 ml sugar, 18.0 ml water, 2  lime, 10 fresh, chopped cranberry\"\\nDelilah,\"45.0 ml Gin (Bombay Sapphire), 15.0 ml Cointreau, Juice of 0.5 Lemon\"\\nNightwalker,\"30.0 ml amarula cream liqueur, 12.0 ml instant coffee, 350 mlwhole milk, 200 ml vanilla ice cream, 10 mlboiling water\"\\nFair and Warmer Cocktail,\"45.0 ml white rum, 22.5 ml sweet vermouth, 3.0 ml triple sec\"\\nOld 7\\'s,\"15.0 ml Captain Morgan(R) Original spiced rum, 60.0 ml 7-Up(R) soda\"\\nCranberry Apple Martini,\"45.0 ml Cranberry vodka (Finlandia), 22.5 ml Sour apple liqueur, 15.0 ml Cranberry juice\"\\nPunch In The Pants,\"30.0 ml Bacardi(R) orange rum, 30.0 ml Bacardi(R) Limon rum, 1 splash triple sec, 1 splash sweet and sour mix, 90.0 ml orange soda\"\\nPrincess Pousse Cafe,\"22.5 ml apricot brandy, 9.0 ml light cream\"\\nCanadian Splash,\"30.0 ml Smirnoff(R) Green Apple Twist vodka, 60.0 ml orange juice\"\\nHawaiian Screw #2,\"30.0 ml vodka, 15.0 ml triple sec, fill with 0.5 pineapple juice, fill with 0.5 orange juice\"\\nFretful Martini,\"90.0 ml gin, 15.0 ml Blue Curacao liqueur, 1.0 ml Angostura(R) bitters\"\\nLiquid Electroshock,\"45.0 ml Grey Goose(R) vodka, 15.0 ml cranberry juice, 15.0 mlnatural cherry juice, 30.0 mlfresh orange juice\"\\nCoco Cabana,\"40.0 ml Batida de Coco, 20.0 ml White rum, 80.0 ml Pineapple juice\"\\nOrange Kiss,\"40.0 ml Vodka, 40.0 ml Cinzano Orancio, 5.50.0 ml Sprite\"\\nMary\\'s Delight,\"45.0 ml sweet vermouth, 30.0 ml brandy, 1.0 ml orange bitters\"\\nIrish Rose,\"30.0 ml Tequila Rose(R) strawberry cream liqueur, 30.0 ml Bailey\\'s(R) Irish cream, 30.0 ml brown creme de cacao\"\\nOrange County Crush,\"60.0 ml Ketel One(R) vodka, 60.0 ml Malibu(R) passion fruit rum, 105.0 ml V8 Splash Tropical Blend, 45.0 ml Sierra Mist(R) soda\"\\nFly Swatter,\"30.0 ml cognac, 30.0 ml Scotch whisky, 6.0 ml raki liqueur, 90.0 ml mandarin juice, 60.0 ml pineapple juice\"\\nDeep Blue,\"30.0 ml Vodka (Absolut), 10.0 ml Blue Curacao (Bols), 20.0 ml Champagne, 1 blue Maraschino cherry\"\\nCaptain\\'s Spiced Cider,\"60.0 ml Spiced rum (Captain Morgan\\'s), 300.0 ml Apple cider, Ice (optional)\"\\nJimPop\\'s Margarita,\"60.0 ml Tequila, 30.0 ml Lime juice, 22.5 ml Grand Marnier, Salt\"\\nBlue Fizz,\"15.0 ml Blue Curacao liqueur, 60.0 ml gin, 90.0 ml club soda, 15.0 ml lemon juice, 12.0 ml sugar\"\\nPaul\\'s Manhattan,\"60.0 ml rye whiskey, 15.0 ml Dubonnet(R) Blanc vermouth, 15.0 ml extra dry vermouth, 1.0 ml maraschino syrup\"\\nClass Act,\"30.0 ml Advocaat, 15.0 ml Malibu rum, 1 splash Southern Comfort, 60.0 ml Pineapple juice\"\\nElectric Lizard,\"30.0 ml vodka, 30.0 ml Midori(R) melon liqueur, 120.0 ml sweet and sour mix\"\\nPoison Sumac,\"60.0 ml vodka, 60.0 ml orange juice, 60.0 ml Blue Curacao liqueur\"\\nLeave-It-To-Me Cocktail,\"45.0 ml Gin, 6.0 ml Raspberry syrup, 6.0 ml Lemon juice, 1.5 ml Maraschino liqueur\"\\nLemon Rum,\"90.0 ml coconut rum, 180.0 ml lemonade\"\\nAbsolute southern Dr. Pepper,\"60.0 ml Absolut(R) vanilla vodka, 60.0 ml Southern Comfort(R) peach liqueur, 4 - 180.0 ml Dr. Pepper(R) soda\"\\nPixie Stix,\"60.0 ml Southern Comfort, 30.0 ml Amaretto, Ice, Fill with Sweet and sour mix, 1 splash Sprite, 18.0 ml Grenadine, Maraschino cherry\"\\nKiller Rita,\"60.0 ml Whaler\\'s(R) Killer Coconut rum, 30.0 ml triple sec, 30.0 ml pineapple juice, 15.0 ml coconut milk\"\\nYellow Sock,\"20.0 ml Vodka (Smirnoff), 20.0 ml Pisang Ambon, Fill with Orange juice\"\\nPeppermint Beach,\"45.0 ml Peppermint schnapps, 45.0 ml Malibu rum\"\\nBunueloni,\"30.0 ml Punt e Mes red vermouth, 30.0 ml bianco vermouth, 22.5 ml gin, 1 twist lemon, 1 twist orange\"\\nRhode Island Ice Coffee,\"30.0 ml Kahlua(R) coffee liqueur, 30.0 ml vodka, 15.0 ml brandy, 60.0 ml cream\"\\n\"Dirty, Dirty\",\"60.0 ml Grey Goose(R) vodka, 1 splash olive juice, 2 garlic stuffed olives\"\\nDrug Test Specimen,\"30.0 ml light rum, 90.0 ml apple schnapps, 30.0 ml DeKuyper(R) Sour Apple Pucker schnapps, 1 splash sweet and sour mix, 1 drop DeKuyper(R) Hot Damn cinnamon schnapps\"\\nA Kissed Buttery Nipple,\"30.0 ml amaretto almond liqueur, 60.0 ml Bailey\\'s(R) Irish cream, 60.0 ml butterscotch schnapps, 2  maraschino cherries\"\\nGreat Idea,\"75.0 ml Champagne, 30.0 ml pineapple juice, 30.0 ml mandarin juice, 9.0 ml maple syrup\"\\nTouch of Zam,\"30.0 ml Glayva(R) Scotch liqueur, 15.0 ml benedictine herbal liqueur, 15.0 ml sambuca, 45.0 ml orange juice, 9.0 ml sugar syrup, 6.0 ml lemon juice\"\\nMary Elizabeth Wagoner,\"30.0 ml vodka, 15.0 ml Bacardi(R) 151 rum, 15.0 ml Everclear(R) alcohol, 30.0 ml sweet and sour mix, 15.0 ml lime juice\"\\nSt. Charles Punch,\"30.0 ml Brandy, 15.0 ml Triple sec, 90.0 ml Port, Juice of 1 Lemon, 6.0 ml Sugar, 1 slice Lemon\"\\nIsland Delight,\"30.0 ml cherry vodka, 15.0 ml white rum, 15.0 ml dark rum, 54.0 ml vanilla ice cream, 30.0 ml whipped cream, 6.0 ml grenadine syrup\"\\nMai Tai #5,\"45.0 ml dark rum, 45.0 ml white rum, 22.5 ml triple sec, 15.0 ml orange juice, 15.0 ml lemon juice, 7.5 ml lime juice, 60.0 ml pineapple juice, 6.0 ml sugar\"\\nBull Shot #2,\"1 Beef bouillon Cube, 60.0 ml Vodka, 1.0 ml Tabasco sauce, 120.0 ml boiling Water\"\\n.50 Caliber,\"60.0 ml Jack Daniel\\'s(R) Tennessee whiskey, 60.0 ml Jim Beam(R) bourbon whiskey, 60.0 ml dry gin, 60.0 ml Absolut(R) vodka, 30.0 ml Squirt(R) citrus soda\"\\nPolo Cocktail,\"30.0 ml Gin, 18.0 ml Lemon juice, 18.0 ml Orange juice\"\\nFrozen Dreamsicle,\"120.0 ml orange juice, 30.0 ml amaretto almond liqueur, 7.5 ml grenadine syrup, 2 scoops ice, 1 scoop(large) vanilla ice cream\"\\nBecky\\'s Nectar,\"15.0 ml Malibu(R) coconut rum, 15.0 ml Stoli(R) Razberi vodka, 1 splash cranberry juice, 1 splash pineapple juice, 90.0 ml Sprite(R) soda\"\\nMarjito,\"45.0 ml lemon vodka, 9.0 ml sugar, 18.0 mlfresh lemon juice, club soda, 3 sprigs fresh mint, 36.0 ml simple syrup\"\\nMainbrace,\"30.0 ml gin, 30.0 ml Cointreau(R) orange liqueur, 30.0 ml grapefruit juice\"\\nTanyahtoo,\"15.0 ml Malibu rum, 15.0 ml Midori melon liqueur, 15.0 ml Frangelico, 15.0 ml Kahlua, 15.0 ml Bailey\\'s irish cream, 30.0 ml Cream, Milk\"\\nGingervitas,\"44.0 ml Absolut Citron, 44.0 ml Dry Vermouth, 132.0 mls Ginger ale, Ice cubes\"\\nMendolsohn,\"90.0 ml Malibu(R) mango rum, 60.0 ml Coca-Cola(R), 90.0 ml Smirnoff(R) Ice Triple Black\"\\nPink Goody,\"30.0 ml gin, 30.0 ml Bacardi(R) gold rum, 30.0 ml lime juice, 1.0 ml maraschino liqueur, 1 splash soda water\"\\nVendome,\"30.0 ml Dubonnet(R) Rouge vermouth, 30.0 ml gin, 30.0 ml dry vermouth\"\\nOrange Martini,\"90.0 ml vodka, 15.0 ml triple sec, 1.0 ml orange bitters\"\\nJohnny on the Spot,\"30.0 ml Crown Royal(R) Canadian whisky, 15.0 ml amaretto almond liqueur, 15.0 ml peach schnapps, 160.0 ml pineapple juice\"\\nChocolate Squirrel,\"22.5 ml amaretto almond liqueur, 22.5 ml Frangelico(R) hazelnut liqueur, 22.5 ml brown creme de cacao, 22.5 ml cream\"\\nPaisano,\"15.0 ml Vodka, 15.0 ml Frangelico, Milk\"\\nHeart Warmer,\"30.0 ml vodka, 45.0 ml Kahlua(R) coffee liqueur, 15.0 ml vanilla extract, 90.0 ml milk\"\\nCadillac Margarita,\"45.0 ml Tequila, 90.0 ml Sweet and sour, 22.5 ml Triple sec, 22.5 ml Lime juice, Float Grand Marnier\"\\nFairie Festival DoDo\\'s,\"30.0 ml gin, 30.0 ml Blue Curacao liqueur, 30.0 ml grapefruit juice, 30.0 ml sweet and sour mix\"\\nSherry Eggnog,\"60.0 ml cream Sherry, 6.0 ml Powdered sugar, 1 whole Egg, Milk, Nutmeg\"\\nBanana Creame,\"60.0 ml Bailey\\'s(R) Irish cream, 60.0 ml Kahlua(R) coffee liqueur, 120.0 ml banana liqueur, 2  bananas, 960.0 ml ice\"\\nOsaka Dry,\"90.0 ml vodka, 15.0 ml sake rice wine\"\\nT.L.C.,\"45.0 ml blended whiskey, 15.0 ml Cointreau(R) orange liqueur, 6.0 ml Ricard(R) pastis, 6.0 ml Dubonnet(R) Rouge vermouth, 1.0 ml bitters\"\\nThe Ringo,\"180.0 ml Coca-Cola, 60.0 ml Sloe gin, 60.0 ml Malibu rum, 30.0 ml Brandy, 1 splash Grenadine, 4 cubes Ice\"\\nRiley\\'s Sparrow,\"45.0 ml Dark rum, 15.0 ml Southern Comfort, 2.0 mles Bitters\"\\nOn the Square,\"30.0 ml apricot brandy, 15.0 ml gin, 15.0 ml Calvados(R) brandy\"\\nKaytee Cocktail,\"45.0 ml dry vermouth, 30.0 ml dry sherry, 3.0 ml Pernod(R) licorice liqueur\"\\nPerroquet,\"45.0 ml Pernod, 1.0 ml Mint syrup, Water\"\\nOrange Tic Tac,\"30.0 ml Bacardi(R) O rum, 180.0 ml Red Bull(R) energy drink\"\\nAbsolut Trouble,\"45.0 ml Absolut(R) Citron vodka, 30.0 ml Grand Marnier(R) orange liqueur, 15.0 ml grenadine syrup, 30.0 ml orange juice\"\\nH-Bomb Cocktail,\"30.0 ml vodka, 30.0 ml tequila, 30.0 ml rum, 30.0 ml gin, 30.0 ml triple sec, 45.0 ml sweet and sour mix, 30.0 ml Hpnotiq(R) liqueur\"\\nDaiquiri Liberal,\"30.0 ml white rum, 15.0 ml sweet vermouth, 1.0 ml Amer Picon(R) orange bitters\"\\nSmoochie Smoochie Blue,\"60.0 ml 99 Blackberries(R) blackberry schnapps, 1 splash Sprite(R) soda, 270.0 ml Gatorade(R) Glacier Freeze energy drink\"\\nFrench Russchian,\"40.0 ml Anisette, 3 cubes Ice, Fill with Schweppes Russchian\"\\nBrainwave,\"15.0 ml 151 proof rum, 30.0 ml amaretto almond liqueur, 7.5 ml Bailey\\'s(R) Irish cream\"\\nApricot Tree,\"30.0 ml apricot brandy, 30.0 ml Rum Tree(R) liqueur, 15.0 ml dry vermouth, 30.0 ml apricot juice, 30.0 ml pineapple juice\"\\nPoor Man\\'s Martini,\"90.0 ml vodka, Coca-Cola(R)\"\\n1800 Pomegranate Breeze,\"30.0 ml 1800(R) Silver Tequila, 30.0 ml pomegranate juice, 15.0 ml pineapple juice, 15.0 ml acai juice, 15.0 mlfresh lime juice\"\\nBitter Apples,\"11 drops Aftershock(R) Hot & Cool cinnamon schnapps, 30.0 ml gin, 7.5 ml Jagermeister(R) herbal liqueur, 30.0 ml DeKuyper(R) Sour Apple Pucker schnapps\"\\nVan Nuys (aka Dirty Margarita),\"45.0 ml tequila, 22.5 ml triple sec, 22.5 ml sweet and sour mix, 22.5 ml Kahlua(R) coffee liqueur\"\\nTropical Suicide,\"30.0 ml Bacardi(R) Superior rum, 60.0 ml Malibu(R) coconut rum, 15.0 ml Jose Cuervo(R) Especial gold tequila, 120.0 ml pineapple juice, 120.0 ml cranberry juice, 120.0 ml orange juice\"\\nMandeville-Polar,\"30.0 ml dark rum, 15.0 ml white rum, 6.0 ml Pernod(R) licorice liqueur, 15.0 ml lemon juice, 6.0 ml grenadine syrup, 100 ml Coca-Cola(R)\"\\nPort Aransas,\"60.0 ml Malibu(R) coconut rum, 1 can Coca-Cola(R), 22.5 mlfresh lemon juice\"\\nStandard Cream,\"15.0 ml oz white Creme de Cacao, 15.0 ml Godiva liqueur, 15.0 ml Creme de Banane, 45.0 ml Half-and-half\"\\nVelvet Hammer #2,\"18.0 ml Creme de Cacao, 45.0 ml Vodka, 36.0 ml Cream, 0.5 Banana, Sugar to taste\"\\nDelhis Devils,\"1.0 ml lemon juice, 45 ml dark rum, 15 ml Kahlua(R) coffee liqueur\"\\nComfortable Fuzzy Screw,\"45.0 ml vodka, 45.0 ml Southern Comfort(R) peach liqueur, 45.0 ml peach schnapps, 5 15.0 ml orange juice\"\\nLatin Lover,\"22.5 ml tequila, 22.5 ml Sagatiba Pura, 1.25 - 60.0 ml pineapple juice, 22.5 ml Rose\\'s(R) lime juice, 0.25 - 22.5 ml lemon juice\"\\nGrape Martini,\"60.0 ml Three Olives(R) grape vodka, 1 splash 7-Up(R) soda\"\\nAntoines Tarred Image,\"30.0 ml sweet vermouth, 15.0 ml Blavod(R) vodka, 15.0 ml Chambord(R) raspberry liqueur, 30.0 ml Mozart(R) chocolate liqueur\"\\nRoot Canal,\"7.5 ml Peppermint schnapps, 60.0 ml Root beer schnapps, Fill with Dr. Pepper or rootbeer\"\\nHennessy Alexander,\"30.0 ml Hennessy(R) cognac, 30.0 ml white creme de cacao, 30.0 ml cream, 1.0 ml nutmeg\"\\nFriski,\"60.0 ml Crown Royal(R) Canadian whisky, 180.0 ml Fresca(R) citrus soda\"\\nComfortable Melons,\"30.0 ml Midori(R) melon liqueur, 30.0 ml Southern Comfort(R) peach liqueur, 120.0 ml Sprite(R) soda\"\\nKashmeister,\"60.0 ml Jagermeister(R) herbal liqueur, 120.0 ml Ocean Spray(R) cranberry juice\"\\nDiamond Fizz,\"60.0 ml Gin, Juice of 0.5 Lemon, 6.0 ml Powdered sugar, Chilled Champagne\"\\nSouthampton,\"Tonic water, Squeeze of Lime, 3.0 mles Angostura bitters, Ice\"\\nGulyuz,\"60.0 ml Light rum (Bacardi), 30.0 ml Safari, 20.0 ml Blue Curacao, Fill with Pineapple juice\"\\nGin Lollipop,\"30.0 ml gin, 30.0 ml Southern Comfort(R) peach liqueur, 150.0 ml orange juice, 30.0 mlsparkling mineral water\"\\nDiamond\\'s Tweaked Cosmopolitan...,\"45.0 mlgood vodka, 45.0 ml raspberry liqueur, 90.0 ml100% cranberry juice, 2.5 squeezesfresh oranges\"\\nLimon Spritzer,\"75.0 ml Bacardi(R) Limon rum, 160.0 mlchilled can Sprite(R) soda\"\\nFox Trot,\"45.0 ml Light rum, 15.0 ml Lemon juice, 2.5 mles Curacao\"\\nThe Drunk Smurf,\"30.0 ml Galliano(R) herbal liqueur, 60.0 ml Red Bull(R) energy drink, 60.0 ml orange juice\"\\nPinto Bomb,\"30.0 ml vodka, 160.0 ml beer\"\\nDevil\\'s Advocate,\"44.0 ml Bacardi Limon, 44.0 ml Triple sec, 22.5 ml Sour mix, 18.0 ml Grenadine, 120.0 ml Cranberry juice\"\\nBurnt Toasted Almond,\"15.0 ml vodka, 22.5 ml Kahlua(R) coffee liqueur, 22.5 ml amaretto almond liqueur, 60.0 ml half-and-half\"\\nRamcooler,\"37.5 ml White rum (Bacardi), 15.0 ml Galliano, 60.0 ml Lime juice, Crushed Ice\"\\nCrime Loyal,\"30.0 ml Crown Royal(R) Canadian whisky, 5.150.0 ml limeade\"\\nHigh Rise,\"30.0 ml vodka, 7.5 ml Cointreau(R) orange liqueur, 60.0 ml orange juice, 30.0 ml sweet and sour mix, 7.5 ml grenadine syrup\"\\nIced Jim,\"90.0 ml Jim Beam(R) bourbon whiskey, 160.0 mlcan Nestea(R) iced tea\"\\nQuick Fix,\"90.0 ml Canadian Club(R) whisky, 30.0 ml cherry whiskey, 240.0 ml 7-Up(R) soda\"\\nMuch Fuss for the Conquering Hero,\"30.0 ml sweet vermouth, 22.5 ml Applejack(R) brandy, 12.0 ml apricot brandy, 6.0 ml pineapple juice, 6.0 ml lemon juice, 2.0 mles orange bitters\"\\nJuniata Juice,\"160.0 ml Beer, 44.0 ml Rum, 36.0 ml frozen Lime juice concentrate\"\\nLeah\\'s Last Hope #2,\"30.0 ml Vodka, 60.0 ml Kahlua, 30.0 ml Amaretto, 180.0 ml Chocolate milk\"\\nChampagne Cornucopia,\"30.0 ml vodka, 22.5 ml peach schnapps, 30.0 ml Champagne, 2 scoops rainbow sherbert, 30.0 ml cranberry juice\"\\nJamaican Crawler,\"30.0 ml white rum, 30.0 ml melon liqueur, 90.0 ml pineapple juice, 1 splash grenadine syrup\"\\nApple Buck,\"75.0 ml apple brandy, 3 15.0 ml ginger ale, juice of 0.25 lemons\"\\nIrish Milk Punch,\"60.0 ml Bailey\\'s(R) Irish cream, 22.5 ml Irish whiskey, 180.0 mlhot milk\"\\nO & Cranberry,\"45.0 ml Bacardi(R) orange rum, 150.0 ml cranberry juice, 1  orange\"\\nPurple People Drinker,\"60.0 ml Three Olives(R) vodka, 30.0 ml DeKuyper(R) Island Blue Pucker schnapps, 30.0 ml DeKuyper(R) Raspberry Pucker schnapps, 90.0 ml cranberry juice\"\\nSlippery Box,\"45.0 ml Absolut Citron, 45.0 ml Southern Comfort, 45.0 ml Everclear, Fill with Purplesaurus-Rex Kool-Aid\"\\nElectric Marcucci,\"60.0 ml Whiskey, 180.0 ml Sprite, 60.0 ml Blue Curacao, 30.0 ml Melon liqueur\"\\nGrape Beam,\"75.0 ml Jim Beam(R) bourbon whiskey, 240.0 ml grape soda\"\\nBanff Cocktail,\"60.0 ml Canadian whisky, 15.0 ml Grand Marnier(R) orange liqueur, 15.0 ml Kirschwasser(R) cherry brandy, 1.0 ml Angostura(R) bitters\"\\nFlash Gordon,\"50.0 ml dry Gin (Gordon\\'s), 50.0 ml Bitter lemon (Shweppes), 50.0 ml Sprite, Ice cubes, 1 slice Lime\"\\nBargo,\"90.0 ml root beer, 120.0 ml brandy, 120.0 ml vodka, 1 splash red wine\"\\nBlunt Ash,\"75.0 ml vodka, 30.0 ml 99 Apples(R) apple schnapps, 90.0 ml banana liqueur, 2 qt Tropicana(R) Twister watermelon-strawberry juice, 120.0 ml Kool-Aid(R) Cherry mix\"\\nSummer Martini,\"Absolut Citron, 1 splash Sweet and sour\"\\nRasta\\'s Revenge,\"30.0 ml gin, 15.0 ml dark rum, 15.0 ml ruby port, 15.0 ml orange juice, 15.0 ml lime juice, 3.0 ml superfine sugar\"\\nFrozen Passion Margarita,\"22.5 ml Alize(R) Gold Passion liqueur, 22.5 ml tequila, 22.5 ml triple sec, 30.0 mlfresh lime juice, 45.0 ml simple syrup, 180.0 ml cracked ice\"\\nButch Beer,\"354.75 ml beer, 118.25 ml Stoli(R) Ohranj vodka\"\\nDelta Cocktail,\"60.0 ml Scotch whisky, 15.0 ml Southern Comfort(R) peach liqueur, 15.0 mlfresh lime juice, 6.0 ml superfine sugar\"\\nPineapple Bomber #2,\"30.0 ml Southern Comfort(R) peach liqueur, 30.0 ml amaretto almond liqueur, 30.0 ml Captain Morgan(R) Original spiced rum, 180.0 ml pineapple juice\"\\nPirate Flag,\"30.0 ml Captain Morgan(R) spiced rum, 30.0 ml Midori(R) melon liqueur, 30.0 ml Chambord(R) raspberry liqueur, 180.0 ml Hawaiian Punch(R), 4 - 180.0 ml 7-Up(R) soda, ice\"\\nGoat Herder,\"30.0 ml brandy, 15.0 ml cherry brandy, 15.0 ml Kirschwasser(R) cherry brandy, 6.0 ml amaretto almond liqueur, 30.0 ml double cream\"\\nMa Wee Hen,\"45.0 ml Scotch, 15.0 ml dry Sherry, 15.0 ml Orange juice, 15.0 ml Lemon juice, 6.0 ml Grenadine\"\\nChocolate Gatail,\"30.0 ml dark creme de cacao, 30.0 ml Bailey\\'s(R) Irish cream, 22.5 ml cherry brandy, 9.0 ml dark rum, 15.0 ml whipping cream\"\\nBlue Mother,\"15.0 ml gin, 15.0 ml orange vodka, 15.0 ml light rum, 30.0 ml DeKuyper(R) Raspberry Pucker schnapps, 15.0 ml Grand Marnier(R) orange liqueur, 130.0 ml 7-Up(R) soda, 3 splashes limeade\"\\nHot Anal Sex,\"15.0 ml brown creme de cacao, 15.0 ml Frangelico(R) hazelnut liqueur, 60.0 ml cranberry juice\"\\nItalian Surfer,\"Ice, 2 parts Pineapple juice, 1 part Amaretto, 1 part Malibu rum\"\\nPierce Clit,\"15.0 ml watermelon schnapps, 15.0 ml peach schnapps, 15.0 ml DeKuyper(R) Sour Apple Pucker schnapps, 15.0 ml DeKuyper(R) Buttershots liqueur, 15.0 ml cranberry juice, 15.0 ml pineapple juice\"\\nBrown Cocktail,\"22.5 ml Light rum, 22.5 ml Gin, 22.5 ml Dry Vermouth\"\\nCold Chocolate,\"2  Crown Royal(R) Canadian whisky, 2  chocolate ice cream, 3  Oreo Chocolate Cookies, 4  milk, 240.0 ml Hershey\\'s(R) chocolate syrup, whipped cream, ice\"\\nJ. R.\\'s Revenge,\"90.0 ml Bourbon, 15.0 ml Southern Comfort, 2.0 mles Bitters\"\\nCancun Rum Runner,\"30.0 ml Bacardi(R) 151 rum, 22.5 ml Jose Cuervo(R) Especial gold tequila, 30.0 ml Captain Morgan(R) Original spiced rum, 30.0 ml Captain Morgan(R) Silver spiced rum, 1.0 ml grenadine syrup, 30.0 ml orange juice, 30.0 ml pineapple juice, 30.0 ml banana liqueur\"\\nRay-Ray,\"30.0 ml peach schnapps, 30.0 ml Alize(R) Red Passion liqueur, 30.0 ml Bacardi(R) 151 rum, 45.0 ml pineapple juice, 45.0 ml cranberry juice, 4 drops grenadine syrup\"\\nOhranj Juice,\"45.0 ml Stoli(R) Ohranj vodka, 7.5 ml peach schnapps, 7.5 ml cranberry juice\"\\nCherry Spitfire,\"60.0 ml Light rum (Bacardi), 60.0 ml Tequila, 60.0 ml Peach schnapps, 60.0 ml Triple sec, Grenadine, Top with 151 proof rum\"\\nPuerto Aventuras Cocktail,\"60.0 ml dark rum, 60.0 ml peach liqueur, 60.0 ml coconut cream, 60.0 ml pineapple juice, 30.0 ml grenadine syrup\"\\nMulatto Russian,\"60.0 ml vodka, 30.0 ml coffee liqueur, 75.0 ml light cream, 9.0 ml chocolate syrup\"\\nPeach Puff Martini,\"60.0 ml Smirnoff(R) Raspberry Twist vodka, 60.0 ml DeKuyper(R) Sour Peach Pucker schnapps, 1.0 ml lemon-lime soda, 1  maraschino cherry\"\\nRendezvous Martini,\"30.0 ml Soho(R) lychee liqueur, 30.0 ml Stolichnaya(R) raspberry vodka, 45.0 ml pineapple juice, 45.0 ml cranberry juice, 1.0 ml grenadine syrup\"\\nSlushy,\"60.0 ml White rum (Bacardi), 45.0 ml Blue Curacao, 30.0 ml Razzmatazz, 120.0 ml Pineapple juice\"\\nMahwah Iced Tea,\"22.0 ml Jim Beam Bourbon, 22.0 ml Southern Comfort, Fill With Iced tea, Add 2 Ice Cubes\"\\nA Gilligan\\'s Island,\"30.0 ml Vodka, 30.0 ml Peach schnapps, 90.0 ml Orange juice, 90.0 ml Cranberry juice\"\\nMike\\'s Long Beach,\"15.0 ml Smirnoff(R) vodka, 15.0 ml Tanqueray(R) gin, 15.0 ml Bacardi(R) light rum, 15.0 ml Jose Cuervo(R) 1800 tequila, 15.0 ml simple syrup, 15.0 ml triple sec, 15.0 ml lime juice, 60.0 ml cranberry juice, 60.0 ml Sprite(R) soda\"\\nDavey Crockett,\"30.0 ml peach schnapps, 30.0 ml Blue Curacao liqueur, 180.0 ml orange juice\"\\nThe Drink,\"30.0 ml dry Sherry, 90.0 ml dry Gin (Boodles), 2.5 handfuls Ice cubes\"\\nPep Up,\"30.0 ml peppermint schnapps, 150.0 ml 7-Up(R) soda\"\\nBrandy Eggnog,\"45.0 ml brandy, 7.5 ml tawny port, 3 15.0 ml milk, 22.5 ml cream, 7.5 ml sugar syrup, 1  egg, nutmeg\"\\nPurple Cocktail,\"30.0 ml Southern Comfort(R) peach liqueur, 30.0 ml Blue Curacao liqueur, 30.0 ml blueberry liqueur, 30.0 ml sloe gin, 1 splash lime juice, 1 splash sweet and sour mix, 1 splash 7-Up(R) soda\"\\nThirsty Marine,\"120.0 ml Red Bull(R) energy drink, 7.5 ml Absolut(R) vodka, 7.5 ml triple sec, 15.0 ml Jagermeister(R) herbal liqueur, 15.0 ml peach schnapps, 15.0 ml100 proof Southern Comfort(R) peach liqueur, 60.0 ml orange juice\"\\nEntwistle\\'s Error,\"60.0 ml Dark rum, 15.0 ml Lemon juice, 120.0 ml Tonic water\"\\nDr. Fire,\"45.0 ml Bacardi(R) 151 rum, 120.0 ml Dr. Pepper(R) soda\"\\nFrosted Apple,\"30.0 ml vodka, 30.0 ml DeKuyper(R) Sour Apple Pucker schnapps, 180.0 ml Squirt(R) citrus soda\"\\nNewtron Bomb,\"45.0 ml Jagermeister(R) herbal liqueur, ginger ale\"\\nApricot Kiss,\"60.0 ml apricot brandy, 30.0 ml Scotch whisky, 15.0 ml sweet vermouth\"\\nKameleon,\"30.0 ml 151 proof rum, 15.0 ml Blue Curacao, 90.0 ml Pineapple juice, 60.0 ml Orange juice, 9.0 ml Pimm\\'s No. 1\"\\nJim\\'s Wild Cherries,\"30.0 ml Jim Beam(R) bourbon whiskey, 30.0 ml Wild Turkey(R) bourbon whiskey, 160.0 ml cherry cola\"\\nHomicidal Maniac,\"60.0 ml vodka, 60.0 ml peach schnapps, 60.0 ml cranberry-apple juice\"\\nReindeer\\'s Tear,\"30.0 ml Finlandia(R) vodka, 30.0 ml Curacao orange liqueur, 30.0 ml lemon juice\"\\nOjen Cocktail,\"60.0 ml ojen anise liqueur, 1.0 ml Peychaud(R) bitters, 6.0 ml sugar, 15.0 ml water\"\\nMaple Lake Irish Shock,\"132.0 mls Aftershock, 88.0 mls Cinnamon schnapps (Hot 100), 480.0 ml Apple cider, 44.0 ml Sour Apple Pucker, 1 stick Cinnamon\"\\nSloe Comfortable Screw Against The Wall With Satin Pillows The,\"15.0 ml Sloe gin, 15.0 ml Southern Comfort, 15.0 ml Galliano, 15.0 ml Frangelico, 15.0 ml Whiskey, Fill with Orange juice\"\\nCoconut Cola,\"45.0 ml coconut rum, 4 15.0 ml cola\"\\nBlack Death Wish,\"30.0 ml 151 proof rum, 30.0 ml Rumple Minze(R) peppermint liqueur\"\\nCotton Candy #4,\"60.0 ml Malibu(R) coconut rum, 30.0 ml peach schnapps, pink lemonade\"\\nBitchin Orange,\"120.0 ml amaretto almond liqueur, 60.0 ml sweet and sour mix, 75.0 ml Stewart\\'s(R) Orange \\'n Cream soda, 1 splash grenadine syrup\"\\nPhuck Suck,\"60.0 ml light rum, 15.0 ml lime juice, 105.0 ml cranberry juice, 1 splash grenadine syrup\"\\nVicious Sid,\"45.0 ml Light rum, 15.0 ml Southern Comfort, 15.0 ml Triple sec, 30.0 ml Lemon juice, 1.0 ml Bitters\"\\nPeach Passion,\"30.0 ml Peachtree schnapps, 30.0 ml Triple sec, 30.0 ml Vodka, Pink lemonade, Ice cubes\"\\nPurple Goddess,\"90.0 ml DeKuyper(R) Island Blue Pucker schnapps, 90.0 ml Smirnoff(R) vodka, 45.0 ml raspberry schnapps, fill with 7-Up(R) soda\"\\nFrench Flamingo,\"30.0 ml Absolut(R) Kurant vodka, 30.0 ml Cointreau(R) orange liqueur, 22.5 mlfresh lime juice, 22.5 mlfresh pomegranate juice\"\\nBankers Doom,\"44.0 ml Midori melon liqueur, 22.0 ml Whisky, 22.0 ml Vodka, Crushed Ice, Fill with Soda water\"\\nGin and Bitters,\"3.0 ml bitters, gin\"\\nPassion Cocktail,\"45.0 ml coconut rum, 45.0 ml white rum, 180.0 mlcold sweet and sour mix, 180.0 mlcold pineapple juice, 1 splashcold Sprite(R) soda, 6.0 ml sugar\"\\nAbsolut Sunrise,\"45.0 ml Absolut(R) Apeach vodka, 1 splash grenadine syrup, 4 15.0 ml orange juice\"\\nTropical Lust,\"Ice, 45.0 ml Sloe gin, 30.0 ml Vodka (Absolut), Fill with Pineapple juice, 15.0 ml Southern Comfort, 15.0 ml Midori melon liqueur\"\\nPurple Rain,\"45.0 ml gin, cranberry juice, 1 splash Blue Curacao liqueur, 1 splash sweet and sour mix, 1 splash soda water\"\\nFoaming Pepsi,\"1 can Pepsi(R) cola, 1 bottle Canadian whisky, 54.0 ml milk\"\\nBeauty On The Beach,\"30.0 ml white rum, 30.0 ml Southern Comfort(R) peach liqueur, 18.0 ml Grand Marnier(R) orange liqueur, 6.0 ml lemon juice, 2.0 mles orange bitters\"\\nAlmond Hot Chocolate,\"30.0 ml Puerto Rican dark rum, 18.0 ml orgeat syrup, 180.0 ml hot chocolate\"\\nOliFanta,\"90.0 ml Oliphant(R) orange vodka, 1 canchilled Fanta(R) orange soda\"\\nMarryat\\'s Mint Julep,\"45.0 ml brandy, 45.0 ml peach brandy, 12  mint, 22.5 ml sugar syrup\"\\nMango Martini,\"30.0 ml Cruzan(R) mango rum, 30.0 ml Bacardi(R) light rum, 15.0 ml triple sec, 15.0 ml Rose\\'s(R) lime juice, 15.0 ml cranberry juice, 1 splash mango puree\"\\nDixie Toss,\"90.0 ml bourbon whiskey, 15.0 ml white creme de menthe\"\\nArchdruid,\"15.0 ml benedictine herbal liqueur, 6.0 ml Green Chartreuse(R), 6.0 ml Jagermeister(R) herbal liqueur, 22.5 ml dry vermouth, 45.0 ml vodka\"\\nMargarita Cocktail #2,\"45.0 ml tequila, 15.0 ml triple sec, 30.0 ml lemon juice, salt\"\\nBrandy Snap Cream,\"60.0 ml Bailey\\'s(R) Irish cream, 30.0 ml brandy, 30.0 ml amaretto almond liqueur\"\\nEarly Christmas,\"30.0 ml dark creme de cacao, 30.0 ml Drambuie(R) Scotch whisky\"\\nTropical Champagne,\"22.5 ml dark rum, 22.5 ml orange juice, 2.5 mles passion-fruit syrup, 2.5 mles lemon juice, 120.0 ml Champagne\"\\nPootie Tang,\"60.0 ml peach schnapps, 72.0 ml Tang(R) powdered soft drink, water\"\\nQuick-sand,\"25 ml Black Sambuca, Add 250 ml Orange juice (with fruit pulp)\"\\nAlpine Sprite,\"60.0 ml Peppermint schnapps, 160.0 ml Sprite\"\\nBloody Pepper,\"90.0 ml red wine, 90.0 ml Dr. Pepper(R) soda\"\\nWhite Cosmopolitan,\"60.0 ml Citrus vodka, 120.0 ml White cranberry juice (Ocean Spray), 30.0 ml fresh Lime juice, 30.0 ml Sugar syrup\"\\nMoxitizer,\"15.0 ml Goldschlager(R) cinnamon schnapps, 15.0 ml Jagermeister(R) herbal liqueur, 240.0 ml Moxie(R) energy drink\"\\nDreaming in Antalya,\"20.0 ml Dark rum (Bacardi), 20.0 ml Light rum (Bacardi), 20.0 ml Cointreau, Juice of 0.5 Lemon, 18.0 ml Grenadine, Ice cubes\"\\nSlow Finnish,\"30.0 ml sloe gin, 30.0 ml Finlandia(R) vodka, 6.0 ml dark rum, 60.0 mlchilled cola\"\\nDi Saronno Mimosa,\"60.0 ml Champagne, 22.5 ml Amaretto Di Saronno(R) liqueur, 60.0 ml orange juice\"\\nHot Whiskey,\"75.0 ml Irish whiskey, 1 slice fresh Lemon, 3 Cloves, 6.0 ml Sugar, Fill with hot Water\"\\nCafe Marnier,\"45.0 ml Grand Marnier(R) orange liqueur, 4 - 180.0 ml coffee, 22.5 ml whipped cream\"\\nPink Coral,\"45.0 ml vodka, 30.0 ml Passoa(R) liqueur, 90.0 ml pineapple juice, 30.0 ml passion-fruit juice, 30.0 ml guava juice, 18.0 ml grenadine syrup, 1.0 ml Angostura(R) bitters\"\\nThe Glove Doesn\\'t Fit,\"120.0 ml Remy Martin(R) cognac, 150.0 ml orange juice\"\\nBat Chain Puller,\"30.0 ml cherry vodka, 30.0 ml Dr. Pepper(R) soda, 180.0 ml orange juice\"\\nGin Highball,\"60.0 ml Gin, Carbonated water, 1 twist of Lemon peel\"\\nBatida de Pina,\"90.0 ml light rum, 144.0 mlcrushed pineapples, 3.0 ml superfine sugar\"\\nGeneration X,\"30.0 ml Tequila, 30.0 ml Jim Beam, 30.0 ml Triple sec, 30.0 ml Blue Curacao, 30.0 ml Melon liqueur, 1 bottle Zima\"\\nHoly Doodle,\"1 part Rum, 1 part Kahlua, 4 parts Fresca, 2 cubes Ice\"\\nBrandy Blazer,\"6.0 ml granulated Sugar, 60.0 ml Brandy, 1 slice Orange, 1 twist of Lemon peel\"\\nHappy Camper,\"9.0 ml Kahlua(R) coffee liqueur, 9.0 ml Bailey\\'s(R) Irish cream, 9.0 ml Frangelico(R) hazelnut liqueur\"\\nNeon Nightmare,\"37.5 ml Malibu rum, 15.0 ml Midori melon liqueur, 7.5 ml Blue Curacao, 3 15.0 ml Pineapple juice\"\\nAccordion,\"45.0 ml brandy, 12.0 ml triple sec, 15.0 ml dry vermouth, 15.0 ml sweet vermouth\"\\nDerby Fizz,\"22.5 ml Scotch whisky, 15.0 ml triple sec, 15.0 ml lemon juice, 3.0 ml sugar, 1 whole egg, 180.0 ml soda water\"\\nPeach Up #2,\"45.0 ml Absolut(R) Apeach vodka, 180.0 ml Sprite(R) soda, 1 splash cranberry juice\"\\nSuitor,\"10.0 ml Drambuie, 10.0 ml Orange liqueur, 10.0 ml Bailey\\'s irish cream, 6.0 ml Milk\"\\nFudge Slide,\"30.0 ml Goldenbarr(R) chocolate vodka, 30.0 ml Kahlua(R) coffee liqueur, 30.0 ml Bailey\\'s(R) Irish cream\"\\nMalibulicious,\"60.0 ml peach schnapps, 60.0 ml Blue Curacao liqueur, 60.0 ml 7-Up(R) soda, 1 can raspberry syrup\"\\nHeyRay,\"60.0 ml Metaxa Brandy, 30.0 ml tonic water, 1 scoop lime sherbet\"\\nIrish Rider,\"7.5 ml triple sec, 7.5 ml raspberry liqueur, 22.5 ml Irish whiskey, 90.0 ml sweet and sour mix\"\\nDrew\\'s Peartini,\"2  Pear vodka, Absolut(R) vodka, Tuaca(R) citrus liqueur, 1 splash pear juice\"\\nButter Ripple Fantasy,\"60.0 ml Phillips(R) Butter Ripple Schnapps, 135.0 ml A&W(R) root beer\"\\nPied Piper,\"120.0 ml vodka, 60.0 ml Chambord(R) raspberry liqueur, 30.0 ml Midori(R) melon liqueur\"\\nThe Mexican,\"45.0 mlquality aged tequila, 15.0 ml Midori(R) melon liqueur, key lime juice, 36.0 ml sugar, ice\"\\nBlack Bottom,\"7.5 ml brandy, 7.5 ml Cointreau(R) orange liqueur, 7.5 ml blackberry brandy, 1.0 ml dry gin, 15.0 ml lemon juice, 22.5 ml orange juice\"\\nDeep Dark Love,\"30.0 ml vanilla vodka, 15.0 ml Kahlua(R) coffee liqueur, 15.0 ml creme de cacao\"\\nCuban Sour,\"60.0 ml rum, 15.0 ml powdered sugar, 22.5 ml lime juice\"\\nApple Colada,\"60.0 ml Apple schnapps, 30.0 ml Cream of coconut, 30.0 ml Half-and-half, 1 slice Apple, 1 Cherry\"\\nPatatus,\"22.0 ml Amaretto, 22.0 ml Curacao, 88.0 mls Anejo rum, 180.0 ml Orange juice, 1 splash Grenadine\"\\nBorn to be Wild,\"Ice cubes, 20.0 ml Tequila, 20.0 ml Vodka, 20.0 ml Pisang Ambon, Fill with Sprite, 2.0 mles Rose\\'s sweetened lime juice\"\\nAlmost Heaven,\"1-7.5 ml Absolut Kurant, 22.5 ml Amaretto, 22.5 ml Chambord raspberry liqueur, 1 splash Pineapple juice, 1 splash Cranberry juice\"\\nGin Daiquiri,\"1 /160.0 ml gin, 15.0 ml light rum, 1.0 ml lime juice, 1 twist limes, 6.0 ml sugar\"\\nSloe Gin Cocktail,\"60.0 ml Sloe gin, 1.5 ml Dry Vermouth, 1.0 ml Orange bitters\"\\nAppled Rum Cooler,\"45.0 ml Anejo rum, 15.0 ml Applejack, 12.0 ml Lime juice, 60.0 ml Club soda\"\\nNan\\'s special,\"30 ml Vodka, 30 ml 7-Up or similar drink, 60 ml Soda water, Juice of 0.5 Lemon, Dash of Salt\"\\nPintado,\"45.0 mlgood white rum, 120.0 ml soda, 1 splash Coca-Cola(R), 3  ice cubes\"\\nHot Tub,\"22.5 ml Grand Marnier(R) orange liqueur, 22.5 ml Absolut(R) vodka, 22.5 ml Champagne, 22.5 ml Chambord(R) raspberry liqueur, 120.0 ml cranberry juice\"\\nDream Cocktail,\"45.0 ml Brandy, 22.5 ml Triple sec, 1.5 ml Anisette\"\\nTanquergay,\"60.0 ml Tanqueray(R) gin, 240.0 ml apple juice, 120.0 ml Sprite(R) soda\"\\nJanner in Mexico,\"25 ml Sourz(R) apple liqueur, 25 ml vodka, 10 mlfresh lime juice, 40 ml apple juice, 15 ml triple sec\"\\nPrado,\"45.0 ml white tequila, 18.0 ml maraschino liqueur, 6.0 ml grenadine syrup, 22.5 ml lemon juice, 1 slice lime, 1  egg\"\\nBarnum,\"90.0 ml gin, 15.0 ml apricot brandy, 4.0 mles Angostura(R) bitters, 4.0 mles lemon juice\"\\n50/50,\"75.0 ml Vanilla vodka (Stoli Vanil), 1 splash Grand Marnier, Fill with Orange juice\"\\nVoodoo Dew,\"132.0 mls Bacardi 151 proof rum, 1 can Mountain Dew\"\\nA Kiss Goodnight,\"1 splash dark rum, 45.0 ml DeKuyper(R) Raspberry Pucker schnapps, 45.0 ml strawberry vodka, 105.0 ml 7-Up(R) soda, 105.0 ml cranberry juice\"\\nCandy Apple Sour,\"30.0 ml Smirnoff(R) vodka, 30.0 ml orange juice, 30.0 ml lemonade, 240.0 ml Rose\\'s(R) sour apple mix\"\\nFleet Street,\"45.0 ml Gin, 15.0 ml Sweet Vermouth, 6.0 ml Dry Vermouth, 6.0 ml Triple sec, 6.0 ml Lemon juice\"\\nGreen Ranger,\"60.0 ml vanilla vodka, 30.0 ml Southern Comfort(R) peach liqueur, 120.0 mlgreen Gatorade(R) energy drink\"\\nMadeira M\\'Dear,\"45.0 ml madeira, 30.0 ml brandy, 15.0 ml dry vermouth, 6.0 ml sweet vermouth\"\\nButterscotch Ice Cream,\"30.0 ml butterscotch schnapps, 15.0 ml Frangelico(R) hazelnut liqueur, 30.0 ml Kahlua(R) coffee liqueur, 30.0 ml hazelnut liqueur, 30.0 ml Irish cream, 240.0 ml milk\"\\nKangaroo Kicker,\"60.0 ml vodka, 22.5 ml French vermouth\"\\nDesert Healer,\"45.0 ml gin, 15.0 ml Heering(R) cherry liqueur, 45.0 mlfresh orange juice, 120.0 ml ginger ale\"\\nJackson Jack,\"120.0 ml Yukon Jack(R) Canadian whisky, ginger ale\"\\nAlaena,\"0.3  pineapple juice, 0.3  cranberry juice, 0.3  soda water, 44.0 ml vodka\"\\nBitch-On-Wheels,\"60.0 ml Gin, 15.0 ml Dry Vermouth, 15.0 ml White Creme de Menthe, 6.0 ml Pernod\"\\nBubba Collins,\"60.0 ml Scotch whisky, 90.0 ml cola, 30.0 ml sweet and sour mix\"\\nDark and Stormy,\"60.0 ml Gosling\\'s Black rum, 240.0 ml Ginger beer\"\\nTwenty Thousand Leagues,\"crushed Ice, 45.0 ml Gin, 30.0 ml Dry Vermouth, 6.0 ml Pernod, 2.0 mles Orange bitters\"\\nBulldog\\'s Viagra,\"30.0 ml Bacardi(R) gold rum, 30.0 ml Bacardi(R) O rum, 30.0 ml triple sec, 1 splash grenadine syrup, 90.0 ml Sprite(R) soda\"\\nAbsolut Santo,\"90.0 ml Absolut(R) vodka, 30.0 ml raspberry liqueur\"\\nA Saturday Afternoon,\"30.0 ml banana liqueur, 60.0 ml Malibu(R) coconut rum, 30.0 ml gold rum, 1 splash grenadine syrup, 90.0 ml orange juice, 4 - 180.0 ml ginger ale, 1 slice orange\"\\nTie Me To The Bedpost (Hawaiian),\"30.0 ml Absolut Citron, 30.0 ml Coconut rum (Parrot Bay), 30.0 ml Midori melon liqueur, 1 splash Sweet and sour, 1 splash 7-Up\"\\nWhite Romanian,\"90.0 ml Stolichnaya(R) vodka, 45.0 ml Kahlua(R) coffee liqueur, 30.0 ml banana liqueur, 90.0 ml milk, 2 slices bananas\"\\nBrandy Buca,\"60.0 ml brandy, 30.0 ml black sambuca\"\\nHot Cinnamon Roll,\"45.0 ml cinnamon schnapps, 150.0 mlhot apple cider\"\\nFirehammer,\"66.0 ml Vodka, 15.0 ml Amaretto, 15.0 ml Triple sec, 1 splash freshly squeezed Lemon juice\"\\nFoxhound,\"45.0 ml brandy, 6.0 ml Kummel(R) caraway liqueur, 15.0 ml cranberry juice, 6.0 ml lemon juice\"\\nBrandy Manhattan,\"6.0 ml Maraschino cherry juice, 1 Maraschino cherry, 2.0 mles Bitters, 15.0 ml Sweet Vermouth, 60.0 ml Brandy, 1 splash Water\"\\nGemini,\"22.5 ml Galliano(R) herbal liqueur, 22.5 ml Grand Marnier(R) orange liqueur, 15.0 ml cognac, 30.0 ml lemonade\"\\nDixie Pearl,\"30.0 ml grenadine syrup, 22.5 ml amaretto almond liqueur, 22.5 ml creme de cacao, 30.0 ml light rum, 120.0 ml evaporated milk\"\\nCold Porridge,\"45.0 ml Scotch whisky, 45.0 ml double cream, 15.0 ml honey\"\\nPaultini,\"2  ruby port, 2  dry vermouth\"\\nGreen Fire,\"45.0 ml gin, 12.0 ml green creme de menthe, 12.0 ml Kummel(R) caraway liqueur\"\\nLost Cherry,\"30.0 ml cherry vodka, 15.0 ml white creme de cacao, 7.5 ml white creme de menthe, 30.0 mlfiltered orange juice, 30.0 ml double cream\"\\nDrunken Hawaiian,\"30.0 ml coconut rum, 30.0 ml Maui(R) Blue Hawaiian schnapps, 30.0 ml DeKuyper(R) Sour Apple Pucker schnapps, 90.0 ml pineapple juice\"\\nShagger,\"45.0 ml Jagermeister(R) herbal liqueur, 45.0 ml orange juice, 15.0 ml milk\"\\nMonkey Tree,\"30.0 ml gold tequila, 15.0 ml Rum Tree(R) liqueur, 15.0 ml creme de bananes, 9.0 ml lime juice, 60.0 ml mango juice\"\\nBig Game Punch,\"45.0 ml Bacardi(R) orange rum, 45.0 ml Bacardi(R) Razz rum, 120.0 ml cranberry juice, 15.0 ml pineapple juice, 15.0 ml Sprite(R) soda\"\\nDown Under Dreamsicle,\"22.5 ml light rum, 45.0 ml Bailey\\'s(R) Irish cream, 180.0 ml orange juice, 2.0 mles club soda\"\\nJ. R.\\'s Godchild,\"60.0 ml Bourbon, 15.0 ml Amaretto, 30.0 ml Milk\"\\npepsi pleaser,\"60.0 ml Smirnoff(R) vodka, 45.0 ml Kahlua(R) coffee liqueur, Pepsi(R) cola\"\\nHoya,\"60.0 ml gin, 90.0 ml ginger ale, 30.0 ml orange juice, 1 slice orange\"\\nBull Martini,\"45.0 ml gin, 15.0 ml sweet vermouth, 30.0 mlMidori melon liqueur, 105.0 ml Red Bull(R) energy drink\"\\nBanana Jacuzzi Shake,\"105.0 ml Bacardi(R) Coco rum, 1200.0 ml milk, 3  bananas, 1892.5 ml vanilla ice cream, 12.0 ml coconut extract, 6  ice cubes\"\\nCoconut Grove,\"45.0 ml coconut rum, 30.0 ml creme de bananes, 30.0 ml white rum, 120.0 ml pineapple juice, 6.0 ml lemon juice\"\\nBourbon and sprite,\"120.0 ml Bourbon (Henry McKenna bourbon), 210.0 ml Sprite\"\\nApple Jack,\"30.0 ml Jack Daniels, Fill ith Apple juice\"\\nA Little Dinghy,\"88.0 mls Parrot Bay Coconut rum, 88.0 mls Malibu rum, Fill with 1 part Cranberry juice, 1 part Pineapple juice, 1 part Orange juice\"\\nCactus Berry,\"37.5 ml Tequila, 37.5 ml Red wine, 30.0 ml Triple sec, 6 15.0 ml Sour mix, 1 splash Lemon-lime soda, 1.0 ml Lime juice\"\\nRory O\\'more,\"45.0 ml Irish whiskey, 22.5 ml Sweet Vermouth, 1.0 ml Orange bitters\"\\nDirty Banana #2,\"90.0 ml Bailey\\'s(R) Irish cream, 60.0 ml banana rum, 30.0 ml cream\"\\nWicked Apple,\"30.0 ml Jagermeister(R) herbal liqueur, 30.0 ml Stolichnaya(R) vodka, 120.0 ml apple juice, 1 splash ginger ale\"\\nQueen of Hearts,\"60.0 ml amaretto almond liqueur, 60.0 ml Midori(R) melon liqueur, 120.0 ml Blue Curacao liqueur, 120.0 ml cranberry juice\"\\nGolden Nugget #2,\"60.0 ml Southern Comfort(R) peach liqueur, 150.0 ml grapefruit juice\"\\nAussie Beach Blond,\"45.0 ml Bacardi(R) white rum, 37.5 ml Cointreau(R) orange liqueur, 9.0 ml sugar, 22.5 ml lime juice, 37.5 ml orange juice, 1  passion-fruit\"\\nGodiva Whisper,\"15.0 ml cognac, 22.5 ml Godiva(R) chocolate liqueur, 3 scoops vanilla ice cream\"\\nBlack Magick,\"15.0 ml vodka, 15.0 ml vermouth, 15.0 ml Blue Curacao liqueur, 30.0 ml black raspberry liqueur, top with apple juice\"\\nDrunken Stupor,\"60.0 ml rye whiskey, 45.0 ml Kahlua(R) coffee liqueur, 30.0 ml vodka, Pepsi(R) cola\"\\nBlue Downy,\"45.0 ml light rum, 45.0 ml Blue Curacao liqueur, 45.0 ml coconut milk, 45.0 ml pineapple juice\"\\n80\\'s Berry Wine Cooler,\"120.0 ml Chablis(R) white wine, 180.0 ml 7-Up(R) soda, 15.0 ml blackberry juice, 15.0 ml raspberry juice, 15.0 ml strawberry juice, 15.0 ml blueberry juice\"\\nHeste Pis,\"90.0 ml vodka, 210.0 mlchilled apple juice\"\\nIce Breaker,\"22.5 ml dark rum, 7.5 ml cognac, 7.5 ml gin, 60.0 ml lemon juice, 30.0 ml orange juice, 15.0 ml creme de noyaux\"\\nYellow Fingers,\"30.0 ml Southern Comfort(R) peach liqueur, 30.0 ml vodka, 15.0 ml Galliano(R) herbal liqueur, 30.0 ml orange juice, 60.0 ml lemonade, 15.0 ml egg, 10  Blue Curacao liqueur\"\\nBlue Skies,\"35 ml Cointreau, crushed Ice, 35 ml Blue Curacao (Bols), Fill with Lemonade (Finches White)\"\\nCuban Sunset,\"45.0 ml Bacardi(R) light rum, 30.0 ml Jose Cuervo(R) Especial gold tequila, 30.0 ml Smirnoff(R) Lime Twist vodka, 1 splash grenadine syrup, 1 splash lime juice, fill with Sunny Delight(R) orange juice\"\\nGold Dust,\"30.0 ml Beefeater(R) gin, 30.0 ml Crown Royal(R) Canadian whisky, 60.0 ml lemon vodka, 60.0 ml Jose Cuervo(R) Especial gold tequila, 36.0 ml lemon juice, 36.0 ml lime juice, 36.0 ml sugar\"\\nHug the Toilet,\"30.0 ml gold tequila, 60.0 ml orange vodka, 2 splashes lemon juice, 180.0 ml Sunny Delight(R) orange juice, 90.0 ml lemonade\"\\nAunt Agatha,\"37.5 ml dark rum, 60.0 ml orange juice, 3 drops bitters\"\\nJojo,\"60.0 ml peach schnapps, 30.0 ml Blue Curacao liqueur, 120.0 ml grapefruit juice\"\\nHawaiian Parrot,\"90.0 ml Captain Morgan(R) Parrot Bay coconut rum, 45.0 ml Hawaiian Punch(R), 45.0 ml Sprite(R) soda\"\\nGreen Monster,\"120.0 ml Vodka, 1 small Pickled pepper, 4 Ice cubes\"\\nSkinny Dipper,\"60.0 ml Midori melon liqueur, 180.0 ml Cranberry juice\"\\nJumping Bean,\"45.0 ml tequila, 15.0 ml sambuca, 3  coffee\"\\nMaltese Slipper,\"22.5 ml Cointreau(R) orange liqueur, 22.5 ml Midori(R) melon liqueur, 22.5 ml lime vodka, 22.5 ml sweet and sour mix, 2.0 mles grenadine syrup\"\\nThe Admiral\\'s Passion,\"1 part Passoa, 1 part Sprite, 1 part Orange juice, 3 Ice cubes\"\\nBrandy Sling,\"6.0 ml superfine Sugar, 12.0 ml Water, 30.0 ml Lemon juice, 60.0 ml Brandy, 1 twist of Lemon peel\"\\nAmaretto Jack,\"30.0 ml amaretto almond liqueur, 30.0 ml Jack Daniel\\'s(R) Tennessee whiskey, 1 splash cherry syrup, pineapple juice, orange juice\"\\nAcapulco Clam Digger,\"45.0 ml tequila, 90.0 ml tomato juice, 90.0 ml clam juice, 13.5 ml horseradish, 1 splashfresh lemon juice, Worcestershire sauce, Tabasco(R) sauce\"\\nTannersworth,\"30.0 ml Dubonnet(R) Rouge vermouth, 15.0 ml gin, 15.0 ml dry vermouth\"\\nAcid Trip,\"45.0 ml Midori(R) melon liqueur, 15.0 ml gin, 15.0 ml vodka, 15.0 ml rum, 15.0 ml tequila\"\\nJuanita\\'s Cadillac Delight,\"30.0 ml Jose Cuervo(R) 1800 tequila, Squirt(R) citrus soda\"\\nBlazing Fire,\"Ice, 1 part Vodka, 1 part Gin, 1 part Light rum, 1 part Triple sec, Pineapple juice, 1.0 ml Grenadine\"\\nBend Over Shirley,\"45.0 ml raspberry vodka, 120.0 ml Sprite(R) soda, 22.5 ml Rose\\'s(R) grenadine syrup\"\\nGrape Bubbolicious,\"30.0 ml grape soda, 15.0 ml DeKuyper(R) Grape Pucker schnapps, 15.0 ml Chambord(R) raspberry liqueur, 15.0 ml Skyy(R) vodka, 1 splash cream, sugar, ice\"\\nPurple Passion #2,\"90.0 ml Hpnotiq(R) liqueur, 90.0 ml Alize(R) Red Passion liqueur, 90.0 ml Remy(R) Red cognac\"\\nDu Barry Cocktail,\"45.0 ml Gin, 22.5 ml Dry Vermouth, 3.0 ml Anis, 1.0 ml Bitters, 1 slice Orange\"\\nB2 C2,\"30.0 ml brandy, 30.0 ml benedictine herbal liqueur, 30.0 ml Cointreau(R) orange liqueur, 120.0 ml Champagne\"\\nMelon Fever,\"60.0 ml melon liqueur, 15.0 ml triple sec, 60.0 ml cream\"\\nPassion Fruit Mojito,\"75 ml Havana Club(R) dark rum, 6.0 ml(heaped) Muscovado sugar, 6  lime, 11  mint, 25 ml passion-fruit puree, 50 ml soda, 0.6 of a glass crushed ice\"\\nMorning Junkie Monkey,\"15.0 ml dark rum, 15.0 ml Kahlua(R) coffee liqueur, 15.0 ml dark creme de cacao, 30.0 ml banana liqueur, 60.0 ml cream\"\\nLifestyle,\"120.0 ml Crown Royal(R) Reserve Canadian whisky, 60.0 ml Rockstar(R) energy drink, 90.0 ml Coca-Cola(R)\"\\nMidori Firecracker,\"30.0 ml Midori(R) melon liqueur, 30.0 ml DeKuyper(R) Sour Apple Pucker schnapps, 60.0 ml cranberry juice\"\\nAsterix Cocktail,\"18.0 ml Finlandia(R) vodka, 18.0 ml Pisang Ambon(R) liqueur, 300.0 ml Sprite(R) soda, 1.0 ml lemon juice\"\\nYes!,\"30.0 ml Malibu(R) coconut rum, 30.0 ml Passoa(R) liqueur, 30.0 ml orange vodka, 30.0 ml cherry liqueur, 120.0 ml Red Bull(R) energy drink\"\\nKama Sutra,\"30.0 ml Alize(R) cognac, 30.0 ml Alize(R) Red Passion liqueur, 30.0 ml orange juice\"\\nGin Milk Punch,\"60.0 ml Gin, 240.0 ml Milk, 6.0 ml Powdered sugar, Nutmeg\"\\nYellow Rattler,\"30.0 ml Gin, 15.0 ml Sweet Vermouth, 15.0 ml Dry Vermouth, 18.0 ml Orange juice, 1 Cocktail onion\"\\nDanish Toddy,\"45.0 ml aquavit, 15.0 ml cherry vodka, 15.0 ml lemon juice, 60.0 mlboiling water, 1 slice lemon\"\\nThe Seabass,\"45.0 ml pineapple rum, 30.0 ml peach schnapps, pineapple juice, Champagne, orange\"\\nBird Bomb,\"90.0 ml Absolut(R) vodka, 30.0 ml DeKuyper(R) Cheri-Beri Pucker schnapps, 240.0 ml lemonade\"\\nTony Montana,\"3 fresh mint, 1  key lime, 30.0 ml simple syrup, 45.0 ml light rum, fill with Coca-Cola(R)\"\\nBarcardi Volcano,\"Juice of 0.5 Lime, 0.5 glass Coca-Cola, 0.5 glass Bacardi 151 proof rum, 44.0 ml Everclear\"\\nManhattan Bella,\"75.0 ml Bourbon (Knob Creek), 3/240.0 ml Dubonnet Rouge, 3/240.0 ml Sweet Vermouth, 2.0 mles Angostura bitters\"\\nB&B,\"15.0 ml brandy, 15.0 ml benedictine herbal liqueur\"\\nLachler,\"40.0 ml Southern Comfort, 20.0 ml Lemon juice, 60.0 ml Cola\"\\nRainbow Julep,\"2 fresh mint, 15.0 ml Marie Brizard(R) Apry apricot brandy, 60.0 ml bourbon whiskey\"\\nRosarita,\"22.5 ml triple sec, 22.5 ml Alize(R) Red Passion liqueur, 22.5 ml tequila\"\\nApple Dubonnet,\"60.0 ml apple brandy, 45.0 ml Dubonnet(R) Rouge vermouth\"\\nSouth Texas Snow,\"60.0 ml Malibu(R) coconut rum, 60.0 ml Malibu(R) pineapple rum, 22.5 ml 99 Bananas(R) banana schnapps, 240.0 ml Sprite(R) soda\"\\nSanoran Desert Sunset,\"44.0 ml Bacardi(R) dark rum, 240.0 mlSunny Delight orange juice, 1 splash Dr. Pepper(R) soda, 8  ice\"\\nDevil\\'s Piss,\"66.0 ml Everclear, Lemonade\"\\nMitch\\'s Jim Beam Drink,\"141.9 ml Jim Beam(R) bourbon whiskey, 141.9 ml Mountain Dew(R) citrus soda, 141.9 ml Sunny Delight(R) orange juice\"\\nCounter Strike,\"30.0 ml Blue Curacao liqueur, 30.0 ml vodka, 120.0 ml Sobe(R) Energy drink\"\\nThe Barbarella,\"60.0 ml tequila, 60.0 ml pomegranate juice, 30.0 ml lime juice\"\\nLumpy Lime,\"30.0 ml lime vodka, 1 splash triple sec, 90.0 ml 7-Up(R) soda\"\\nChocolate Russian,\"60.0 ml Vincent Van Gogh(R) Dutch chocolate vodka, 30.0 ml Kahlua(R) coffee liqueur, cream\"\\nTree Shaker,\"30.0 ml Rum Tree(R) liqueur, 30.0 ml pear liqueur, 30.0 ml mandarin juice, 30.0 ml pineapple juice\"\\nBrassy Blond,\"60.0 ml Stoli(R) Limonnaya vodka, 60.0 ml pineapple juice, 7.5 ml Cointreau(R) orange liqueur\"\\nSlow Comfortable Screw on a Do...,\"45.0 ml Southern Comfort(R) peach liqueur, 45.0 ml Jack Daniel\\'s(R) Tennessee whiskey, 45.0 ml sloe gin, 1 splash grenadine syrup, fill with orange juice, ice\"\\nNixon,\"45.0 ml Captain Morgan(R) Original spiced rum, 180.0 ml 7-Up(R) soda\"\\nCaptain Jack Sparrow,\"45.0 ml Bacardi(R) 151 rum, 60.0 ml Captain Morgan(R) Original spiced rum, 60.0 ml Southern Comfort(R) peach liqueur, 270.0 ml pineapple juice\"\\nLong Light,\"45.0 ml dark rum, 15.0 ml amaretto almond liqueur, 15.0 ml triple sec, 2.0 mles orange bitters, 15.0 ml lemon juice\"\\nCream Fizz,\"60.0 ml Gin, 6.0 ml Powdered sugar, Juice of 0.5 Lemon, 6.0 ml Light cream, Carbonated water\"\\nNitro Cocktail,\"45.0 ml Vodka, 22.5 ml Blended whiskey, Orange juice, Cranberry juice, 1.0 ml Grenadine\"\\nPink Polka,\"22.5 ml vodka, 45.0 ml 7-Up(R) soda, 22.5 mlruby red grapefruit juice, 2.0 mles grenadine syrup\"\\nLudvika Walker,\"40.0 ml Absolut Kurant, 50.0 ml Apple cider\"\\nHot Russian Christmas,\"30.0 ml Grey Goose(R) vodka, 30.0 ml Kahlua(R) coffee liqueur, 30.0 ml eggnog, 144.0 ml hot chocolate\"\\nFrench Sunrise,\"60.0 ml white tequila, 15.0 ml Chambord(R) raspberry liqueur, 15.0 ml triple sec, 60.0 ml cranberry juice, 60.0 ml orange juice\"\\nBuckhead Root Beer,\"37.5 ml Jagermeister(R) herbal liqueur, 150.0 ml club soda\"\\nPurple Passion Fizz,\"2 parts Hpnotiq(R) liqueur, 2 parts Alize(R) Red Passion liqueur, 1.5 parts ginger ale\"\\nDeath Everywhere,\"45.0 ml vodka, 15.0 ml dark creme de cacao, 15.0 ml green creme de menthe, 3.75 ml cream\"\\nBlack Hole,\"45.0 ml Black Sambuca, Fill with Club soda\"\\nMeister Mind Meld,\"3 parts Coca-Cola, 1 part Amaretto, 1 Ice cube\"\\nCracklin\\' Rosie,\"45.0 ml white rum, 15.0 ml Bols(R) creme de bananes, 22.5 ml passion-fruit juice, 15.0 ml pineapple juice, 15.0 ml lime juice\"\\nJack Leg,\"90.0 ml Jack Daniel\\'s(R) Tennessee whiskey, 45.0 ml Amaretto Di Saronno(R) liqueur, 150.0 ml pineapple juice, 1 splash Sprite(R) soda\"\\nOrchid Cocktail,\"60.0 ml gin, 1.0 ml creme de violette, 1  egg\"\\nDreamin\\' Caribbean Cocktail,\"45.0 ml Midori(R) melon liqueur, 45.0 ml Blue Curacao liqueur, 22.5 ml Bacardi(R) Superior rum, 22.5 ml Coco Lopez(R) cream of coconut, 22.5 ml Dole(R) pineapple juice\"\\nAubade,\"75.0 ml rum, 15.0 ml grenadine syrup, 30.0 ml lime juice, 75.0 ml tonic water\"\\nBlushing Barmaid,\"22.5 ml amaretto almond liqueur, 22.5 ml Campari(R) bitters, 90.0 mlsparkling bitter lemon soda\"\\nFirst Avenue,\"45.0 ml sweet sherry, 15.0 ml Cointreau(R) orange liqueur, 22.5 ml soda water, 6.0 ml Campari(R) bitters\"\\nBroadside,\"30.0 ml rum, 15.0 ml vodka, 15.0 ml cherry brandy, 15.0 ml Frangelico(R) hazelnut liqueur, 12.0 ml grenadine syrup\"\\nThe Manager\\'s Daughter,\"45.0 ml Dubonnet(R) French vermouth, 30.0 ml apple brandy, 120.0 mlsparkling bitter lemon soda\"\\nPino Frio,\"45.0 ml white rum, 36.0 ml pineapples, 6.0 ml caster sugar\"\\nSanta Cruz Fix,\"60.0 ml Santa Cruz(R) rum, 30.0 ml cherry brandy, 30.0 ml lemon juice, 22.5 ml sugar syrup\"\\nBishop,\"Juice of 0.25 Lemon, Juice of 0.25 Orange, 6.0 ml Powdered sugar, Red wine (Burgundy)\"\\nA-Rang-A-Tang,\"30.0 ml 99 Bananas(R) banana schnapps, 30.0 ml Captain Morgan(R) Parrot Bay coconut rum, 30.0 ml white rum, 90.0 ml orange juice, 60.0 ml pineapple juice, 54.0 ml Tang(R) powdered soft drink, 54.0 mlpowdered sugar\"\\nChocolate Lovers Martini,\"45.0 ml vodka, 45.0 ml Bailey\\'s(R) Irish cream, 45.0 ml white creme de cacao, 18.0 ml chocolate syrup\"\\nHand-Shaken Margarita on the Rocks,\"44.0 ml Gold tequila (Cuervo), 1.5 part Sweet and sour, 27.0 ml Lime juice, 15.0 ml Triple sec\"\\nCarribean Catholic,\"45.0 ml Malibu(R) coconut rum, 15.0 ml Tia Maria(R) coffee liqueur, 30.0 ml Bailey\\'s(R) Irish cream, 30.0 ml chocolate sauce, 30.0 ml double cream, 75.0 ml milk, 1 pinchpowdered chocolate\"\\nTiffatini,\"2 parts citrus vodka, 1 part Sprite(R) soda, splash cranberries, Top with a lemon\"\\nDirty Futo,\"45.0 ml tequila, 45.0 ml gin, 180.0 ml sweet and sour mix\"\\nTrilby Cocktail,\"22.5 ml Sweet Vermouth, 45.0 ml Bourbon, 2.0 mles Orange bitters\"\\nWhoomp,\"1 bottle Everclear, 1 bottle Dark rum, 1 bottle Jim Beam, 1 bottle 100 proof Vodka, 1 bottle Peach schnapps, 1 bottle Jack Daniels, 2 cans frozen Fruit juice (your choice), 1 can Fruit punch (Hi C)\"\\nOrange Truffle Mocha,\"30.0 ml espresso, 18.0 ml cocoa powder, 30.0 ml caramel syrup, 30.0 ml orange juice, 105.0 ml milk\"\\nJamaican Martini,\"90.0 ml gin, 15.0 ml red wine, 18.0 ml dark rum, 4.0 mles orange bitters\"\\nPaco Mix,\"30.0 ml vodka, 30.0 ml gold tequila, 1 can beer, 2.5 twists lemons, 2 pinches salt, 2.5 mles Tabasco(R) sauce, 2.5 mles Worcestershire sauce\"\\nPlanter\\'s Cocktail,\"45.0 ml rum, 15.0 mlfresh lemon juice, 3.0 ml powdered sugar\"\\nQuiescent,\"45.0 ml vodka, 15.0 ml cherry brandy, 30.0 ml orange juice, 1.0 ml orange bitters\"\\nPousse L\\'Amour,\"15.0 ml benedictine herbal liqueur, 15.0 ml cognac, 15.0 ml maraschino liqueur, 1  egg\"\\nHot and Dirty Martini,\"90.0 ml pepper vodka, 15.0 ml dry vermouth, 6.0 ml olive juice\"\\nSimply Exquisite,\"22.5 ml Orange Curacao liqueur, 22.5 ml creme de bananes, 22.5 ml butterscotch schnapps, 22.5 ml Frangelico(R) hazelnut liqueur, 22.5 ml cream\"\\nDaytona 501,\"15.0 ml vodka, 45.0 ml dark rum, 15.0 ml triple sec, 60.0 ml orange juice, 1 slice orange\"\\nKing of Noble,\"45.0 ml gin, 15.0 ml dry vermouth, 15.0 ml apple brandy, 15.0 ml triple sec\"\\nDirty South #2,\"120.0 ml Southern Comfort(R) peach liqueur, 90.0 ml orange juice, 30.0 ml apple juice\"\\nWhite Spider,\"30.0 ml vodka, 30.0 ml white creme de menthe\"\\nBrandied Madeira,\"30.0 ml Brandy, 15.0 ml Dry Vermouth, 30.0 ml Madeira, 1 twist of Lemon peel\"\\nFalling Sky,\"30.0 ml Tanqueray(R) gin, 30.0 ml Hpnotiq(R) liqueur\"\\nLumumba,\"30.0 ml brandy, 300.0 mlchilled chocolate milk\"\\nIrish Shake,\"30.0 ml Irish cream, 90.0 ml milk, 1 scoop chocolate ice cream, 15.0 ml whipped cream\"\\nFilthy Mudblood,\"30.0 ml vodka, 30.0 ml Cointreau(R) orange liqueur, Tabasco(R) sauce, pumpkin, coriander\"\\nHot Damn Pink Russian,\"30.0 ml Stolichnaya(R) vodka, 30.0 ml Kahlua(R) coffee liqueur, 30.0 ml DeKuyper(R) Hot Damn 100 cinnamon schnapps\"\\nBananarama,\"30.0 ml creme de bananes, 15.0 ml Cointreau(R) orange liqueur, 1.0 ml bitters, 30.0 ml light cream\"\\nBomber,\"30.0 ml amaretto almond liqueur, 30.0 ml Southern Comfort(R) peach liqueur, 60.0 ml pineapple juice\"\\nHairy Jerry,\"Ice, 75.0 ml Dark rum (Meyers), Fill with Papaya juice\"\\nMai Tai #2,\"90.0 ml white rum, 45.0 ml orgeat syrup, 45.0 ml triple sec, 4 15.0 ml sweet and sour mix\"\\nRoll Me Over,\"60.0 ml Vodka, 30.0 ml Vanilla schnapps, 30.0 ml Cranberry juice, 1 splash Lime juice\"\\nEscalator Martini,\"88.0 mls pear schnapps, 44.0 ml Zubrowka(R) vodka, 4 pressed apple juice, dash sugar syrup\"\\nA1 Cocktail,\"30.0 ml gin, 15.0 ml Grand Marnier(R) orange liqueur, 1.0 ml lemon juice, 1.0 ml grenadine syrup\"\\nRum Cola,\"60.0 ml rum, 0.5 - 22.5 mlfresh lime juice, 240.0 ml cola\"\\nChampagne Julep,\"120.0 ml Champagne, 60.0 ml bourbon whiskey, 6.0 ml superfine sugar, 6  mint\"\\nBolduc On The Beach,\"45.0 ml Vodka, 45.0 ml Orange juice, 45.0 ml Grapefruit juice\"\\nGay Bartender,\"60.0 ml Captain Morgan(R) Parrot Bay coconut rum, 15.0 ml raspberry liqueur, 15.0 ml strawberry liqueur, 15.0 ml Blue Curacao liqueur, 15.0 ml Grand Marnier(R) orange liqueur, 30.0 ml apple juice, 30.0 ml cranberry juice, 30.0 ml orange juice\"\\nMexican Grasshopper,\"60.0 ml green creme de menthe, 60.0 ml Kahlua(R) coffee liqueur, 60.0 ml light cream\"\\nCrickets,\"44.0 ml Peach brandy, 88.0 mls Creme de Cacao, 4 crushed Ice, Vanilla ice-cream\"\\nAdios Motherfucker #3,\"30.0 ml Gin, 30.0 ml Light rum, 24.0 ml Tequila, 30.0 ml Vodka, 45.0 ml Blue Curacao, 60.0 ml Sweet and sour, 30.0 ml Sprite\"\\nCat Cocktail,\"45.0 ml vodka, 15.0 ml triple sec, 120.0 ml Ocean Spray(R) cranberry juice\"\\nPink Rain,\"9.0 ml gin, 9.0 ml vodka, 5/180.0 ml strawberry liqueur, 1/180.0 ml grenadine syrup, 45.0 ml tonic water\"\\nKing Alfonse,\"45.0 ml dark creme de cacao, 30.0 ml heavy cream\"\\nSan Salvador,\"45.0 ml dark rum, 30.0 ml Curacao orange liqueur, 15.0 mlfresh lime juice, 45.0 mlfresh orange juice\"\\nMi General,\"88.0 mls Malibu(R) coconut rum, Fill with Sprite(R) soda, 132.0 mls Blue Curacao liqueur\"\\nAnti-Freeze #2,\"1 package hot chocolate, 37.5 ml peppermint schnapps, 180.0 mlboiling water, 45.0 ml whipped cream\"\\nLondon Kamikaze,\"30.0 ml gin, 30.0 ml triple sec, 15.0 ml lime juice\"\\nDr. Swerve,\"30.0 ml blended whiskey, 150.0 ml Dr. Pepper(R) soda, 15.0 ml grenadine syrup\"\\nLong vodka,\"50.0 ml Vodka, 0.5 Lime, 4.0 mles Angostura bitters, 1 dl Schweppes Tonic water, 4 Ice cubes\"\\nFuzzy Monkey #2,\"30.0 ml peach schnapps, 30.0 ml banana liqueur, 45.0 ml orange juice\"\\nRose of Warsaw,\"45.0 ml Wyborowa(R) vodka, 30.0 ml cherry liqueur, 15.0 ml Cointreau(R) orange liqueur, 1.0 ml Angostura(R) bitters\"\\nKick in the Balls,\"30.0 ml dark rum, 30.0 ml melon liqueur, 15.0 ml coconut cream, 30.0 ml orange juice, 30.0 ml double cream\"\\nTropical Kermit Piss,\"30 ml Midori melon liqueur, 30 ml Cointreau, 15 ml Malibu rum, Fill with Pineapple soda or lemon soda\"\\nCaptain On A Diet,\"30.0 ml Captain Morgan(R) spiced rum, 4 15.0 ml Pepsi(R) Diet\"\\nSilent Sam Mix,\"190.0 ml Silent Sam(R) vodka, 1000.0 ml Coca-Cola(R), 8 scoops iced tea\"\\nRed Dwarf,\"2 measures White rum (Bacardi), 0.3 measure Lemon juice, 2 measures Orange juice, 1 measure Peach schnapps (Archers), 0.3 measure Creme de Cassis\"\\nGinger Spice,\"60.0 ml Spiced rum, Fill with Ginger ale, Ice\"\\nCuban Breeze #2,\"30.0 ml vodka, 30.0 ml amaretto almond liqueur, 180.0 ml pineapple juice\"\\nHunter Cocktail,\"30.0 ml rye whiskey, 15.0 ml cherry brandy\"\\nLove Juice (LJ),\"60.0 ml Light rum, 75.0 ml Orange juice, 60.0 ml Apple juice, 6 15.0 ml Squirt (or any other citrus soda)\"\\nPeach Sangaree,\"30.0 ml peach brandy, 150.0 ml club soda, 6.0 ml port\"\\nFlaming Blue Lamborghini,\"30.0 ml 151 proof rum, 30.0 ml Bacardi(R) spiced rum, 30.0 ml Maui(R) Blue Hawaiian schnapps, 30.0 ml Kahlua(R) coffee liqueur, 30.0 ml milk\"\\nDisco Inferno,\"60.0 ml Dom Perignon(R) Champagne, 60.0 ml Grey Goose(R) vodka, 60.0 ml Hennessy(R) cognac\"\\nDr. Zhivago,\"60.0 ml vodka, 150.0 ml Dr. Pepper(R) soda\"\\nRomance Cocktail,\"7.5 ml brandy, 7.5 ml Curacao orange liqueur, 15.0 ml Amer Picon(R) orange bitters, 15.0 ml French vermouth, 15.0 ml Italian vermouth\"\\nCherry Amaretto,\"60.0 ml amaretto almond liqueur, 30.0 ml cherry juice\"\\nMortini,\"3 drops Amaretto, 2 drops Grenadine, 60.0 ml premium Vodka\"\\nMacatini,\"45.0 ml vodka, 18.0 ml Macadamia nut liqueur\"\\nOgden Style,\"90.0 ml gin, 90.0 ml orange juice, 60.0 ml Bacardi(R) 151 rum\"\\nWild Irish Rose,\"60.0 ml Irish whiskey, 22.5 ml lemon juice, 15.0 ml grenadine syrup, 60.0 ml soda water\"\\nNaughty Nick,\"60.0 ml McCormick\\'s(R) vodka, 150.0 ml Mountain Dew(R) citrus soda\"\\nPink Inside,\"30.0 ml Crown Royal(R) Canadian whisky, 30.0 ml DeKuyper(R) Watermelon Pucker schnapps, 90.0 ml sweet and sour mix\"\\n'"
      ]
     },
     "execution_count": 468,
     "metadata": {},
     "output_type": "execute_result"
    }
   ],
   "source": [
    "text"
   ]
  },
  {
   "cell_type": "code",
   "execution_count": 469,
   "metadata": {},
   "outputs": [
    {
     "name": "stdout",
     "output_type": "stream",
     "text": [
      "76 unique characters\n"
     ]
    }
   ],
   "source": [
    "# unique values in file\n",
    "\n",
    "vocab = sorted(set(text))\n",
    "print ('{} unique characters'.format(len(vocab)))"
   ]
  },
  {
   "cell_type": "code",
   "execution_count": 470,
   "metadata": {},
   "outputs": [],
   "source": [
    "# Creating a mapping from unique characters to indices\n",
    "char2idx = {u:i for i, u in enumerate(vocab)}\n",
    "idx2char = np.array(vocab)\n",
    "\n",
    "text_as_int = np.array([char2idx[c] for c in text])"
   ]
  },
  {
   "cell_type": "code",
   "execution_count": 471,
   "metadata": {},
   "outputs": [
    {
     "name": "stdout",
     "output_type": "stream",
     "text": [
      "'O & Tonic,\"45' ---- characters mapped to int ---- > [38  1  6  1 43 64 63 58 52 10  3 18 19]\n"
     ]
    }
   ],
   "source": [
    "# Show how the first 13 characters from the text are mapped to integers\n",
    "print ('{} ---- characters mapped to int ---- > {}'.format(repr(text[:13]), text_as_int[:13]))"
   ]
  },
  {
   "cell_type": "code",
   "execution_count": 472,
   "metadata": {},
   "outputs": [
    {
     "name": "stdout",
     "output_type": "stream",
     "text": [
      "O\n",
      " \n",
      "&\n",
      " \n",
      "T\n"
     ]
    }
   ],
   "source": [
    "# The maximum length sentence we want for a single input in characters\n",
    "seq_length = 100\n",
    "examples_per_epoch = len(text)//(seq_length+1)\n",
    "\n",
    "# Create training examples / targets\n",
    "char_dataset = tf.data.Dataset.from_tensor_slices(text_as_int)\n",
    "\n",
    "for i in char_dataset.take(5):\n",
    "  print(idx2char[i.numpy()])"
   ]
  },
  {
   "cell_type": "code",
   "execution_count": 473,
   "metadata": {
    "scrolled": false
   },
   "outputs": [],
   "source": [
    "sequences = char_dataset.batch(seq_length+1, drop_remainder=True)"
   ]
  },
  {
   "cell_type": "code",
   "execution_count": 474,
   "metadata": {},
   "outputs": [
    {
     "name": "stdout",
     "output_type": "stream",
     "text": [
      "'O & Tonic,\"45.0 ml Bacardi(R) orange rum, 180.0 ml tonic water, 1 twist orange\"\\nMartini (Sweet),\"30.0'\n",
      "' ml Gin, 30.0 ml Sweet Vermouth, 1 Olive\"\\nFar West,\"15 ml Brandy, 15 ml Advocaat, 15 ml Dry Vermouth,'\n",
      "' 1.0 ml Angostura bitters\"\\nPearl Harbor,\"30.0 ml vodka, 15.0 ml melon liqueur, 150.0 ml pineapple jui'\n",
      "'ce\"\\nPassion Zombie,\"30.0 ml gold rum, 30.0 ml Jamaican dark rum, 30.0 ml light rum, 30.0 ml 99 Banana'\n",
      "'s(R) banana schnapps, 15.0 ml 151 proof rum, 15.0 ml grenadine syrup, 15.0 ml lemon juice, 15.0 ml li'\n"
     ]
    }
   ],
   "source": [
    "for item in sequences.take(5):\n",
    "  print(repr(''.join(idx2char[item.numpy()])))"
   ]
  },
  {
   "cell_type": "code",
   "execution_count": 475,
   "metadata": {},
   "outputs": [],
   "source": [
    "def split_input_target(chunk):\n",
    "    input_text = chunk[:-1]\n",
    "    target_text = chunk[1:]\n",
    "    return input_text, target_text\n",
    "\n",
    "dataset = sequences.map(split_input_target)"
   ]
  },
  {
   "cell_type": "code",
   "execution_count": 476,
   "metadata": {},
   "outputs": [
    {
     "data": {
      "text/plain": [
       "<MapDataset shapes: ((100,), (100,)), types: (tf.int64, tf.int64)>"
      ]
     },
     "execution_count": 476,
     "metadata": {},
     "output_type": "execute_result"
    }
   ],
   "source": [
    "dataset"
   ]
  },
  {
   "cell_type": "code",
   "execution_count": 477,
   "metadata": {},
   "outputs": [
    {
     "name": "stdout",
     "output_type": "stream",
     "text": [
      "Input data:  'O & Tonic,\"45.0 ml Bacardi(R) orange rum, 180.0 ml tonic water, 1 twist orange\"\\nMartini (Sweet),\"30.'\n",
      "Target data: ' & Tonic,\"45.0 ml Bacardi(R) orange rum, 180.0 ml tonic water, 1 twist orange\"\\nMartini (Sweet),\"30.0'\n"
     ]
    }
   ],
   "source": [
    "for input_example, target_example in  dataset.take(1):\n",
    "    print ('Input data: ', repr(''.join(idx2char[input_example.numpy()])))\n",
    "    print ('Target data:', repr(''.join(idx2char[target_example.numpy()])))"
   ]
  },
  {
   "cell_type": "code",
   "execution_count": 478,
   "metadata": {},
   "outputs": [
    {
     "data": {
      "text/plain": [
       "<BatchDataset shapes: ((128, 100), (128, 100)), types: (tf.int64, tf.int64)>"
      ]
     },
     "execution_count": 478,
     "metadata": {},
     "output_type": "execute_result"
    }
   ],
   "source": [
    "# Batch size\n",
    "BATCH_SIZE = 128\n",
    "\n",
    "# Buffer size to shuffle the dataset\n",
    "# (TF data is designed to work with possibly infinite sequences,\n",
    "# so it doesn't attempt to shuffle the entire sequence in memory. Instead,\n",
    "# it maintains a buffer in which it shuffles elements).\n",
    "BUFFER_SIZE = 1000\n",
    "\n",
    "dataset = dataset.shuffle(BUFFER_SIZE).batch(BATCH_SIZE, drop_remainder=True)\n",
    "\n",
    "dataset"
   ]
  },
  {
   "cell_type": "code",
   "execution_count": 479,
   "metadata": {},
   "outputs": [
    {
     "name": "stdout",
     "output_type": "stream",
     "text": [
      "Step    0\n",
      "  input: 38 ('O')\n",
      "  expected output: 1 (' ')\n",
      "Step    1\n",
      "  input: 1 (' ')\n",
      "  expected output: 6 ('&')\n",
      "Step    2\n",
      "  input: 6 ('&')\n",
      "  expected output: 1 (' ')\n",
      "Step    3\n",
      "  input: 1 (' ')\n",
      "  expected output: 43 ('T')\n",
      "Step    4\n",
      "  input: 43 ('T')\n",
      "  expected output: 64 ('o')\n"
     ]
    }
   ],
   "source": [
    "for i, (input_idx, target_idx) in enumerate(zip(input_example[:5], target_example[:5])):\n",
    "    print(\"Step {:4d}\".format(i))\n",
    "    print(\"  input: {} ({:s})\".format(input_idx, repr(idx2char[input_idx])))\n",
    "    print(\"  expected output: {} ({:s})\".format(target_idx, repr(idx2char[target_idx])))"
   ]
  },
  {
   "cell_type": "code",
   "execution_count": 523,
   "metadata": {},
   "outputs": [],
   "source": [
    "# Length of the vocabulary in chars\n",
    "vocab_size = len(vocab)\n",
    "\n",
    "# The embedding dimension\n",
    "embedding_dim = len(vocab)\n",
    "\n",
    "# Number of RNN units\n",
    "rnn_units = 256"
   ]
  },
  {
   "cell_type": "code",
   "execution_count": 586,
   "metadata": {},
   "outputs": [],
   "source": [
    "# Building a model. Add layers later on to optimize\n",
    "\n",
    "def build_model(vocab_size, embedding_dim, rnn_units, batch_size):\n",
    "    model = tf.keras.Sequential([\n",
    "    tf.keras.layers.Embedding(vocab_size, embedding_dim, batch_input_shape=[batch_size, None]),\n",
    "    tf.keras.layers.Bidirectional(LSTM(rnn_units, return_sequences=True, stateful=True, recurrent_activation='sigmoid', recurrent_initializer='glorot_uniform')),\n",
    "    tf.keras.layers.Bidirectional(LSTM(rnn_units, return_sequences=True, stateful=True, recurrent_activation='sigmoid', recurrent_initializer='glorot_uniform')),\n",
    "    tf.keras.layers.Bidirectional(LSTM(rnn_units, return_sequences=True, stateful=True, recurrent_activation='sigmoid', recurrent_initializer='glorot_uniform')),\n",
    "    tf.keras.layers.Bidirectional(LSTM(rnn_units, return_sequences=True, stateful=True, recurrent_activation='sigmoid', recurrent_initializer='glorot_uniform')),\n",
    "    tf.keras.layers.Bidirectional(LSTM(rnn_units, return_sequences=True, stateful=True, recurrent_activation='sigmoid', recurrent_initializer='glorot_uniform')),    \n",
    "    tf.keras.layers.Dense(vocab_size, activation='softmax')])\n",
    "    return model"
   ]
  },
  {
   "cell_type": "code",
   "execution_count": 587,
   "metadata": {},
   "outputs": [],
   "source": [
    "model = build_model(\n",
    "    vocab_size = len(vocab),\n",
    "    embedding_dim=embedding_dim,\n",
    "    rnn_units=rnn_units,\n",
    "    batch_size=BATCH_SIZE)"
   ]
  },
  {
   "cell_type": "code",
   "execution_count": 588,
   "metadata": {},
   "outputs": [
    {
     "name": "stdout",
     "output_type": "stream",
     "text": [
      "(128, 100, 76) # (batch_size, sequence_length, vocab_size)\n"
     ]
    }
   ],
   "source": [
    "# for input_example_batch, target_example_batch in dataset.take(1):\n",
    "#     example_batch_predictions = model(input_example_batch)\n",
    "#     print(example_batch_predictions.shape, \"# (batch_size, sequence_length, vocab_size)\")"
   ]
  },
  {
   "cell_type": "code",
   "execution_count": 589,
   "metadata": {
    "scrolled": true
   },
   "outputs": [
    {
     "name": "stdout",
     "output_type": "stream",
     "text": [
      "Model: \"sequential_17\"\n",
      "_________________________________________________________________\n",
      "Layer (type)                 Output Shape              Param #   \n",
      "=================================================================\n",
      "embedding_18 (Embedding)     (128, None, 76)           5776      \n",
      "_________________________________________________________________\n",
      "bidirectional_64 (Bidirectio (128, None, 512)          681984    \n",
      "_________________________________________________________________\n",
      "bidirectional_65 (Bidirectio (128, None, 512)          1574912   \n",
      "_________________________________________________________________\n",
      "bidirectional_66 (Bidirectio (128, None, 512)          1574912   \n",
      "_________________________________________________________________\n",
      "bidirectional_67 (Bidirectio (128, None, 512)          1574912   \n",
      "_________________________________________________________________\n",
      "bidirectional_68 (Bidirectio (128, None, 512)          1574912   \n",
      "_________________________________________________________________\n",
      "dense_18 (Dense)             (128, None, 76)           38988     \n",
      "=================================================================\n",
      "Total params: 7,026,396\n",
      "Trainable params: 7,026,396\n",
      "Non-trainable params: 0\n",
      "_________________________________________________________________\n"
     ]
    }
   ],
   "source": [
    "model.summary()"
   ]
  },
  {
   "cell_type": "code",
   "execution_count": 590,
   "metadata": {},
   "outputs": [],
   "source": [
    "sampled_indices = tf.random.categorical(example_batch_predictions[0], num_samples=1)\n",
    "sampled_indices = tf.squeeze(sampled_indices,axis=-1).numpy()"
   ]
  },
  {
   "cell_type": "code",
   "execution_count": 591,
   "metadata": {},
   "outputs": [
    {
     "data": {
      "text/plain": [
       "array([49, 66, 50, 24, 29, 31,  1, 25, 34, 37, 57, 72, 36, 45, 66, 16, 13,\n",
       "       40, 25, 28, 49, 29, 14, 49, 45, 19, 35, 19, 41, 15, 44, 54, 43, 72,\n",
       "       36, 36, 68, 68, 54, 22, 37, 13, 53, 38, 70, 11, 21, 13, 29, 28, 38,\n",
       "       10,  2, 14, 34, 12, 64, 53, 55, 56, 45,  7, 65, 50, 56, 62, 57,  0,\n",
       "        5, 66,  6, 61, 71, 12, 27, 13,  4, 37, 40, 68, 58, 24, 60,  4,  3,\n",
       "       41, 74, 18, 65,  1, 38, 58, 54, 29, 47, 46, 71, 52, 54, 57])"
      ]
     },
     "execution_count": 591,
     "metadata": {},
     "output_type": "execute_result"
    }
   ],
   "source": [
    "sampled_indices"
   ]
  },
  {
   "cell_type": "code",
   "execution_count": 592,
   "metadata": {},
   "outputs": [
    {
     "name": "stdout",
     "output_type": "stream",
     "text": [
      "Input: \n",
      " \"ce cream, 3  Oreo Chocolate Cookies, 4  milk, 240.0 ml Hershey's(R) chocolate syrup, whipped cream, \"\n",
      "\n",
      "Next Char Predictions: \n",
      " 'ZqaAFH BKNhwMVq2/QBEZF0ZV5L5R1UeTwMMsse8N/dOu-7/FEO,!0K.odfgV\\'pagmh\\n%q&lv.D/#NQsiAk#\"Ry4p OieFXWvceh'\n"
     ]
    }
   ],
   "source": [
    "print(\"Input: \\n\", repr(\"\".join(idx2char[input_example_batch[0]])))\n",
    "print()\n",
    "print(\"Next Char Predictions: \\n\", repr(\"\".join(idx2char[sampled_indices ])))"
   ]
  },
  {
   "cell_type": "code",
   "execution_count": 593,
   "metadata": {
    "scrolled": true
   },
   "outputs": [
    {
     "name": "stdout",
     "output_type": "stream",
     "text": [
      "Prediction shape:  (128, 100, 76)  # (batch_size, sequence_length, vocab_size)\n",
      "scalar_loss:       4.3307395\n"
     ]
    }
   ],
   "source": [
    "# Set your loss function\n",
    "\n",
    "def loss(labels, logits):\n",
    "    return tf.keras.losses.sparse_categorical_crossentropy(labels, logits, from_logits=True)\n",
    "\n",
    "example_batch_loss  = loss(target_example_batch, example_batch_predictions)\n",
    "print(\"Prediction shape: \", example_batch_predictions.shape, \" # (batch_size, sequence_length, vocab_size)\")\n",
    "print(\"scalar_loss:      \", example_batch_loss.numpy().mean())"
   ]
  },
  {
   "cell_type": "code",
   "execution_count": 594,
   "metadata": {},
   "outputs": [],
   "source": [
    "# Compile with Adam\n",
    "\n",
    "model.compile(optimizer='adam', loss=loss)"
   ]
  },
  {
   "cell_type": "code",
   "execution_count": 595,
   "metadata": {},
   "outputs": [],
   "source": [
    "import os\n",
    "\n",
    "# Directory where the checkpoints will be saved\n",
    "checkpoint_dir = 'Documents/Galvanize_DSI/Capstone/Bartend-A.I./chckpts'\n",
    "# Name of the checkpoint files\n",
    "checkpoint_prefix = os.path.join(checkpoint_dir, \"ckpt_{epoch}\")\n",
    "\n",
    "checkpoint_callback=tf.keras.callbacks.ModelCheckpoint(\n",
    "    filepath=checkpoint_prefix,\n",
    "    save_weights_only=True)"
   ]
  },
  {
   "cell_type": "code",
   "execution_count": 596,
   "metadata": {},
   "outputs": [],
   "source": [
    "# Choose number of epochs\n",
    "\n",
    "EPOCHS=20"
   ]
  },
  {
   "cell_type": "code",
   "execution_count": 597,
   "metadata": {
    "scrolled": true
   },
   "outputs": [
    {
     "name": "stdout",
     "output_type": "stream",
     "text": [
      "Train for 4 steps\n",
      "Epoch 1/20\n",
      "4/4 [==============================] - 32s 8s/step - loss: 4.3286\n",
      "Epoch 2/20\n",
      "4/4 [==============================] - 19s 5s/step - loss: 4.2188\n",
      "Epoch 3/20\n",
      "4/4 [==============================] - 20s 5s/step - loss: 4.2053\n",
      "Epoch 4/20\n",
      "4/4 [==============================] - 19s 5s/step - loss: 4.2054\n",
      "Epoch 5/20\n",
      "4/4 [==============================] - 18s 5s/step - loss: 4.2055\n",
      "Epoch 6/20\n",
      "4/4 [==============================] - 18s 5s/step - loss: 4.2052\n",
      "Epoch 7/20\n",
      "4/4 [==============================] - 18s 5s/step - loss: 4.2057\n",
      "Epoch 8/20\n",
      "4/4 [==============================] - 16s 4s/step - loss: 4.2055\n",
      "Epoch 9/20\n",
      "4/4 [==============================] - 17s 4s/step - loss: 4.2059\n",
      "Epoch 10/20\n",
      "4/4 [==============================] - 17s 4s/step - loss: 4.2055\n",
      "Epoch 11/20\n",
      "4/4 [==============================] - 19s 5s/step - loss: 4.2052\n",
      "Epoch 12/20\n",
      "4/4 [==============================] - 18s 4s/step - loss: 4.2051\n",
      "Epoch 13/20\n",
      "4/4 [==============================] - 17s 4s/step - loss: 4.2054\n",
      "Epoch 14/20\n",
      "4/4 [==============================] - 19s 5s/step - loss: 4.2057\n",
      "Epoch 15/20\n",
      "4/4 [==============================] - 20s 5s/step - loss: 4.2055\n",
      "Epoch 16/20\n",
      "4/4 [==============================] - 29s 7s/step - loss: 4.2059\n",
      "Epoch 17/20\n",
      "4/4 [==============================] - 20s 5s/step - loss: 4.2054\n",
      "Epoch 18/20\n",
      "4/4 [==============================] - 23s 6s/step - loss: 4.2053\n",
      "Epoch 19/20\n",
      "4/4 [==============================] - 21s 5s/step - loss: 4.2056\n",
      "Epoch 20/20\n",
      "4/4 [==============================] - 19s 5s/step - loss: 4.2053\n"
     ]
    }
   ],
   "source": [
    "history = model.fit(dataset, epochs=EPOCHS, callbacks=[checkpoint_callback])"
   ]
  },
  {
   "cell_type": "code",
   "execution_count": 598,
   "metadata": {},
   "outputs": [
    {
     "data": {
      "text/plain": [
       "'Documents/Galvanize_DSI/Capstone/Bartend-A.I./chckpts/ckpt_20'"
      ]
     },
     "execution_count": 598,
     "metadata": {},
     "output_type": "execute_result"
    }
   ],
   "source": [
    "# Find last checkpoint used, equates to the weights used in model training\n",
    "\n",
    "tf.train.latest_checkpoint(checkpoint_dir)"
   ]
  },
  {
   "cell_type": "code",
   "execution_count": 599,
   "metadata": {},
   "outputs": [
    {
     "name": "stdout",
     "output_type": "stream",
     "text": [
      "WARNING:tensorflow:Unresolved object in checkpoint: (root).optimizer\n",
      "WARNING:tensorflow:Unresolved object in checkpoint: (root).optimizer.iter\n",
      "WARNING:tensorflow:Unresolved object in checkpoint: (root).optimizer.beta_1\n",
      "WARNING:tensorflow:Unresolved object in checkpoint: (root).optimizer.beta_2\n",
      "WARNING:tensorflow:Unresolved object in checkpoint: (root).optimizer.decay\n",
      "WARNING:tensorflow:Unresolved object in checkpoint: (root).optimizer.learning_rate\n",
      "WARNING:tensorflow:Unresolved object in checkpoint: (root).optimizer's state 'm' for (root).layer_with_weights-0.embeddings\n",
      "WARNING:tensorflow:Unresolved object in checkpoint: (root).optimizer's state 'm' for (root).layer_with_weights-6.kernel\n",
      "WARNING:tensorflow:Unresolved object in checkpoint: (root).optimizer's state 'm' for (root).layer_with_weights-6.bias\n",
      "WARNING:tensorflow:Unresolved object in checkpoint: (root).optimizer's state 'm' for (root).layer_with_weights-1.forward_layer.cell.kernel\n",
      "WARNING:tensorflow:Unresolved object in checkpoint: (root).optimizer's state 'm' for (root).layer_with_weights-1.forward_layer.cell.recurrent_kernel\n",
      "WARNING:tensorflow:Unresolved object in checkpoint: (root).optimizer's state 'm' for (root).layer_with_weights-1.forward_layer.cell.bias\n",
      "WARNING:tensorflow:Unresolved object in checkpoint: (root).optimizer's state 'm' for (root).layer_with_weights-1.backward_layer.cell.kernel\n",
      "WARNING:tensorflow:Unresolved object in checkpoint: (root).optimizer's state 'm' for (root).layer_with_weights-1.backward_layer.cell.recurrent_kernel\n",
      "WARNING:tensorflow:Unresolved object in checkpoint: (root).optimizer's state 'm' for (root).layer_with_weights-1.backward_layer.cell.bias\n",
      "WARNING:tensorflow:Unresolved object in checkpoint: (root).optimizer's state 'm' for (root).layer_with_weights-2.forward_layer.cell.kernel\n",
      "WARNING:tensorflow:Unresolved object in checkpoint: (root).optimizer's state 'm' for (root).layer_with_weights-2.forward_layer.cell.recurrent_kernel\n",
      "WARNING:tensorflow:Unresolved object in checkpoint: (root).optimizer's state 'm' for (root).layer_with_weights-2.forward_layer.cell.bias\n",
      "WARNING:tensorflow:Unresolved object in checkpoint: (root).optimizer's state 'm' for (root).layer_with_weights-2.backward_layer.cell.kernel\n",
      "WARNING:tensorflow:Unresolved object in checkpoint: (root).optimizer's state 'm' for (root).layer_with_weights-2.backward_layer.cell.recurrent_kernel\n",
      "WARNING:tensorflow:Unresolved object in checkpoint: (root).optimizer's state 'm' for (root).layer_with_weights-2.backward_layer.cell.bias\n",
      "WARNING:tensorflow:Unresolved object in checkpoint: (root).optimizer's state 'm' for (root).layer_with_weights-3.forward_layer.cell.kernel\n",
      "WARNING:tensorflow:Unresolved object in checkpoint: (root).optimizer's state 'm' for (root).layer_with_weights-3.forward_layer.cell.recurrent_kernel\n",
      "WARNING:tensorflow:Unresolved object in checkpoint: (root).optimizer's state 'm' for (root).layer_with_weights-3.forward_layer.cell.bias\n",
      "WARNING:tensorflow:Unresolved object in checkpoint: (root).optimizer's state 'm' for (root).layer_with_weights-3.backward_layer.cell.kernel\n",
      "WARNING:tensorflow:Unresolved object in checkpoint: (root).optimizer's state 'm' for (root).layer_with_weights-3.backward_layer.cell.recurrent_kernel\n",
      "WARNING:tensorflow:Unresolved object in checkpoint: (root).optimizer's state 'm' for (root).layer_with_weights-3.backward_layer.cell.bias\n",
      "WARNING:tensorflow:Unresolved object in checkpoint: (root).optimizer's state 'm' for (root).layer_with_weights-4.forward_layer.cell.kernel\n",
      "WARNING:tensorflow:Unresolved object in checkpoint: (root).optimizer's state 'm' for (root).layer_with_weights-4.forward_layer.cell.recurrent_kernel\n",
      "WARNING:tensorflow:Unresolved object in checkpoint: (root).optimizer's state 'm' for (root).layer_with_weights-4.forward_layer.cell.bias\n",
      "WARNING:tensorflow:Unresolved object in checkpoint: (root).optimizer's state 'm' for (root).layer_with_weights-4.backward_layer.cell.kernel\n",
      "WARNING:tensorflow:Unresolved object in checkpoint: (root).optimizer's state 'm' for (root).layer_with_weights-4.backward_layer.cell.recurrent_kernel\n",
      "WARNING:tensorflow:Unresolved object in checkpoint: (root).optimizer's state 'm' for (root).layer_with_weights-4.backward_layer.cell.bias\n",
      "WARNING:tensorflow:Unresolved object in checkpoint: (root).optimizer's state 'm' for (root).layer_with_weights-5.forward_layer.cell.kernel\n",
      "WARNING:tensorflow:Unresolved object in checkpoint: (root).optimizer's state 'm' for (root).layer_with_weights-5.forward_layer.cell.recurrent_kernel\n",
      "WARNING:tensorflow:Unresolved object in checkpoint: (root).optimizer's state 'm' for (root).layer_with_weights-5.forward_layer.cell.bias\n",
      "WARNING:tensorflow:Unresolved object in checkpoint: (root).optimizer's state 'm' for (root).layer_with_weights-5.backward_layer.cell.kernel\n",
      "WARNING:tensorflow:Unresolved object in checkpoint: (root).optimizer's state 'm' for (root).layer_with_weights-5.backward_layer.cell.recurrent_kernel\n",
      "WARNING:tensorflow:Unresolved object in checkpoint: (root).optimizer's state 'm' for (root).layer_with_weights-5.backward_layer.cell.bias\n",
      "WARNING:tensorflow:Unresolved object in checkpoint: (root).optimizer's state 'v' for (root).layer_with_weights-0.embeddings\n",
      "WARNING:tensorflow:Unresolved object in checkpoint: (root).optimizer's state 'v' for (root).layer_with_weights-6.kernel\n",
      "WARNING:tensorflow:Unresolved object in checkpoint: (root).optimizer's state 'v' for (root).layer_with_weights-6.bias\n",
      "WARNING:tensorflow:Unresolved object in checkpoint: (root).optimizer's state 'v' for (root).layer_with_weights-1.forward_layer.cell.kernel\n",
      "WARNING:tensorflow:Unresolved object in checkpoint: (root).optimizer's state 'v' for (root).layer_with_weights-1.forward_layer.cell.recurrent_kernel\n",
      "WARNING:tensorflow:Unresolved object in checkpoint: (root).optimizer's state 'v' for (root).layer_with_weights-1.forward_layer.cell.bias\n",
      "WARNING:tensorflow:Unresolved object in checkpoint: (root).optimizer's state 'v' for (root).layer_with_weights-1.backward_layer.cell.kernel\n",
      "WARNING:tensorflow:Unresolved object in checkpoint: (root).optimizer's state 'v' for (root).layer_with_weights-1.backward_layer.cell.recurrent_kernel\n",
      "WARNING:tensorflow:Unresolved object in checkpoint: (root).optimizer's state 'v' for (root).layer_with_weights-1.backward_layer.cell.bias\n",
      "WARNING:tensorflow:Unresolved object in checkpoint: (root).optimizer's state 'v' for (root).layer_with_weights-2.forward_layer.cell.kernel\n",
      "WARNING:tensorflow:Unresolved object in checkpoint: (root).optimizer's state 'v' for (root).layer_with_weights-2.forward_layer.cell.recurrent_kernel\n",
      "WARNING:tensorflow:Unresolved object in checkpoint: (root).optimizer's state 'v' for (root).layer_with_weights-2.forward_layer.cell.bias\n",
      "WARNING:tensorflow:Unresolved object in checkpoint: (root).optimizer's state 'v' for (root).layer_with_weights-2.backward_layer.cell.kernel\n",
      "WARNING:tensorflow:Unresolved object in checkpoint: (root).optimizer's state 'v' for (root).layer_with_weights-2.backward_layer.cell.recurrent_kernel\n",
      "WARNING:tensorflow:Unresolved object in checkpoint: (root).optimizer's state 'v' for (root).layer_with_weights-2.backward_layer.cell.bias\n",
      "WARNING:tensorflow:Unresolved object in checkpoint: (root).optimizer's state 'v' for (root).layer_with_weights-3.forward_layer.cell.kernel\n",
      "WARNING:tensorflow:Unresolved object in checkpoint: (root).optimizer's state 'v' for (root).layer_with_weights-3.forward_layer.cell.recurrent_kernel\n",
      "WARNING:tensorflow:Unresolved object in checkpoint: (root).optimizer's state 'v' for (root).layer_with_weights-3.forward_layer.cell.bias\n",
      "WARNING:tensorflow:Unresolved object in checkpoint: (root).optimizer's state 'v' for (root).layer_with_weights-3.backward_layer.cell.kernel\n",
      "WARNING:tensorflow:Unresolved object in checkpoint: (root).optimizer's state 'v' for (root).layer_with_weights-3.backward_layer.cell.recurrent_kernel\n",
      "WARNING:tensorflow:Unresolved object in checkpoint: (root).optimizer's state 'v' for (root).layer_with_weights-3.backward_layer.cell.bias\n",
      "WARNING:tensorflow:Unresolved object in checkpoint: (root).optimizer's state 'v' for (root).layer_with_weights-4.forward_layer.cell.kernel\n",
      "WARNING:tensorflow:Unresolved object in checkpoint: (root).optimizer's state 'v' for (root).layer_with_weights-4.forward_layer.cell.recurrent_kernel\n"
     ]
    },
    {
     "name": "stdout",
     "output_type": "stream",
     "text": [
      "WARNING:tensorflow:Unresolved object in checkpoint: (root).optimizer's state 'v' for (root).layer_with_weights-4.forward_layer.cell.bias\n",
      "WARNING:tensorflow:Unresolved object in checkpoint: (root).optimizer's state 'v' for (root).layer_with_weights-4.backward_layer.cell.kernel\n",
      "WARNING:tensorflow:Unresolved object in checkpoint: (root).optimizer's state 'v' for (root).layer_with_weights-4.backward_layer.cell.recurrent_kernel\n",
      "WARNING:tensorflow:Unresolved object in checkpoint: (root).optimizer's state 'v' for (root).layer_with_weights-4.backward_layer.cell.bias\n",
      "WARNING:tensorflow:Unresolved object in checkpoint: (root).optimizer's state 'v' for (root).layer_with_weights-5.forward_layer.cell.kernel\n",
      "WARNING:tensorflow:Unresolved object in checkpoint: (root).optimizer's state 'v' for (root).layer_with_weights-5.forward_layer.cell.recurrent_kernel\n",
      "WARNING:tensorflow:Unresolved object in checkpoint: (root).optimizer's state 'v' for (root).layer_with_weights-5.forward_layer.cell.bias\n",
      "WARNING:tensorflow:Unresolved object in checkpoint: (root).optimizer's state 'v' for (root).layer_with_weights-5.backward_layer.cell.kernel\n",
      "WARNING:tensorflow:Unresolved object in checkpoint: (root).optimizer's state 'v' for (root).layer_with_weights-5.backward_layer.cell.recurrent_kernel\n",
      "WARNING:tensorflow:Unresolved object in checkpoint: (root).optimizer's state 'v' for (root).layer_with_weights-5.backward_layer.cell.bias\n",
      "WARNING:tensorflow:A checkpoint was restored (e.g. tf.train.Checkpoint.restore or tf.keras.Model.load_weights) but not all checkpointed values were used. See above for specific issues. Use expect_partial() on the load status object, e.g. tf.train.Checkpoint.restore(...).expect_partial(), to silence these warnings, or use assert_consumed() to make the check explicit. See https://www.tensorflow.org/guide/checkpoint#loading_mechanics for details.\n",
      "WARNING:tensorflow:Unresolved object in checkpoint: (root).optimizer\n",
      "WARNING:tensorflow:Unresolved object in checkpoint: (root).optimizer.iter\n",
      "WARNING:tensorflow:Unresolved object in checkpoint: (root).optimizer.beta_1\n",
      "WARNING:tensorflow:Unresolved object in checkpoint: (root).optimizer.beta_2\n",
      "WARNING:tensorflow:Unresolved object in checkpoint: (root).optimizer.decay\n",
      "WARNING:tensorflow:Unresolved object in checkpoint: (root).optimizer.learning_rate\n",
      "WARNING:tensorflow:Unresolved object in checkpoint: (root).optimizer's state 'm' for (root).layer_with_weights-0.embeddings\n",
      "WARNING:tensorflow:Unresolved object in checkpoint: (root).optimizer's state 'm' for (root).layer_with_weights-6.kernel\n",
      "WARNING:tensorflow:Unresolved object in checkpoint: (root).optimizer's state 'm' for (root).layer_with_weights-6.bias\n",
      "WARNING:tensorflow:Unresolved object in checkpoint: (root).optimizer's state 'm' for (root).layer_with_weights-1.forward_layer.cell.kernel\n",
      "WARNING:tensorflow:Unresolved object in checkpoint: (root).optimizer's state 'm' for (root).layer_with_weights-1.forward_layer.cell.recurrent_kernel\n",
      "WARNING:tensorflow:Unresolved object in checkpoint: (root).optimizer's state 'm' for (root).layer_with_weights-1.forward_layer.cell.bias\n",
      "WARNING:tensorflow:Unresolved object in checkpoint: (root).optimizer's state 'm' for (root).layer_with_weights-1.backward_layer.cell.kernel\n",
      "WARNING:tensorflow:Unresolved object in checkpoint: (root).optimizer's state 'm' for (root).layer_with_weights-1.backward_layer.cell.recurrent_kernel\n",
      "WARNING:tensorflow:Unresolved object in checkpoint: (root).optimizer's state 'm' for (root).layer_with_weights-1.backward_layer.cell.bias\n",
      "WARNING:tensorflow:Unresolved object in checkpoint: (root).optimizer's state 'm' for (root).layer_with_weights-2.forward_layer.cell.kernel\n",
      "WARNING:tensorflow:Unresolved object in checkpoint: (root).optimizer's state 'm' for (root).layer_with_weights-2.forward_layer.cell.recurrent_kernel\n",
      "WARNING:tensorflow:Unresolved object in checkpoint: (root).optimizer's state 'm' for (root).layer_with_weights-2.forward_layer.cell.bias\n",
      "WARNING:tensorflow:Unresolved object in checkpoint: (root).optimizer's state 'm' for (root).layer_with_weights-2.backward_layer.cell.kernel\n",
      "WARNING:tensorflow:Unresolved object in checkpoint: (root).optimizer's state 'm' for (root).layer_with_weights-2.backward_layer.cell.recurrent_kernel\n",
      "WARNING:tensorflow:Unresolved object in checkpoint: (root).optimizer's state 'm' for (root).layer_with_weights-2.backward_layer.cell.bias\n",
      "WARNING:tensorflow:Unresolved object in checkpoint: (root).optimizer's state 'm' for (root).layer_with_weights-3.forward_layer.cell.kernel\n",
      "WARNING:tensorflow:Unresolved object in checkpoint: (root).optimizer's state 'm' for (root).layer_with_weights-3.forward_layer.cell.recurrent_kernel\n",
      "WARNING:tensorflow:Unresolved object in checkpoint: (root).optimizer's state 'm' for (root).layer_with_weights-3.forward_layer.cell.bias\n",
      "WARNING:tensorflow:Unresolved object in checkpoint: (root).optimizer's state 'm' for (root).layer_with_weights-3.backward_layer.cell.kernel\n",
      "WARNING:tensorflow:Unresolved object in checkpoint: (root).optimizer's state 'm' for (root).layer_with_weights-3.backward_layer.cell.recurrent_kernel\n",
      "WARNING:tensorflow:Unresolved object in checkpoint: (root).optimizer's state 'm' for (root).layer_with_weights-3.backward_layer.cell.bias\n",
      "WARNING:tensorflow:Unresolved object in checkpoint: (root).optimizer's state 'm' for (root).layer_with_weights-4.forward_layer.cell.kernel\n",
      "WARNING:tensorflow:Unresolved object in checkpoint: (root).optimizer's state 'm' for (root).layer_with_weights-4.forward_layer.cell.recurrent_kernel\n",
      "WARNING:tensorflow:Unresolved object in checkpoint: (root).optimizer's state 'm' for (root).layer_with_weights-4.forward_layer.cell.bias\n",
      "WARNING:tensorflow:Unresolved object in checkpoint: (root).optimizer's state 'm' for (root).layer_with_weights-4.backward_layer.cell.kernel\n",
      "WARNING:tensorflow:Unresolved object in checkpoint: (root).optimizer's state 'm' for (root).layer_with_weights-4.backward_layer.cell.recurrent_kernel\n",
      "WARNING:tensorflow:Unresolved object in checkpoint: (root).optimizer's state 'm' for (root).layer_with_weights-4.backward_layer.cell.bias\n",
      "WARNING:tensorflow:Unresolved object in checkpoint: (root).optimizer's state 'm' for (root).layer_with_weights-5.forward_layer.cell.kernel\n",
      "WARNING:tensorflow:Unresolved object in checkpoint: (root).optimizer's state 'm' for (root).layer_with_weights-5.forward_layer.cell.recurrent_kernel\n",
      "WARNING:tensorflow:Unresolved object in checkpoint: (root).optimizer's state 'm' for (root).layer_with_weights-5.forward_layer.cell.bias\n",
      "WARNING:tensorflow:Unresolved object in checkpoint: (root).optimizer's state 'm' for (root).layer_with_weights-5.backward_layer.cell.kernel\n",
      "WARNING:tensorflow:Unresolved object in checkpoint: (root).optimizer's state 'm' for (root).layer_with_weights-5.backward_layer.cell.recurrent_kernel\n",
      "WARNING:tensorflow:Unresolved object in checkpoint: (root).optimizer's state 'm' for (root).layer_with_weights-5.backward_layer.cell.bias\n",
      "WARNING:tensorflow:Unresolved object in checkpoint: (root).optimizer's state 'v' for (root).layer_with_weights-0.embeddings\n",
      "WARNING:tensorflow:Unresolved object in checkpoint: (root).optimizer's state 'v' for (root).layer_with_weights-6.kernel\n",
      "WARNING:tensorflow:Unresolved object in checkpoint: (root).optimizer's state 'v' for (root).layer_with_weights-6.bias\n",
      "WARNING:tensorflow:Unresolved object in checkpoint: (root).optimizer's state 'v' for (root).layer_with_weights-1.forward_layer.cell.kernel\n",
      "WARNING:tensorflow:Unresolved object in checkpoint: (root).optimizer's state 'v' for (root).layer_with_weights-1.forward_layer.cell.recurrent_kernel\n",
      "WARNING:tensorflow:Unresolved object in checkpoint: (root).optimizer's state 'v' for (root).layer_with_weights-1.forward_layer.cell.bias\n",
      "WARNING:tensorflow:Unresolved object in checkpoint: (root).optimizer's state 'v' for (root).layer_with_weights-1.backward_layer.cell.kernel\n",
      "WARNING:tensorflow:Unresolved object in checkpoint: (root).optimizer's state 'v' for (root).layer_with_weights-1.backward_layer.cell.recurrent_kernel\n",
      "WARNING:tensorflow:Unresolved object in checkpoint: (root).optimizer's state 'v' for (root).layer_with_weights-1.backward_layer.cell.bias\n",
      "WARNING:tensorflow:Unresolved object in checkpoint: (root).optimizer's state 'v' for (root).layer_with_weights-2.forward_layer.cell.kernel\n"
     ]
    },
    {
     "name": "stdout",
     "output_type": "stream",
     "text": [
      "WARNING:tensorflow:Unresolved object in checkpoint: (root).optimizer's state 'v' for (root).layer_with_weights-2.forward_layer.cell.recurrent_kernel\n",
      "WARNING:tensorflow:Unresolved object in checkpoint: (root).optimizer's state 'v' for (root).layer_with_weights-2.forward_layer.cell.bias\n",
      "WARNING:tensorflow:Unresolved object in checkpoint: (root).optimizer's state 'v' for (root).layer_with_weights-2.backward_layer.cell.kernel\n",
      "WARNING:tensorflow:Unresolved object in checkpoint: (root).optimizer's state 'v' for (root).layer_with_weights-2.backward_layer.cell.recurrent_kernel\n",
      "WARNING:tensorflow:Unresolved object in checkpoint: (root).optimizer's state 'v' for (root).layer_with_weights-2.backward_layer.cell.bias\n",
      "WARNING:tensorflow:Unresolved object in checkpoint: (root).optimizer's state 'v' for (root).layer_with_weights-3.forward_layer.cell.kernel\n",
      "WARNING:tensorflow:Unresolved object in checkpoint: (root).optimizer's state 'v' for (root).layer_with_weights-3.forward_layer.cell.recurrent_kernel\n",
      "WARNING:tensorflow:Unresolved object in checkpoint: (root).optimizer's state 'v' for (root).layer_with_weights-3.forward_layer.cell.bias\n",
      "WARNING:tensorflow:Unresolved object in checkpoint: (root).optimizer's state 'v' for (root).layer_with_weights-3.backward_layer.cell.kernel\n",
      "WARNING:tensorflow:Unresolved object in checkpoint: (root).optimizer's state 'v' for (root).layer_with_weights-3.backward_layer.cell.recurrent_kernel\n",
      "WARNING:tensorflow:Unresolved object in checkpoint: (root).optimizer's state 'v' for (root).layer_with_weights-3.backward_layer.cell.bias\n",
      "WARNING:tensorflow:Unresolved object in checkpoint: (root).optimizer's state 'v' for (root).layer_with_weights-4.forward_layer.cell.kernel\n",
      "WARNING:tensorflow:Unresolved object in checkpoint: (root).optimizer's state 'v' for (root).layer_with_weights-4.forward_layer.cell.recurrent_kernel\n",
      "WARNING:tensorflow:Unresolved object in checkpoint: (root).optimizer's state 'v' for (root).layer_with_weights-4.forward_layer.cell.bias\n",
      "WARNING:tensorflow:Unresolved object in checkpoint: (root).optimizer's state 'v' for (root).layer_with_weights-4.backward_layer.cell.kernel\n",
      "WARNING:tensorflow:Unresolved object in checkpoint: (root).optimizer's state 'v' for (root).layer_with_weights-4.backward_layer.cell.recurrent_kernel\n",
      "WARNING:tensorflow:Unresolved object in checkpoint: (root).optimizer's state 'v' for (root).layer_with_weights-4.backward_layer.cell.bias\n",
      "WARNING:tensorflow:Unresolved object in checkpoint: (root).optimizer's state 'v' for (root).layer_with_weights-5.forward_layer.cell.kernel\n",
      "WARNING:tensorflow:Unresolved object in checkpoint: (root).optimizer's state 'v' for (root).layer_with_weights-5.forward_layer.cell.recurrent_kernel\n",
      "WARNING:tensorflow:Unresolved object in checkpoint: (root).optimizer's state 'v' for (root).layer_with_weights-5.forward_layer.cell.bias\n",
      "WARNING:tensorflow:Unresolved object in checkpoint: (root).optimizer's state 'v' for (root).layer_with_weights-5.backward_layer.cell.kernel\n",
      "WARNING:tensorflow:Unresolved object in checkpoint: (root).optimizer's state 'v' for (root).layer_with_weights-5.backward_layer.cell.recurrent_kernel\n",
      "WARNING:tensorflow:Unresolved object in checkpoint: (root).optimizer's state 'v' for (root).layer_with_weights-5.backward_layer.cell.bias\n",
      "WARNING:tensorflow:A checkpoint was restored (e.g. tf.train.Checkpoint.restore or tf.keras.Model.load_weights) but not all checkpointed values were used. See above for specific issues. Use expect_partial() on the load status object, e.g. tf.train.Checkpoint.restore(...).expect_partial(), to silence these warnings, or use assert_consumed() to make the check explicit. See https://www.tensorflow.org/guide/checkpoint#loading_mechanics for details.\n"
     ]
    }
   ],
   "source": [
    "# Rebuild model using preexisting vocab, embedding, etc with the last produced chckpt aka weights\n",
    "\n",
    "model = build_model(vocab_size, embedding_dim, rnn_units, batch_size=1)\n",
    "\n",
    "model.load_weights(tf.train.latest_checkpoint(checkpoint_dir))\n",
    "\n",
    "model.build(tf.TensorShape([1, None]))"
   ]
  },
  {
   "cell_type": "code",
   "execution_count": 600,
   "metadata": {
    "scrolled": true
   },
   "outputs": [
    {
     "name": "stdout",
     "output_type": "stream",
     "text": [
      "Model: \"sequential_18\"\n",
      "_________________________________________________________________\n",
      "Layer (type)                 Output Shape              Param #   \n",
      "=================================================================\n",
      "embedding_19 (Embedding)     (1, None, 76)             5776      \n",
      "_________________________________________________________________\n",
      "bidirectional_69 (Bidirectio (1, None, 512)            681984    \n",
      "_________________________________________________________________\n",
      "bidirectional_70 (Bidirectio (1, None, 512)            1574912   \n",
      "_________________________________________________________________\n",
      "bidirectional_71 (Bidirectio (1, None, 512)            1574912   \n",
      "_________________________________________________________________\n",
      "bidirectional_72 (Bidirectio (1, None, 512)            1574912   \n",
      "_________________________________________________________________\n",
      "bidirectional_73 (Bidirectio (1, None, 512)            1574912   \n",
      "_________________________________________________________________\n",
      "dense_19 (Dense)             (1, None, 76)             38988     \n",
      "=================================================================\n",
      "Total params: 7,026,396\n",
      "Trainable params: 7,026,396\n",
      "Non-trainable params: 0\n",
      "_________________________________________________________________\n"
     ]
    }
   ],
   "source": [
    "model.summary()"
   ]
  },
  {
   "cell_type": "code",
   "execution_count": 601,
   "metadata": {},
   "outputs": [],
   "source": [
    "def generate_text(model, start_string):\n",
    "    # Evaluation step (generating text using the learned model)\n",
    "\n",
    "    # Number of characters to generate\n",
    "    num_generate = 1000\n",
    "\n",
    "    # Converting our start string to numbers (vectorizing)\n",
    "    input_eval = [char2idx[s] for s in start_string]\n",
    "    input_eval = tf.expand_dims(input_eval, 0)\n",
    "\n",
    "    # Empty string to store our results\n",
    "    text_generated = []\n",
    "\n",
    "    # Low temperatures results in more predictable text.\n",
    "    # Higher temperatures results in more surprising text.\n",
    "    # Experiment to find the best setting.\n",
    "    temperature = 0.2\n",
    "\n",
    "    # Here batch size == 1\n",
    "    model.reset_states()\n",
    "    for i in range(num_generate):\n",
    "        predictions = model(input_eval)\n",
    "        # remove the batch dimension\n",
    "        predictions = tf.squeeze(predictions, 0)\n",
    "\n",
    "        # using a categorical distribution to predict the character returned by the model\n",
    "        predictions = predictions / temperature\n",
    "        predicted_id = tf.random.categorical(predictions, num_samples=1)[-1,0].numpy()\n",
    "\n",
    "        # We pass the predicted character as the next input to the model\n",
    "        # along with the previous hidden state\n",
    "        input_eval = tf.expand_dims([predicted_id], 0)\n",
    "\n",
    "        text_generated.append(idx2char[predicted_id])\n",
    "\n",
    "    return (start_string + ''.join(text_generated))"
   ]
  },
  {
   "cell_type": "code",
   "execution_count": 602,
   "metadata": {
    "scrolled": true
   },
   "outputs": [
    {
     "name": "stdout",
     "output_type": "stream",
     "text": [
      "vodkam  U2  F      a r   A  d   b  y a x wU     0)m  dFNMVzfN  W   8R%  N  L 9          ) N     # 6 #   n  / Da    Z     e      A rY     oS dA I Y                  l& \"v  )      5 H! #W  W     , j iH   (& A   c   .b  k  r   Bl  Sj    S    \n",
      "lY ,X -     h\n",
      "E  M                  L  F g   5 p     O  sTv4    ,5  /   cr g  /WPl    x D      8  g.      &     s#     ,    % - D   JZ  n  \"   h  Z4Q   (  r     Xr   A S yx      F  '.)FR     ZF q  \n",
      "  B   S  )A p  z      KaI  VA         m   8   sV/    Jv1   r2 #%    )    yI9i#\"u      F P I    a  u  T      p    C# fq.YR  FF 8 nf  Ln6R% e  #2  E    c C. K            P     ff  B Mv      A     # qYP \n",
      "c  Rt 7  T i    W          T   4G&x/          0     i      x. v 3  6  D\"  R    W     3\n",
      "Y    M     M/  Ub  q      1 'c0, s   80         U    tE  vO 3   DN   1 g3    H   t       En7    m  p\"wzo   t \"  D  \n",
      "t   C    g    PaqP      V    .k/sv8    2 2t     J    p      )P    R    d 3 l ks   di  ij/\n",
      "  - W           #   (n        y  W Y Z    jYWa           R         z v   \n"
     ]
    }
   ],
   "source": [
    "print(generate_text(model, start_string=u\"vodka\"))"
   ]
  }
 ],
 "metadata": {
  "kernelspec": {
   "display_name": "Python 3",
   "language": "python",
   "name": "python3"
  },
  "language_info": {
   "codemirror_mode": {
    "name": "ipython",
    "version": 3
   },
   "file_extension": ".py",
   "mimetype": "text/x-python",
   "name": "python",
   "nbconvert_exporter": "python",
   "pygments_lexer": "ipython3",
   "version": "3.7.4"
  }
 },
 "nbformat": 4,
 "nbformat_minor": 2
}
